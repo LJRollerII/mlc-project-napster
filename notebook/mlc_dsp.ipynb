{
 "cells": [
  {
   "cell_type": "markdown",
   "id": "fa3c30f6",
   "metadata": {},
   "source": [
    "# MLC Project - Napster\n",
    "Group Focus: Data provided from DSPS\n",
    "\n",
    "Considerations: which DSPs are doing a bad job of sending over complete or at least minimum data required for matching?\n",
    "\n",
    "Which DSPs have the most streams? Do songs get more air time on certain DSPs?\n",
    "\n",
    "Does song length correlate to DSP in any way?"
   ]
  },
  {
   "cell_type": "code",
   "execution_count": 1,
   "id": "d68bfed1",
   "metadata": {},
   "outputs": [],
   "source": [
    "import pandas as pd\n",
    "import numpy as np\n",
    "import matplotlib.pyplot as plt\n",
    "import seaborn as sns\n",
    "%matplotlib inline\n",
    "import re"
   ]
  },
  {
   "cell_type": "markdown",
   "id": "ed9217db",
   "metadata": {},
   "source": [
    "## Read data into notebook"
   ]
  },
  {
   "cell_type": "code",
   "execution_count": 2,
   "id": "bd33477a",
   "metadata": {},
   "outputs": [
    {
     "data": {
      "text/html": [
       "<div>\n",
       "<style scoped>\n",
       "    .dataframe tbody tr th:only-of-type {\n",
       "        vertical-align: middle;\n",
       "    }\n",
       "\n",
       "    .dataframe tbody tr th {\n",
       "        vertical-align: top;\n",
       "    }\n",
       "\n",
       "    .dataframe thead th {\n",
       "        text-align: right;\n",
       "    }\n",
       "</style>\n",
       "<table border=\"1\" class=\"dataframe\">\n",
       "  <thead>\n",
       "    <tr style=\"text-align: right;\">\n",
       "      <th></th>\n",
       "      <th>If</th>\n",
       "      <th>Country Code</th>\n",
       "      <th>Registrant Code</th>\n",
       "      <th>Year of Reference</th>\n",
       "      <th>Usage Period</th>\n",
       "      <th>Streaming Platform (DSP)</th>\n",
       "      <th>Streams</th>\n",
       "      <th>Recording Artist</th>\n",
       "      <th>Recording Label</th>\n",
       "      <th>Recording Title</th>\n",
       "      <th>Release Title</th>\n",
       "      <th>Recording Duration (Seconds)</th>\n",
       "      <th>Songwriter's Listed (1 = \"Yes\", 0 = \"No\")</th>\n",
       "    </tr>\n",
       "  </thead>\n",
       "  <tbody>\n",
       "    <tr>\n",
       "      <th>0</th>\n",
       "      <td>USUG12101043</td>\n",
       "      <td>US</td>\n",
       "      <td>UG1</td>\n",
       "      <td>21.0</td>\n",
       "      <td>NaN</td>\n",
       "      <td>AudioMack</td>\n",
       "      <td>10175</td>\n",
       "      <td>Future</td>\n",
       "      <td>NaN</td>\n",
       "      <td>FUTURE FT DEJ LOAF HEY THERE PROD BY DDS</td>\n",
       "      <td>#unknown#</td>\n",
       "      <td>181</td>\n",
       "      <td>0</td>\n",
       "    </tr>\n",
       "    <tr>\n",
       "      <th>1</th>\n",
       "      <td>USRC12100543</td>\n",
       "      <td>US</td>\n",
       "      <td>RC1</td>\n",
       "      <td>21.0</td>\n",
       "      <td>NaN</td>\n",
       "      <td>SoundCloud</td>\n",
       "      <td>8597</td>\n",
       "      <td>LUCKY3RD</td>\n",
       "      <td>LUCKY3RD</td>\n",
       "      <td>Keep It Cool  LUCKY3RD</td>\n",
       "      <td>Keep It Cool  LUCKY3RD</td>\n",
       "      <td>133</td>\n",
       "      <td>0</td>\n",
       "    </tr>\n",
       "    <tr>\n",
       "      <th>2</th>\n",
       "      <td>USSM12102263</td>\n",
       "      <td>US</td>\n",
       "      <td>SM1</td>\n",
       "      <td>21.0</td>\n",
       "      <td>NaN</td>\n",
       "      <td>SoundCloud</td>\n",
       "      <td>261280</td>\n",
       "      <td>LUCKY3RD</td>\n",
       "      <td>LUCKY3RD</td>\n",
       "      <td>Life Goes On  LUCKY3RD</td>\n",
       "      <td>Life Goes On  LUCKY3RD</td>\n",
       "      <td>171</td>\n",
       "      <td>0</td>\n",
       "    </tr>\n",
       "    <tr>\n",
       "      <th>3</th>\n",
       "      <td>USLD91731547</td>\n",
       "      <td>US</td>\n",
       "      <td>LD9</td>\n",
       "      <td>17.0</td>\n",
       "      <td>2/1/2021</td>\n",
       "      <td>Trebel</td>\n",
       "      <td>5</td>\n",
       "      <td>Bachata &amp; Merengue Mix</td>\n",
       "      <td>Orchard</td>\n",
       "      <td>No dudes de mi- Merengue &amp; Bachata Mix</td>\n",
       "      <td>Mega Mix 2010</td>\n",
       "      <td>1250</td>\n",
       "      <td>0</td>\n",
       "    </tr>\n",
       "    <tr>\n",
       "      <th>4</th>\n",
       "      <td>USAT22007048</td>\n",
       "      <td>US</td>\n",
       "      <td>AT2</td>\n",
       "      <td>20.0</td>\n",
       "      <td>NaN</td>\n",
       "      <td>AudioMack</td>\n",
       "      <td>62105</td>\n",
       "      <td>Foolio</td>\n",
       "      <td>NaN</td>\n",
       "      <td>WHEN I SEE YOU REMIX</td>\n",
       "      <td>#unknown#</td>\n",
       "      <td>187</td>\n",
       "      <td>0</td>\n",
       "    </tr>\n",
       "  </tbody>\n",
       "</table>\n",
       "</div>"
      ],
      "text/plain": [
       "            If  Country Code Registrant Code  Year of Reference Usage Period  \\\n",
       "0  USUG12101043           US             UG1               21.0          NaN   \n",
       "1  USRC12100543           US             RC1               21.0          NaN   \n",
       "2  USSM12102263           US             SM1               21.0          NaN   \n",
       "3  USLD91731547           US             LD9               17.0     2/1/2021   \n",
       "4  USAT22007048           US             AT2               20.0          NaN   \n",
       "\n",
       "  Streaming Platform (DSP)  Streams        Recording Artist Recording Label  \\\n",
       "0                AudioMack    10175                  Future             NaN   \n",
       "1               SoundCloud     8597                LUCKY3RD        LUCKY3RD   \n",
       "2               SoundCloud   261280                LUCKY3RD        LUCKY3RD   \n",
       "3                   Trebel        5  Bachata & Merengue Mix         Orchard   \n",
       "4                AudioMack    62105                  Foolio             NaN   \n",
       "\n",
       "                             Recording Title            Release Title  \\\n",
       "0   FUTURE FT DEJ LOAF HEY THERE PROD BY DDS                #unknown#   \n",
       "1                     Keep It Cool  LUCKY3RD   Keep It Cool  LUCKY3RD   \n",
       "2                     Life Goes On  LUCKY3RD   Life Goes On  LUCKY3RD   \n",
       "3     No dudes de mi- Merengue & Bachata Mix            Mega Mix 2010   \n",
       "4                       WHEN I SEE YOU REMIX                #unknown#   \n",
       "\n",
       "   Recording Duration (Seconds)  Songwriter's Listed (1 = \"Yes\", 0 = \"No\")  \n",
       "0                           181                                          0  \n",
       "1                           133                                          0  \n",
       "2                           171                                          0  \n",
       "3                          1250                                          0  \n",
       "4                           187                                          0  "
      ]
     },
     "execution_count": 2,
     "metadata": {},
     "output_type": "execute_result"
    }
   ],
   "source": [
    "mlc = pd.read_csv('../data/MLC_sample.csv')\n",
    "mlc.head()"
   ]
  },
  {
   "cell_type": "markdown",
   "id": "6e60cc85",
   "metadata": {},
   "source": [
    "## Rename columns"
   ]
  },
  {
   "cell_type": "code",
   "execution_count": 3,
   "id": "2c75414a",
   "metadata": {
    "scrolled": true
   },
   "outputs": [
    {
     "data": {
      "text/html": [
       "<div>\n",
       "<style scoped>\n",
       "    .dataframe tbody tr th:only-of-type {\n",
       "        vertical-align: middle;\n",
       "    }\n",
       "\n",
       "    .dataframe tbody tr th {\n",
       "        vertical-align: top;\n",
       "    }\n",
       "\n",
       "    .dataframe thead th {\n",
       "        text-align: right;\n",
       "    }\n",
       "</style>\n",
       "<table border=\"1\" class=\"dataframe\">\n",
       "  <thead>\n",
       "    <tr style=\"text-align: right;\">\n",
       "      <th></th>\n",
       "      <th>ISRC</th>\n",
       "      <th>Country_Code</th>\n",
       "      <th>Registrant_Code</th>\n",
       "      <th>Year_of_Reference</th>\n",
       "      <th>Usage_Period</th>\n",
       "      <th>DSP</th>\n",
       "      <th>Streams</th>\n",
       "      <th>Recording_Artist</th>\n",
       "      <th>Recording_Label</th>\n",
       "      <th>Recording_Title</th>\n",
       "      <th>Release_Title</th>\n",
       "      <th>Recording_Duration_(Seconds)</th>\n",
       "      <th>Songwriters_Listed_(1=Y_0=N)</th>\n",
       "    </tr>\n",
       "  </thead>\n",
       "  <tbody>\n",
       "    <tr>\n",
       "      <th>0</th>\n",
       "      <td>USUG12101043</td>\n",
       "      <td>US</td>\n",
       "      <td>UG1</td>\n",
       "      <td>21.0</td>\n",
       "      <td>NaN</td>\n",
       "      <td>AudioMack</td>\n",
       "      <td>10175</td>\n",
       "      <td>Future</td>\n",
       "      <td>NaN</td>\n",
       "      <td>FUTURE FT DEJ LOAF HEY THERE PROD BY DDS</td>\n",
       "      <td>#unknown#</td>\n",
       "      <td>181</td>\n",
       "      <td>0</td>\n",
       "    </tr>\n",
       "    <tr>\n",
       "      <th>1</th>\n",
       "      <td>USRC12100543</td>\n",
       "      <td>US</td>\n",
       "      <td>RC1</td>\n",
       "      <td>21.0</td>\n",
       "      <td>NaN</td>\n",
       "      <td>SoundCloud</td>\n",
       "      <td>8597</td>\n",
       "      <td>LUCKY3RD</td>\n",
       "      <td>LUCKY3RD</td>\n",
       "      <td>Keep It Cool  LUCKY3RD</td>\n",
       "      <td>Keep It Cool  LUCKY3RD</td>\n",
       "      <td>133</td>\n",
       "      <td>0</td>\n",
       "    </tr>\n",
       "    <tr>\n",
       "      <th>2</th>\n",
       "      <td>USSM12102263</td>\n",
       "      <td>US</td>\n",
       "      <td>SM1</td>\n",
       "      <td>21.0</td>\n",
       "      <td>NaN</td>\n",
       "      <td>SoundCloud</td>\n",
       "      <td>261280</td>\n",
       "      <td>LUCKY3RD</td>\n",
       "      <td>LUCKY3RD</td>\n",
       "      <td>Life Goes On  LUCKY3RD</td>\n",
       "      <td>Life Goes On  LUCKY3RD</td>\n",
       "      <td>171</td>\n",
       "      <td>0</td>\n",
       "    </tr>\n",
       "    <tr>\n",
       "      <th>3</th>\n",
       "      <td>USLD91731547</td>\n",
       "      <td>US</td>\n",
       "      <td>LD9</td>\n",
       "      <td>17.0</td>\n",
       "      <td>2/1/2021</td>\n",
       "      <td>Trebel</td>\n",
       "      <td>5</td>\n",
       "      <td>Bachata &amp; Merengue Mix</td>\n",
       "      <td>Orchard</td>\n",
       "      <td>No dudes de mi- Merengue &amp; Bachata Mix</td>\n",
       "      <td>Mega Mix 2010</td>\n",
       "      <td>1250</td>\n",
       "      <td>0</td>\n",
       "    </tr>\n",
       "    <tr>\n",
       "      <th>4</th>\n",
       "      <td>USAT22007048</td>\n",
       "      <td>US</td>\n",
       "      <td>AT2</td>\n",
       "      <td>20.0</td>\n",
       "      <td>NaN</td>\n",
       "      <td>AudioMack</td>\n",
       "      <td>62105</td>\n",
       "      <td>Foolio</td>\n",
       "      <td>NaN</td>\n",
       "      <td>WHEN I SEE YOU REMIX</td>\n",
       "      <td>#unknown#</td>\n",
       "      <td>187</td>\n",
       "      <td>0</td>\n",
       "    </tr>\n",
       "  </tbody>\n",
       "</table>\n",
       "</div>"
      ],
      "text/plain": [
       "           ISRC Country_Code Registrant_Code  Year_of_Reference Usage_Period  \\\n",
       "0  USUG12101043           US             UG1               21.0          NaN   \n",
       "1  USRC12100543           US             RC1               21.0          NaN   \n",
       "2  USSM12102263           US             SM1               21.0          NaN   \n",
       "3  USLD91731547           US             LD9               17.0     2/1/2021   \n",
       "4  USAT22007048           US             AT2               20.0          NaN   \n",
       "\n",
       "          DSP  Streams        Recording_Artist Recording_Label  \\\n",
       "0   AudioMack    10175                  Future             NaN   \n",
       "1  SoundCloud     8597                LUCKY3RD        LUCKY3RD   \n",
       "2  SoundCloud   261280                LUCKY3RD        LUCKY3RD   \n",
       "3      Trebel        5  Bachata & Merengue Mix         Orchard   \n",
       "4   AudioMack    62105                  Foolio             NaN   \n",
       "\n",
       "                             Recording_Title            Release_Title  \\\n",
       "0   FUTURE FT DEJ LOAF HEY THERE PROD BY DDS                #unknown#   \n",
       "1                     Keep It Cool  LUCKY3RD   Keep It Cool  LUCKY3RD   \n",
       "2                     Life Goes On  LUCKY3RD   Life Goes On  LUCKY3RD   \n",
       "3     No dudes de mi- Merengue & Bachata Mix            Mega Mix 2010   \n",
       "4                       WHEN I SEE YOU REMIX                #unknown#   \n",
       "\n",
       "   Recording_Duration_(Seconds)  Songwriters_Listed_(1=Y_0=N)  \n",
       "0                           181                             0  \n",
       "1                           133                             0  \n",
       "2                           171                             0  \n",
       "3                          1250                             0  \n",
       "4                           187                             0  "
      ]
     },
     "execution_count": 3,
     "metadata": {},
     "output_type": "execute_result"
    }
   ],
   "source": [
    "mlc.columns = ['ISRC', 'Country_Code', 'Registrant_Code', 'Year_of_Reference', 'Usage_Period', 'DSP', 'Streams', 'Recording_Artist', 'Recording_Label', 'Recording_Title', 'Release_Title', 'Recording_Duration_(Seconds)', 'Songwriters_Listed_(1=Y_0=N)']\n",
    "mlc.head()"
   ]
  },
  {
   "cell_type": "markdown",
   "id": "3dcf53f3",
   "metadata": {},
   "source": [
    "## Create column(s) for song length details"
   ]
  },
  {
   "cell_type": "code",
   "execution_count": 4,
   "id": "1b0dc485",
   "metadata": {
    "scrolled": true
   },
   "outputs": [
    {
     "data": {
      "text/html": [
       "<div>\n",
       "<style scoped>\n",
       "    .dataframe tbody tr th:only-of-type {\n",
       "        vertical-align: middle;\n",
       "    }\n",
       "\n",
       "    .dataframe tbody tr th {\n",
       "        vertical-align: top;\n",
       "    }\n",
       "\n",
       "    .dataframe thead th {\n",
       "        text-align: right;\n",
       "    }\n",
       "</style>\n",
       "<table border=\"1\" class=\"dataframe\">\n",
       "  <thead>\n",
       "    <tr style=\"text-align: right;\">\n",
       "      <th></th>\n",
       "      <th>ISRC</th>\n",
       "      <th>Country_Code</th>\n",
       "      <th>Registrant_Code</th>\n",
       "      <th>Year_of_Reference</th>\n",
       "      <th>Usage_Period</th>\n",
       "      <th>DSP</th>\n",
       "      <th>Streams</th>\n",
       "      <th>Recording_Artist</th>\n",
       "      <th>Recording_Label</th>\n",
       "      <th>Recording_Title</th>\n",
       "      <th>Release_Title</th>\n",
       "      <th>Recording_Duration_(Seconds)</th>\n",
       "      <th>Songwriters_Listed_(1=Y_0=N)</th>\n",
       "      <th>Song_Length</th>\n",
       "    </tr>\n",
       "  </thead>\n",
       "  <tbody>\n",
       "    <tr>\n",
       "      <th>0</th>\n",
       "      <td>USUG12101043</td>\n",
       "      <td>US</td>\n",
       "      <td>UG1</td>\n",
       "      <td>21.0</td>\n",
       "      <td>NaN</td>\n",
       "      <td>AudioMack</td>\n",
       "      <td>10175</td>\n",
       "      <td>Future</td>\n",
       "      <td>NaN</td>\n",
       "      <td>FUTURE FT DEJ LOAF HEY THERE PROD BY DDS</td>\n",
       "      <td>#unknown#</td>\n",
       "      <td>181</td>\n",
       "      <td>0</td>\n",
       "      <td>2-4 min</td>\n",
       "    </tr>\n",
       "    <tr>\n",
       "      <th>1</th>\n",
       "      <td>USRC12100543</td>\n",
       "      <td>US</td>\n",
       "      <td>RC1</td>\n",
       "      <td>21.0</td>\n",
       "      <td>NaN</td>\n",
       "      <td>SoundCloud</td>\n",
       "      <td>8597</td>\n",
       "      <td>LUCKY3RD</td>\n",
       "      <td>LUCKY3RD</td>\n",
       "      <td>Keep It Cool  LUCKY3RD</td>\n",
       "      <td>Keep It Cool  LUCKY3RD</td>\n",
       "      <td>133</td>\n",
       "      <td>0</td>\n",
       "      <td>2-4 min</td>\n",
       "    </tr>\n",
       "    <tr>\n",
       "      <th>2</th>\n",
       "      <td>USSM12102263</td>\n",
       "      <td>US</td>\n",
       "      <td>SM1</td>\n",
       "      <td>21.0</td>\n",
       "      <td>NaN</td>\n",
       "      <td>SoundCloud</td>\n",
       "      <td>261280</td>\n",
       "      <td>LUCKY3RD</td>\n",
       "      <td>LUCKY3RD</td>\n",
       "      <td>Life Goes On  LUCKY3RD</td>\n",
       "      <td>Life Goes On  LUCKY3RD</td>\n",
       "      <td>171</td>\n",
       "      <td>0</td>\n",
       "      <td>2-4 min</td>\n",
       "    </tr>\n",
       "    <tr>\n",
       "      <th>3</th>\n",
       "      <td>USLD91731547</td>\n",
       "      <td>US</td>\n",
       "      <td>LD9</td>\n",
       "      <td>17.0</td>\n",
       "      <td>2/1/2021</td>\n",
       "      <td>Trebel</td>\n",
       "      <td>5</td>\n",
       "      <td>Bachata &amp; Merengue Mix</td>\n",
       "      <td>Orchard</td>\n",
       "      <td>No dudes de mi- Merengue &amp; Bachata Mix</td>\n",
       "      <td>Mega Mix 2010</td>\n",
       "      <td>1250</td>\n",
       "      <td>0</td>\n",
       "      <td>15-60 min</td>\n",
       "    </tr>\n",
       "    <tr>\n",
       "      <th>4</th>\n",
       "      <td>USAT22007048</td>\n",
       "      <td>US</td>\n",
       "      <td>AT2</td>\n",
       "      <td>20.0</td>\n",
       "      <td>NaN</td>\n",
       "      <td>AudioMack</td>\n",
       "      <td>62105</td>\n",
       "      <td>Foolio</td>\n",
       "      <td>NaN</td>\n",
       "      <td>WHEN I SEE YOU REMIX</td>\n",
       "      <td>#unknown#</td>\n",
       "      <td>187</td>\n",
       "      <td>0</td>\n",
       "      <td>2-4 min</td>\n",
       "    </tr>\n",
       "  </tbody>\n",
       "</table>\n",
       "</div>"
      ],
      "text/plain": [
       "           ISRC Country_Code Registrant_Code  Year_of_Reference Usage_Period  \\\n",
       "0  USUG12101043           US             UG1               21.0          NaN   \n",
       "1  USRC12100543           US             RC1               21.0          NaN   \n",
       "2  USSM12102263           US             SM1               21.0          NaN   \n",
       "3  USLD91731547           US             LD9               17.0     2/1/2021   \n",
       "4  USAT22007048           US             AT2               20.0          NaN   \n",
       "\n",
       "          DSP  Streams        Recording_Artist Recording_Label  \\\n",
       "0   AudioMack    10175                  Future             NaN   \n",
       "1  SoundCloud     8597                LUCKY3RD        LUCKY3RD   \n",
       "2  SoundCloud   261280                LUCKY3RD        LUCKY3RD   \n",
       "3      Trebel        5  Bachata & Merengue Mix         Orchard   \n",
       "4   AudioMack    62105                  Foolio             NaN   \n",
       "\n",
       "                             Recording_Title            Release_Title  \\\n",
       "0   FUTURE FT DEJ LOAF HEY THERE PROD BY DDS                #unknown#   \n",
       "1                     Keep It Cool  LUCKY3RD   Keep It Cool  LUCKY3RD   \n",
       "2                     Life Goes On  LUCKY3RD   Life Goes On  LUCKY3RD   \n",
       "3     No dudes de mi- Merengue & Bachata Mix            Mega Mix 2010   \n",
       "4                       WHEN I SEE YOU REMIX                #unknown#   \n",
       "\n",
       "   Recording_Duration_(Seconds)  Songwriters_Listed_(1=Y_0=N) Song_Length  \n",
       "0                           181                             0     2-4 min  \n",
       "1                           133                             0     2-4 min  \n",
       "2                           171                             0     2-4 min  \n",
       "3                          1250                             0   15-60 min  \n",
       "4                           187                             0     2-4 min  "
      ]
     },
     "execution_count": 4,
     "metadata": {},
     "output_type": "execute_result"
    }
   ],
   "source": [
    "def assign_length(row):\n",
    "    if row <= 120:\n",
    "        result = \"Up to 2 min\"\n",
    "    elif row <= 240:\n",
    "        result = \"2-4 min\"\n",
    "    elif row <= 420:\n",
    "        result = \"4-7 min\"\n",
    "    elif row <= 600:\n",
    "        result = \"7-10 min\"\n",
    "    elif row <= 900:\n",
    "        result = \"10-15 min\"\n",
    "    elif row <= 3600:\n",
    "        result = \"15-60 min\"\n",
    "    elif row <= 86400:\n",
    "        result = \"1-24 hours\"\n",
    "    else:\n",
    "        result = \"More than 1 day\"\n",
    "    return result\n",
    "\n",
    "mlc['Song_Length'] = mlc['Recording_Duration_(Seconds)'].apply(assign_length)\n",
    "mlc.head()"
   ]
  },
  {
   "cell_type": "code",
   "execution_count": 5,
   "id": "77b243b3",
   "metadata": {},
   "outputs": [
    {
     "data": {
      "text/html": [
       "<div>\n",
       "<style scoped>\n",
       "    .dataframe tbody tr th:only-of-type {\n",
       "        vertical-align: middle;\n",
       "    }\n",
       "\n",
       "    .dataframe tbody tr th {\n",
       "        vertical-align: top;\n",
       "    }\n",
       "\n",
       "    .dataframe thead th {\n",
       "        text-align: right;\n",
       "    }\n",
       "</style>\n",
       "<table border=\"1\" class=\"dataframe\">\n",
       "  <thead>\n",
       "    <tr style=\"text-align: right;\">\n",
       "      <th></th>\n",
       "      <th>ISRC</th>\n",
       "      <th>Country_Code</th>\n",
       "      <th>Registrant_Code</th>\n",
       "      <th>Year_of_Reference</th>\n",
       "      <th>Usage_Period</th>\n",
       "      <th>DSP</th>\n",
       "      <th>Streams</th>\n",
       "      <th>Recording_Artist</th>\n",
       "      <th>Recording_Label</th>\n",
       "      <th>Recording_Title</th>\n",
       "      <th>Release_Title</th>\n",
       "      <th>Recording_Duration_(Seconds)</th>\n",
       "      <th>Songwriters_Listed_(1=Y_0=N)</th>\n",
       "      <th>Song_Length</th>\n",
       "      <th>Length_Compared_to_Median</th>\n",
       "    </tr>\n",
       "  </thead>\n",
       "  <tbody>\n",
       "    <tr>\n",
       "      <th>0</th>\n",
       "      <td>USUG12101043</td>\n",
       "      <td>US</td>\n",
       "      <td>UG1</td>\n",
       "      <td>21.0</td>\n",
       "      <td>NaN</td>\n",
       "      <td>AudioMack</td>\n",
       "      <td>10175</td>\n",
       "      <td>Future</td>\n",
       "      <td>NaN</td>\n",
       "      <td>FUTURE FT DEJ LOAF HEY THERE PROD BY DDS</td>\n",
       "      <td>#unknown#</td>\n",
       "      <td>181</td>\n",
       "      <td>0</td>\n",
       "      <td>2-4 min</td>\n",
       "      <td>Lower</td>\n",
       "    </tr>\n",
       "    <tr>\n",
       "      <th>1</th>\n",
       "      <td>USRC12100543</td>\n",
       "      <td>US</td>\n",
       "      <td>RC1</td>\n",
       "      <td>21.0</td>\n",
       "      <td>NaN</td>\n",
       "      <td>SoundCloud</td>\n",
       "      <td>8597</td>\n",
       "      <td>LUCKY3RD</td>\n",
       "      <td>LUCKY3RD</td>\n",
       "      <td>Keep It Cool  LUCKY3RD</td>\n",
       "      <td>Keep It Cool  LUCKY3RD</td>\n",
       "      <td>133</td>\n",
       "      <td>0</td>\n",
       "      <td>2-4 min</td>\n",
       "      <td>Lower</td>\n",
       "    </tr>\n",
       "    <tr>\n",
       "      <th>2</th>\n",
       "      <td>USSM12102263</td>\n",
       "      <td>US</td>\n",
       "      <td>SM1</td>\n",
       "      <td>21.0</td>\n",
       "      <td>NaN</td>\n",
       "      <td>SoundCloud</td>\n",
       "      <td>261280</td>\n",
       "      <td>LUCKY3RD</td>\n",
       "      <td>LUCKY3RD</td>\n",
       "      <td>Life Goes On  LUCKY3RD</td>\n",
       "      <td>Life Goes On  LUCKY3RD</td>\n",
       "      <td>171</td>\n",
       "      <td>0</td>\n",
       "      <td>2-4 min</td>\n",
       "      <td>Lower</td>\n",
       "    </tr>\n",
       "    <tr>\n",
       "      <th>3</th>\n",
       "      <td>USLD91731547</td>\n",
       "      <td>US</td>\n",
       "      <td>LD9</td>\n",
       "      <td>17.0</td>\n",
       "      <td>2/1/2021</td>\n",
       "      <td>Trebel</td>\n",
       "      <td>5</td>\n",
       "      <td>Bachata &amp; Merengue Mix</td>\n",
       "      <td>Orchard</td>\n",
       "      <td>No dudes de mi- Merengue &amp; Bachata Mix</td>\n",
       "      <td>Mega Mix 2010</td>\n",
       "      <td>1250</td>\n",
       "      <td>0</td>\n",
       "      <td>15-60 min</td>\n",
       "      <td>Higher</td>\n",
       "    </tr>\n",
       "    <tr>\n",
       "      <th>4</th>\n",
       "      <td>USAT22007048</td>\n",
       "      <td>US</td>\n",
       "      <td>AT2</td>\n",
       "      <td>20.0</td>\n",
       "      <td>NaN</td>\n",
       "      <td>AudioMack</td>\n",
       "      <td>62105</td>\n",
       "      <td>Foolio</td>\n",
       "      <td>NaN</td>\n",
       "      <td>WHEN I SEE YOU REMIX</td>\n",
       "      <td>#unknown#</td>\n",
       "      <td>187</td>\n",
       "      <td>0</td>\n",
       "      <td>2-4 min</td>\n",
       "      <td>Lower</td>\n",
       "    </tr>\n",
       "  </tbody>\n",
       "</table>\n",
       "</div>"
      ],
      "text/plain": [
       "           ISRC Country_Code Registrant_Code  Year_of_Reference Usage_Period  \\\n",
       "0  USUG12101043           US             UG1               21.0          NaN   \n",
       "1  USRC12100543           US             RC1               21.0          NaN   \n",
       "2  USSM12102263           US             SM1               21.0          NaN   \n",
       "3  USLD91731547           US             LD9               17.0     2/1/2021   \n",
       "4  USAT22007048           US             AT2               20.0          NaN   \n",
       "\n",
       "          DSP  Streams        Recording_Artist Recording_Label  \\\n",
       "0   AudioMack    10175                  Future             NaN   \n",
       "1  SoundCloud     8597                LUCKY3RD        LUCKY3RD   \n",
       "2  SoundCloud   261280                LUCKY3RD        LUCKY3RD   \n",
       "3      Trebel        5  Bachata & Merengue Mix         Orchard   \n",
       "4   AudioMack    62105                  Foolio             NaN   \n",
       "\n",
       "                             Recording_Title            Release_Title  \\\n",
       "0   FUTURE FT DEJ LOAF HEY THERE PROD BY DDS                #unknown#   \n",
       "1                     Keep It Cool  LUCKY3RD   Keep It Cool  LUCKY3RD   \n",
       "2                     Life Goes On  LUCKY3RD   Life Goes On  LUCKY3RD   \n",
       "3     No dudes de mi- Merengue & Bachata Mix            Mega Mix 2010   \n",
       "4                       WHEN I SEE YOU REMIX                #unknown#   \n",
       "\n",
       "   Recording_Duration_(Seconds)  Songwriters_Listed_(1=Y_0=N) Song_Length  \\\n",
       "0                           181                             0     2-4 min   \n",
       "1                           133                             0     2-4 min   \n",
       "2                           171                             0     2-4 min   \n",
       "3                          1250                             0   15-60 min   \n",
       "4                           187                             0     2-4 min   \n",
       "\n",
       "  Length_Compared_to_Median  \n",
       "0                     Lower  \n",
       "1                     Lower  \n",
       "2                     Lower  \n",
       "3                    Higher  \n",
       "4                     Lower  "
      ]
     },
     "execution_count": 5,
     "metadata": {},
     "output_type": "execute_result"
    }
   ],
   "source": [
    "def compared_to_median(row):\n",
    "    if row < 190:\n",
    "        result = \"Lower\"\n",
    "    elif row == 190:\n",
    "        result = \"Median\"\n",
    "    else:\n",
    "        result = \"Higher\"\n",
    "    return result\n",
    "mlc['Length_Compared_to_Median'] = mlc['Recording_Duration_(Seconds)'].apply(compared_to_median)\n",
    "mlc.head()"
   ]
  },
  {
   "cell_type": "code",
   "execution_count": null,
   "id": "2827071c",
   "metadata": {},
   "outputs": [],
   "source": []
  },
  {
   "cell_type": "markdown",
   "id": "8660f89f",
   "metadata": {},
   "source": [
    "## Check for null values in each column"
   ]
  },
  {
   "cell_type": "code",
   "execution_count": 6,
   "id": "0b2850c4",
   "metadata": {},
   "outputs": [
    {
     "data": {
      "text/plain": [
       "ISRC                            1760\n",
       "Country_Code                    1697\n",
       "Registrant_Code                 1697\n",
       "Year_of_Reference               1761\n",
       "Usage_Period                    8102\n",
       "DSP                             3999\n",
       "Streams                            0\n",
       "Recording_Artist                   0\n",
       "Recording_Label                 1008\n",
       "Recording_Title                    0\n",
       "Release_Title                     69\n",
       "Recording_Duration_(Seconds)       0\n",
       "Songwriters_Listed_(1=Y_0=N)       0\n",
       "Song_Length                        0\n",
       "Length_Compared_to_Median          0\n",
       "dtype: int64"
      ]
     },
     "execution_count": 6,
     "metadata": {},
     "output_type": "execute_result"
    }
   ],
   "source": [
    "mlc.isnull().sum()"
   ]
  },
  {
   "cell_type": "markdown",
   "id": "48f2ac51",
   "metadata": {},
   "source": [
    "## Check data type in each column"
   ]
  },
  {
   "cell_type": "code",
   "execution_count": 7,
   "id": "3d57a195",
   "metadata": {},
   "outputs": [
    {
     "name": "stdout",
     "output_type": "stream",
     "text": [
      "<class 'pandas.core.frame.DataFrame'>\n",
      "RangeIndex: 100000 entries, 0 to 99999\n",
      "Data columns (total 15 columns):\n",
      " #   Column                        Non-Null Count   Dtype  \n",
      "---  ------                        --------------   -----  \n",
      " 0   ISRC                          98240 non-null   object \n",
      " 1   Country_Code                  98303 non-null   object \n",
      " 2   Registrant_Code               98303 non-null   object \n",
      " 3   Year_of_Reference             98239 non-null   float64\n",
      " 4   Usage_Period                  91898 non-null   object \n",
      " 5   DSP                           96001 non-null   object \n",
      " 6   Streams                       100000 non-null  int64  \n",
      " 7   Recording_Artist              100000 non-null  object \n",
      " 8   Recording_Label               98992 non-null   object \n",
      " 9   Recording_Title               100000 non-null  object \n",
      " 10  Release_Title                 99931 non-null   object \n",
      " 11  Recording_Duration_(Seconds)  100000 non-null  int64  \n",
      " 12  Songwriters_Listed_(1=Y_0=N)  100000 non-null  int64  \n",
      " 13  Song_Length                   100000 non-null  object \n",
      " 14  Length_Compared_to_Median     100000 non-null  object \n",
      "dtypes: float64(1), int64(3), object(11)\n",
      "memory usage: 11.4+ MB\n"
     ]
    }
   ],
   "source": [
    "mlc.info()"
   ]
  },
  {
   "cell_type": "markdown",
   "id": "45d4a646",
   "metadata": {},
   "source": [
    "## Count of DSPs"
   ]
  },
  {
   "cell_type": "code",
   "execution_count": 8,
   "id": "2eff130e",
   "metadata": {},
   "outputs": [
    {
     "data": {
      "text/plain": [
       "Spotify               32268\n",
       "Apple                 22200\n",
       "Amazon                14438\n",
       "Pandora               13777\n",
       "Tidal                  3521\n",
       "YouTube                2752\n",
       "SoundCloud             2122\n",
       "GTL                    1090\n",
       "Melodyv                 829\n",
       "Trebel                  817\n",
       "iHeart Radio            707\n",
       "AudioMack               550\n",
       "NugsNet                 316\n",
       "LiveXLive               200\n",
       "Qoboz                   104\n",
       "Midwest Tape            102\n",
       "Deezer                   51\n",
       "Anghami                  46\n",
       "Sonos                    23\n",
       "Recisio                  22\n",
       "Smithsonian              21\n",
       "Ultimate Guitar          19\n",
       "PowerMusic                8\n",
       "Wolfgangs                 4\n",
       "Fan Label                 4\n",
       "MixCloud                  4\n",
       "Pacemaker                 3\n",
       "Classical Archives        2\n",
       "MonkingMe                 1\n",
       "Name: DSP, dtype: int64"
      ]
     },
     "execution_count": 8,
     "metadata": {},
     "output_type": "execute_result"
    }
   ],
   "source": [
    "mlc['DSP'].value_counts()"
   ]
  },
  {
   "cell_type": "code",
   "execution_count": 9,
   "id": "04218082",
   "metadata": {
    "scrolled": true
   },
   "outputs": [
    {
     "name": "stdout",
     "output_type": "stream",
     "text": [
      "['AudioMack' 'SoundCloud' 'Trebel' 'Spotify' 'Apple' 'Amazon' 'Pandora'\n",
      " 'YouTube' nan 'Tidal' 'iHeart Radio' 'Melodyv' 'Deezer' 'GTL' 'LiveXLive'\n",
      " 'NugsNet' 'Midwest Tape' 'Ultimate Guitar' 'Qoboz' 'Anghami' 'Pacemaker'\n",
      " 'PowerMusic' 'Wolfgangs' 'Recisio' 'Sonos' 'Smithsonian' 'Fan Label'\n",
      " 'MixCloud' 'MonkingMe' 'Classical Archives']\n"
     ]
    }
   ],
   "source": [
    "DSP_list = mlc['DSP'].unique()\n",
    "print(DSP_list)"
   ]
  },
  {
   "cell_type": "markdown",
   "id": "b5b2f44c",
   "metadata": {},
   "source": [
    "def main():\n",
    "\n",
    "for x in DSP_list (or mlc['DSP'])?"
   ]
  },
  {
   "cell_type": "markdown",
   "id": "8b8eb4b2",
   "metadata": {},
   "source": [
    "Need to either reset the index on the df OR use orginal df based on the DSP column and then run a unique to avoid repeats. That will create the list that can then be used for the for loop."
   ]
  },
  {
   "cell_type": "markdown",
   "id": "1c6fe96a",
   "metadata": {},
   "source": [
    "There are 29 DSPs with at least one stream attributed, but there are 3999 entries in the dataset that have a null value for DSP."
   ]
  },
  {
   "cell_type": "markdown",
   "id": "9c68d38d",
   "metadata": {},
   "source": [
    "## DSP DataFrames for further analysis"
   ]
  },
  {
   "cell_type": "code",
   "execution_count": 10,
   "id": "efc29854",
   "metadata": {
    "scrolled": true
   },
   "outputs": [
    {
     "data": {
      "text/plain": [
       "ISRC                            0\n",
       "Country_Code                    0\n",
       "Registrant_Code                 0\n",
       "Year_of_Reference               0\n",
       "Usage_Period                    0\n",
       "DSP                             0\n",
       "Streams                         0\n",
       "Recording_Artist                0\n",
       "Recording_Label                 5\n",
       "Recording_Title                 0\n",
       "Release_Title                   0\n",
       "Recording_Duration_(Seconds)    0\n",
       "Songwriters_Listed_(1=Y_0=N)    0\n",
       "Song_Length                     0\n",
       "Length_Compared_to_Median       0\n",
       "dtype: int64"
      ]
     },
     "execution_count": 10,
     "metadata": {},
     "output_type": "execute_result"
    }
   ],
   "source": [
    "deezer = mlc.loc[mlc['DSP'] == 'Deezer']\n",
    "deezer.isnull().sum()"
   ]
  },
  {
   "cell_type": "code",
   "execution_count": 11,
   "id": "2e73db94",
   "metadata": {
    "scrolled": true
   },
   "outputs": [
    {
     "data": {
      "text/plain": [
       "ISRC                            0\n",
       "Country_Code                    0\n",
       "Registrant_Code                 0\n",
       "Year_of_Reference               0\n",
       "Usage_Period                    0\n",
       "DSP                             0\n",
       "Streams                         0\n",
       "Recording_Artist                0\n",
       "Recording_Label                 3\n",
       "Recording_Title                 0\n",
       "Release_Title                   0\n",
       "Recording_Duration_(Seconds)    0\n",
       "Songwriters_Listed_(1=Y_0=N)    0\n",
       "Song_Length                     0\n",
       "Length_Compared_to_Median       0\n",
       "dtype: int64"
      ]
     },
     "execution_count": 11,
     "metadata": {},
     "output_type": "execute_result"
    }
   ],
   "source": [
    "anghami = mlc.loc[mlc['DSP'] == 'Anghami']\n",
    "anghami.isnull().sum()"
   ]
  },
  {
   "cell_type": "code",
   "execution_count": 12,
   "id": "6388765b",
   "metadata": {},
   "outputs": [
    {
     "data": {
      "text/plain": [
       "ISRC                            0\n",
       "Country_Code                    0\n",
       "Registrant_Code                 0\n",
       "Year_of_Reference               0\n",
       "Usage_Period                    0\n",
       "DSP                             0\n",
       "Streams                         0\n",
       "Recording_Artist                0\n",
       "Recording_Label                 0\n",
       "Recording_Title                 0\n",
       "Release_Title                   0\n",
       "Recording_Duration_(Seconds)    0\n",
       "Songwriters_Listed_(1=Y_0=N)    0\n",
       "Song_Length                     0\n",
       "Length_Compared_to_Median       0\n",
       "dtype: int64"
      ]
     },
     "execution_count": 12,
     "metadata": {},
     "output_type": "execute_result"
    }
   ],
   "source": [
    "sonos = mlc.loc[mlc['DSP'] == 'Sonos']\n",
    "sonos.isnull().sum()"
   ]
  },
  {
   "cell_type": "code",
   "execution_count": 13,
   "id": "391c7e6f",
   "metadata": {},
   "outputs": [
    {
     "data": {
      "text/plain": [
       "ISRC                             0\n",
       "Country_Code                     0\n",
       "Registrant_Code                  0\n",
       "Year_of_Reference                0\n",
       "Usage_Period                     0\n",
       "DSP                              0\n",
       "Streams                          0\n",
       "Recording_Artist                 0\n",
       "Recording_Label                 22\n",
       "Recording_Title                  0\n",
       "Release_Title                    0\n",
       "Recording_Duration_(Seconds)     0\n",
       "Songwriters_Listed_(1=Y_0=N)     0\n",
       "Song_Length                      0\n",
       "Length_Compared_to_Median        0\n",
       "dtype: int64"
      ]
     },
     "execution_count": 13,
     "metadata": {},
     "output_type": "execute_result"
    }
   ],
   "source": [
    "recisio = mlc.loc[mlc['DSP'] == 'Recisio']\n",
    "recisio.isnull().sum()"
   ]
  },
  {
   "cell_type": "code",
   "execution_count": 14,
   "id": "166d8098",
   "metadata": {},
   "outputs": [
    {
     "data": {
      "text/plain": [
       "ISRC                            1\n",
       "Country_Code                    1\n",
       "Registrant_Code                 1\n",
       "Year_of_Reference               1\n",
       "Usage_Period                    0\n",
       "DSP                             0\n",
       "Streams                         0\n",
       "Recording_Artist                0\n",
       "Recording_Label                 0\n",
       "Recording_Title                 0\n",
       "Release_Title                   0\n",
       "Recording_Duration_(Seconds)    0\n",
       "Songwriters_Listed_(1=Y_0=N)    0\n",
       "Song_Length                     0\n",
       "Length_Compared_to_Median       0\n",
       "dtype: int64"
      ]
     },
     "execution_count": 14,
     "metadata": {},
     "output_type": "execute_result"
    }
   ],
   "source": [
    "smithsonian = mlc.loc[mlc['DSP'] == 'Smithsonian']\n",
    "smithsonian.isnull().sum()"
   ]
  },
  {
   "cell_type": "code",
   "execution_count": 15,
   "id": "c48ee7f0",
   "metadata": {},
   "outputs": [
    {
     "data": {
      "text/plain": [
       "ISRC                             0\n",
       "Country_Code                     0\n",
       "Registrant_Code                  0\n",
       "Year_of_Reference                0\n",
       "Usage_Period                     0\n",
       "DSP                              0\n",
       "Streams                          0\n",
       "Recording_Artist                 0\n",
       "Recording_Label                 19\n",
       "Recording_Title                  0\n",
       "Release_Title                   19\n",
       "Recording_Duration_(Seconds)     0\n",
       "Songwriters_Listed_(1=Y_0=N)     0\n",
       "Song_Length                      0\n",
       "Length_Compared_to_Median        0\n",
       "dtype: int64"
      ]
     },
     "execution_count": 15,
     "metadata": {},
     "output_type": "execute_result"
    }
   ],
   "source": [
    "ultimate_guitar = mlc.loc[mlc['DSP'] == 'Ultimate Guitar']\n",
    "ultimate_guitar.isnull().sum()"
   ]
  },
  {
   "cell_type": "code",
   "execution_count": 16,
   "id": "c0e67fe8",
   "metadata": {},
   "outputs": [
    {
     "data": {
      "text/plain": [
       "ISRC                            0\n",
       "Country_Code                    0\n",
       "Registrant_Code                 0\n",
       "Year_of_Reference               0\n",
       "Usage_Period                    0\n",
       "DSP                             0\n",
       "Streams                         0\n",
       "Recording_Artist                0\n",
       "Recording_Label                 8\n",
       "Recording_Title                 0\n",
       "Release_Title                   0\n",
       "Recording_Duration_(Seconds)    0\n",
       "Songwriters_Listed_(1=Y_0=N)    0\n",
       "Song_Length                     0\n",
       "Length_Compared_to_Median       0\n",
       "dtype: int64"
      ]
     },
     "execution_count": 16,
     "metadata": {},
     "output_type": "execute_result"
    }
   ],
   "source": [
    "powermusic = mlc.loc[mlc['DSP'] == 'PowerMusic']\n",
    "powermusic.isnull().sum()"
   ]
  },
  {
   "cell_type": "code",
   "execution_count": 17,
   "id": "00d41334",
   "metadata": {},
   "outputs": [
    {
     "data": {
      "text/plain": [
       "ISRC                            0\n",
       "Country_Code                    0\n",
       "Registrant_Code                 0\n",
       "Year_of_Reference               0\n",
       "Usage_Period                    0\n",
       "DSP                             0\n",
       "Streams                         0\n",
       "Recording_Artist                0\n",
       "Recording_Label                 4\n",
       "Recording_Title                 0\n",
       "Release_Title                   4\n",
       "Recording_Duration_(Seconds)    0\n",
       "Songwriters_Listed_(1=Y_0=N)    0\n",
       "Song_Length                     0\n",
       "Length_Compared_to_Median       0\n",
       "dtype: int64"
      ]
     },
     "execution_count": 17,
     "metadata": {},
     "output_type": "execute_result"
    }
   ],
   "source": [
    "wolfgangs = mlc.loc[mlc['DSP'] == 'Wolfgangs']\n",
    "wolfgangs.isnull().sum()"
   ]
  },
  {
   "cell_type": "code",
   "execution_count": 18,
   "id": "7e34de73",
   "metadata": {},
   "outputs": [
    {
     "data": {
      "text/plain": [
       "ISRC                            0\n",
       "Country_Code                    0\n",
       "Registrant_Code                 0\n",
       "Year_of_Reference               0\n",
       "Usage_Period                    0\n",
       "DSP                             0\n",
       "Streams                         0\n",
       "Recording_Artist                0\n",
       "Recording_Label                 0\n",
       "Recording_Title                 0\n",
       "Release_Title                   0\n",
       "Recording_Duration_(Seconds)    0\n",
       "Songwriters_Listed_(1=Y_0=N)    0\n",
       "Song_Length                     0\n",
       "Length_Compared_to_Median       0\n",
       "dtype: int64"
      ]
     },
     "execution_count": 18,
     "metadata": {},
     "output_type": "execute_result"
    }
   ],
   "source": [
    "fan_label = mlc.loc[mlc['DSP'] == 'Fan Label']\n",
    "fan_label.isnull().sum()"
   ]
  },
  {
   "cell_type": "code",
   "execution_count": 19,
   "id": "a31dc7a1",
   "metadata": {},
   "outputs": [
    {
     "data": {
      "text/plain": [
       "ISRC                            0\n",
       "Country_Code                    0\n",
       "Registrant_Code                 0\n",
       "Year_of_Reference               0\n",
       "Usage_Period                    0\n",
       "DSP                             0\n",
       "Streams                         0\n",
       "Recording_Artist                0\n",
       "Recording_Label                 4\n",
       "Recording_Title                 0\n",
       "Release_Title                   0\n",
       "Recording_Duration_(Seconds)    0\n",
       "Songwriters_Listed_(1=Y_0=N)    0\n",
       "Song_Length                     0\n",
       "Length_Compared_to_Median       0\n",
       "dtype: int64"
      ]
     },
     "execution_count": 19,
     "metadata": {},
     "output_type": "execute_result"
    }
   ],
   "source": [
    "mixcloud = mlc.loc[mlc['DSP'] == 'MixCloud']\n",
    "mixcloud.isnull().sum()"
   ]
  },
  {
   "cell_type": "code",
   "execution_count": 20,
   "id": "7cccf9fc",
   "metadata": {},
   "outputs": [
    {
     "data": {
      "text/plain": [
       "ISRC                            0\n",
       "Country_Code                    0\n",
       "Registrant_Code                 0\n",
       "Year_of_Reference               0\n",
       "Usage_Period                    0\n",
       "DSP                             0\n",
       "Streams                         0\n",
       "Recording_Artist                0\n",
       "Recording_Label                 0\n",
       "Recording_Title                 0\n",
       "Release_Title                   0\n",
       "Recording_Duration_(Seconds)    0\n",
       "Songwriters_Listed_(1=Y_0=N)    0\n",
       "Song_Length                     0\n",
       "Length_Compared_to_Median       0\n",
       "dtype: int64"
      ]
     },
     "execution_count": 20,
     "metadata": {},
     "output_type": "execute_result"
    }
   ],
   "source": [
    "pacemaker = mlc.loc[mlc['DSP'] == 'Pacemaker']\n",
    "pacemaker.isnull().sum()"
   ]
  },
  {
   "cell_type": "code",
   "execution_count": 21,
   "id": "9d448811",
   "metadata": {},
   "outputs": [
    {
     "data": {
      "text/plain": [
       "ISRC                            0\n",
       "Country_Code                    0\n",
       "Registrant_Code                 0\n",
       "Year_of_Reference               0\n",
       "Usage_Period                    0\n",
       "DSP                             0\n",
       "Streams                         0\n",
       "Recording_Artist                0\n",
       "Recording_Label                 0\n",
       "Recording_Title                 0\n",
       "Release_Title                   0\n",
       "Recording_Duration_(Seconds)    0\n",
       "Songwriters_Listed_(1=Y_0=N)    0\n",
       "Song_Length                     0\n",
       "Length_Compared_to_Median       0\n",
       "dtype: int64"
      ]
     },
     "execution_count": 21,
     "metadata": {},
     "output_type": "execute_result"
    }
   ],
   "source": [
    "classical_archives = mlc.loc[mlc['DSP'] == 'Classical Archives']\n",
    "classical_archives.isnull().sum()"
   ]
  },
  {
   "cell_type": "code",
   "execution_count": 22,
   "id": "e68ef60e",
   "metadata": {},
   "outputs": [
    {
     "data": {
      "text/plain": [
       "ISRC                            0\n",
       "Country_Code                    0\n",
       "Registrant_Code                 0\n",
       "Year_of_Reference               0\n",
       "Usage_Period                    0\n",
       "DSP                             0\n",
       "Streams                         0\n",
       "Recording_Artist                0\n",
       "Recording_Label                 1\n",
       "Recording_Title                 0\n",
       "Release_Title                   0\n",
       "Recording_Duration_(Seconds)    0\n",
       "Songwriters_Listed_(1=Y_0=N)    0\n",
       "Song_Length                     0\n",
       "Length_Compared_to_Median       0\n",
       "dtype: int64"
      ]
     },
     "execution_count": 22,
     "metadata": {},
     "output_type": "execute_result"
    }
   ],
   "source": [
    "monkingme = mlc.loc[mlc['DSP'] =='MonkingMe']\n",
    "monkingme.isnull().sum()"
   ]
  },
  {
   "cell_type": "code",
   "execution_count": 23,
   "id": "0a9c5082",
   "metadata": {
    "scrolled": false
   },
   "outputs": [
    {
     "data": {
      "text/plain": [
       "ISRC                              58\n",
       "Country_Code                      54\n",
       "Registrant_Code                   54\n",
       "Year_of_Reference                 58\n",
       "Usage_Period                    3999\n",
       "DSP                             3999\n",
       "Streams                            0\n",
       "Recording_Artist                   0\n",
       "Recording_Label                   47\n",
       "Recording_Title                    0\n",
       "Release_Title                     35\n",
       "Recording_Duration_(Seconds)       0\n",
       "Songwriters_Listed_(1=Y_0=N)       0\n",
       "Song_Length                        0\n",
       "Length_Compared_to_Median          0\n",
       "dtype: int64"
      ]
     },
     "execution_count": 23,
     "metadata": {},
     "output_type": "execute_result"
    }
   ],
   "source": [
    "unknownDSP = mlc.loc[mlc['DSP'].isna()]\n",
    "unknownDSP.isnull().sum()"
   ]
  },
  {
   "cell_type": "code",
   "execution_count": 24,
   "id": "8011b38b",
   "metadata": {},
   "outputs": [
    {
     "data": {
      "text/plain": [
       "ISRC                            571\n",
       "Country_Code                    554\n",
       "Registrant_Code                 554\n",
       "Year_of_Reference               571\n",
       "Usage_Period                      0\n",
       "DSP                               0\n",
       "Streams                           0\n",
       "Recording_Artist                  0\n",
       "Recording_Label                  11\n",
       "Recording_Title                   0\n",
       "Release_Title                     1\n",
       "Recording_Duration_(Seconds)      0\n",
       "Songwriters_Listed_(1=Y_0=N)      0\n",
       "Song_Length                       0\n",
       "Length_Compared_to_Median         0\n",
       "dtype: int64"
      ]
     },
     "execution_count": 24,
     "metadata": {},
     "output_type": "execute_result"
    }
   ],
   "source": [
    "spotify = mlc.loc[mlc['DSP'] == 'Spotify']\n",
    "spotify.isnull().sum()"
   ]
  },
  {
   "cell_type": "code",
   "execution_count": 25,
   "id": "9774e3ec",
   "metadata": {},
   "outputs": [
    {
     "data": {
      "text/plain": [
       "ISRC                             380\n",
       "Country_Code                     363\n",
       "Registrant_Code                  363\n",
       "Year_of_Reference                380\n",
       "Usage_Period                    1441\n",
       "DSP                                0\n",
       "Streams                            0\n",
       "Recording_Artist                   0\n",
       "Recording_Label                    8\n",
       "Recording_Title                    0\n",
       "Release_Title                      7\n",
       "Recording_Duration_(Seconds)       0\n",
       "Songwriters_Listed_(1=Y_0=N)       0\n",
       "Song_Length                        0\n",
       "Length_Compared_to_Median          0\n",
       "dtype: int64"
      ]
     },
     "execution_count": 25,
     "metadata": {},
     "output_type": "execute_result"
    }
   ],
   "source": [
    "apple = mlc.loc[mlc['DSP'] == 'Apple']\n",
    "apple.isnull().sum()"
   ]
  },
  {
   "cell_type": "code",
   "execution_count": 26,
   "id": "988d7071",
   "metadata": {},
   "outputs": [
    {
     "data": {
      "text/plain": [
       "ISRC                            237\n",
       "Country_Code                    230\n",
       "Registrant_Code                 230\n",
       "Year_of_Reference               238\n",
       "Usage_Period                      0\n",
       "DSP                               0\n",
       "Streams                           0\n",
       "Recording_Artist                  0\n",
       "Recording_Label                  27\n",
       "Recording_Title                   0\n",
       "Release_Title                     3\n",
       "Recording_Duration_(Seconds)      0\n",
       "Songwriters_Listed_(1=Y_0=N)      0\n",
       "Song_Length                       0\n",
       "Length_Compared_to_Median         0\n",
       "dtype: int64"
      ]
     },
     "execution_count": 26,
     "metadata": {},
     "output_type": "execute_result"
    }
   ],
   "source": [
    "pandora = mlc.loc[mlc['DSP'] == 'Pandora']\n",
    "pandora.isnull().sum()"
   ]
  },
  {
   "cell_type": "code",
   "execution_count": 27,
   "id": "de4515d2",
   "metadata": {
    "scrolled": true
   },
   "outputs": [
    {
     "data": {
      "text/plain": [
       "ISRC                             53\n",
       "Country_Code                     52\n",
       "Registrant_Code                  52\n",
       "Year_of_Reference                53\n",
       "Usage_Period                    868\n",
       "DSP                               0\n",
       "Streams                           0\n",
       "Recording_Artist                  0\n",
       "Recording_Label                   0\n",
       "Recording_Title                   0\n",
       "Release_Title                     0\n",
       "Recording_Duration_(Seconds)      0\n",
       "Songwriters_Listed_(1=Y_0=N)      0\n",
       "Song_Length                       0\n",
       "Length_Compared_to_Median         0\n",
       "dtype: int64"
      ]
     },
     "execution_count": 27,
     "metadata": {},
     "output_type": "execute_result"
    }
   ],
   "source": [
    "tidal = mlc.loc[mlc['DSP'] == 'Tidal']\n",
    "tidal.isnull().sum()"
   ]
  },
  {
   "cell_type": "code",
   "execution_count": 28,
   "id": "a8bda049",
   "metadata": {},
   "outputs": [
    {
     "data": {
      "text/plain": [
       "ISRC                             56\n",
       "Country_Code                     54\n",
       "Registrant_Code                  54\n",
       "Year_of_Reference                56\n",
       "Usage_Period                    958\n",
       "DSP                               0\n",
       "Streams                           0\n",
       "Recording_Artist                  0\n",
       "Recording_Label                 233\n",
       "Recording_Title                   0\n",
       "Release_Title                     0\n",
       "Recording_Duration_(Seconds)      0\n",
       "Songwriters_Listed_(1=Y_0=N)      0\n",
       "Song_Length                       0\n",
       "Length_Compared_to_Median         0\n",
       "dtype: int64"
      ]
     },
     "execution_count": 28,
     "metadata": {},
     "output_type": "execute_result"
    }
   ],
   "source": [
    "youtube = mlc.loc[mlc['DSP'] == 'YouTube']\n",
    "youtube.isnull().sum()"
   ]
  },
  {
   "cell_type": "code",
   "execution_count": 29,
   "id": "cb68fd77",
   "metadata": {},
   "outputs": [
    {
     "data": {
      "text/plain": [
       "ISRC                             36\n",
       "Country_Code                     36\n",
       "Registrant_Code                  36\n",
       "Year_of_Reference                36\n",
       "Usage_Period                    494\n",
       "DSP                               0\n",
       "Streams                           0\n",
       "Recording_Artist                  0\n",
       "Recording_Label                   0\n",
       "Recording_Title                   0\n",
       "Release_Title                     0\n",
       "Recording_Duration_(Seconds)      0\n",
       "Songwriters_Listed_(1=Y_0=N)      0\n",
       "Song_Length                       0\n",
       "Length_Compared_to_Median         0\n",
       "dtype: int64"
      ]
     },
     "execution_count": 29,
     "metadata": {},
     "output_type": "execute_result"
    }
   ],
   "source": [
    "soundcloud = mlc.loc[mlc['DSP'] == 'SoundCloud']\n",
    "soundcloud.isnull().sum()"
   ]
  },
  {
   "cell_type": "code",
   "execution_count": 30,
   "id": "ce94af59",
   "metadata": {},
   "outputs": [
    {
     "data": {
      "text/plain": [
       "ISRC                            26\n",
       "Country_Code                    24\n",
       "Registrant_Code                 24\n",
       "Year_of_Reference               26\n",
       "Usage_Period                     0\n",
       "DSP                              0\n",
       "Streams                          0\n",
       "Recording_Artist                 0\n",
       "Recording_Label                  0\n",
       "Recording_Title                  0\n",
       "Release_Title                    0\n",
       "Recording_Duration_(Seconds)     0\n",
       "Songwriters_Listed_(1=Y_0=N)     0\n",
       "Song_Length                      0\n",
       "Length_Compared_to_Median        0\n",
       "dtype: int64"
      ]
     },
     "execution_count": 30,
     "metadata": {},
     "output_type": "execute_result"
    }
   ],
   "source": [
    "gtl = mlc.loc[mlc['DSP'] == 'GTL']\n",
    "gtl.isnull().sum()"
   ]
  },
  {
   "cell_type": "code",
   "execution_count": 31,
   "id": "8ff6e3c3",
   "metadata": {
    "scrolled": true
   },
   "outputs": [
    {
     "data": {
      "text/plain": [
       "ISRC                            15\n",
       "Country_Code                    15\n",
       "Registrant_Code                 15\n",
       "Year_of_Reference               15\n",
       "Usage_Period                     0\n",
       "DSP                              0\n",
       "Streams                          0\n",
       "Recording_Artist                 0\n",
       "Recording_Label                  0\n",
       "Recording_Title                  0\n",
       "Release_Title                    0\n",
       "Recording_Duration_(Seconds)     0\n",
       "Songwriters_Listed_(1=Y_0=N)     0\n",
       "Song_Length                      0\n",
       "Length_Compared_to_Median        0\n",
       "dtype: int64"
      ]
     },
     "execution_count": 31,
     "metadata": {},
     "output_type": "execute_result"
    }
   ],
   "source": [
    "melodyv = mlc.loc[mlc['DSP'] == 'Melodyv']\n",
    "melodyv.isnull().sum()"
   ]
  },
  {
   "cell_type": "code",
   "execution_count": 32,
   "id": "2b762be7",
   "metadata": {
    "scrolled": true
   },
   "outputs": [
    {
     "data": {
      "text/plain": [
       "ISRC                            19\n",
       "Country_Code                    18\n",
       "Registrant_Code                 18\n",
       "Year_of_Reference               19\n",
       "Usage_Period                     0\n",
       "DSP                              0\n",
       "Streams                          0\n",
       "Recording_Artist                 0\n",
       "Recording_Label                  0\n",
       "Recording_Title                  0\n",
       "Release_Title                    0\n",
       "Recording_Duration_(Seconds)     0\n",
       "Songwriters_Listed_(1=Y_0=N)     0\n",
       "Song_Length                      0\n",
       "Length_Compared_to_Median        0\n",
       "dtype: int64"
      ]
     },
     "execution_count": 32,
     "metadata": {},
     "output_type": "execute_result"
    }
   ],
   "source": [
    "trebel = mlc.loc[mlc['DSP'] == 'Trebel']\n",
    "trebel.isnull().sum()"
   ]
  },
  {
   "cell_type": "code",
   "execution_count": 33,
   "id": "69135e01",
   "metadata": {},
   "outputs": [
    {
     "data": {
      "text/plain": [
       "ISRC                            16\n",
       "Country_Code                    16\n",
       "Registrant_Code                 16\n",
       "Year_of_Reference               16\n",
       "Usage_Period                    38\n",
       "DSP                              0\n",
       "Streams                          0\n",
       "Recording_Artist                 0\n",
       "Recording_Label                  0\n",
       "Recording_Title                  0\n",
       "Release_Title                    0\n",
       "Recording_Duration_(Seconds)     0\n",
       "Songwriters_Listed_(1=Y_0=N)     0\n",
       "Song_Length                      0\n",
       "Length_Compared_to_Median        0\n",
       "dtype: int64"
      ]
     },
     "execution_count": 33,
     "metadata": {},
     "output_type": "execute_result"
    }
   ],
   "source": [
    "iheartradio = mlc.loc[mlc['DSP'] == 'iHeart Radio']\n",
    "iheartradio.isnull().sum()"
   ]
  },
  {
   "cell_type": "code",
   "execution_count": 34,
   "id": "e469300b",
   "metadata": {},
   "outputs": [
    {
     "data": {
      "text/plain": [
       "ISRC                             16\n",
       "Country_Code                     15\n",
       "Registrant_Code                  15\n",
       "Year_of_Reference                16\n",
       "Usage_Period                    287\n",
       "DSP                               0\n",
       "Streams                           0\n",
       "Recording_Artist                  0\n",
       "Recording_Label                 550\n",
       "Recording_Title                   0\n",
       "Release_Title                     0\n",
       "Recording_Duration_(Seconds)      0\n",
       "Songwriters_Listed_(1=Y_0=N)      0\n",
       "Song_Length                       0\n",
       "Length_Compared_to_Median         0\n",
       "dtype: int64"
      ]
     },
     "execution_count": 34,
     "metadata": {},
     "output_type": "execute_result"
    }
   ],
   "source": [
    "audiomack = mlc.loc[mlc['DSP'] == 'AudioMack']\n",
    "audiomack.isnull().sum()"
   ]
  },
  {
   "cell_type": "code",
   "execution_count": 35,
   "id": "a51a4a6b",
   "metadata": {
    "scrolled": true
   },
   "outputs": [
    {
     "data": {
      "text/plain": [
       "ISRC                            4\n",
       "Country_Code                    3\n",
       "Registrant_Code                 3\n",
       "Year_of_Reference               4\n",
       "Usage_Period                    0\n",
       "DSP                             0\n",
       "Streams                         0\n",
       "Recording_Artist                0\n",
       "Recording_Label                 0\n",
       "Recording_Title                 0\n",
       "Release_Title                   0\n",
       "Recording_Duration_(Seconds)    0\n",
       "Songwriters_Listed_(1=Y_0=N)    0\n",
       "Song_Length                     0\n",
       "Length_Compared_to_Median       0\n",
       "dtype: int64"
      ]
     },
     "execution_count": 35,
     "metadata": {},
     "output_type": "execute_result"
    }
   ],
   "source": [
    "nugsnet = mlc.loc[mlc['DSP'] == 'NugsNet']\n",
    "nugsnet.isnull().sum()"
   ]
  },
  {
   "cell_type": "code",
   "execution_count": 36,
   "id": "56f41dc9",
   "metadata": {
    "scrolled": true
   },
   "outputs": [
    {
     "data": {
      "text/plain": [
       "ISRC                             4\n",
       "Country_Code                     4\n",
       "Registrant_Code                  4\n",
       "Year_of_Reference                4\n",
       "Usage_Period                    11\n",
       "DSP                              0\n",
       "Streams                          0\n",
       "Recording_Artist                 0\n",
       "Recording_Label                 24\n",
       "Recording_Title                  0\n",
       "Release_Title                    0\n",
       "Recording_Duration_(Seconds)     0\n",
       "Songwriters_Listed_(1=Y_0=N)     0\n",
       "Song_Length                      0\n",
       "Length_Compared_to_Median        0\n",
       "dtype: int64"
      ]
     },
     "execution_count": 36,
     "metadata": {},
     "output_type": "execute_result"
    }
   ],
   "source": [
    "livexlive = mlc.loc[mlc['DSP'] == 'LiveXLive']\n",
    "livexlive.isnull().sum()"
   ]
  },
  {
   "cell_type": "code",
   "execution_count": 37,
   "id": "732466ee",
   "metadata": {
    "scrolled": true
   },
   "outputs": [
    {
     "data": {
      "text/plain": [
       "ISRC                            0\n",
       "Country_Code                    0\n",
       "Registrant_Code                 0\n",
       "Year_of_Reference               0\n",
       "Usage_Period                    0\n",
       "DSP                             0\n",
       "Streams                         0\n",
       "Recording_Artist                0\n",
       "Recording_Label                 0\n",
       "Recording_Title                 0\n",
       "Release_Title                   0\n",
       "Recording_Duration_(Seconds)    0\n",
       "Songwriters_Listed_(1=Y_0=N)    0\n",
       "Song_Length                     0\n",
       "Length_Compared_to_Median       0\n",
       "dtype: int64"
      ]
     },
     "execution_count": 37,
     "metadata": {},
     "output_type": "execute_result"
    }
   ],
   "source": [
    "qoboz = mlc.loc[mlc['DSP'] == 'Qoboz']\n",
    "qoboz.isnull().sum()"
   ]
  },
  {
   "cell_type": "code",
   "execution_count": 38,
   "id": "84c8b035",
   "metadata": {
    "scrolled": true
   },
   "outputs": [
    {
     "data": {
      "text/plain": [
       "ISRC                             3\n",
       "Country_Code                     3\n",
       "Registrant_Code                  3\n",
       "Year_of_Reference                3\n",
       "Usage_Period                     6\n",
       "DSP                              0\n",
       "Streams                          0\n",
       "Recording_Artist                 0\n",
       "Recording_Label                 42\n",
       "Recording_Title                  0\n",
       "Release_Title                    0\n",
       "Recording_Duration_(Seconds)     0\n",
       "Songwriters_Listed_(1=Y_0=N)     0\n",
       "Song_Length                      0\n",
       "Length_Compared_to_Median        0\n",
       "dtype: int64"
      ]
     },
     "execution_count": 38,
     "metadata": {},
     "output_type": "execute_result"
    }
   ],
   "source": [
    "midwesttape = mlc.loc[mlc['DSP'] == 'Midwest Tape']\n",
    "midwesttape.isnull().sum()"
   ]
  },
  {
   "cell_type": "code",
   "execution_count": 39,
   "id": "eed5bd15",
   "metadata": {},
   "outputs": [
    {
     "data": {
      "text/html": [
       "<div>\n",
       "<style scoped>\n",
       "    .dataframe tbody tr th:only-of-type {\n",
       "        vertical-align: middle;\n",
       "    }\n",
       "\n",
       "    .dataframe tbody tr th {\n",
       "        vertical-align: top;\n",
       "    }\n",
       "\n",
       "    .dataframe thead th {\n",
       "        text-align: right;\n",
       "    }\n",
       "</style>\n",
       "<table border=\"1\" class=\"dataframe\">\n",
       "  <thead>\n",
       "    <tr style=\"text-align: right;\">\n",
       "      <th></th>\n",
       "      <th>0</th>\n",
       "    </tr>\n",
       "  </thead>\n",
       "  <tbody>\n",
       "    <tr>\n",
       "      <th>ISRC</th>\n",
       "      <td>58</td>\n",
       "    </tr>\n",
       "    <tr>\n",
       "      <th>Country_Code</th>\n",
       "      <td>54</td>\n",
       "    </tr>\n",
       "    <tr>\n",
       "      <th>Registrant_Code</th>\n",
       "      <td>54</td>\n",
       "    </tr>\n",
       "    <tr>\n",
       "      <th>Year_of_Reference</th>\n",
       "      <td>58</td>\n",
       "    </tr>\n",
       "    <tr>\n",
       "      <th>Usage_Period</th>\n",
       "      <td>3999</td>\n",
       "    </tr>\n",
       "    <tr>\n",
       "      <th>DSP</th>\n",
       "      <td>3999</td>\n",
       "    </tr>\n",
       "    <tr>\n",
       "      <th>Streams</th>\n",
       "      <td>0</td>\n",
       "    </tr>\n",
       "    <tr>\n",
       "      <th>Recording_Artist</th>\n",
       "      <td>0</td>\n",
       "    </tr>\n",
       "    <tr>\n",
       "      <th>Recording_Label</th>\n",
       "      <td>47</td>\n",
       "    </tr>\n",
       "    <tr>\n",
       "      <th>Recording_Title</th>\n",
       "      <td>0</td>\n",
       "    </tr>\n",
       "    <tr>\n",
       "      <th>Release_Title</th>\n",
       "      <td>35</td>\n",
       "    </tr>\n",
       "    <tr>\n",
       "      <th>Recording_Duration_(Seconds)</th>\n",
       "      <td>0</td>\n",
       "    </tr>\n",
       "    <tr>\n",
       "      <th>Songwriters_Listed_(1=Y_0=N)</th>\n",
       "      <td>0</td>\n",
       "    </tr>\n",
       "    <tr>\n",
       "      <th>Song_Length</th>\n",
       "      <td>0</td>\n",
       "    </tr>\n",
       "    <tr>\n",
       "      <th>Length_Compared_to_Median</th>\n",
       "      <td>0</td>\n",
       "    </tr>\n",
       "  </tbody>\n",
       "</table>\n",
       "</div>"
      ],
      "text/plain": [
       "                                 0\n",
       "ISRC                            58\n",
       "Country_Code                    54\n",
       "Registrant_Code                 54\n",
       "Year_of_Reference               58\n",
       "Usage_Period                  3999\n",
       "DSP                           3999\n",
       "Streams                          0\n",
       "Recording_Artist                 0\n",
       "Recording_Label                 47\n",
       "Recording_Title                  0\n",
       "Release_Title                   35\n",
       "Recording_Duration_(Seconds)     0\n",
       "Songwriters_Listed_(1=Y_0=N)     0\n",
       "Song_Length                      0\n",
       "Length_Compared_to_Median        0"
      ]
     },
     "execution_count": 39,
     "metadata": {},
     "output_type": "execute_result"
    }
   ],
   "source": [
    "pd.DataFrame(unknownDSP.isnull().sum())"
   ]
  },
  {
   "cell_type": "code",
   "execution_count": null,
   "id": "4fea5600",
   "metadata": {},
   "outputs": [],
   "source": []
  },
  {
   "cell_type": "markdown",
   "id": "5f9bd1d4",
   "metadata": {},
   "source": [
    "## Deeper dive into song length details\n",
    "Dataset provides song duration in seconds"
   ]
  },
  {
   "cell_type": "code",
   "execution_count": 40,
   "id": "627b1021",
   "metadata": {
    "scrolled": true
   },
   "outputs": [
    {
     "data": {
      "text/plain": [
       "count    100000.000000\n",
       "mean       1016.893690\n",
       "std       15565.692133\n",
       "min           0.000000\n",
       "25%         149.000000\n",
       "50%         190.000000\n",
       "75%         236.000000\n",
       "max      818738.000000\n",
       "Name: Recording_Duration_(Seconds), dtype: float64"
      ]
     },
     "execution_count": 40,
     "metadata": {},
     "output_type": "execute_result"
    }
   ],
   "source": [
    "mlc['Recording_Duration_(Seconds)'].describe()"
   ]
  },
  {
   "cell_type": "code",
   "execution_count": 41,
   "id": "6686beaa",
   "metadata": {
    "scrolled": true
   },
   "outputs": [
    {
     "data": {
      "text/html": [
       "<div>\n",
       "<style scoped>\n",
       "    .dataframe tbody tr th:only-of-type {\n",
       "        vertical-align: middle;\n",
       "    }\n",
       "\n",
       "    .dataframe tbody tr th {\n",
       "        vertical-align: top;\n",
       "    }\n",
       "\n",
       "    .dataframe thead th {\n",
       "        text-align: right;\n",
       "    }\n",
       "</style>\n",
       "<table border=\"1\" class=\"dataframe\">\n",
       "  <thead>\n",
       "    <tr style=\"text-align: right;\">\n",
       "      <th></th>\n",
       "      <th>ISRC</th>\n",
       "      <th>Country_Code</th>\n",
       "      <th>Registrant_Code</th>\n",
       "      <th>Year_of_Reference</th>\n",
       "      <th>Usage_Period</th>\n",
       "      <th>DSP</th>\n",
       "      <th>Streams</th>\n",
       "      <th>Recording_Artist</th>\n",
       "      <th>Recording_Label</th>\n",
       "      <th>Recording_Title</th>\n",
       "      <th>Release_Title</th>\n",
       "      <th>Recording_Duration_(Seconds)</th>\n",
       "      <th>Songwriters_Listed_(1=Y_0=N)</th>\n",
       "      <th>Song_Length</th>\n",
       "      <th>Length_Compared_to_Median</th>\n",
       "    </tr>\n",
       "  </thead>\n",
       "  <tbody>\n",
       "    <tr>\n",
       "      <th>19931</th>\n",
       "      <td>QZES81895037</td>\n",
       "      <td>QZ</td>\n",
       "      <td>ES8</td>\n",
       "      <td>18.0</td>\n",
       "      <td>2/1/2021</td>\n",
       "      <td>Trebel</td>\n",
       "      <td>6464</td>\n",
       "      <td>Megan Thee Stallion</td>\n",
       "      <td>Warner</td>\n",
       "      <td>Cry Baby (feat. DaBaby)</td>\n",
       "      <td>Good News</td>\n",
       "      <td>818738</td>\n",
       "      <td>0</td>\n",
       "      <td>More than 1 day</td>\n",
       "      <td>Higher</td>\n",
       "    </tr>\n",
       "    <tr>\n",
       "      <th>34584</th>\n",
       "      <td>DEN962000842</td>\n",
       "      <td>DE</td>\n",
       "      <td>N96</td>\n",
       "      <td>20.0</td>\n",
       "      <td>2/1/2021</td>\n",
       "      <td>Trebel</td>\n",
       "      <td>4797</td>\n",
       "      <td>SZA</td>\n",
       "      <td>Sony Music</td>\n",
       "      <td>Good Days</td>\n",
       "      <td>Good Days</td>\n",
       "      <td>770091</td>\n",
       "      <td>0</td>\n",
       "      <td>More than 1 day</td>\n",
       "      <td>Higher</td>\n",
       "    </tr>\n",
       "    <tr>\n",
       "      <th>20399</th>\n",
       "      <td>JMA272011862</td>\n",
       "      <td>JM</td>\n",
       "      <td>A27</td>\n",
       "      <td>20.0</td>\n",
       "      <td>2/1/2021</td>\n",
       "      <td>Trebel</td>\n",
       "      <td>3492</td>\n",
       "      <td>H.E.R.</td>\n",
       "      <td>Sony Music</td>\n",
       "      <td>Damage</td>\n",
       "      <td>Damage</td>\n",
       "      <td>714437</td>\n",
       "      <td>0</td>\n",
       "      <td>More than 1 day</td>\n",
       "      <td>Higher</td>\n",
       "    </tr>\n",
       "    <tr>\n",
       "      <th>48381</th>\n",
       "      <td>USAT22006112</td>\n",
       "      <td>US</td>\n",
       "      <td>AT2</td>\n",
       "      <td>20.0</td>\n",
       "      <td>2/1/2021</td>\n",
       "      <td>Trebel</td>\n",
       "      <td>2965</td>\n",
       "      <td>Kevo Muney</td>\n",
       "      <td>Warner</td>\n",
       "      <td>Leave Some Day</td>\n",
       "      <td>Leave Some Day</td>\n",
       "      <td>463500</td>\n",
       "      <td>0</td>\n",
       "      <td>More than 1 day</td>\n",
       "      <td>Higher</td>\n",
       "    </tr>\n",
       "    <tr>\n",
       "      <th>138</th>\n",
       "      <td>USUYG1360358</td>\n",
       "      <td>US</td>\n",
       "      <td>UYG</td>\n",
       "      <td>13.0</td>\n",
       "      <td>4/1/2021</td>\n",
       "      <td>Deezer</td>\n",
       "      <td>2</td>\n",
       "      <td>Unknown</td>\n",
       "      <td>NaN</td>\n",
       "      <td>{Cartagena}</td>\n",
       "      <td>Silvestre Dangond - Grandes Éxitos</td>\n",
       "      <td>356461</td>\n",
       "      <td>0</td>\n",
       "      <td>More than 1 day</td>\n",
       "      <td>Higher</td>\n",
       "    </tr>\n",
       "    <tr>\n",
       "      <th>139</th>\n",
       "      <td>USUM72105617</td>\n",
       "      <td>US</td>\n",
       "      <td>UM7</td>\n",
       "      <td>21.0</td>\n",
       "      <td>4/1/2021</td>\n",
       "      <td>Deezer</td>\n",
       "      <td>2</td>\n",
       "      <td>Unknown</td>\n",
       "      <td>NaN</td>\n",
       "      <td>{Esa Mujer}</td>\n",
       "      <td>Silvestre Dangond - Grandes Éxitos</td>\n",
       "      <td>356461</td>\n",
       "      <td>0</td>\n",
       "      <td>More than 1 day</td>\n",
       "      <td>Higher</td>\n",
       "    </tr>\n",
       "    <tr>\n",
       "      <th>140</th>\n",
       "      <td>USAT22007802</td>\n",
       "      <td>US</td>\n",
       "      <td>AT2</td>\n",
       "      <td>20.0</td>\n",
       "      <td>5/1/2021</td>\n",
       "      <td>Deezer</td>\n",
       "      <td>2</td>\n",
       "      <td>Unknown</td>\n",
       "      <td>NaN</td>\n",
       "      <td>{Esa Mujer}</td>\n",
       "      <td>Silvestre Dangond - Grandes Éxitos</td>\n",
       "      <td>356461</td>\n",
       "      <td>0</td>\n",
       "      <td>More than 1 day</td>\n",
       "      <td>Higher</td>\n",
       "    </tr>\n",
       "    <tr>\n",
       "      <th>141</th>\n",
       "      <td>USUM72024668</td>\n",
       "      <td>US</td>\n",
       "      <td>UM7</td>\n",
       "      <td>20.0</td>\n",
       "      <td>4/1/2021</td>\n",
       "      <td>Deezer</td>\n",
       "      <td>2</td>\n",
       "      <td>Unknown</td>\n",
       "      <td>NaN</td>\n",
       "      <td>{Me Gusta, Me Gusta}</td>\n",
       "      <td>Silvestre Dangond - Grandes Éxitos</td>\n",
       "      <td>356461</td>\n",
       "      <td>0</td>\n",
       "      <td>More than 1 day</td>\n",
       "      <td>Higher</td>\n",
       "    </tr>\n",
       "    <tr>\n",
       "      <th>142</th>\n",
       "      <td>USUG12004700</td>\n",
       "      <td>US</td>\n",
       "      <td>UG1</td>\n",
       "      <td>20.0</td>\n",
       "      <td>4/1/2021</td>\n",
       "      <td>Deezer</td>\n",
       "      <td>2</td>\n",
       "      <td>Unknown</td>\n",
       "      <td>NaN</td>\n",
       "      <td>{Me Gusta, Me Gusta}</td>\n",
       "      <td>Silvestre Dangond - Grandes Éxitos</td>\n",
       "      <td>356461</td>\n",
       "      <td>0</td>\n",
       "      <td>More than 1 day</td>\n",
       "      <td>Higher</td>\n",
       "    </tr>\n",
       "    <tr>\n",
       "      <th>258</th>\n",
       "      <td>QZMGB2100021</td>\n",
       "      <td>QZ</td>\n",
       "      <td>MGB</td>\n",
       "      <td>21.0</td>\n",
       "      <td>3/1/2021</td>\n",
       "      <td>Pandora</td>\n",
       "      <td>160</td>\n",
       "      <td>Bizzy Bone</td>\n",
       "      <td>Bizzy Bone</td>\n",
       "      <td>0.44</td>\n",
       "      <td>The Mantra</td>\n",
       "      <td>356461</td>\n",
       "      <td>1</td>\n",
       "      <td>More than 1 day</td>\n",
       "      <td>Higher</td>\n",
       "    </tr>\n",
       "  </tbody>\n",
       "</table>\n",
       "</div>"
      ],
      "text/plain": [
       "               ISRC Country_Code Registrant_Code  Year_of_Reference  \\\n",
       "19931  QZES81895037           QZ             ES8               18.0   \n",
       "34584  DEN962000842           DE             N96               20.0   \n",
       "20399  JMA272011862           JM             A27               20.0   \n",
       "48381  USAT22006112           US             AT2               20.0   \n",
       "138    USUYG1360358           US             UYG               13.0   \n",
       "139    USUM72105617           US             UM7               21.0   \n",
       "140    USAT22007802           US             AT2               20.0   \n",
       "141    USUM72024668           US             UM7               20.0   \n",
       "142    USUG12004700           US             UG1               20.0   \n",
       "258    QZMGB2100021           QZ             MGB               21.0   \n",
       "\n",
       "      Usage_Period      DSP  Streams     Recording_Artist Recording_Label  \\\n",
       "19931     2/1/2021   Trebel     6464  Megan Thee Stallion          Warner   \n",
       "34584     2/1/2021   Trebel     4797                  SZA      Sony Music   \n",
       "20399     2/1/2021   Trebel     3492               H.E.R.      Sony Music   \n",
       "48381     2/1/2021   Trebel     2965           Kevo Muney          Warner   \n",
       "138       4/1/2021   Deezer        2              Unknown             NaN   \n",
       "139       4/1/2021   Deezer        2              Unknown             NaN   \n",
       "140       5/1/2021   Deezer        2              Unknown             NaN   \n",
       "141       4/1/2021   Deezer        2              Unknown             NaN   \n",
       "142       4/1/2021   Deezer        2              Unknown             NaN   \n",
       "258       3/1/2021  Pandora      160           Bizzy Bone      Bizzy Bone   \n",
       "\n",
       "               Recording_Title                       Release_Title  \\\n",
       "19931  Cry Baby (feat. DaBaby)                           Good News   \n",
       "34584                Good Days                           Good Days   \n",
       "20399                   Damage                              Damage   \n",
       "48381           Leave Some Day                      Leave Some Day   \n",
       "138                {Cartagena}  Silvestre Dangond - Grandes Éxitos   \n",
       "139                {Esa Mujer}  Silvestre Dangond - Grandes Éxitos   \n",
       "140                {Esa Mujer}  Silvestre Dangond - Grandes Éxitos   \n",
       "141       {Me Gusta, Me Gusta}  Silvestre Dangond - Grandes Éxitos   \n",
       "142       {Me Gusta, Me Gusta}  Silvestre Dangond - Grandes Éxitos   \n",
       "258                       0.44                          The Mantra   \n",
       "\n",
       "       Recording_Duration_(Seconds)  Songwriters_Listed_(1=Y_0=N)  \\\n",
       "19931                        818738                             0   \n",
       "34584                        770091                             0   \n",
       "20399                        714437                             0   \n",
       "48381                        463500                             0   \n",
       "138                          356461                             0   \n",
       "139                          356461                             0   \n",
       "140                          356461                             0   \n",
       "141                          356461                             0   \n",
       "142                          356461                             0   \n",
       "258                          356461                             1   \n",
       "\n",
       "           Song_Length Length_Compared_to_Median  \n",
       "19931  More than 1 day                    Higher  \n",
       "34584  More than 1 day                    Higher  \n",
       "20399  More than 1 day                    Higher  \n",
       "48381  More than 1 day                    Higher  \n",
       "138    More than 1 day                    Higher  \n",
       "139    More than 1 day                    Higher  \n",
       "140    More than 1 day                    Higher  \n",
       "141    More than 1 day                    Higher  \n",
       "142    More than 1 day                    Higher  \n",
       "258    More than 1 day                    Higher  "
      ]
     },
     "execution_count": 41,
     "metadata": {},
     "output_type": "execute_result"
    }
   ],
   "source": [
    "mlc.nlargest(10, ['Recording_Duration_(Seconds)'])"
   ]
  },
  {
   "cell_type": "markdown",
   "id": "bf1d0173",
   "metadata": {},
   "source": [
    "The longest song in this dataset comes in at 818,738 seconds which is equal to 227.4 hours. 356,461 also shows up in the dataset with more frequency than anticipated. This deserves some additional attention."
   ]
  },
  {
   "cell_type": "code",
   "execution_count": 42,
   "id": "05d93559",
   "metadata": {
    "scrolled": true
   },
   "outputs": [
    {
     "data": {
      "text/html": [
       "<div>\n",
       "<style scoped>\n",
       "    .dataframe tbody tr th:only-of-type {\n",
       "        vertical-align: middle;\n",
       "    }\n",
       "\n",
       "    .dataframe tbody tr th {\n",
       "        vertical-align: top;\n",
       "    }\n",
       "\n",
       "    .dataframe thead th {\n",
       "        text-align: right;\n",
       "    }\n",
       "</style>\n",
       "<table border=\"1\" class=\"dataframe\">\n",
       "  <thead>\n",
       "    <tr style=\"text-align: right;\">\n",
       "      <th></th>\n",
       "      <th>ISRC</th>\n",
       "      <th>Country_Code</th>\n",
       "      <th>Registrant_Code</th>\n",
       "      <th>Year_of_Reference</th>\n",
       "      <th>Usage_Period</th>\n",
       "      <th>DSP</th>\n",
       "      <th>Streams</th>\n",
       "      <th>Recording_Artist</th>\n",
       "      <th>Recording_Label</th>\n",
       "      <th>Recording_Title</th>\n",
       "      <th>Release_Title</th>\n",
       "      <th>Recording_Duration_(Seconds)</th>\n",
       "      <th>Songwriters_Listed_(1=Y_0=N)</th>\n",
       "      <th>Song_Length</th>\n",
       "      <th>Length_Compared_to_Median</th>\n",
       "    </tr>\n",
       "  </thead>\n",
       "  <tbody>\n",
       "    <tr>\n",
       "      <th>14080</th>\n",
       "      <td>USAB02001303</td>\n",
       "      <td>US</td>\n",
       "      <td>AB0</td>\n",
       "      <td>20.0</td>\n",
       "      <td>3/1/2021</td>\n",
       "      <td>Apple</td>\n",
       "      <td>28962</td>\n",
       "      <td>Mac-K the K Baby</td>\n",
       "      <td>OneWay DumbWay</td>\n",
       "      <td>Butterflies</td>\n",
       "      <td>Butterflies - Single</td>\n",
       "      <td>0</td>\n",
       "      <td>1</td>\n",
       "      <td>Up to 2 min</td>\n",
       "      <td>Lower</td>\n",
       "    </tr>\n",
       "    <tr>\n",
       "      <th>14081</th>\n",
       "      <td>GBKQU2111667</td>\n",
       "      <td>GB</td>\n",
       "      <td>KQU</td>\n",
       "      <td>21.0</td>\n",
       "      <td>3/1/2021</td>\n",
       "      <td>Apple</td>\n",
       "      <td>28962</td>\n",
       "      <td>Mac-K the K Baby</td>\n",
       "      <td>OneWay DumbWay</td>\n",
       "      <td>Butterflies</td>\n",
       "      <td>Butterflies - Single</td>\n",
       "      <td>0</td>\n",
       "      <td>1</td>\n",
       "      <td>Up to 2 min</td>\n",
       "      <td>Lower</td>\n",
       "    </tr>\n",
       "    <tr>\n",
       "      <th>14916</th>\n",
       "      <td>AUHS01912771</td>\n",
       "      <td>AU</td>\n",
       "      <td>HS0</td>\n",
       "      <td>19.0</td>\n",
       "      <td>2/1/2021</td>\n",
       "      <td>iHeart Radio</td>\n",
       "      <td>2192</td>\n",
       "      <td>Jelly Roll &amp; Struggle Jennings</td>\n",
       "      <td>Struggle  Jelly Roll</td>\n",
       "      <td>Can't Go Home</td>\n",
       "      <td>Waylon &amp; Willie 2</td>\n",
       "      <td>0</td>\n",
       "      <td>0</td>\n",
       "      <td>Up to 2 min</td>\n",
       "      <td>Lower</td>\n",
       "    </tr>\n",
       "    <tr>\n",
       "      <th>33960</th>\n",
       "      <td>USRH12000094</td>\n",
       "      <td>US</td>\n",
       "      <td>RH1</td>\n",
       "      <td>20.0</td>\n",
       "      <td>1/1/2021</td>\n",
       "      <td>Apple</td>\n",
       "      <td>43995</td>\n",
       "      <td>T9ine</td>\n",
       "      <td>Columbia</td>\n",
       "      <td>Go Harder</td>\n",
       "      <td>Go Harder - Single</td>\n",
       "      <td>0</td>\n",
       "      <td>1</td>\n",
       "      <td>Up to 2 min</td>\n",
       "      <td>Lower</td>\n",
       "    </tr>\n",
       "    <tr>\n",
       "      <th>51916</th>\n",
       "      <td>QM24S1705172</td>\n",
       "      <td>QM</td>\n",
       "      <td>24S</td>\n",
       "      <td>17.0</td>\n",
       "      <td>2/1/2021</td>\n",
       "      <td>iHeart Radio</td>\n",
       "      <td>1045</td>\n",
       "      <td>Jelly Roll &amp; Struggle Jennings</td>\n",
       "      <td>Struggle  Jelly Roll</td>\n",
       "      <td>Love Won (feat. Shooter Jennings)</td>\n",
       "      <td>Waylon &amp; Willie 2</td>\n",
       "      <td>0</td>\n",
       "      <td>0</td>\n",
       "      <td>Up to 2 min</td>\n",
       "      <td>Lower</td>\n",
       "    </tr>\n",
       "    <tr>\n",
       "      <th>56892</th>\n",
       "      <td>USA6B0446310</td>\n",
       "      <td>US</td>\n",
       "      <td>A6B</td>\n",
       "      <td>4.0</td>\n",
       "      <td>3/1/2021</td>\n",
       "      <td>Apple</td>\n",
       "      <td>103842</td>\n",
       "      <td>RH Music, Eduardo Luzquiños</td>\n",
       "      <td>Eduardo Luzquiños</td>\n",
       "      <td>Motive X Promiscuous</td>\n",
       "      <td>Motive X Promiscuous (Remix) - Single</td>\n",
       "      <td>0</td>\n",
       "      <td>1</td>\n",
       "      <td>Up to 2 min</td>\n",
       "      <td>Lower</td>\n",
       "    </tr>\n",
       "    <tr>\n",
       "      <th>56893</th>\n",
       "      <td>USY251719876</td>\n",
       "      <td>US</td>\n",
       "      <td>Y25</td>\n",
       "      <td>17.0</td>\n",
       "      <td>3/1/2021</td>\n",
       "      <td>Apple</td>\n",
       "      <td>20793</td>\n",
       "      <td>RH Music, Eduardo Luzquiños</td>\n",
       "      <td>Eduardo Luzquiños</td>\n",
       "      <td>Motive X Promiscuous</td>\n",
       "      <td>Motive X Promiscuous (Remix) - Single</td>\n",
       "      <td>0</td>\n",
       "      <td>1</td>\n",
       "      <td>Up to 2 min</td>\n",
       "      <td>Lower</td>\n",
       "    </tr>\n",
       "    <tr>\n",
       "      <th>56894</th>\n",
       "      <td>USLR50100122</td>\n",
       "      <td>US</td>\n",
       "      <td>LR5</td>\n",
       "      <td>1.0</td>\n",
       "      <td>3/1/2021</td>\n",
       "      <td>Apple</td>\n",
       "      <td>20793</td>\n",
       "      <td>RH Music, Eduardo Luzquiños</td>\n",
       "      <td>Eduardo Luzquiños</td>\n",
       "      <td>Motive X Promiscuous</td>\n",
       "      <td>Motive X Promiscuous (Remix) - Single</td>\n",
       "      <td>0</td>\n",
       "      <td>1</td>\n",
       "      <td>Up to 2 min</td>\n",
       "      <td>Lower</td>\n",
       "    </tr>\n",
       "    <tr>\n",
       "      <th>81337</th>\n",
       "      <td>USWB12004709</td>\n",
       "      <td>US</td>\n",
       "      <td>WB1</td>\n",
       "      <td>20.0</td>\n",
       "      <td>2/1/2021</td>\n",
       "      <td>iHeart Radio</td>\n",
       "      <td>1582</td>\n",
       "      <td>Thom Rotella</td>\n",
       "      <td>Thom Rotella</td>\n",
       "      <td>Street Talk</td>\n",
       "      <td>Street Talk</td>\n",
       "      <td>0</td>\n",
       "      <td>0</td>\n",
       "      <td>Up to 2 min</td>\n",
       "      <td>Lower</td>\n",
       "    </tr>\n",
       "    <tr>\n",
       "      <th>81634</th>\n",
       "      <td>QZMEN2057850</td>\n",
       "      <td>QZ</td>\n",
       "      <td>MEN</td>\n",
       "      <td>20.0</td>\n",
       "      <td>3/1/2021</td>\n",
       "      <td>Apple</td>\n",
       "      <td>40593</td>\n",
       "      <td>Wovy, LowkeyLuke, Alejandro Lema</td>\n",
       "      <td>WOVY</td>\n",
       "      <td>Stuntin' On My Ex</td>\n",
       "      <td>Stuntin' On My Ex - Single</td>\n",
       "      <td>0</td>\n",
       "      <td>1</td>\n",
       "      <td>Up to 2 min</td>\n",
       "      <td>Lower</td>\n",
       "    </tr>\n",
       "  </tbody>\n",
       "</table>\n",
       "</div>"
      ],
      "text/plain": [
       "               ISRC Country_Code Registrant_Code  Year_of_Reference  \\\n",
       "14080  USAB02001303           US             AB0               20.0   \n",
       "14081  GBKQU2111667           GB             KQU               21.0   \n",
       "14916  AUHS01912771           AU             HS0               19.0   \n",
       "33960  USRH12000094           US             RH1               20.0   \n",
       "51916  QM24S1705172           QM             24S               17.0   \n",
       "56892  USA6B0446310           US             A6B                4.0   \n",
       "56893  USY251719876           US             Y25               17.0   \n",
       "56894  USLR50100122           US             LR5                1.0   \n",
       "81337  USWB12004709           US             WB1               20.0   \n",
       "81634  QZMEN2057850           QZ             MEN               20.0   \n",
       "\n",
       "      Usage_Period           DSP  Streams                  Recording_Artist  \\\n",
       "14080     3/1/2021         Apple    28962                  Mac-K the K Baby   \n",
       "14081     3/1/2021         Apple    28962                  Mac-K the K Baby   \n",
       "14916     2/1/2021  iHeart Radio     2192    Jelly Roll & Struggle Jennings   \n",
       "33960     1/1/2021         Apple    43995                             T9ine   \n",
       "51916     2/1/2021  iHeart Radio     1045    Jelly Roll & Struggle Jennings   \n",
       "56892     3/1/2021         Apple   103842       RH Music, Eduardo Luzquiños   \n",
       "56893     3/1/2021         Apple    20793       RH Music, Eduardo Luzquiños   \n",
       "56894     3/1/2021         Apple    20793       RH Music, Eduardo Luzquiños   \n",
       "81337     2/1/2021  iHeart Radio     1582                      Thom Rotella   \n",
       "81634     3/1/2021         Apple    40593  Wovy, LowkeyLuke, Alejandro Lema   \n",
       "\n",
       "            Recording_Label                    Recording_Title  \\\n",
       "14080        OneWay DumbWay                        Butterflies   \n",
       "14081        OneWay DumbWay                        Butterflies   \n",
       "14916  Struggle  Jelly Roll                      Can't Go Home   \n",
       "33960              Columbia                          Go Harder   \n",
       "51916  Struggle  Jelly Roll  Love Won (feat. Shooter Jennings)   \n",
       "56892     Eduardo Luzquiños               Motive X Promiscuous   \n",
       "56893     Eduardo Luzquiños               Motive X Promiscuous   \n",
       "56894     Eduardo Luzquiños               Motive X Promiscuous   \n",
       "81337          Thom Rotella                        Street Talk   \n",
       "81634                  WOVY                  Stuntin' On My Ex   \n",
       "\n",
       "                               Release_Title  Recording_Duration_(Seconds)  \\\n",
       "14080                   Butterflies - Single                             0   \n",
       "14081                   Butterflies - Single                             0   \n",
       "14916                      Waylon & Willie 2                             0   \n",
       "33960                     Go Harder - Single                             0   \n",
       "51916                      Waylon & Willie 2                             0   \n",
       "56892  Motive X Promiscuous (Remix) - Single                             0   \n",
       "56893  Motive X Promiscuous (Remix) - Single                             0   \n",
       "56894  Motive X Promiscuous (Remix) - Single                             0   \n",
       "81337                            Street Talk                             0   \n",
       "81634             Stuntin' On My Ex - Single                             0   \n",
       "\n",
       "       Songwriters_Listed_(1=Y_0=N)  Song_Length Length_Compared_to_Median  \n",
       "14080                             1  Up to 2 min                     Lower  \n",
       "14081                             1  Up to 2 min                     Lower  \n",
       "14916                             0  Up to 2 min                     Lower  \n",
       "33960                             1  Up to 2 min                     Lower  \n",
       "51916                             0  Up to 2 min                     Lower  \n",
       "56892                             1  Up to 2 min                     Lower  \n",
       "56893                             1  Up to 2 min                     Lower  \n",
       "56894                             1  Up to 2 min                     Lower  \n",
       "81337                             0  Up to 2 min                     Lower  \n",
       "81634                             1  Up to 2 min                     Lower  "
      ]
     },
     "execution_count": 42,
     "metadata": {},
     "output_type": "execute_result"
    }
   ],
   "source": [
    "mlc.nsmallest(10, ['Recording_Duration_(Seconds)'])"
   ]
  },
  {
   "cell_type": "markdown",
   "id": "7b2a40e0",
   "metadata": {},
   "source": [
    "There are a significant number of entries in the dataset with the recording duration listed as 0 seconds. Will seek additional clarity around these entries."
   ]
  },
  {
   "cell_type": "code",
   "execution_count": 43,
   "id": "f3b41389",
   "metadata": {
    "scrolled": true
   },
   "outputs": [
    {
     "data": {
      "text/plain": [
       "327      59\n",
       "338      56\n",
       "351      56\n",
       "349      56\n",
       "58       55\n",
       "         ..\n",
       "3794      1\n",
       "33633     1\n",
       "3894      1\n",
       "15937     1\n",
       "8755      1\n",
       "Name: Recording_Duration_(Seconds), Length: 2000, dtype: int64"
      ]
     },
     "execution_count": 43,
     "metadata": {},
     "output_type": "execute_result"
    }
   ],
   "source": [
    "mlc['Recording_Duration_(Seconds)'].value_counts().loc[lambda x : x<60]"
   ]
  },
  {
   "cell_type": "markdown",
   "id": "8ab05902",
   "metadata": {},
   "source": [
    "There are 2000 entries in the dataset with a song length less than 60 seconds."
   ]
  },
  {
   "cell_type": "code",
   "execution_count": 44,
   "id": "ae1c4507",
   "metadata": {
    "scrolled": true
   },
   "outputs": [],
   "source": [
    "# mlc['Recording Duration (Seconds)'].value_counts().loc[lambda x : x>60 and x<120]\n",
    "# moving to a for loop with .apply in order to evaluate multiple conditions in a cleaner format"
   ]
  },
  {
   "cell_type": "markdown",
   "id": "1fdf894d",
   "metadata": {
    "scrolled": false
   },
   "source": [
    "def assign_length(row):\n",
    "    if row <= 120:\n",
    "        result = \"Up to 2 min\"\n",
    "    elif row <= 240:\n",
    "        result = \"2-4 min\"\n",
    "    elif row <= 420:\n",
    "        result = \"4-7 min\"\n",
    "    elif row <= 600:\n",
    "        result = \"7-10 min\"\n",
    "    elif row <= 900:\n",
    "        result = \"10-15 min\"\n",
    "    elif row <= 3600:\n",
    "        result = \"15-60 min\"\n",
    "    elif row <= 86400:\n",
    "        result = \"1-24 hours\"\n",
    "    else:\n",
    "        result = \"More than 1 day\"\n",
    "    return result\n",
    "\n",
    "mlc['Song Length'] = mlc['Recording Duration (Seconds)'].apply(assign_length)\n",
    "mlc.head()"
   ]
  },
  {
   "cell_type": "code",
   "execution_count": 45,
   "id": "b24832db",
   "metadata": {
    "scrolled": true
   },
   "outputs": [
    {
     "data": {
      "text/plain": [
       "2-4 min            64179\n",
       "4-7 min            17204\n",
       "Up to 2 min        12487\n",
       "7-10 min            2289\n",
       "1-24 hours          1636\n",
       "15-60 min           1257\n",
       "10-15 min            751\n",
       "More than 1 day      197\n",
       "Name: Song_Length, dtype: int64"
      ]
     },
     "execution_count": 45,
     "metadata": {},
     "output_type": "execute_result"
    }
   ],
   "source": [
    "mlc['Song_Length'].value_counts()"
   ]
  },
  {
   "cell_type": "markdown",
   "id": "b046877c",
   "metadata": {},
   "source": [
    "def compared_to_median(row):\n",
    "    if row < 190:\n",
    "        result = \"Lower\"\n",
    "    elif row == 190:\n",
    "        result = \"Median\"\n",
    "    else:\n",
    "        result = \"Higher\"\n",
    "    return result\n",
    "mlc['Length Compared to Median'] = mlc['Recording Duration (Seconds)'].apply(compared_to_median)\n",
    "mlc.head()"
   ]
  },
  {
   "cell_type": "code",
   "execution_count": 46,
   "id": "621ecff9",
   "metadata": {},
   "outputs": [
    {
     "data": {
      "text/plain": [
       "Lower     49891\n",
       "Higher    49470\n",
       "Median      639\n",
       "Name: Length_Compared_to_Median, dtype: int64"
      ]
     },
     "execution_count": 46,
     "metadata": {},
     "output_type": "execute_result"
    }
   ],
   "source": [
    "mlc['Length_Compared_to_Median'].value_counts()"
   ]
  },
  {
   "cell_type": "code",
   "execution_count": 47,
   "id": "15571707",
   "metadata": {},
   "outputs": [
    {
     "data": {
      "text/plain": [
       "2-4 min            64179\n",
       "4-7 min            17204\n",
       "Up to 2 min        12487\n",
       "7-10 min            2289\n",
       "1-24 hours          1636\n",
       "15-60 min           1257\n",
       "10-15 min            751\n",
       "More than 1 day      197\n",
       "Name: Song_Length, dtype: int64"
      ]
     },
     "execution_count": 47,
     "metadata": {},
     "output_type": "execute_result"
    }
   ],
   "source": [
    "mlc['Song_Length'].value_counts()"
   ]
  },
  {
   "cell_type": "code",
   "execution_count": 48,
   "id": "e5fe2939",
   "metadata": {
    "scrolled": true
   },
   "outputs": [
    {
     "data": {
      "text/plain": [
       "count      100000\n",
       "unique          8\n",
       "top       2-4 min\n",
       "freq        64179\n",
       "Name: Song_Length, dtype: object"
      ]
     },
     "execution_count": 48,
     "metadata": {},
     "output_type": "execute_result"
    }
   ],
   "source": [
    "mlc['Song_Length'].describe()"
   ]
  },
  {
   "cell_type": "markdown",
   "id": "7e84957d",
   "metadata": {},
   "source": [
    "## Statistical insights"
   ]
  },
  {
   "cell_type": "code",
   "execution_count": 49,
   "id": "46ac2b53",
   "metadata": {},
   "outputs": [
    {
     "data": {
      "text/html": [
       "<div>\n",
       "<style scoped>\n",
       "    .dataframe tbody tr th:only-of-type {\n",
       "        vertical-align: middle;\n",
       "    }\n",
       "\n",
       "    .dataframe tbody tr th {\n",
       "        vertical-align: top;\n",
       "    }\n",
       "\n",
       "    .dataframe thead th {\n",
       "        text-align: right;\n",
       "    }\n",
       "</style>\n",
       "<table border=\"1\" class=\"dataframe\">\n",
       "  <thead>\n",
       "    <tr style=\"text-align: right;\">\n",
       "      <th></th>\n",
       "      <th>ISRC</th>\n",
       "      <th>Country_Code</th>\n",
       "      <th>Registrant_Code</th>\n",
       "      <th>Year_of_Reference</th>\n",
       "      <th>Usage_Period</th>\n",
       "      <th>DSP</th>\n",
       "      <th>Streams</th>\n",
       "      <th>Recording_Artist</th>\n",
       "      <th>Recording_Label</th>\n",
       "      <th>Recording_Title</th>\n",
       "      <th>Release_Title</th>\n",
       "      <th>Recording_Duration_(Seconds)</th>\n",
       "      <th>Songwriters_Listed_(1=Y_0=N)</th>\n",
       "      <th>Song_Length</th>\n",
       "      <th>Length_Compared_to_Median</th>\n",
       "    </tr>\n",
       "  </thead>\n",
       "  <tbody>\n",
       "    <tr>\n",
       "      <th>count</th>\n",
       "      <td>98240</td>\n",
       "      <td>98303</td>\n",
       "      <td>98303</td>\n",
       "      <td>98239.000000</td>\n",
       "      <td>91898</td>\n",
       "      <td>96001</td>\n",
       "      <td>1.000000e+05</td>\n",
       "      <td>100000</td>\n",
       "      <td>98992</td>\n",
       "      <td>100000</td>\n",
       "      <td>99931</td>\n",
       "      <td>100000.000000</td>\n",
       "      <td>100000.000000</td>\n",
       "      <td>100000</td>\n",
       "      <td>100000</td>\n",
       "    </tr>\n",
       "    <tr>\n",
       "      <th>unique</th>\n",
       "      <td>54621</td>\n",
       "      <td>77</td>\n",
       "      <td>2368</td>\n",
       "      <td>NaN</td>\n",
       "      <td>5</td>\n",
       "      <td>29</td>\n",
       "      <td>NaN</td>\n",
       "      <td>21149</td>\n",
       "      <td>11777</td>\n",
       "      <td>51057</td>\n",
       "      <td>36723</td>\n",
       "      <td>NaN</td>\n",
       "      <td>NaN</td>\n",
       "      <td>8</td>\n",
       "      <td>3</td>\n",
       "    </tr>\n",
       "    <tr>\n",
       "      <th>top</th>\n",
       "      <td>TCAEX2053645</td>\n",
       "      <td>US</td>\n",
       "      <td>UM7</td>\n",
       "      <td>NaN</td>\n",
       "      <td>3/1/2021</td>\n",
       "      <td>Spotify</td>\n",
       "      <td>NaN</td>\n",
       "      <td>Various artists</td>\n",
       "      <td>Atlantic Records</td>\n",
       "      <td>Savage</td>\n",
       "      <td>#unknown#</td>\n",
       "      <td>NaN</td>\n",
       "      <td>NaN</td>\n",
       "      <td>2-4 min</td>\n",
       "      <td>Lower</td>\n",
       "    </tr>\n",
       "    <tr>\n",
       "      <th>freq</th>\n",
       "      <td>119</td>\n",
       "      <td>41621</td>\n",
       "      <td>6020</td>\n",
       "      <td>NaN</td>\n",
       "      <td>39887</td>\n",
       "      <td>32268</td>\n",
       "      <td>NaN</td>\n",
       "      <td>967</td>\n",
       "      <td>1384</td>\n",
       "      <td>134</td>\n",
       "      <td>231</td>\n",
       "      <td>NaN</td>\n",
       "      <td>NaN</td>\n",
       "      <td>64179</td>\n",
       "      <td>49891</td>\n",
       "    </tr>\n",
       "    <tr>\n",
       "      <th>mean</th>\n",
       "      <td>NaN</td>\n",
       "      <td>NaN</td>\n",
       "      <td>NaN</td>\n",
       "      <td>19.671933</td>\n",
       "      <td>NaN</td>\n",
       "      <td>NaN</td>\n",
       "      <td>5.626550e+04</td>\n",
       "      <td>NaN</td>\n",
       "      <td>NaN</td>\n",
       "      <td>NaN</td>\n",
       "      <td>NaN</td>\n",
       "      <td>1016.893690</td>\n",
       "      <td>0.541610</td>\n",
       "      <td>NaN</td>\n",
       "      <td>NaN</td>\n",
       "    </tr>\n",
       "    <tr>\n",
       "      <th>std</th>\n",
       "      <td>NaN</td>\n",
       "      <td>NaN</td>\n",
       "      <td>NaN</td>\n",
       "      <td>12.638870</td>\n",
       "      <td>NaN</td>\n",
       "      <td>NaN</td>\n",
       "      <td>2.620276e+05</td>\n",
       "      <td>NaN</td>\n",
       "      <td>NaN</td>\n",
       "      <td>NaN</td>\n",
       "      <td>NaN</td>\n",
       "      <td>15565.692133</td>\n",
       "      <td>0.498268</td>\n",
       "      <td>NaN</td>\n",
       "      <td>NaN</td>\n",
       "    </tr>\n",
       "    <tr>\n",
       "      <th>min</th>\n",
       "      <td>NaN</td>\n",
       "      <td>NaN</td>\n",
       "      <td>NaN</td>\n",
       "      <td>0.000000</td>\n",
       "      <td>NaN</td>\n",
       "      <td>NaN</td>\n",
       "      <td>1.000000e+00</td>\n",
       "      <td>NaN</td>\n",
       "      <td>NaN</td>\n",
       "      <td>NaN</td>\n",
       "      <td>NaN</td>\n",
       "      <td>0.000000</td>\n",
       "      <td>0.000000</td>\n",
       "      <td>NaN</td>\n",
       "      <td>NaN</td>\n",
       "    </tr>\n",
       "    <tr>\n",
       "      <th>25%</th>\n",
       "      <td>NaN</td>\n",
       "      <td>NaN</td>\n",
       "      <td>NaN</td>\n",
       "      <td>17.000000</td>\n",
       "      <td>NaN</td>\n",
       "      <td>NaN</td>\n",
       "      <td>6.807000e+03</td>\n",
       "      <td>NaN</td>\n",
       "      <td>NaN</td>\n",
       "      <td>NaN</td>\n",
       "      <td>NaN</td>\n",
       "      <td>149.000000</td>\n",
       "      <td>0.000000</td>\n",
       "      <td>NaN</td>\n",
       "      <td>NaN</td>\n",
       "    </tr>\n",
       "    <tr>\n",
       "      <th>50%</th>\n",
       "      <td>NaN</td>\n",
       "      <td>NaN</td>\n",
       "      <td>NaN</td>\n",
       "      <td>19.000000</td>\n",
       "      <td>NaN</td>\n",
       "      <td>NaN</td>\n",
       "      <td>1.677250e+04</td>\n",
       "      <td>NaN</td>\n",
       "      <td>NaN</td>\n",
       "      <td>NaN</td>\n",
       "      <td>NaN</td>\n",
       "      <td>190.000000</td>\n",
       "      <td>1.000000</td>\n",
       "      <td>NaN</td>\n",
       "      <td>NaN</td>\n",
       "    </tr>\n",
       "    <tr>\n",
       "      <th>75%</th>\n",
       "      <td>NaN</td>\n",
       "      <td>NaN</td>\n",
       "      <td>NaN</td>\n",
       "      <td>20.000000</td>\n",
       "      <td>NaN</td>\n",
       "      <td>NaN</td>\n",
       "      <td>3.990300e+04</td>\n",
       "      <td>NaN</td>\n",
       "      <td>NaN</td>\n",
       "      <td>NaN</td>\n",
       "      <td>NaN</td>\n",
       "      <td>236.000000</td>\n",
       "      <td>1.000000</td>\n",
       "      <td>NaN</td>\n",
       "      <td>NaN</td>\n",
       "    </tr>\n",
       "    <tr>\n",
       "      <th>max</th>\n",
       "      <td>NaN</td>\n",
       "      <td>NaN</td>\n",
       "      <td>NaN</td>\n",
       "      <td>99.000000</td>\n",
       "      <td>NaN</td>\n",
       "      <td>NaN</td>\n",
       "      <td>2.145617e+07</td>\n",
       "      <td>NaN</td>\n",
       "      <td>NaN</td>\n",
       "      <td>NaN</td>\n",
       "      <td>NaN</td>\n",
       "      <td>818738.000000</td>\n",
       "      <td>1.000000</td>\n",
       "      <td>NaN</td>\n",
       "      <td>NaN</td>\n",
       "    </tr>\n",
       "  </tbody>\n",
       "</table>\n",
       "</div>"
      ],
      "text/plain": [
       "                ISRC Country_Code Registrant_Code  Year_of_Reference  \\\n",
       "count          98240        98303           98303       98239.000000   \n",
       "unique         54621           77            2368                NaN   \n",
       "top     TCAEX2053645           US             UM7                NaN   \n",
       "freq             119        41621            6020                NaN   \n",
       "mean             NaN          NaN             NaN          19.671933   \n",
       "std              NaN          NaN             NaN          12.638870   \n",
       "min              NaN          NaN             NaN           0.000000   \n",
       "25%              NaN          NaN             NaN          17.000000   \n",
       "50%              NaN          NaN             NaN          19.000000   \n",
       "75%              NaN          NaN             NaN          20.000000   \n",
       "max              NaN          NaN             NaN          99.000000   \n",
       "\n",
       "       Usage_Period      DSP       Streams Recording_Artist   Recording_Label  \\\n",
       "count         91898    96001  1.000000e+05           100000             98992   \n",
       "unique            5       29           NaN            21149             11777   \n",
       "top        3/1/2021  Spotify           NaN  Various artists  Atlantic Records   \n",
       "freq          39887    32268           NaN              967              1384   \n",
       "mean            NaN      NaN  5.626550e+04              NaN               NaN   \n",
       "std             NaN      NaN  2.620276e+05              NaN               NaN   \n",
       "min             NaN      NaN  1.000000e+00              NaN               NaN   \n",
       "25%             NaN      NaN  6.807000e+03              NaN               NaN   \n",
       "50%             NaN      NaN  1.677250e+04              NaN               NaN   \n",
       "75%             NaN      NaN  3.990300e+04              NaN               NaN   \n",
       "max             NaN      NaN  2.145617e+07              NaN               NaN   \n",
       "\n",
       "       Recording_Title Release_Title  Recording_Duration_(Seconds)  \\\n",
       "count           100000         99931                 100000.000000   \n",
       "unique           51057         36723                           NaN   \n",
       "top             Savage     #unknown#                           NaN   \n",
       "freq               134           231                           NaN   \n",
       "mean               NaN           NaN                   1016.893690   \n",
       "std                NaN           NaN                  15565.692133   \n",
       "min                NaN           NaN                      0.000000   \n",
       "25%                NaN           NaN                    149.000000   \n",
       "50%                NaN           NaN                    190.000000   \n",
       "75%                NaN           NaN                    236.000000   \n",
       "max                NaN           NaN                 818738.000000   \n",
       "\n",
       "        Songwriters_Listed_(1=Y_0=N) Song_Length Length_Compared_to_Median  \n",
       "count                  100000.000000      100000                    100000  \n",
       "unique                           NaN           8                         3  \n",
       "top                              NaN     2-4 min                     Lower  \n",
       "freq                             NaN       64179                     49891  \n",
       "mean                        0.541610         NaN                       NaN  \n",
       "std                         0.498268         NaN                       NaN  \n",
       "min                         0.000000         NaN                       NaN  \n",
       "25%                         0.000000         NaN                       NaN  \n",
       "50%                         1.000000         NaN                       NaN  \n",
       "75%                         1.000000         NaN                       NaN  \n",
       "max                         1.000000         NaN                       NaN  "
      ]
     },
     "execution_count": 49,
     "metadata": {},
     "output_type": "execute_result"
    }
   ],
   "source": [
    "mlc.describe(include='all')"
   ]
  },
  {
   "cell_type": "markdown",
   "id": "4ca8eaaa",
   "metadata": {},
   "source": [
    "## Visualizations & Insights"
   ]
  },
  {
   "cell_type": "code",
   "execution_count": null,
   "id": "9e3814df",
   "metadata": {},
   "outputs": [],
   "source": [
    "sns.swarmplot(x=spotify.Song_Length, y=spotify.Streams)\n",
    "plt.title('Spotify: Streams Per Song Length');"
   ]
  },
  {
   "cell_type": "code",
   "execution_count": null,
   "id": "05654e2f",
   "metadata": {},
   "outputs": [],
   "source": [
    "plt.bar(spotify.Song_Length, spotify.Streams)\n",
    "plt.show()"
   ]
  },
  {
   "cell_type": "code",
   "execution_count": null,
   "id": "e10edef1",
   "metadata": {},
   "outputs": [],
   "source": [
    "plt.hist(mlc.Song_Length)\n",
    "plt.xlabel('Song Length')\n",
    "plt.ylabel('Quantity')\n",
    "plt.title('Distribution of Song Length, Spotify')\n",
    "plt.show()"
   ]
  },
  {
   "cell_type": "code",
   "execution_count": null,
   "id": "1816c220",
   "metadata": {},
   "outputs": [],
   "source": []
  }
 ],
 "metadata": {
  "kernelspec": {
   "display_name": "Python 3 (ipykernel)",
   "language": "python",
   "name": "python3"
  },
  "language_info": {
   "codemirror_mode": {
    "name": "ipython",
    "version": 3
   },
   "file_extension": ".py",
   "mimetype": "text/x-python",
   "name": "python",
   "nbconvert_exporter": "python",
   "pygments_lexer": "ipython3",
   "version": "3.9.7"
  }
 },
 "nbformat": 4,
 "nbformat_minor": 5
}
