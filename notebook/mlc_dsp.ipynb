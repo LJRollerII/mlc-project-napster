{
 "cells": [
  {
   "cell_type": "markdown",
   "id": "fa3c30f6",
   "metadata": {},
   "source": [
    "# MLC Project - Napster\n",
    "Group Focus: Data provided from DSPS\n",
    "\n",
    "Considerations: which DSPs are doing a bad job of sending over complete or at least minimum data required for matching?\n",
    "\n",
    "Which DSPs have the most streams? Do songs get more air time on certain DSPs?\n",
    "\n",
    "Does song length correlate to DSP in any way?"
   ]
  },
  {
   "cell_type": "code",
   "execution_count": 69,
   "id": "d68bfed1",
   "metadata": {},
   "outputs": [],
   "source": [
    "import pandas as pd\n",
    "import numpy as np\n",
    "import matplotlib.pyplot as plt\n",
    "import seaborn as sns\n",
    "%matplotlib inline\n",
    "import re"
   ]
  },
  {
   "cell_type": "markdown",
   "id": "ed9217db",
   "metadata": {},
   "source": [
    "## Read data into notebook"
   ]
  },
  {
   "cell_type": "code",
   "execution_count": 70,
   "id": "bd33477a",
   "metadata": {},
   "outputs": [
    {
     "data": {
      "text/html": [
       "<div>\n",
       "<style scoped>\n",
       "    .dataframe tbody tr th:only-of-type {\n",
       "        vertical-align: middle;\n",
       "    }\n",
       "\n",
       "    .dataframe tbody tr th {\n",
       "        vertical-align: top;\n",
       "    }\n",
       "\n",
       "    .dataframe thead th {\n",
       "        text-align: right;\n",
       "    }\n",
       "</style>\n",
       "<table border=\"1\" class=\"dataframe\">\n",
       "  <thead>\n",
       "    <tr style=\"text-align: right;\">\n",
       "      <th></th>\n",
       "      <th>If</th>\n",
       "      <th>Country Code</th>\n",
       "      <th>Registrant Code</th>\n",
       "      <th>Year of Reference</th>\n",
       "      <th>Usage Period</th>\n",
       "      <th>Streaming Platform (DSP)</th>\n",
       "      <th>Streams</th>\n",
       "      <th>Recording Artist</th>\n",
       "      <th>Recording Label</th>\n",
       "      <th>Recording Title</th>\n",
       "      <th>Release Title</th>\n",
       "      <th>Recording Duration (Seconds)</th>\n",
       "      <th>Songwriter's Listed (1 = \"Yes\", 0 = \"No\")</th>\n",
       "    </tr>\n",
       "  </thead>\n",
       "  <tbody>\n",
       "    <tr>\n",
       "      <th>0</th>\n",
       "      <td>USUG12101043</td>\n",
       "      <td>US</td>\n",
       "      <td>UG1</td>\n",
       "      <td>21.0</td>\n",
       "      <td>NaN</td>\n",
       "      <td>AudioMack</td>\n",
       "      <td>10175</td>\n",
       "      <td>Future</td>\n",
       "      <td>NaN</td>\n",
       "      <td>FUTURE FT DEJ LOAF HEY THERE PROD BY DDS</td>\n",
       "      <td>#unknown#</td>\n",
       "      <td>181</td>\n",
       "      <td>0</td>\n",
       "    </tr>\n",
       "    <tr>\n",
       "      <th>1</th>\n",
       "      <td>USRC12100543</td>\n",
       "      <td>US</td>\n",
       "      <td>RC1</td>\n",
       "      <td>21.0</td>\n",
       "      <td>NaN</td>\n",
       "      <td>SoundCloud</td>\n",
       "      <td>8597</td>\n",
       "      <td>LUCKY3RD</td>\n",
       "      <td>LUCKY3RD</td>\n",
       "      <td>Keep It Cool  LUCKY3RD</td>\n",
       "      <td>Keep It Cool  LUCKY3RD</td>\n",
       "      <td>133</td>\n",
       "      <td>0</td>\n",
       "    </tr>\n",
       "    <tr>\n",
       "      <th>2</th>\n",
       "      <td>USSM12102263</td>\n",
       "      <td>US</td>\n",
       "      <td>SM1</td>\n",
       "      <td>21.0</td>\n",
       "      <td>NaN</td>\n",
       "      <td>SoundCloud</td>\n",
       "      <td>261280</td>\n",
       "      <td>LUCKY3RD</td>\n",
       "      <td>LUCKY3RD</td>\n",
       "      <td>Life Goes On  LUCKY3RD</td>\n",
       "      <td>Life Goes On  LUCKY3RD</td>\n",
       "      <td>171</td>\n",
       "      <td>0</td>\n",
       "    </tr>\n",
       "    <tr>\n",
       "      <th>3</th>\n",
       "      <td>USLD91731547</td>\n",
       "      <td>US</td>\n",
       "      <td>LD9</td>\n",
       "      <td>17.0</td>\n",
       "      <td>2/1/2021</td>\n",
       "      <td>Trebel</td>\n",
       "      <td>5</td>\n",
       "      <td>Bachata &amp; Merengue Mix</td>\n",
       "      <td>Orchard</td>\n",
       "      <td>No dudes de mi- Merengue &amp; Bachata Mix</td>\n",
       "      <td>Mega Mix 2010</td>\n",
       "      <td>1250</td>\n",
       "      <td>0</td>\n",
       "    </tr>\n",
       "    <tr>\n",
       "      <th>4</th>\n",
       "      <td>USAT22007048</td>\n",
       "      <td>US</td>\n",
       "      <td>AT2</td>\n",
       "      <td>20.0</td>\n",
       "      <td>NaN</td>\n",
       "      <td>AudioMack</td>\n",
       "      <td>62105</td>\n",
       "      <td>Foolio</td>\n",
       "      <td>NaN</td>\n",
       "      <td>WHEN I SEE YOU REMIX</td>\n",
       "      <td>#unknown#</td>\n",
       "      <td>187</td>\n",
       "      <td>0</td>\n",
       "    </tr>\n",
       "  </tbody>\n",
       "</table>\n",
       "</div>"
      ],
      "text/plain": [
       "            If  Country Code Registrant Code  Year of Reference Usage Period  \\\n",
       "0  USUG12101043           US             UG1               21.0          NaN   \n",
       "1  USRC12100543           US             RC1               21.0          NaN   \n",
       "2  USSM12102263           US             SM1               21.0          NaN   \n",
       "3  USLD91731547           US             LD9               17.0     2/1/2021   \n",
       "4  USAT22007048           US             AT2               20.0          NaN   \n",
       "\n",
       "  Streaming Platform (DSP)  Streams        Recording Artist Recording Label  \\\n",
       "0                AudioMack    10175                  Future             NaN   \n",
       "1               SoundCloud     8597                LUCKY3RD        LUCKY3RD   \n",
       "2               SoundCloud   261280                LUCKY3RD        LUCKY3RD   \n",
       "3                   Trebel        5  Bachata & Merengue Mix         Orchard   \n",
       "4                AudioMack    62105                  Foolio             NaN   \n",
       "\n",
       "                             Recording Title            Release Title  \\\n",
       "0   FUTURE FT DEJ LOAF HEY THERE PROD BY DDS                #unknown#   \n",
       "1                     Keep It Cool  LUCKY3RD   Keep It Cool  LUCKY3RD   \n",
       "2                     Life Goes On  LUCKY3RD   Life Goes On  LUCKY3RD   \n",
       "3     No dudes de mi- Merengue & Bachata Mix            Mega Mix 2010   \n",
       "4                       WHEN I SEE YOU REMIX                #unknown#   \n",
       "\n",
       "   Recording Duration (Seconds)  Songwriter's Listed (1 = \"Yes\", 0 = \"No\")  \n",
       "0                           181                                          0  \n",
       "1                           133                                          0  \n",
       "2                           171                                          0  \n",
       "3                          1250                                          0  \n",
       "4                           187                                          0  "
      ]
     },
     "execution_count": 70,
     "metadata": {},
     "output_type": "execute_result"
    }
   ],
   "source": [
    "mlc = pd.read_csv('../data/MLC_sample.csv')\n",
    "mlc.head()"
   ]
  },
  {
   "cell_type": "markdown",
   "id": "6e60cc85",
   "metadata": {},
   "source": [
    "## Rename columns"
   ]
  },
  {
   "cell_type": "code",
   "execution_count": 71,
   "id": "2c75414a",
   "metadata": {
    "scrolled": true
   },
   "outputs": [
    {
     "data": {
      "text/html": [
       "<div>\n",
       "<style scoped>\n",
       "    .dataframe tbody tr th:only-of-type {\n",
       "        vertical-align: middle;\n",
       "    }\n",
       "\n",
       "    .dataframe tbody tr th {\n",
       "        vertical-align: top;\n",
       "    }\n",
       "\n",
       "    .dataframe thead th {\n",
       "        text-align: right;\n",
       "    }\n",
       "</style>\n",
       "<table border=\"1\" class=\"dataframe\">\n",
       "  <thead>\n",
       "    <tr style=\"text-align: right;\">\n",
       "      <th></th>\n",
       "      <th>ISRC</th>\n",
       "      <th>Country_Code</th>\n",
       "      <th>Registrant_Code</th>\n",
       "      <th>Year_of_Reference</th>\n",
       "      <th>Usage_Period</th>\n",
       "      <th>DSP</th>\n",
       "      <th>Streams</th>\n",
       "      <th>Recording_Artist</th>\n",
       "      <th>Recording_Label</th>\n",
       "      <th>Recording_Title</th>\n",
       "      <th>Release_Title</th>\n",
       "      <th>Recording_Duration</th>\n",
       "      <th>Songwriters_Listed</th>\n",
       "    </tr>\n",
       "  </thead>\n",
       "  <tbody>\n",
       "    <tr>\n",
       "      <th>0</th>\n",
       "      <td>USUG12101043</td>\n",
       "      <td>US</td>\n",
       "      <td>UG1</td>\n",
       "      <td>21.0</td>\n",
       "      <td>NaN</td>\n",
       "      <td>AudioMack</td>\n",
       "      <td>10175</td>\n",
       "      <td>Future</td>\n",
       "      <td>NaN</td>\n",
       "      <td>FUTURE FT DEJ LOAF HEY THERE PROD BY DDS</td>\n",
       "      <td>#unknown#</td>\n",
       "      <td>181</td>\n",
       "      <td>0</td>\n",
       "    </tr>\n",
       "    <tr>\n",
       "      <th>1</th>\n",
       "      <td>USRC12100543</td>\n",
       "      <td>US</td>\n",
       "      <td>RC1</td>\n",
       "      <td>21.0</td>\n",
       "      <td>NaN</td>\n",
       "      <td>SoundCloud</td>\n",
       "      <td>8597</td>\n",
       "      <td>LUCKY3RD</td>\n",
       "      <td>LUCKY3RD</td>\n",
       "      <td>Keep It Cool  LUCKY3RD</td>\n",
       "      <td>Keep It Cool  LUCKY3RD</td>\n",
       "      <td>133</td>\n",
       "      <td>0</td>\n",
       "    </tr>\n",
       "    <tr>\n",
       "      <th>2</th>\n",
       "      <td>USSM12102263</td>\n",
       "      <td>US</td>\n",
       "      <td>SM1</td>\n",
       "      <td>21.0</td>\n",
       "      <td>NaN</td>\n",
       "      <td>SoundCloud</td>\n",
       "      <td>261280</td>\n",
       "      <td>LUCKY3RD</td>\n",
       "      <td>LUCKY3RD</td>\n",
       "      <td>Life Goes On  LUCKY3RD</td>\n",
       "      <td>Life Goes On  LUCKY3RD</td>\n",
       "      <td>171</td>\n",
       "      <td>0</td>\n",
       "    </tr>\n",
       "    <tr>\n",
       "      <th>3</th>\n",
       "      <td>USLD91731547</td>\n",
       "      <td>US</td>\n",
       "      <td>LD9</td>\n",
       "      <td>17.0</td>\n",
       "      <td>2/1/2021</td>\n",
       "      <td>Trebel</td>\n",
       "      <td>5</td>\n",
       "      <td>Bachata &amp; Merengue Mix</td>\n",
       "      <td>Orchard</td>\n",
       "      <td>No dudes de mi- Merengue &amp; Bachata Mix</td>\n",
       "      <td>Mega Mix 2010</td>\n",
       "      <td>1250</td>\n",
       "      <td>0</td>\n",
       "    </tr>\n",
       "    <tr>\n",
       "      <th>4</th>\n",
       "      <td>USAT22007048</td>\n",
       "      <td>US</td>\n",
       "      <td>AT2</td>\n",
       "      <td>20.0</td>\n",
       "      <td>NaN</td>\n",
       "      <td>AudioMack</td>\n",
       "      <td>62105</td>\n",
       "      <td>Foolio</td>\n",
       "      <td>NaN</td>\n",
       "      <td>WHEN I SEE YOU REMIX</td>\n",
       "      <td>#unknown#</td>\n",
       "      <td>187</td>\n",
       "      <td>0</td>\n",
       "    </tr>\n",
       "  </tbody>\n",
       "</table>\n",
       "</div>"
      ],
      "text/plain": [
       "           ISRC Country_Code Registrant_Code  Year_of_Reference Usage_Period  \\\n",
       "0  USUG12101043           US             UG1               21.0          NaN   \n",
       "1  USRC12100543           US             RC1               21.0          NaN   \n",
       "2  USSM12102263           US             SM1               21.0          NaN   \n",
       "3  USLD91731547           US             LD9               17.0     2/1/2021   \n",
       "4  USAT22007048           US             AT2               20.0          NaN   \n",
       "\n",
       "          DSP  Streams        Recording_Artist Recording_Label  \\\n",
       "0   AudioMack    10175                  Future             NaN   \n",
       "1  SoundCloud     8597                LUCKY3RD        LUCKY3RD   \n",
       "2  SoundCloud   261280                LUCKY3RD        LUCKY3RD   \n",
       "3      Trebel        5  Bachata & Merengue Mix         Orchard   \n",
       "4   AudioMack    62105                  Foolio             NaN   \n",
       "\n",
       "                             Recording_Title            Release_Title  \\\n",
       "0   FUTURE FT DEJ LOAF HEY THERE PROD BY DDS                #unknown#   \n",
       "1                     Keep It Cool  LUCKY3RD   Keep It Cool  LUCKY3RD   \n",
       "2                     Life Goes On  LUCKY3RD   Life Goes On  LUCKY3RD   \n",
       "3     No dudes de mi- Merengue & Bachata Mix            Mega Mix 2010   \n",
       "4                       WHEN I SEE YOU REMIX                #unknown#   \n",
       "\n",
       "   Recording_Duration  Songwriters_Listed  \n",
       "0                 181                   0  \n",
       "1                 133                   0  \n",
       "2                 171                   0  \n",
       "3                1250                   0  \n",
       "4                 187                   0  "
      ]
     },
     "execution_count": 71,
     "metadata": {},
     "output_type": "execute_result"
    }
   ],
   "source": [
    "mlc.columns = ['ISRC', 'Country_Code', 'Registrant_Code', 'Year_of_Reference', 'Usage_Period', 'DSP', 'Streams', 'Recording_Artist', 'Recording_Label', 'Recording_Title', 'Release_Title', 'Recording_Duration', 'Songwriters_Listed']\n",
    "mlc.head()"
   ]
  },
  {
   "cell_type": "markdown",
   "id": "fbeb178d",
   "metadata": {},
   "source": [
    "## Create column(s) for song length details"
   ]
  },
  {
   "cell_type": "code",
   "execution_count": 73,
   "id": "b483f7c7",
   "metadata": {
    "scrolled": true
   },
   "outputs": [
    {
     "data": {
      "text/html": [
       "<div>\n",
       "<style scoped>\n",
       "    .dataframe tbody tr th:only-of-type {\n",
       "        vertical-align: middle;\n",
       "    }\n",
       "\n",
       "    .dataframe tbody tr th {\n",
       "        vertical-align: top;\n",
       "    }\n",
       "\n",
       "    .dataframe thead th {\n",
       "        text-align: right;\n",
       "    }\n",
       "</style>\n",
       "<table border=\"1\" class=\"dataframe\">\n",
       "  <thead>\n",
       "    <tr style=\"text-align: right;\">\n",
       "      <th></th>\n",
       "      <th>ISRC</th>\n",
       "      <th>Country_Code</th>\n",
       "      <th>Registrant_Code</th>\n",
       "      <th>Year_of_Reference</th>\n",
       "      <th>Usage_Period</th>\n",
       "      <th>DSP</th>\n",
       "      <th>Streams</th>\n",
       "      <th>Recording_Artist</th>\n",
       "      <th>Recording_Label</th>\n",
       "      <th>Recording_Title</th>\n",
       "      <th>Release_Title</th>\n",
       "      <th>Recording_Duration</th>\n",
       "      <th>Songwriters_Listed</th>\n",
       "      <th>Song_Length</th>\n",
       "    </tr>\n",
       "  </thead>\n",
       "  <tbody>\n",
       "    <tr>\n",
       "      <th>0</th>\n",
       "      <td>USUG12101043</td>\n",
       "      <td>US</td>\n",
       "      <td>UG1</td>\n",
       "      <td>21.0</td>\n",
       "      <td>NaN</td>\n",
       "      <td>AudioMack</td>\n",
       "      <td>10175</td>\n",
       "      <td>Future</td>\n",
       "      <td>NaN</td>\n",
       "      <td>FUTURE FT DEJ LOAF HEY THERE PROD BY DDS</td>\n",
       "      <td>#unknown#</td>\n",
       "      <td>181</td>\n",
       "      <td>0</td>\n",
       "      <td>2-4 min</td>\n",
       "    </tr>\n",
       "    <tr>\n",
       "      <th>1</th>\n",
       "      <td>USRC12100543</td>\n",
       "      <td>US</td>\n",
       "      <td>RC1</td>\n",
       "      <td>21.0</td>\n",
       "      <td>NaN</td>\n",
       "      <td>SoundCloud</td>\n",
       "      <td>8597</td>\n",
       "      <td>LUCKY3RD</td>\n",
       "      <td>LUCKY3RD</td>\n",
       "      <td>Keep It Cool  LUCKY3RD</td>\n",
       "      <td>Keep It Cool  LUCKY3RD</td>\n",
       "      <td>133</td>\n",
       "      <td>0</td>\n",
       "      <td>2-4 min</td>\n",
       "    </tr>\n",
       "    <tr>\n",
       "      <th>2</th>\n",
       "      <td>USSM12102263</td>\n",
       "      <td>US</td>\n",
       "      <td>SM1</td>\n",
       "      <td>21.0</td>\n",
       "      <td>NaN</td>\n",
       "      <td>SoundCloud</td>\n",
       "      <td>261280</td>\n",
       "      <td>LUCKY3RD</td>\n",
       "      <td>LUCKY3RD</td>\n",
       "      <td>Life Goes On  LUCKY3RD</td>\n",
       "      <td>Life Goes On  LUCKY3RD</td>\n",
       "      <td>171</td>\n",
       "      <td>0</td>\n",
       "      <td>2-4 min</td>\n",
       "    </tr>\n",
       "    <tr>\n",
       "      <th>3</th>\n",
       "      <td>USLD91731547</td>\n",
       "      <td>US</td>\n",
       "      <td>LD9</td>\n",
       "      <td>17.0</td>\n",
       "      <td>2/1/2021</td>\n",
       "      <td>Trebel</td>\n",
       "      <td>5</td>\n",
       "      <td>Bachata &amp; Merengue Mix</td>\n",
       "      <td>Orchard</td>\n",
       "      <td>No dudes de mi- Merengue &amp; Bachata Mix</td>\n",
       "      <td>Mega Mix 2010</td>\n",
       "      <td>1250</td>\n",
       "      <td>0</td>\n",
       "      <td>15-60 min</td>\n",
       "    </tr>\n",
       "    <tr>\n",
       "      <th>4</th>\n",
       "      <td>USAT22007048</td>\n",
       "      <td>US</td>\n",
       "      <td>AT2</td>\n",
       "      <td>20.0</td>\n",
       "      <td>NaN</td>\n",
       "      <td>AudioMack</td>\n",
       "      <td>62105</td>\n",
       "      <td>Foolio</td>\n",
       "      <td>NaN</td>\n",
       "      <td>WHEN I SEE YOU REMIX</td>\n",
       "      <td>#unknown#</td>\n",
       "      <td>187</td>\n",
       "      <td>0</td>\n",
       "      <td>2-4 min</td>\n",
       "    </tr>\n",
       "  </tbody>\n",
       "</table>\n",
       "</div>"
      ],
      "text/plain": [
       "           ISRC Country_Code Registrant_Code  Year_of_Reference Usage_Period  \\\n",
       "0  USUG12101043           US             UG1               21.0          NaN   \n",
       "1  USRC12100543           US             RC1               21.0          NaN   \n",
       "2  USSM12102263           US             SM1               21.0          NaN   \n",
       "3  USLD91731547           US             LD9               17.0     2/1/2021   \n",
       "4  USAT22007048           US             AT2               20.0          NaN   \n",
       "\n",
       "          DSP  Streams        Recording_Artist Recording_Label  \\\n",
       "0   AudioMack    10175                  Future             NaN   \n",
       "1  SoundCloud     8597                LUCKY3RD        LUCKY3RD   \n",
       "2  SoundCloud   261280                LUCKY3RD        LUCKY3RD   \n",
       "3      Trebel        5  Bachata & Merengue Mix         Orchard   \n",
       "4   AudioMack    62105                  Foolio             NaN   \n",
       "\n",
       "                             Recording_Title            Release_Title  \\\n",
       "0   FUTURE FT DEJ LOAF HEY THERE PROD BY DDS                #unknown#   \n",
       "1                     Keep It Cool  LUCKY3RD   Keep It Cool  LUCKY3RD   \n",
       "2                     Life Goes On  LUCKY3RD   Life Goes On  LUCKY3RD   \n",
       "3     No dudes de mi- Merengue & Bachata Mix            Mega Mix 2010   \n",
       "4                       WHEN I SEE YOU REMIX                #unknown#   \n",
       "\n",
       "   Recording_Duration  Songwriters_Listed Song_Length  \n",
       "0                 181                   0     2-4 min  \n",
       "1                 133                   0     2-4 min  \n",
       "2                 171                   0     2-4 min  \n",
       "3                1250                   0   15-60 min  \n",
       "4                 187                   0     2-4 min  "
      ]
     },
     "execution_count": 73,
     "metadata": {},
     "output_type": "execute_result"
    }
   ],
   "source": [
    "def assign_length(row):\n",
    "    if row <= 120:\n",
    "        result = \"Up to 2 min\"\n",
    "    elif row <= 240:\n",
    "        result = \"2-4 min\"\n",
    "    elif row <= 420:\n",
    "        result = \"4-7 min\"\n",
    "    elif row <= 600:\n",
    "        result = \"7-10 min\"\n",
    "    elif row <= 900:\n",
    "        result = \"10-15 min\"\n",
    "    elif row <= 3600:\n",
    "        result = \"15-60 min\"\n",
    "    elif row <= 86400:\n",
    "        result = \"1-24 hours\"\n",
    "    else:\n",
    "        result = \"More than 1 day\"\n",
    "    return result\n",
    "\n",
    "mlc['Song_Length'] = mlc['Recording_Duration'].apply(assign_length)\n",
    "mlc.head()"
   ]
  },
  {
   "cell_type": "code",
   "execution_count": 74,
   "id": "864de97f",
   "metadata": {},
   "outputs": [
    {
     "data": {
      "text/html": [
       "<div>\n",
       "<style scoped>\n",
       "    .dataframe tbody tr th:only-of-type {\n",
       "        vertical-align: middle;\n",
       "    }\n",
       "\n",
       "    .dataframe tbody tr th {\n",
       "        vertical-align: top;\n",
       "    }\n",
       "\n",
       "    .dataframe thead th {\n",
       "        text-align: right;\n",
       "    }\n",
       "</style>\n",
       "<table border=\"1\" class=\"dataframe\">\n",
       "  <thead>\n",
       "    <tr style=\"text-align: right;\">\n",
       "      <th></th>\n",
       "      <th>ISRC</th>\n",
       "      <th>Country_Code</th>\n",
       "      <th>Registrant_Code</th>\n",
       "      <th>Year_of_Reference</th>\n",
       "      <th>Usage_Period</th>\n",
       "      <th>DSP</th>\n",
       "      <th>Streams</th>\n",
       "      <th>Recording_Artist</th>\n",
       "      <th>Recording_Label</th>\n",
       "      <th>Recording_Title</th>\n",
       "      <th>Release_Title</th>\n",
       "      <th>Recording_Duration</th>\n",
       "      <th>Songwriters_Listed</th>\n",
       "      <th>Song_Length</th>\n",
       "      <th>Length_Compared_to_Median</th>\n",
       "    </tr>\n",
       "  </thead>\n",
       "  <tbody>\n",
       "    <tr>\n",
       "      <th>0</th>\n",
       "      <td>USUG12101043</td>\n",
       "      <td>US</td>\n",
       "      <td>UG1</td>\n",
       "      <td>21.0</td>\n",
       "      <td>NaN</td>\n",
       "      <td>AudioMack</td>\n",
       "      <td>10175</td>\n",
       "      <td>Future</td>\n",
       "      <td>NaN</td>\n",
       "      <td>FUTURE FT DEJ LOAF HEY THERE PROD BY DDS</td>\n",
       "      <td>#unknown#</td>\n",
       "      <td>181</td>\n",
       "      <td>0</td>\n",
       "      <td>2-4 min</td>\n",
       "      <td>Lower</td>\n",
       "    </tr>\n",
       "    <tr>\n",
       "      <th>1</th>\n",
       "      <td>USRC12100543</td>\n",
       "      <td>US</td>\n",
       "      <td>RC1</td>\n",
       "      <td>21.0</td>\n",
       "      <td>NaN</td>\n",
       "      <td>SoundCloud</td>\n",
       "      <td>8597</td>\n",
       "      <td>LUCKY3RD</td>\n",
       "      <td>LUCKY3RD</td>\n",
       "      <td>Keep It Cool  LUCKY3RD</td>\n",
       "      <td>Keep It Cool  LUCKY3RD</td>\n",
       "      <td>133</td>\n",
       "      <td>0</td>\n",
       "      <td>2-4 min</td>\n",
       "      <td>Lower</td>\n",
       "    </tr>\n",
       "    <tr>\n",
       "      <th>2</th>\n",
       "      <td>USSM12102263</td>\n",
       "      <td>US</td>\n",
       "      <td>SM1</td>\n",
       "      <td>21.0</td>\n",
       "      <td>NaN</td>\n",
       "      <td>SoundCloud</td>\n",
       "      <td>261280</td>\n",
       "      <td>LUCKY3RD</td>\n",
       "      <td>LUCKY3RD</td>\n",
       "      <td>Life Goes On  LUCKY3RD</td>\n",
       "      <td>Life Goes On  LUCKY3RD</td>\n",
       "      <td>171</td>\n",
       "      <td>0</td>\n",
       "      <td>2-4 min</td>\n",
       "      <td>Lower</td>\n",
       "    </tr>\n",
       "    <tr>\n",
       "      <th>3</th>\n",
       "      <td>USLD91731547</td>\n",
       "      <td>US</td>\n",
       "      <td>LD9</td>\n",
       "      <td>17.0</td>\n",
       "      <td>2/1/2021</td>\n",
       "      <td>Trebel</td>\n",
       "      <td>5</td>\n",
       "      <td>Bachata &amp; Merengue Mix</td>\n",
       "      <td>Orchard</td>\n",
       "      <td>No dudes de mi- Merengue &amp; Bachata Mix</td>\n",
       "      <td>Mega Mix 2010</td>\n",
       "      <td>1250</td>\n",
       "      <td>0</td>\n",
       "      <td>15-60 min</td>\n",
       "      <td>Higher</td>\n",
       "    </tr>\n",
       "    <tr>\n",
       "      <th>4</th>\n",
       "      <td>USAT22007048</td>\n",
       "      <td>US</td>\n",
       "      <td>AT2</td>\n",
       "      <td>20.0</td>\n",
       "      <td>NaN</td>\n",
       "      <td>AudioMack</td>\n",
       "      <td>62105</td>\n",
       "      <td>Foolio</td>\n",
       "      <td>NaN</td>\n",
       "      <td>WHEN I SEE YOU REMIX</td>\n",
       "      <td>#unknown#</td>\n",
       "      <td>187</td>\n",
       "      <td>0</td>\n",
       "      <td>2-4 min</td>\n",
       "      <td>Lower</td>\n",
       "    </tr>\n",
       "  </tbody>\n",
       "</table>\n",
       "</div>"
      ],
      "text/plain": [
       "           ISRC Country_Code Registrant_Code  Year_of_Reference Usage_Period  \\\n",
       "0  USUG12101043           US             UG1               21.0          NaN   \n",
       "1  USRC12100543           US             RC1               21.0          NaN   \n",
       "2  USSM12102263           US             SM1               21.0          NaN   \n",
       "3  USLD91731547           US             LD9               17.0     2/1/2021   \n",
       "4  USAT22007048           US             AT2               20.0          NaN   \n",
       "\n",
       "          DSP  Streams        Recording_Artist Recording_Label  \\\n",
       "0   AudioMack    10175                  Future             NaN   \n",
       "1  SoundCloud     8597                LUCKY3RD        LUCKY3RD   \n",
       "2  SoundCloud   261280                LUCKY3RD        LUCKY3RD   \n",
       "3      Trebel        5  Bachata & Merengue Mix         Orchard   \n",
       "4   AudioMack    62105                  Foolio             NaN   \n",
       "\n",
       "                             Recording_Title            Release_Title  \\\n",
       "0   FUTURE FT DEJ LOAF HEY THERE PROD BY DDS                #unknown#   \n",
       "1                     Keep It Cool  LUCKY3RD   Keep It Cool  LUCKY3RD   \n",
       "2                     Life Goes On  LUCKY3RD   Life Goes On  LUCKY3RD   \n",
       "3     No dudes de mi- Merengue & Bachata Mix            Mega Mix 2010   \n",
       "4                       WHEN I SEE YOU REMIX                #unknown#   \n",
       "\n",
       "   Recording_Duration  Songwriters_Listed Song_Length  \\\n",
       "0                 181                   0     2-4 min   \n",
       "1                 133                   0     2-4 min   \n",
       "2                 171                   0     2-4 min   \n",
       "3                1250                   0   15-60 min   \n",
       "4                 187                   0     2-4 min   \n",
       "\n",
       "  Length_Compared_to_Median  \n",
       "0                     Lower  \n",
       "1                     Lower  \n",
       "2                     Lower  \n",
       "3                    Higher  \n",
       "4                     Lower  "
      ]
     },
     "execution_count": 74,
     "metadata": {},
     "output_type": "execute_result"
    }
   ],
   "source": [
    "def compared_to_median(row):\n",
    "    if row < 190:\n",
    "        result = \"Lower\"\n",
    "    elif row == 190:\n",
    "        result = \"Median\"\n",
    "    else:\n",
    "        result = \"Higher\"\n",
    "    return result\n",
    "mlc['Length_Compared_to_Median'] = mlc['Recording_Duration'].apply(compared_to_median)\n",
    "mlc.head()"
   ]
  },
  {
   "cell_type": "markdown",
   "id": "8660f89f",
   "metadata": {},
   "source": [
    "## Check for null values in each column"
   ]
  },
  {
   "cell_type": "code",
   "execution_count": 75,
   "id": "0b2850c4",
   "metadata": {},
   "outputs": [
    {
     "data": {
      "text/plain": [
       "ISRC                         1760\n",
       "Country_Code                 1697\n",
       "Registrant_Code              1697\n",
       "Year_of_Reference            1761\n",
       "Usage_Period                 8102\n",
       "DSP                          3999\n",
       "Streams                         0\n",
       "Recording_Artist                0\n",
       "Recording_Label              1008\n",
       "Recording_Title                 0\n",
       "Release_Title                  69\n",
       "Recording_Duration              0\n",
       "Songwriters_Listed              0\n",
       "Song_Length                     0\n",
       "Length_Compared_to_Median       0\n",
       "dtype: int64"
      ]
     },
     "execution_count": 75,
     "metadata": {},
     "output_type": "execute_result"
    }
   ],
   "source": [
    "mlc.isnull().sum()"
   ]
  },
  {
   "cell_type": "markdown",
   "id": "48f2ac51",
   "metadata": {},
   "source": [
    "## Check data type in each column"
   ]
  },
  {
   "cell_type": "code",
   "execution_count": 76,
   "id": "3d57a195",
   "metadata": {},
   "outputs": [
    {
     "name": "stdout",
     "output_type": "stream",
     "text": [
      "<class 'pandas.core.frame.DataFrame'>\n",
      "RangeIndex: 100000 entries, 0 to 99999\n",
      "Data columns (total 15 columns):\n",
      " #   Column                     Non-Null Count   Dtype  \n",
      "---  ------                     --------------   -----  \n",
      " 0   ISRC                       98240 non-null   object \n",
      " 1   Country_Code               98303 non-null   object \n",
      " 2   Registrant_Code            98303 non-null   object \n",
      " 3   Year_of_Reference          98239 non-null   float64\n",
      " 4   Usage_Period               91898 non-null   object \n",
      " 5   DSP                        96001 non-null   object \n",
      " 6   Streams                    100000 non-null  int64  \n",
      " 7   Recording_Artist           100000 non-null  object \n",
      " 8   Recording_Label            98992 non-null   object \n",
      " 9   Recording_Title            100000 non-null  object \n",
      " 10  Release_Title              99931 non-null   object \n",
      " 11  Recording_Duration         100000 non-null  int64  \n",
      " 12  Songwriters_Listed         100000 non-null  int64  \n",
      " 13  Song_Length                100000 non-null  object \n",
      " 14  Length_Compared_to_Median  100000 non-null  object \n",
      "dtypes: float64(1), int64(3), object(11)\n",
      "memory usage: 11.4+ MB\n"
     ]
    }
   ],
   "source": [
    "mlc.info()"
   ]
  },
  {
   "cell_type": "markdown",
   "id": "45d4a646",
   "metadata": {},
   "source": [
    "## Count of DSPs"
   ]
  },
  {
   "cell_type": "code",
   "execution_count": 77,
   "id": "2eff130e",
   "metadata": {},
   "outputs": [
    {
     "data": {
      "text/plain": [
       "Spotify               32268\n",
       "Apple                 22200\n",
       "Amazon                14438\n",
       "Pandora               13777\n",
       "Tidal                  3521\n",
       "YouTube                2752\n",
       "SoundCloud             2122\n",
       "GTL                    1090\n",
       "Melodyv                 829\n",
       "Trebel                  817\n",
       "iHeart Radio            707\n",
       "AudioMack               550\n",
       "NugsNet                 316\n",
       "LiveXLive               200\n",
       "Qoboz                   104\n",
       "Midwest Tape            102\n",
       "Deezer                   51\n",
       "Anghami                  46\n",
       "Sonos                    23\n",
       "Recisio                  22\n",
       "Smithsonian              21\n",
       "Ultimate Guitar          19\n",
       "PowerMusic                8\n",
       "Wolfgangs                 4\n",
       "Fan Label                 4\n",
       "MixCloud                  4\n",
       "Pacemaker                 3\n",
       "Classical Archives        2\n",
       "MonkingMe                 1\n",
       "Name: DSP, dtype: int64"
      ]
     },
     "execution_count": 77,
     "metadata": {},
     "output_type": "execute_result"
    }
   ],
   "source": [
    "mlc['DSP'].value_counts()"
   ]
  },
  {
   "cell_type": "code",
   "execution_count": 78,
   "id": "8215fdb9",
   "metadata": {
    "scrolled": true
   },
   "outputs": [
    {
     "name": "stdout",
     "output_type": "stream",
     "text": [
      "['AudioMack' 'SoundCloud' 'Trebel' 'Spotify' 'Apple' 'Amazon' 'Pandora'\n",
      " 'YouTube' nan 'Tidal' 'iHeart Radio' 'Melodyv' 'Deezer' 'GTL' 'LiveXLive'\n",
      " 'NugsNet' 'Midwest Tape' 'Ultimate Guitar' 'Qoboz' 'Anghami' 'Pacemaker'\n",
      " 'PowerMusic' 'Wolfgangs' 'Recisio' 'Sonos' 'Smithsonian' 'Fan Label'\n",
      " 'MixCloud' 'MonkingMe' 'Classical Archives']\n"
     ]
    }
   ],
   "source": [
    "DSP_list = mlc['DSP'].unique()\n",
    "print(DSP_list)"
   ]
  },
  {
   "cell_type": "markdown",
   "id": "e890a8aa",
   "metadata": {},
   "source": [
    "def main():\n",
    "\n",
    "for x in DSP_list (or mlc['DSP'])?"
   ]
  },
  {
   "cell_type": "markdown",
   "id": "6bb53754",
   "metadata": {},
   "source": [
    "Need to either reset the index on the df OR use orginal df based on the DSP column and then run a unique to avoid repeats. That will create the list that can then be used for the for loop."
   ]
  },
  {
   "cell_type": "markdown",
   "id": "1c6fe96a",
   "metadata": {},
   "source": [
    "There are 29 DSPs with at least one stream attributed, but there are 3999 entries in the dataset that have a null value for DSP."
   ]
  },
  {
   "cell_type": "markdown",
   "id": "9c68d38d",
   "metadata": {},
   "source": [
    "## DSP DataFrames for further analysis"
   ]
  },
  {
   "cell_type": "code",
   "execution_count": 79,
   "id": "efc29854",
   "metadata": {
    "scrolled": true
   },
   "outputs": [
    {
     "data": {
      "text/plain": [
       "ISRC                         0\n",
       "Country_Code                 0\n",
       "Registrant_Code              0\n",
       "Year_of_Reference            0\n",
       "Usage_Period                 0\n",
       "DSP                          0\n",
       "Streams                      0\n",
       "Recording_Artist             0\n",
       "Recording_Label              5\n",
       "Recording_Title              0\n",
       "Release_Title                0\n",
       "Recording_Duration           0\n",
       "Songwriters_Listed           0\n",
       "Song_Length                  0\n",
       "Length_Compared_to_Median    0\n",
       "dtype: int64"
      ]
     },
     "execution_count": 79,
     "metadata": {},
     "output_type": "execute_result"
    }
   ],
   "source": [
    "deezer = mlc.loc[mlc['DSP'] == 'Deezer']\n",
    "deezer.isnull().sum()"
   ]
  },
  {
   "cell_type": "code",
   "execution_count": 80,
   "id": "2e73db94",
   "metadata": {
    "scrolled": true
   },
   "outputs": [
    {
     "data": {
      "text/plain": [
       "ISRC                         0\n",
       "Country_Code                 0\n",
       "Registrant_Code              0\n",
       "Year_of_Reference            0\n",
       "Usage_Period                 0\n",
       "DSP                          0\n",
       "Streams                      0\n",
       "Recording_Artist             0\n",
       "Recording_Label              3\n",
       "Recording_Title              0\n",
       "Release_Title                0\n",
       "Recording_Duration           0\n",
       "Songwriters_Listed           0\n",
       "Song_Length                  0\n",
       "Length_Compared_to_Median    0\n",
       "dtype: int64"
      ]
     },
     "execution_count": 80,
     "metadata": {},
     "output_type": "execute_result"
    }
   ],
   "source": [
    "anghami = mlc.loc[mlc['DSP'] == 'Anghami']\n",
    "anghami.isnull().sum()"
   ]
  },
  {
   "cell_type": "code",
   "execution_count": 81,
   "id": "6388765b",
   "metadata": {},
   "outputs": [
    {
     "data": {
      "text/plain": [
       "ISRC                         0\n",
       "Country_Code                 0\n",
       "Registrant_Code              0\n",
       "Year_of_Reference            0\n",
       "Usage_Period                 0\n",
       "DSP                          0\n",
       "Streams                      0\n",
       "Recording_Artist             0\n",
       "Recording_Label              0\n",
       "Recording_Title              0\n",
       "Release_Title                0\n",
       "Recording_Duration           0\n",
       "Songwriters_Listed           0\n",
       "Song_Length                  0\n",
       "Length_Compared_to_Median    0\n",
       "dtype: int64"
      ]
     },
     "execution_count": 81,
     "metadata": {},
     "output_type": "execute_result"
    }
   ],
   "source": [
    "sonos = mlc.loc[mlc['DSP'] == 'Sonos']\n",
    "sonos.isnull().sum()"
   ]
  },
  {
   "cell_type": "code",
   "execution_count": 82,
   "id": "391c7e6f",
   "metadata": {},
   "outputs": [
    {
     "data": {
      "text/plain": [
       "ISRC                          0\n",
       "Country_Code                  0\n",
       "Registrant_Code               0\n",
       "Year_of_Reference             0\n",
       "Usage_Period                  0\n",
       "DSP                           0\n",
       "Streams                       0\n",
       "Recording_Artist              0\n",
       "Recording_Label              22\n",
       "Recording_Title               0\n",
       "Release_Title                 0\n",
       "Recording_Duration            0\n",
       "Songwriters_Listed            0\n",
       "Song_Length                   0\n",
       "Length_Compared_to_Median     0\n",
       "dtype: int64"
      ]
     },
     "execution_count": 82,
     "metadata": {},
     "output_type": "execute_result"
    }
   ],
   "source": [
    "recisio = mlc.loc[mlc['DSP'] == 'Recisio']\n",
    "recisio.isnull().sum()"
   ]
  },
  {
   "cell_type": "code",
   "execution_count": 83,
   "id": "166d8098",
   "metadata": {},
   "outputs": [
    {
     "data": {
      "text/plain": [
       "ISRC                         1\n",
       "Country_Code                 1\n",
       "Registrant_Code              1\n",
       "Year_of_Reference            1\n",
       "Usage_Period                 0\n",
       "DSP                          0\n",
       "Streams                      0\n",
       "Recording_Artist             0\n",
       "Recording_Label              0\n",
       "Recording_Title              0\n",
       "Release_Title                0\n",
       "Recording_Duration           0\n",
       "Songwriters_Listed           0\n",
       "Song_Length                  0\n",
       "Length_Compared_to_Median    0\n",
       "dtype: int64"
      ]
     },
     "execution_count": 83,
     "metadata": {},
     "output_type": "execute_result"
    }
   ],
   "source": [
    "smithsonian = mlc.loc[mlc['DSP'] == 'Smithsonian']\n",
    "smithsonian.isnull().sum()"
   ]
  },
  {
   "cell_type": "code",
   "execution_count": 84,
   "id": "c48ee7f0",
   "metadata": {},
   "outputs": [
    {
     "data": {
      "text/plain": [
       "ISRC                          0\n",
       "Country_Code                  0\n",
       "Registrant_Code               0\n",
       "Year_of_Reference             0\n",
       "Usage_Period                  0\n",
       "DSP                           0\n",
       "Streams                       0\n",
       "Recording_Artist              0\n",
       "Recording_Label              19\n",
       "Recording_Title               0\n",
       "Release_Title                19\n",
       "Recording_Duration            0\n",
       "Songwriters_Listed            0\n",
       "Song_Length                   0\n",
       "Length_Compared_to_Median     0\n",
       "dtype: int64"
      ]
     },
     "execution_count": 84,
     "metadata": {},
     "output_type": "execute_result"
    }
   ],
   "source": [
    "ultimate_guitar = mlc.loc[mlc['DSP'] == 'Ultimate Guitar']\n",
    "ultimate_guitar.isnull().sum()"
   ]
  },
  {
   "cell_type": "code",
   "execution_count": 85,
   "id": "c0e67fe8",
   "metadata": {},
   "outputs": [
    {
     "data": {
      "text/plain": [
       "ISRC                         0\n",
       "Country_Code                 0\n",
       "Registrant_Code              0\n",
       "Year_of_Reference            0\n",
       "Usage_Period                 0\n",
       "DSP                          0\n",
       "Streams                      0\n",
       "Recording_Artist             0\n",
       "Recording_Label              8\n",
       "Recording_Title              0\n",
       "Release_Title                0\n",
       "Recording_Duration           0\n",
       "Songwriters_Listed           0\n",
       "Song_Length                  0\n",
       "Length_Compared_to_Median    0\n",
       "dtype: int64"
      ]
     },
     "execution_count": 85,
     "metadata": {},
     "output_type": "execute_result"
    }
   ],
   "source": [
    "powermusic = mlc.loc[mlc['DSP'] == 'PowerMusic']\n",
    "powermusic.isnull().sum()"
   ]
  },
  {
   "cell_type": "code",
   "execution_count": 86,
   "id": "00d41334",
   "metadata": {},
   "outputs": [
    {
     "data": {
      "text/plain": [
       "ISRC                         0\n",
       "Country_Code                 0\n",
       "Registrant_Code              0\n",
       "Year_of_Reference            0\n",
       "Usage_Period                 0\n",
       "DSP                          0\n",
       "Streams                      0\n",
       "Recording_Artist             0\n",
       "Recording_Label              4\n",
       "Recording_Title              0\n",
       "Release_Title                4\n",
       "Recording_Duration           0\n",
       "Songwriters_Listed           0\n",
       "Song_Length                  0\n",
       "Length_Compared_to_Median    0\n",
       "dtype: int64"
      ]
     },
     "execution_count": 86,
     "metadata": {},
     "output_type": "execute_result"
    }
   ],
   "source": [
    "wolfgangs = mlc.loc[mlc['DSP'] == 'Wolfgangs']\n",
    "wolfgangs.isnull().sum()"
   ]
  },
  {
   "cell_type": "code",
   "execution_count": 87,
   "id": "7e34de73",
   "metadata": {},
   "outputs": [
    {
     "data": {
      "text/plain": [
       "ISRC                         0\n",
       "Country_Code                 0\n",
       "Registrant_Code              0\n",
       "Year_of_Reference            0\n",
       "Usage_Period                 0\n",
       "DSP                          0\n",
       "Streams                      0\n",
       "Recording_Artist             0\n",
       "Recording_Label              0\n",
       "Recording_Title              0\n",
       "Release_Title                0\n",
       "Recording_Duration           0\n",
       "Songwriters_Listed           0\n",
       "Song_Length                  0\n",
       "Length_Compared_to_Median    0\n",
       "dtype: int64"
      ]
     },
     "execution_count": 87,
     "metadata": {},
     "output_type": "execute_result"
    }
   ],
   "source": [
    "fan_label = mlc.loc[mlc['DSP'] == 'Fan Label']\n",
    "fan_label.isnull().sum()"
   ]
  },
  {
   "cell_type": "code",
   "execution_count": 88,
   "id": "a31dc7a1",
   "metadata": {},
   "outputs": [
    {
     "data": {
      "text/plain": [
       "ISRC                         0\n",
       "Country_Code                 0\n",
       "Registrant_Code              0\n",
       "Year_of_Reference            0\n",
       "Usage_Period                 0\n",
       "DSP                          0\n",
       "Streams                      0\n",
       "Recording_Artist             0\n",
       "Recording_Label              4\n",
       "Recording_Title              0\n",
       "Release_Title                0\n",
       "Recording_Duration           0\n",
       "Songwriters_Listed           0\n",
       "Song_Length                  0\n",
       "Length_Compared_to_Median    0\n",
       "dtype: int64"
      ]
     },
     "execution_count": 88,
     "metadata": {},
     "output_type": "execute_result"
    }
   ],
   "source": [
    "mixcloud = mlc.loc[mlc['DSP'] == 'MixCloud']\n",
    "mixcloud.isnull().sum()"
   ]
  },
  {
   "cell_type": "code",
   "execution_count": 89,
   "id": "7cccf9fc",
   "metadata": {},
   "outputs": [
    {
     "data": {
      "text/plain": [
       "ISRC                         0\n",
       "Country_Code                 0\n",
       "Registrant_Code              0\n",
       "Year_of_Reference            0\n",
       "Usage_Period                 0\n",
       "DSP                          0\n",
       "Streams                      0\n",
       "Recording_Artist             0\n",
       "Recording_Label              0\n",
       "Recording_Title              0\n",
       "Release_Title                0\n",
       "Recording_Duration           0\n",
       "Songwriters_Listed           0\n",
       "Song_Length                  0\n",
       "Length_Compared_to_Median    0\n",
       "dtype: int64"
      ]
     },
     "execution_count": 89,
     "metadata": {},
     "output_type": "execute_result"
    }
   ],
   "source": [
    "pacemaker = mlc.loc[mlc['DSP'] == 'Pacemaker']\n",
    "pacemaker.isnull().sum()"
   ]
  },
  {
   "cell_type": "code",
   "execution_count": 90,
   "id": "9d448811",
   "metadata": {},
   "outputs": [
    {
     "data": {
      "text/plain": [
       "ISRC                         0\n",
       "Country_Code                 0\n",
       "Registrant_Code              0\n",
       "Year_of_Reference            0\n",
       "Usage_Period                 0\n",
       "DSP                          0\n",
       "Streams                      0\n",
       "Recording_Artist             0\n",
       "Recording_Label              0\n",
       "Recording_Title              0\n",
       "Release_Title                0\n",
       "Recording_Duration           0\n",
       "Songwriters_Listed           0\n",
       "Song_Length                  0\n",
       "Length_Compared_to_Median    0\n",
       "dtype: int64"
      ]
     },
     "execution_count": 90,
     "metadata": {},
     "output_type": "execute_result"
    }
   ],
   "source": [
    "classical_archives = mlc.loc[mlc['DSP'] == 'Classical Archives']\n",
    "classical_archives.isnull().sum()"
   ]
  },
  {
   "cell_type": "code",
   "execution_count": 91,
   "id": "e68ef60e",
   "metadata": {},
   "outputs": [
    {
     "data": {
      "text/plain": [
       "ISRC                         0\n",
       "Country_Code                 0\n",
       "Registrant_Code              0\n",
       "Year_of_Reference            0\n",
       "Usage_Period                 0\n",
       "DSP                          0\n",
       "Streams                      0\n",
       "Recording_Artist             0\n",
       "Recording_Label              1\n",
       "Recording_Title              0\n",
       "Release_Title                0\n",
       "Recording_Duration           0\n",
       "Songwriters_Listed           0\n",
       "Song_Length                  0\n",
       "Length_Compared_to_Median    0\n",
       "dtype: int64"
      ]
     },
     "execution_count": 91,
     "metadata": {},
     "output_type": "execute_result"
    }
   ],
   "source": [
    "monkingme = mlc.loc[mlc['DSP'] =='MonkingMe']\n",
    "monkingme.isnull().sum()"
   ]
  },
  {
   "cell_type": "code",
   "execution_count": 92,
   "id": "0a9c5082",
   "metadata": {
    "scrolled": false
   },
   "outputs": [
    {
     "data": {
      "text/plain": [
       "ISRC                           58\n",
       "Country_Code                   54\n",
       "Registrant_Code                54\n",
       "Year_of_Reference              58\n",
       "Usage_Period                 3999\n",
       "DSP                          3999\n",
       "Streams                         0\n",
       "Recording_Artist                0\n",
       "Recording_Label                47\n",
       "Recording_Title                 0\n",
       "Release_Title                  35\n",
       "Recording_Duration              0\n",
       "Songwriters_Listed              0\n",
       "Song_Length                     0\n",
       "Length_Compared_to_Median       0\n",
       "dtype: int64"
      ]
     },
     "execution_count": 92,
     "metadata": {},
     "output_type": "execute_result"
    }
   ],
   "source": [
    "unknownDSP = mlc.loc[mlc['DSP'].isna()]\n",
    "unknownDSP.isnull().sum()"
   ]
  },
  {
   "cell_type": "code",
   "execution_count": 93,
   "id": "24b4a21b",
   "metadata": {},
   "outputs": [
    {
     "data": {
      "text/plain": [
       "ISRC                         571\n",
       "Country_Code                 554\n",
       "Registrant_Code              554\n",
       "Year_of_Reference            571\n",
       "Usage_Period                   0\n",
       "DSP                            0\n",
       "Streams                        0\n",
       "Recording_Artist               0\n",
       "Recording_Label               11\n",
       "Recording_Title                0\n",
       "Release_Title                  1\n",
       "Recording_Duration             0\n",
       "Songwriters_Listed             0\n",
       "Song_Length                    0\n",
       "Length_Compared_to_Median      0\n",
       "dtype: int64"
      ]
     },
     "execution_count": 93,
     "metadata": {},
     "output_type": "execute_result"
    }
   ],
   "source": [
    "spotify = mlc.loc[mlc['DSP'] == 'Spotify']\n",
    "spotify.isnull().sum()"
   ]
  },
  {
   "cell_type": "code",
   "execution_count": 94,
   "id": "49d9c9bf",
   "metadata": {
    "scrolled": true
   },
   "outputs": [
    {
     "data": {
      "text/plain": [
       "ISRC                          380\n",
       "Country_Code                  363\n",
       "Registrant_Code               363\n",
       "Year_of_Reference             380\n",
       "Usage_Period                 1441\n",
       "DSP                             0\n",
       "Streams                         0\n",
       "Recording_Artist                0\n",
       "Recording_Label                 8\n",
       "Recording_Title                 0\n",
       "Release_Title                   7\n",
       "Recording_Duration              0\n",
       "Songwriters_Listed              0\n",
       "Song_Length                     0\n",
       "Length_Compared_to_Median       0\n",
       "dtype: int64"
      ]
     },
     "execution_count": 94,
     "metadata": {},
     "output_type": "execute_result"
    }
   ],
   "source": [
    "apple = mlc.loc[mlc['DSP'] == 'Apple']\n",
    "apple.isnull().sum()"
   ]
  },
  {
   "cell_type": "code",
   "execution_count": 168,
   "id": "bae181f7",
   "metadata": {},
   "outputs": [
    {
     "data": {
      "text/plain": [
       "ISRC                         265\n",
       "Country_Code                 255\n",
       "Registrant_Code              255\n",
       "Year_of_Reference            265\n",
       "Usage_Period                   0\n",
       "DSP                            0\n",
       "Streams                        0\n",
       "Recording_Artist               0\n",
       "Recording_Label                0\n",
       "Recording_Title                0\n",
       "Release_Title                  0\n",
       "Recording_Duration             0\n",
       "Songwriters_Listed             0\n",
       "Song_Length                    0\n",
       "Length_Compared_to_Median      0\n",
       "dtype: int64"
      ]
     },
     "execution_count": 168,
     "metadata": {},
     "output_type": "execute_result"
    }
   ],
   "source": [
    "amazon = mlc.loc[mlc['DSP'] == 'Amazon']\n",
    "amazon.isnull().sum()"
   ]
  },
  {
   "cell_type": "code",
   "execution_count": 95,
   "id": "eaadc39a",
   "metadata": {
    "scrolled": true
   },
   "outputs": [
    {
     "data": {
      "text/plain": [
       "ISRC                         237\n",
       "Country_Code                 230\n",
       "Registrant_Code              230\n",
       "Year_of_Reference            238\n",
       "Usage_Period                   0\n",
       "DSP                            0\n",
       "Streams                        0\n",
       "Recording_Artist               0\n",
       "Recording_Label               27\n",
       "Recording_Title                0\n",
       "Release_Title                  3\n",
       "Recording_Duration             0\n",
       "Songwriters_Listed             0\n",
       "Song_Length                    0\n",
       "Length_Compared_to_Median      0\n",
       "dtype: int64"
      ]
     },
     "execution_count": 95,
     "metadata": {},
     "output_type": "execute_result"
    }
   ],
   "source": [
    "pandora = mlc.loc[mlc['DSP'] == 'Pandora']\n",
    "pandora.isnull().sum()"
   ]
  },
  {
   "cell_type": "code",
   "execution_count": 96,
   "id": "546aefdd",
   "metadata": {
    "scrolled": true
   },
   "outputs": [
    {
     "data": {
      "text/plain": [
       "ISRC                          53\n",
       "Country_Code                  52\n",
       "Registrant_Code               52\n",
       "Year_of_Reference             53\n",
       "Usage_Period                 868\n",
       "DSP                            0\n",
       "Streams                        0\n",
       "Recording_Artist               0\n",
       "Recording_Label                0\n",
       "Recording_Title                0\n",
       "Release_Title                  0\n",
       "Recording_Duration             0\n",
       "Songwriters_Listed             0\n",
       "Song_Length                    0\n",
       "Length_Compared_to_Median      0\n",
       "dtype: int64"
      ]
     },
     "execution_count": 96,
     "metadata": {},
     "output_type": "execute_result"
    }
   ],
   "source": [
    "tidal = mlc.loc[mlc['DSP'] == 'Tidal']\n",
    "tidal.isnull().sum()"
   ]
  },
  {
   "cell_type": "code",
   "execution_count": 97,
   "id": "e6879874",
   "metadata": {},
   "outputs": [
    {
     "data": {
      "text/plain": [
       "ISRC                          56\n",
       "Country_Code                  54\n",
       "Registrant_Code               54\n",
       "Year_of_Reference             56\n",
       "Usage_Period                 958\n",
       "DSP                            0\n",
       "Streams                        0\n",
       "Recording_Artist               0\n",
       "Recording_Label              233\n",
       "Recording_Title                0\n",
       "Release_Title                  0\n",
       "Recording_Duration             0\n",
       "Songwriters_Listed             0\n",
       "Song_Length                    0\n",
       "Length_Compared_to_Median      0\n",
       "dtype: int64"
      ]
     },
     "execution_count": 97,
     "metadata": {},
     "output_type": "execute_result"
    }
   ],
   "source": [
    "youtube = mlc.loc[mlc['DSP'] == 'YouTube']\n",
    "youtube.isnull().sum()"
   ]
  },
  {
   "cell_type": "code",
   "execution_count": 98,
   "id": "2b101210",
   "metadata": {},
   "outputs": [
    {
     "data": {
      "text/plain": [
       "ISRC                          36\n",
       "Country_Code                  36\n",
       "Registrant_Code               36\n",
       "Year_of_Reference             36\n",
       "Usage_Period                 494\n",
       "DSP                            0\n",
       "Streams                        0\n",
       "Recording_Artist               0\n",
       "Recording_Label                0\n",
       "Recording_Title                0\n",
       "Release_Title                  0\n",
       "Recording_Duration             0\n",
       "Songwriters_Listed             0\n",
       "Song_Length                    0\n",
       "Length_Compared_to_Median      0\n",
       "dtype: int64"
      ]
     },
     "execution_count": 98,
     "metadata": {},
     "output_type": "execute_result"
    }
   ],
   "source": [
    "soundcloud = mlc.loc[mlc['DSP'] == 'SoundCloud']\n",
    "soundcloud.isnull().sum()"
   ]
  },
  {
   "cell_type": "code",
   "execution_count": 99,
   "id": "194675ce",
   "metadata": {},
   "outputs": [
    {
     "data": {
      "text/plain": [
       "ISRC                         26\n",
       "Country_Code                 24\n",
       "Registrant_Code              24\n",
       "Year_of_Reference            26\n",
       "Usage_Period                  0\n",
       "DSP                           0\n",
       "Streams                       0\n",
       "Recording_Artist              0\n",
       "Recording_Label               0\n",
       "Recording_Title               0\n",
       "Release_Title                 0\n",
       "Recording_Duration            0\n",
       "Songwriters_Listed            0\n",
       "Song_Length                   0\n",
       "Length_Compared_to_Median     0\n",
       "dtype: int64"
      ]
     },
     "execution_count": 99,
     "metadata": {},
     "output_type": "execute_result"
    }
   ],
   "source": [
    "gtl = mlc.loc[mlc['DSP'] == 'GTL']\n",
    "gtl.isnull().sum()"
   ]
  },
  {
   "cell_type": "code",
   "execution_count": 100,
   "id": "4e49300d",
   "metadata": {
    "scrolled": true
   },
   "outputs": [
    {
     "data": {
      "text/plain": [
       "ISRC                         15\n",
       "Country_Code                 15\n",
       "Registrant_Code              15\n",
       "Year_of_Reference            15\n",
       "Usage_Period                  0\n",
       "DSP                           0\n",
       "Streams                       0\n",
       "Recording_Artist              0\n",
       "Recording_Label               0\n",
       "Recording_Title               0\n",
       "Release_Title                 0\n",
       "Recording_Duration            0\n",
       "Songwriters_Listed            0\n",
       "Song_Length                   0\n",
       "Length_Compared_to_Median     0\n",
       "dtype: int64"
      ]
     },
     "execution_count": 100,
     "metadata": {},
     "output_type": "execute_result"
    }
   ],
   "source": [
    "melodyv = mlc.loc[mlc['DSP'] == 'Melodyv']\n",
    "melodyv.isnull().sum()"
   ]
  },
  {
   "cell_type": "code",
   "execution_count": 101,
   "id": "b7c8534e",
   "metadata": {
    "scrolled": true
   },
   "outputs": [
    {
     "data": {
      "text/plain": [
       "ISRC                         19\n",
       "Country_Code                 18\n",
       "Registrant_Code              18\n",
       "Year_of_Reference            19\n",
       "Usage_Period                  0\n",
       "DSP                           0\n",
       "Streams                       0\n",
       "Recording_Artist              0\n",
       "Recording_Label               0\n",
       "Recording_Title               0\n",
       "Release_Title                 0\n",
       "Recording_Duration            0\n",
       "Songwriters_Listed            0\n",
       "Song_Length                   0\n",
       "Length_Compared_to_Median     0\n",
       "dtype: int64"
      ]
     },
     "execution_count": 101,
     "metadata": {},
     "output_type": "execute_result"
    }
   ],
   "source": [
    "trebel = mlc.loc[mlc['DSP'] == 'Trebel']\n",
    "trebel.isnull().sum()"
   ]
  },
  {
   "cell_type": "code",
   "execution_count": 102,
   "id": "e68d2e06",
   "metadata": {},
   "outputs": [
    {
     "data": {
      "text/plain": [
       "ISRC                         16\n",
       "Country_Code                 16\n",
       "Registrant_Code              16\n",
       "Year_of_Reference            16\n",
       "Usage_Period                 38\n",
       "DSP                           0\n",
       "Streams                       0\n",
       "Recording_Artist              0\n",
       "Recording_Label               0\n",
       "Recording_Title               0\n",
       "Release_Title                 0\n",
       "Recording_Duration            0\n",
       "Songwriters_Listed            0\n",
       "Song_Length                   0\n",
       "Length_Compared_to_Median     0\n",
       "dtype: int64"
      ]
     },
     "execution_count": 102,
     "metadata": {},
     "output_type": "execute_result"
    }
   ],
   "source": [
    "iheartradio = mlc.loc[mlc['DSP'] == 'iHeart Radio']\n",
    "iheartradio.isnull().sum()"
   ]
  },
  {
   "cell_type": "code",
   "execution_count": 103,
   "id": "7902c760",
   "metadata": {},
   "outputs": [
    {
     "data": {
      "text/plain": [
       "ISRC                          16\n",
       "Country_Code                  15\n",
       "Registrant_Code               15\n",
       "Year_of_Reference             16\n",
       "Usage_Period                 287\n",
       "DSP                            0\n",
       "Streams                        0\n",
       "Recording_Artist               0\n",
       "Recording_Label              550\n",
       "Recording_Title                0\n",
       "Release_Title                  0\n",
       "Recording_Duration             0\n",
       "Songwriters_Listed             0\n",
       "Song_Length                    0\n",
       "Length_Compared_to_Median      0\n",
       "dtype: int64"
      ]
     },
     "execution_count": 103,
     "metadata": {},
     "output_type": "execute_result"
    }
   ],
   "source": [
    "audiomack = mlc.loc[mlc['DSP'] == 'AudioMack']\n",
    "audiomack.isnull().sum()"
   ]
  },
  {
   "cell_type": "code",
   "execution_count": 104,
   "id": "940e7619",
   "metadata": {
    "scrolled": true
   },
   "outputs": [
    {
     "data": {
      "text/plain": [
       "ISRC                         4\n",
       "Country_Code                 3\n",
       "Registrant_Code              3\n",
       "Year_of_Reference            4\n",
       "Usage_Period                 0\n",
       "DSP                          0\n",
       "Streams                      0\n",
       "Recording_Artist             0\n",
       "Recording_Label              0\n",
       "Recording_Title              0\n",
       "Release_Title                0\n",
       "Recording_Duration           0\n",
       "Songwriters_Listed           0\n",
       "Song_Length                  0\n",
       "Length_Compared_to_Median    0\n",
       "dtype: int64"
      ]
     },
     "execution_count": 104,
     "metadata": {},
     "output_type": "execute_result"
    }
   ],
   "source": [
    "nugsnet = mlc.loc[mlc['DSP'] == 'NugsNet']\n",
    "nugsnet.isnull().sum()"
   ]
  },
  {
   "cell_type": "code",
   "execution_count": 105,
   "id": "4a8ca0e2",
   "metadata": {
    "scrolled": true
   },
   "outputs": [
    {
     "data": {
      "text/plain": [
       "ISRC                          4\n",
       "Country_Code                  4\n",
       "Registrant_Code               4\n",
       "Year_of_Reference             4\n",
       "Usage_Period                 11\n",
       "DSP                           0\n",
       "Streams                       0\n",
       "Recording_Artist              0\n",
       "Recording_Label              24\n",
       "Recording_Title               0\n",
       "Release_Title                 0\n",
       "Recording_Duration            0\n",
       "Songwriters_Listed            0\n",
       "Song_Length                   0\n",
       "Length_Compared_to_Median     0\n",
       "dtype: int64"
      ]
     },
     "execution_count": 105,
     "metadata": {},
     "output_type": "execute_result"
    }
   ],
   "source": [
    "livexlive = mlc.loc[mlc['DSP'] == 'LiveXLive']\n",
    "livexlive.isnull().sum()"
   ]
  },
  {
   "cell_type": "code",
   "execution_count": 106,
   "id": "dfcf7336",
   "metadata": {
    "scrolled": true
   },
   "outputs": [
    {
     "data": {
      "text/plain": [
       "ISRC                         0\n",
       "Country_Code                 0\n",
       "Registrant_Code              0\n",
       "Year_of_Reference            0\n",
       "Usage_Period                 0\n",
       "DSP                          0\n",
       "Streams                      0\n",
       "Recording_Artist             0\n",
       "Recording_Label              0\n",
       "Recording_Title              0\n",
       "Release_Title                0\n",
       "Recording_Duration           0\n",
       "Songwriters_Listed           0\n",
       "Song_Length                  0\n",
       "Length_Compared_to_Median    0\n",
       "dtype: int64"
      ]
     },
     "execution_count": 106,
     "metadata": {},
     "output_type": "execute_result"
    }
   ],
   "source": [
    "qoboz = mlc.loc[mlc['DSP'] == 'Qoboz']\n",
    "qoboz.isnull().sum()"
   ]
  },
  {
   "cell_type": "code",
   "execution_count": 107,
   "id": "ab7b13f8",
   "metadata": {
    "scrolled": false
   },
   "outputs": [
    {
     "data": {
      "text/plain": [
       "ISRC                          3\n",
       "Country_Code                  3\n",
       "Registrant_Code               3\n",
       "Year_of_Reference             3\n",
       "Usage_Period                  6\n",
       "DSP                           0\n",
       "Streams                       0\n",
       "Recording_Artist              0\n",
       "Recording_Label              42\n",
       "Recording_Title               0\n",
       "Release_Title                 0\n",
       "Recording_Duration            0\n",
       "Songwriters_Listed            0\n",
       "Song_Length                   0\n",
       "Length_Compared_to_Median     0\n",
       "dtype: int64"
      ]
     },
     "execution_count": 107,
     "metadata": {},
     "output_type": "execute_result"
    }
   ],
   "source": [
    "midwesttape = mlc.loc[mlc['DSP'] == 'Midwest Tape']\n",
    "midwesttape.isnull().sum()"
   ]
  },
  {
   "cell_type": "code",
   "execution_count": 145,
   "id": "6f227d87",
   "metadata": {
    "scrolled": true
   },
   "outputs": [
    {
     "data": {
      "text/html": [
       "<div>\n",
       "<style scoped>\n",
       "    .dataframe tbody tr th:only-of-type {\n",
       "        vertical-align: middle;\n",
       "    }\n",
       "\n",
       "    .dataframe tbody tr th {\n",
       "        vertical-align: top;\n",
       "    }\n",
       "\n",
       "    .dataframe thead th {\n",
       "        text-align: right;\n",
       "    }\n",
       "</style>\n",
       "<table border=\"1\" class=\"dataframe\">\n",
       "  <thead>\n",
       "    <tr style=\"text-align: right;\">\n",
       "      <th></th>\n",
       "      <th>0</th>\n",
       "    </tr>\n",
       "  </thead>\n",
       "  <tbody>\n",
       "    <tr>\n",
       "      <th>ISRC</th>\n",
       "      <td>58</td>\n",
       "    </tr>\n",
       "    <tr>\n",
       "      <th>Country_Code</th>\n",
       "      <td>54</td>\n",
       "    </tr>\n",
       "    <tr>\n",
       "      <th>Registrant_Code</th>\n",
       "      <td>54</td>\n",
       "    </tr>\n",
       "    <tr>\n",
       "      <th>Year_of_Reference</th>\n",
       "      <td>58</td>\n",
       "    </tr>\n",
       "    <tr>\n",
       "      <th>Usage_Period</th>\n",
       "      <td>3999</td>\n",
       "    </tr>\n",
       "    <tr>\n",
       "      <th>DSP</th>\n",
       "      <td>3999</td>\n",
       "    </tr>\n",
       "    <tr>\n",
       "      <th>Streams</th>\n",
       "      <td>0</td>\n",
       "    </tr>\n",
       "    <tr>\n",
       "      <th>Recording_Artist</th>\n",
       "      <td>0</td>\n",
       "    </tr>\n",
       "    <tr>\n",
       "      <th>Recording_Label</th>\n",
       "      <td>47</td>\n",
       "    </tr>\n",
       "    <tr>\n",
       "      <th>Recording_Title</th>\n",
       "      <td>0</td>\n",
       "    </tr>\n",
       "    <tr>\n",
       "      <th>Release_Title</th>\n",
       "      <td>35</td>\n",
       "    </tr>\n",
       "    <tr>\n",
       "      <th>Recording_Duration</th>\n",
       "      <td>0</td>\n",
       "    </tr>\n",
       "    <tr>\n",
       "      <th>Songwriters_Listed</th>\n",
       "      <td>0</td>\n",
       "    </tr>\n",
       "    <tr>\n",
       "      <th>Song_Length</th>\n",
       "      <td>0</td>\n",
       "    </tr>\n",
       "    <tr>\n",
       "      <th>Length_Compared_to_Median</th>\n",
       "      <td>0</td>\n",
       "    </tr>\n",
       "  </tbody>\n",
       "</table>\n",
       "</div>"
      ],
      "text/plain": [
       "                              0\n",
       "ISRC                         58\n",
       "Country_Code                 54\n",
       "Registrant_Code              54\n",
       "Year_of_Reference            58\n",
       "Usage_Period               3999\n",
       "DSP                        3999\n",
       "Streams                       0\n",
       "Recording_Artist              0\n",
       "Recording_Label              47\n",
       "Recording_Title               0\n",
       "Release_Title                35\n",
       "Recording_Duration            0\n",
       "Songwriters_Listed            0\n",
       "Song_Length                   0\n",
       "Length_Compared_to_Median     0"
      ]
     },
     "execution_count": 145,
     "metadata": {},
     "output_type": "execute_result"
    }
   ],
   "source": [
    "pd.DataFrame(unknownDSP.isnull().sum())"
   ]
  },
  {
   "cell_type": "code",
   "execution_count": 109,
   "id": "627b1021",
   "metadata": {
    "scrolled": true
   },
   "outputs": [
    {
     "data": {
      "text/plain": [
       "count    100000.000000\n",
       "mean       1016.893690\n",
       "std       15565.692133\n",
       "min           0.000000\n",
       "25%         149.000000\n",
       "50%         190.000000\n",
       "75%         236.000000\n",
       "max      818738.000000\n",
       "Name: Recording_Duration, dtype: float64"
      ]
     },
     "execution_count": 109,
     "metadata": {},
     "output_type": "execute_result"
    }
   ],
   "source": [
    "mlc['Recording_Duration'].describe()"
   ]
  },
  {
   "cell_type": "code",
   "execution_count": 110,
   "id": "6686beaa",
   "metadata": {
    "scrolled": true
   },
   "outputs": [
    {
     "data": {
      "text/html": [
       "<div>\n",
       "<style scoped>\n",
       "    .dataframe tbody tr th:only-of-type {\n",
       "        vertical-align: middle;\n",
       "    }\n",
       "\n",
       "    .dataframe tbody tr th {\n",
       "        vertical-align: top;\n",
       "    }\n",
       "\n",
       "    .dataframe thead th {\n",
       "        text-align: right;\n",
       "    }\n",
       "</style>\n",
       "<table border=\"1\" class=\"dataframe\">\n",
       "  <thead>\n",
       "    <tr style=\"text-align: right;\">\n",
       "      <th></th>\n",
       "      <th>ISRC</th>\n",
       "      <th>Country_Code</th>\n",
       "      <th>Registrant_Code</th>\n",
       "      <th>Year_of_Reference</th>\n",
       "      <th>Usage_Period</th>\n",
       "      <th>DSP</th>\n",
       "      <th>Streams</th>\n",
       "      <th>Recording_Artist</th>\n",
       "      <th>Recording_Label</th>\n",
       "      <th>Recording_Title</th>\n",
       "      <th>Release_Title</th>\n",
       "      <th>Recording_Duration</th>\n",
       "      <th>Songwriters_Listed</th>\n",
       "      <th>Song_Length</th>\n",
       "      <th>Length_Compared_to_Median</th>\n",
       "    </tr>\n",
       "  </thead>\n",
       "  <tbody>\n",
       "    <tr>\n",
       "      <th>19931</th>\n",
       "      <td>QZES81895037</td>\n",
       "      <td>QZ</td>\n",
       "      <td>ES8</td>\n",
       "      <td>18.0</td>\n",
       "      <td>2/1/2021</td>\n",
       "      <td>Trebel</td>\n",
       "      <td>6464</td>\n",
       "      <td>Megan Thee Stallion</td>\n",
       "      <td>Warner</td>\n",
       "      <td>Cry Baby (feat. DaBaby)</td>\n",
       "      <td>Good News</td>\n",
       "      <td>818738</td>\n",
       "      <td>0</td>\n",
       "      <td>More than 1 day</td>\n",
       "      <td>Higher</td>\n",
       "    </tr>\n",
       "    <tr>\n",
       "      <th>34584</th>\n",
       "      <td>DEN962000842</td>\n",
       "      <td>DE</td>\n",
       "      <td>N96</td>\n",
       "      <td>20.0</td>\n",
       "      <td>2/1/2021</td>\n",
       "      <td>Trebel</td>\n",
       "      <td>4797</td>\n",
       "      <td>SZA</td>\n",
       "      <td>Sony Music</td>\n",
       "      <td>Good Days</td>\n",
       "      <td>Good Days</td>\n",
       "      <td>770091</td>\n",
       "      <td>0</td>\n",
       "      <td>More than 1 day</td>\n",
       "      <td>Higher</td>\n",
       "    </tr>\n",
       "    <tr>\n",
       "      <th>20399</th>\n",
       "      <td>JMA272011862</td>\n",
       "      <td>JM</td>\n",
       "      <td>A27</td>\n",
       "      <td>20.0</td>\n",
       "      <td>2/1/2021</td>\n",
       "      <td>Trebel</td>\n",
       "      <td>3492</td>\n",
       "      <td>H.E.R.</td>\n",
       "      <td>Sony Music</td>\n",
       "      <td>Damage</td>\n",
       "      <td>Damage</td>\n",
       "      <td>714437</td>\n",
       "      <td>0</td>\n",
       "      <td>More than 1 day</td>\n",
       "      <td>Higher</td>\n",
       "    </tr>\n",
       "    <tr>\n",
       "      <th>48381</th>\n",
       "      <td>USAT22006112</td>\n",
       "      <td>US</td>\n",
       "      <td>AT2</td>\n",
       "      <td>20.0</td>\n",
       "      <td>2/1/2021</td>\n",
       "      <td>Trebel</td>\n",
       "      <td>2965</td>\n",
       "      <td>Kevo Muney</td>\n",
       "      <td>Warner</td>\n",
       "      <td>Leave Some Day</td>\n",
       "      <td>Leave Some Day</td>\n",
       "      <td>463500</td>\n",
       "      <td>0</td>\n",
       "      <td>More than 1 day</td>\n",
       "      <td>Higher</td>\n",
       "    </tr>\n",
       "    <tr>\n",
       "      <th>138</th>\n",
       "      <td>USUYG1360358</td>\n",
       "      <td>US</td>\n",
       "      <td>UYG</td>\n",
       "      <td>13.0</td>\n",
       "      <td>4/1/2021</td>\n",
       "      <td>Deezer</td>\n",
       "      <td>2</td>\n",
       "      <td>Unknown</td>\n",
       "      <td>NaN</td>\n",
       "      <td>{Cartagena}</td>\n",
       "      <td>Silvestre Dangond - Grandes Éxitos</td>\n",
       "      <td>356461</td>\n",
       "      <td>0</td>\n",
       "      <td>More than 1 day</td>\n",
       "      <td>Higher</td>\n",
       "    </tr>\n",
       "    <tr>\n",
       "      <th>139</th>\n",
       "      <td>USUM72105617</td>\n",
       "      <td>US</td>\n",
       "      <td>UM7</td>\n",
       "      <td>21.0</td>\n",
       "      <td>4/1/2021</td>\n",
       "      <td>Deezer</td>\n",
       "      <td>2</td>\n",
       "      <td>Unknown</td>\n",
       "      <td>NaN</td>\n",
       "      <td>{Esa Mujer}</td>\n",
       "      <td>Silvestre Dangond - Grandes Éxitos</td>\n",
       "      <td>356461</td>\n",
       "      <td>0</td>\n",
       "      <td>More than 1 day</td>\n",
       "      <td>Higher</td>\n",
       "    </tr>\n",
       "    <tr>\n",
       "      <th>140</th>\n",
       "      <td>USAT22007802</td>\n",
       "      <td>US</td>\n",
       "      <td>AT2</td>\n",
       "      <td>20.0</td>\n",
       "      <td>5/1/2021</td>\n",
       "      <td>Deezer</td>\n",
       "      <td>2</td>\n",
       "      <td>Unknown</td>\n",
       "      <td>NaN</td>\n",
       "      <td>{Esa Mujer}</td>\n",
       "      <td>Silvestre Dangond - Grandes Éxitos</td>\n",
       "      <td>356461</td>\n",
       "      <td>0</td>\n",
       "      <td>More than 1 day</td>\n",
       "      <td>Higher</td>\n",
       "    </tr>\n",
       "    <tr>\n",
       "      <th>141</th>\n",
       "      <td>USUM72024668</td>\n",
       "      <td>US</td>\n",
       "      <td>UM7</td>\n",
       "      <td>20.0</td>\n",
       "      <td>4/1/2021</td>\n",
       "      <td>Deezer</td>\n",
       "      <td>2</td>\n",
       "      <td>Unknown</td>\n",
       "      <td>NaN</td>\n",
       "      <td>{Me Gusta, Me Gusta}</td>\n",
       "      <td>Silvestre Dangond - Grandes Éxitos</td>\n",
       "      <td>356461</td>\n",
       "      <td>0</td>\n",
       "      <td>More than 1 day</td>\n",
       "      <td>Higher</td>\n",
       "    </tr>\n",
       "    <tr>\n",
       "      <th>142</th>\n",
       "      <td>USUG12004700</td>\n",
       "      <td>US</td>\n",
       "      <td>UG1</td>\n",
       "      <td>20.0</td>\n",
       "      <td>4/1/2021</td>\n",
       "      <td>Deezer</td>\n",
       "      <td>2</td>\n",
       "      <td>Unknown</td>\n",
       "      <td>NaN</td>\n",
       "      <td>{Me Gusta, Me Gusta}</td>\n",
       "      <td>Silvestre Dangond - Grandes Éxitos</td>\n",
       "      <td>356461</td>\n",
       "      <td>0</td>\n",
       "      <td>More than 1 day</td>\n",
       "      <td>Higher</td>\n",
       "    </tr>\n",
       "    <tr>\n",
       "      <th>258</th>\n",
       "      <td>QZMGB2100021</td>\n",
       "      <td>QZ</td>\n",
       "      <td>MGB</td>\n",
       "      <td>21.0</td>\n",
       "      <td>3/1/2021</td>\n",
       "      <td>Pandora</td>\n",
       "      <td>160</td>\n",
       "      <td>Bizzy Bone</td>\n",
       "      <td>Bizzy Bone</td>\n",
       "      <td>0.44</td>\n",
       "      <td>The Mantra</td>\n",
       "      <td>356461</td>\n",
       "      <td>1</td>\n",
       "      <td>More than 1 day</td>\n",
       "      <td>Higher</td>\n",
       "    </tr>\n",
       "  </tbody>\n",
       "</table>\n",
       "</div>"
      ],
      "text/plain": [
       "               ISRC Country_Code Registrant_Code  Year_of_Reference  \\\n",
       "19931  QZES81895037           QZ             ES8               18.0   \n",
       "34584  DEN962000842           DE             N96               20.0   \n",
       "20399  JMA272011862           JM             A27               20.0   \n",
       "48381  USAT22006112           US             AT2               20.0   \n",
       "138    USUYG1360358           US             UYG               13.0   \n",
       "139    USUM72105617           US             UM7               21.0   \n",
       "140    USAT22007802           US             AT2               20.0   \n",
       "141    USUM72024668           US             UM7               20.0   \n",
       "142    USUG12004700           US             UG1               20.0   \n",
       "258    QZMGB2100021           QZ             MGB               21.0   \n",
       "\n",
       "      Usage_Period      DSP  Streams     Recording_Artist Recording_Label  \\\n",
       "19931     2/1/2021   Trebel     6464  Megan Thee Stallion          Warner   \n",
       "34584     2/1/2021   Trebel     4797                  SZA      Sony Music   \n",
       "20399     2/1/2021   Trebel     3492               H.E.R.      Sony Music   \n",
       "48381     2/1/2021   Trebel     2965           Kevo Muney          Warner   \n",
       "138       4/1/2021   Deezer        2              Unknown             NaN   \n",
       "139       4/1/2021   Deezer        2              Unknown             NaN   \n",
       "140       5/1/2021   Deezer        2              Unknown             NaN   \n",
       "141       4/1/2021   Deezer        2              Unknown             NaN   \n",
       "142       4/1/2021   Deezer        2              Unknown             NaN   \n",
       "258       3/1/2021  Pandora      160           Bizzy Bone      Bizzy Bone   \n",
       "\n",
       "               Recording_Title                       Release_Title  \\\n",
       "19931  Cry Baby (feat. DaBaby)                           Good News   \n",
       "34584                Good Days                           Good Days   \n",
       "20399                   Damage                              Damage   \n",
       "48381           Leave Some Day                      Leave Some Day   \n",
       "138                {Cartagena}  Silvestre Dangond - Grandes Éxitos   \n",
       "139                {Esa Mujer}  Silvestre Dangond - Grandes Éxitos   \n",
       "140                {Esa Mujer}  Silvestre Dangond - Grandes Éxitos   \n",
       "141       {Me Gusta, Me Gusta}  Silvestre Dangond - Grandes Éxitos   \n",
       "142       {Me Gusta, Me Gusta}  Silvestre Dangond - Grandes Éxitos   \n",
       "258                       0.44                          The Mantra   \n",
       "\n",
       "       Recording_Duration  Songwriters_Listed      Song_Length  \\\n",
       "19931              818738                   0  More than 1 day   \n",
       "34584              770091                   0  More than 1 day   \n",
       "20399              714437                   0  More than 1 day   \n",
       "48381              463500                   0  More than 1 day   \n",
       "138                356461                   0  More than 1 day   \n",
       "139                356461                   0  More than 1 day   \n",
       "140                356461                   0  More than 1 day   \n",
       "141                356461                   0  More than 1 day   \n",
       "142                356461                   0  More than 1 day   \n",
       "258                356461                   1  More than 1 day   \n",
       "\n",
       "      Length_Compared_to_Median  \n",
       "19931                    Higher  \n",
       "34584                    Higher  \n",
       "20399                    Higher  \n",
       "48381                    Higher  \n",
       "138                      Higher  \n",
       "139                      Higher  \n",
       "140                      Higher  \n",
       "141                      Higher  \n",
       "142                      Higher  \n",
       "258                      Higher  "
      ]
     },
     "execution_count": 110,
     "metadata": {},
     "output_type": "execute_result"
    }
   ],
   "source": [
    "mlc.nlargest(10, ['Recording_Duration'])"
   ]
  },
  {
   "cell_type": "code",
   "execution_count": 150,
   "id": "4f0d3688",
   "metadata": {},
   "outputs": [
    {
     "data": {
      "text/html": [
       "<div>\n",
       "<style scoped>\n",
       "    .dataframe tbody tr th:only-of-type {\n",
       "        vertical-align: middle;\n",
       "    }\n",
       "\n",
       "    .dataframe tbody tr th {\n",
       "        vertical-align: top;\n",
       "    }\n",
       "\n",
       "    .dataframe thead th {\n",
       "        text-align: right;\n",
       "    }\n",
       "</style>\n",
       "<table border=\"1\" class=\"dataframe\">\n",
       "  <thead>\n",
       "    <tr style=\"text-align: right;\">\n",
       "      <th></th>\n",
       "      <th>ISRC</th>\n",
       "      <th>Country_Code</th>\n",
       "      <th>Registrant_Code</th>\n",
       "      <th>Year_of_Reference</th>\n",
       "      <th>Usage_Period</th>\n",
       "      <th>DSP</th>\n",
       "      <th>Streams</th>\n",
       "      <th>Recording_Artist</th>\n",
       "      <th>Recording_Label</th>\n",
       "      <th>Recording_Title</th>\n",
       "      <th>Release_Title</th>\n",
       "      <th>Recording_Duration</th>\n",
       "      <th>Songwriters_Listed</th>\n",
       "      <th>Song_Length</th>\n",
       "      <th>Length_Compared_to_Median</th>\n",
       "    </tr>\n",
       "  </thead>\n",
       "  <tbody>\n",
       "    <tr>\n",
       "      <th>2563</th>\n",
       "      <td>USUM72000789</td>\n",
       "      <td>US</td>\n",
       "      <td>UM7</td>\n",
       "      <td>20.0</td>\n",
       "      <td>NaN</td>\n",
       "      <td>NaN</td>\n",
       "      <td>5</td>\n",
       "      <td>Crz</td>\n",
       "      <td>Black Magic Music</td>\n",
       "      <td>A Lo Scarface</td>\n",
       "      <td>C.R.Z</td>\n",
       "      <td>356461</td>\n",
       "      <td>1</td>\n",
       "      <td>More than 1 day</td>\n",
       "      <td>Higher</td>\n",
       "    </tr>\n",
       "    <tr>\n",
       "      <th>4607</th>\n",
       "      <td>USUM72024427</td>\n",
       "      <td>US</td>\n",
       "      <td>UM7</td>\n",
       "      <td>20.0</td>\n",
       "      <td>NaN</td>\n",
       "      <td>NaN</td>\n",
       "      <td>6</td>\n",
       "      <td>Sadistik</td>\n",
       "      <td>Clockwork Grey Music</td>\n",
       "      <td>All the Pretty Horses</td>\n",
       "      <td>Elysium</td>\n",
       "      <td>356461</td>\n",
       "      <td>1</td>\n",
       "      <td>More than 1 day</td>\n",
       "      <td>Higher</td>\n",
       "    </tr>\n",
       "    <tr>\n",
       "      <th>9062</th>\n",
       "      <td>QZMWW2021140</td>\n",
       "      <td>QZ</td>\n",
       "      <td>MWW</td>\n",
       "      <td>20.0</td>\n",
       "      <td>NaN</td>\n",
       "      <td>NaN</td>\n",
       "      <td>12</td>\n",
       "      <td>The Chimpz</td>\n",
       "      <td>The Chimpz Worldwide, LLC</td>\n",
       "      <td>Battlegrounds</td>\n",
       "      <td>The Chimpz</td>\n",
       "      <td>356461</td>\n",
       "      <td>0</td>\n",
       "      <td>More than 1 day</td>\n",
       "      <td>Higher</td>\n",
       "    </tr>\n",
       "    <tr>\n",
       "      <th>9206</th>\n",
       "      <td>USUYG1300482</td>\n",
       "      <td>US</td>\n",
       "      <td>UYG</td>\n",
       "      <td>13.0</td>\n",
       "      <td>NaN</td>\n",
       "      <td>NaN</td>\n",
       "      <td>109</td>\n",
       "      <td>Thi'sl</td>\n",
       "      <td>Full Ride Music Group, LLC.</td>\n",
       "      <td>Be King (feat. Laquan Green)</td>\n",
       "      <td>Fallen King</td>\n",
       "      <td>356461</td>\n",
       "      <td>0</td>\n",
       "      <td>More than 1 day</td>\n",
       "      <td>Higher</td>\n",
       "    </tr>\n",
       "    <tr>\n",
       "      <th>9521</th>\n",
       "      <td>USWD11366389</td>\n",
       "      <td>US</td>\n",
       "      <td>WD1</td>\n",
       "      <td>13.0</td>\n",
       "      <td>NaN</td>\n",
       "      <td>NaN</td>\n",
       "      <td>73</td>\n",
       "      <td>Thi'sl</td>\n",
       "      <td>Full Ride Music Group, LLC.</td>\n",
       "      <td>Beautiful Mind (feat. Pastor Ad3)</td>\n",
       "      <td>Beautiful Monster</td>\n",
       "      <td>356461</td>\n",
       "      <td>0</td>\n",
       "      <td>More than 1 day</td>\n",
       "      <td>Higher</td>\n",
       "    </tr>\n",
       "    <tr>\n",
       "      <th>10927</th>\n",
       "      <td>QM4TW2009087</td>\n",
       "      <td>QM</td>\n",
       "      <td>4TW</td>\n",
       "      <td>20.0</td>\n",
       "      <td>NaN</td>\n",
       "      <td>NaN</td>\n",
       "      <td>269</td>\n",
       "      <td>Anthem Lights</td>\n",
       "      <td>Prodigy</td>\n",
       "      <td>Billy Joel Medley: Uptown Girl / Piano Man / S...</td>\n",
       "      <td>Icons: A Tribute to the Greats</td>\n",
       "      <td>356461</td>\n",
       "      <td>1</td>\n",
       "      <td>More than 1 day</td>\n",
       "      <td>Higher</td>\n",
       "    </tr>\n",
       "    <tr>\n",
       "      <th>11988</th>\n",
       "      <td>USUM72016329</td>\n",
       "      <td>US</td>\n",
       "      <td>UM7</td>\n",
       "      <td>20.0</td>\n",
       "      <td>NaN</td>\n",
       "      <td>NaN</td>\n",
       "      <td>39</td>\n",
       "      <td>Anthem Lights</td>\n",
       "      <td>Prodigy</td>\n",
       "      <td>Bob Marley Medley: Three Little Birds / One Lo...</td>\n",
       "      <td>Icons: A Tribute to the Greats</td>\n",
       "      <td>356461</td>\n",
       "      <td>1</td>\n",
       "      <td>More than 1 day</td>\n",
       "      <td>Higher</td>\n",
       "    </tr>\n",
       "    <tr>\n",
       "      <th>12459</th>\n",
       "      <td>CAX1M1910015</td>\n",
       "      <td>CA</td>\n",
       "      <td>X1M</td>\n",
       "      <td>19.0</td>\n",
       "      <td>NaN</td>\n",
       "      <td>NaN</td>\n",
       "      <td>7</td>\n",
       "      <td>Zayde Wolf</td>\n",
       "      <td>Lyric House LLC</td>\n",
       "      <td>Born Ready</td>\n",
       "      <td>Born Ready</td>\n",
       "      <td>356461</td>\n",
       "      <td>0</td>\n",
       "      <td>More than 1 day</td>\n",
       "      <td>Higher</td>\n",
       "    </tr>\n",
       "    <tr>\n",
       "      <th>13427</th>\n",
       "      <td>USN1R2028001</td>\n",
       "      <td>US</td>\n",
       "      <td>N1R</td>\n",
       "      <td>20.0</td>\n",
       "      <td>NaN</td>\n",
       "      <td>NaN</td>\n",
       "      <td>7</td>\n",
       "      <td>Thi'sl</td>\n",
       "      <td>Full Ride Music Group, LLC.</td>\n",
       "      <td>Broken Crown</td>\n",
       "      <td>Fallen King</td>\n",
       "      <td>356461</td>\n",
       "      <td>0</td>\n",
       "      <td>More than 1 day</td>\n",
       "      <td>Higher</td>\n",
       "    </tr>\n",
       "    <tr>\n",
       "      <th>13450</th>\n",
       "      <td>QMCE71302874</td>\n",
       "      <td>QM</td>\n",
       "      <td>CE7</td>\n",
       "      <td>13.0</td>\n",
       "      <td>NaN</td>\n",
       "      <td>NaN</td>\n",
       "      <td>4</td>\n",
       "      <td>Nate Mills</td>\n",
       "      <td>Nate Millyunz LLC</td>\n",
       "      <td>Broken Man</td>\n",
       "      <td>Waves 2</td>\n",
       "      <td>356461</td>\n",
       "      <td>0</td>\n",
       "      <td>More than 1 day</td>\n",
       "      <td>Higher</td>\n",
       "    </tr>\n",
       "  </tbody>\n",
       "</table>\n",
       "</div>"
      ],
      "text/plain": [
       "               ISRC Country_Code Registrant_Code  Year_of_Reference  \\\n",
       "2563   USUM72000789           US             UM7               20.0   \n",
       "4607   USUM72024427           US             UM7               20.0   \n",
       "9062   QZMWW2021140           QZ             MWW               20.0   \n",
       "9206   USUYG1300482           US             UYG               13.0   \n",
       "9521   USWD11366389           US             WD1               13.0   \n",
       "10927  QM4TW2009087           QM             4TW               20.0   \n",
       "11988  USUM72016329           US             UM7               20.0   \n",
       "12459  CAX1M1910015           CA             X1M               19.0   \n",
       "13427  USN1R2028001           US             N1R               20.0   \n",
       "13450  QMCE71302874           QM             CE7               13.0   \n",
       "\n",
       "      Usage_Period  DSP  Streams Recording_Artist  \\\n",
       "2563           NaN  NaN        5              Crz   \n",
       "4607           NaN  NaN        6         Sadistik   \n",
       "9062           NaN  NaN       12       The Chimpz   \n",
       "9206           NaN  NaN      109           Thi'sl   \n",
       "9521           NaN  NaN       73           Thi'sl   \n",
       "10927          NaN  NaN      269    Anthem Lights   \n",
       "11988          NaN  NaN       39    Anthem Lights   \n",
       "12459          NaN  NaN        7       Zayde Wolf   \n",
       "13427          NaN  NaN        7           Thi'sl   \n",
       "13450          NaN  NaN        4       Nate Mills   \n",
       "\n",
       "                   Recording_Label  \\\n",
       "2563             Black Magic Music   \n",
       "4607          Clockwork Grey Music   \n",
       "9062     The Chimpz Worldwide, LLC   \n",
       "9206   Full Ride Music Group, LLC.   \n",
       "9521   Full Ride Music Group, LLC.   \n",
       "10927                      Prodigy   \n",
       "11988                      Prodigy   \n",
       "12459              Lyric House LLC   \n",
       "13427  Full Ride Music Group, LLC.   \n",
       "13450            Nate Millyunz LLC   \n",
       "\n",
       "                                         Recording_Title  \\\n",
       "2563                                       A Lo Scarface   \n",
       "4607                               All the Pretty Horses   \n",
       "9062                                       Battlegrounds   \n",
       "9206                        Be King (feat. Laquan Green)   \n",
       "9521                   Beautiful Mind (feat. Pastor Ad3)   \n",
       "10927  Billy Joel Medley: Uptown Girl / Piano Man / S...   \n",
       "11988  Bob Marley Medley: Three Little Birds / One Lo...   \n",
       "12459                                         Born Ready   \n",
       "13427                                       Broken Crown   \n",
       "13450                                         Broken Man   \n",
       "\n",
       "                        Release_Title  Recording_Duration  Songwriters_Listed  \\\n",
       "2563                            C.R.Z              356461                   1   \n",
       "4607                          Elysium              356461                   1   \n",
       "9062                       The Chimpz              356461                   0   \n",
       "9206                      Fallen King              356461                   0   \n",
       "9521                Beautiful Monster              356461                   0   \n",
       "10927  Icons: A Tribute to the Greats              356461                   1   \n",
       "11988  Icons: A Tribute to the Greats              356461                   1   \n",
       "12459                      Born Ready              356461                   0   \n",
       "13427                     Fallen King              356461                   0   \n",
       "13450                         Waves 2              356461                   0   \n",
       "\n",
       "           Song_Length Length_Compared_to_Median  \n",
       "2563   More than 1 day                    Higher  \n",
       "4607   More than 1 day                    Higher  \n",
       "9062   More than 1 day                    Higher  \n",
       "9206   More than 1 day                    Higher  \n",
       "9521   More than 1 day                    Higher  \n",
       "10927  More than 1 day                    Higher  \n",
       "11988  More than 1 day                    Higher  \n",
       "12459  More than 1 day                    Higher  \n",
       "13427  More than 1 day                    Higher  \n",
       "13450  More than 1 day                    Higher  "
      ]
     },
     "execution_count": 150,
     "metadata": {},
     "output_type": "execute_result"
    }
   ],
   "source": [
    "unknownDSP.nlargest(10, ['Recording_Duration'])"
   ]
  },
  {
   "cell_type": "markdown",
   "id": "bf1d0173",
   "metadata": {},
   "source": [
    "The longest song in this dataset comes in at 818,738 seconds which is equal to 227.4 hours. 356,461 also shows up in the dataset with more frequency than anticipated. This deserves some additional attention."
   ]
  },
  {
   "cell_type": "code",
   "execution_count": 152,
   "id": "aa3f694c",
   "metadata": {
    "scrolled": true
   },
   "outputs": [
    {
     "data": {
      "text/plain": [
       "161"
      ]
     },
     "execution_count": 152,
     "metadata": {},
     "output_type": "execute_result"
    }
   ],
   "source": [
    "(mlc['Recording_Duration'].values == 356461).sum()"
   ]
  },
  {
   "cell_type": "code",
   "execution_count": 154,
   "id": "99c6649d",
   "metadata": {},
   "outputs": [
    {
     "data": {
      "text/plain": [
       "80"
      ]
     },
     "execution_count": 154,
     "metadata": {},
     "output_type": "execute_result"
    }
   ],
   "source": [
    "(unknownDSP['Recording_Duration'].values == 356461).sum()"
   ]
  },
  {
   "cell_type": "code",
   "execution_count": 166,
   "id": "b7257a4d",
   "metadata": {},
   "outputs": [
    {
     "data": {
      "text/plain": [
       "76"
      ]
     },
     "execution_count": 166,
     "metadata": {},
     "output_type": "execute_result"
    }
   ],
   "source": [
    "(pandora['Recording_Duration'].values == 356461).sum()"
   ]
  },
  {
   "cell_type": "code",
   "execution_count": 170,
   "id": "9c6a771f",
   "metadata": {},
   "outputs": [
    {
     "data": {
      "text/plain": [
       "0"
      ]
     },
     "execution_count": 170,
     "metadata": {},
     "output_type": "execute_result"
    }
   ],
   "source": [
    "(spotify['Recording_Duration'].values == 356461).sum()"
   ]
  },
  {
   "cell_type": "code",
   "execution_count": 171,
   "id": "861322a6",
   "metadata": {},
   "outputs": [
    {
     "data": {
      "text/plain": [
       "0"
      ]
     },
     "execution_count": 171,
     "metadata": {},
     "output_type": "execute_result"
    }
   ],
   "source": [
    "(apple['Recording_Duration'].values == 356461).sum()"
   ]
  },
  {
   "cell_type": "code",
   "execution_count": 172,
   "id": "1f448527",
   "metadata": {},
   "outputs": [
    {
     "data": {
      "text/plain": [
       "0"
      ]
     },
     "execution_count": 172,
     "metadata": {},
     "output_type": "execute_result"
    }
   ],
   "source": [
    "(tidal['Recording_Duration'].values == 356461).sum()"
   ]
  },
  {
   "cell_type": "code",
   "execution_count": 169,
   "id": "861ee9cf",
   "metadata": {},
   "outputs": [
    {
     "data": {
      "text/plain": [
       "0"
      ]
     },
     "execution_count": 169,
     "metadata": {},
     "output_type": "execute_result"
    }
   ],
   "source": [
    "(amazon['Recording_Duration'].values == 356461).sum()"
   ]
  },
  {
   "cell_type": "code",
   "execution_count": 173,
   "id": "68cf50e7",
   "metadata": {},
   "outputs": [
    {
     "data": {
      "text/plain": [
       "0"
      ]
     },
     "execution_count": 173,
     "metadata": {},
     "output_type": "execute_result"
    }
   ],
   "source": [
    "(youtube['Recording_Duration'].values == 356461).sum()"
   ]
  },
  {
   "cell_type": "code",
   "execution_count": 176,
   "id": "2bb9b6cc",
   "metadata": {},
   "outputs": [
    {
     "data": {
      "text/plain": [
       "0"
      ]
     },
     "execution_count": 176,
     "metadata": {},
     "output_type": "execute_result"
    }
   ],
   "source": [
    "(soundcloud['Recording_Duration'].values == 356461).sum()"
   ]
  },
  {
   "cell_type": "code",
   "execution_count": 177,
   "id": "0d28381a",
   "metadata": {},
   "outputs": [
    {
     "data": {
      "text/html": [
       "<div>\n",
       "<style scoped>\n",
       "    .dataframe tbody tr th:only-of-type {\n",
       "        vertical-align: middle;\n",
       "    }\n",
       "\n",
       "    .dataframe tbody tr th {\n",
       "        vertical-align: top;\n",
       "    }\n",
       "\n",
       "    .dataframe thead th {\n",
       "        text-align: right;\n",
       "    }\n",
       "</style>\n",
       "<table border=\"1\" class=\"dataframe\">\n",
       "  <thead>\n",
       "    <tr style=\"text-align: right;\">\n",
       "      <th></th>\n",
       "      <th>ISRC</th>\n",
       "      <th>Country_Code</th>\n",
       "      <th>Registrant_Code</th>\n",
       "      <th>Year_of_Reference</th>\n",
       "      <th>Usage_Period</th>\n",
       "      <th>DSP</th>\n",
       "      <th>Streams</th>\n",
       "      <th>Recording_Artist</th>\n",
       "      <th>Recording_Label</th>\n",
       "      <th>Recording_Title</th>\n",
       "      <th>Release_Title</th>\n",
       "      <th>Recording_Duration</th>\n",
       "      <th>Songwriters_Listed</th>\n",
       "      <th>Song_Length</th>\n",
       "      <th>Length_Compared_to_Median</th>\n",
       "    </tr>\n",
       "  </thead>\n",
       "  <tbody>\n",
       "    <tr>\n",
       "      <th>138</th>\n",
       "      <td>USUYG1360358</td>\n",
       "      <td>US</td>\n",
       "      <td>UYG</td>\n",
       "      <td>13.0</td>\n",
       "      <td>4/1/2021</td>\n",
       "      <td>Deezer</td>\n",
       "      <td>2</td>\n",
       "      <td>Unknown</td>\n",
       "      <td>NaN</td>\n",
       "      <td>{Cartagena}</td>\n",
       "      <td>Silvestre Dangond - Grandes Éxitos</td>\n",
       "      <td>356461</td>\n",
       "      <td>0</td>\n",
       "      <td>More than 1 day</td>\n",
       "      <td>Higher</td>\n",
       "    </tr>\n",
       "    <tr>\n",
       "      <th>139</th>\n",
       "      <td>USUM72105617</td>\n",
       "      <td>US</td>\n",
       "      <td>UM7</td>\n",
       "      <td>21.0</td>\n",
       "      <td>4/1/2021</td>\n",
       "      <td>Deezer</td>\n",
       "      <td>2</td>\n",
       "      <td>Unknown</td>\n",
       "      <td>NaN</td>\n",
       "      <td>{Esa Mujer}</td>\n",
       "      <td>Silvestre Dangond - Grandes Éxitos</td>\n",
       "      <td>356461</td>\n",
       "      <td>0</td>\n",
       "      <td>More than 1 day</td>\n",
       "      <td>Higher</td>\n",
       "    </tr>\n",
       "    <tr>\n",
       "      <th>140</th>\n",
       "      <td>USAT22007802</td>\n",
       "      <td>US</td>\n",
       "      <td>AT2</td>\n",
       "      <td>20.0</td>\n",
       "      <td>5/1/2021</td>\n",
       "      <td>Deezer</td>\n",
       "      <td>2</td>\n",
       "      <td>Unknown</td>\n",
       "      <td>NaN</td>\n",
       "      <td>{Esa Mujer}</td>\n",
       "      <td>Silvestre Dangond - Grandes Éxitos</td>\n",
       "      <td>356461</td>\n",
       "      <td>0</td>\n",
       "      <td>More than 1 day</td>\n",
       "      <td>Higher</td>\n",
       "    </tr>\n",
       "    <tr>\n",
       "      <th>141</th>\n",
       "      <td>USUM72024668</td>\n",
       "      <td>US</td>\n",
       "      <td>UM7</td>\n",
       "      <td>20.0</td>\n",
       "      <td>4/1/2021</td>\n",
       "      <td>Deezer</td>\n",
       "      <td>2</td>\n",
       "      <td>Unknown</td>\n",
       "      <td>NaN</td>\n",
       "      <td>{Me Gusta, Me Gusta}</td>\n",
       "      <td>Silvestre Dangond - Grandes Éxitos</td>\n",
       "      <td>356461</td>\n",
       "      <td>0</td>\n",
       "      <td>More than 1 day</td>\n",
       "      <td>Higher</td>\n",
       "    </tr>\n",
       "    <tr>\n",
       "      <th>142</th>\n",
       "      <td>USUG12004700</td>\n",
       "      <td>US</td>\n",
       "      <td>UG1</td>\n",
       "      <td>20.0</td>\n",
       "      <td>4/1/2021</td>\n",
       "      <td>Deezer</td>\n",
       "      <td>2</td>\n",
       "      <td>Unknown</td>\n",
       "      <td>NaN</td>\n",
       "      <td>{Me Gusta, Me Gusta}</td>\n",
       "      <td>Silvestre Dangond - Grandes Éxitos</td>\n",
       "      <td>356461</td>\n",
       "      <td>0</td>\n",
       "      <td>More than 1 day</td>\n",
       "      <td>Higher</td>\n",
       "    </tr>\n",
       "    <tr>\n",
       "      <th>...</th>\n",
       "      <td>...</td>\n",
       "      <td>...</td>\n",
       "      <td>...</td>\n",
       "      <td>...</td>\n",
       "      <td>...</td>\n",
       "      <td>...</td>\n",
       "      <td>...</td>\n",
       "      <td>...</td>\n",
       "      <td>...</td>\n",
       "      <td>...</td>\n",
       "      <td>...</td>\n",
       "      <td>...</td>\n",
       "      <td>...</td>\n",
       "      <td>...</td>\n",
       "      <td>...</td>\n",
       "    </tr>\n",
       "    <tr>\n",
       "      <th>99191</th>\n",
       "      <td>USANG2093235</td>\n",
       "      <td>US</td>\n",
       "      <td>ANG</td>\n",
       "      <td>20.0</td>\n",
       "      <td>NaN</td>\n",
       "      <td>NaN</td>\n",
       "      <td>3</td>\n",
       "      <td>Каста</td>\n",
       "      <td>Respect Production</td>\n",
       "      <td>На порядок выше</td>\n",
       "      <td>Лучшие песни</td>\n",
       "      <td>356461</td>\n",
       "      <td>0</td>\n",
       "      <td>More than 1 day</td>\n",
       "      <td>Higher</td>\n",
       "    </tr>\n",
       "    <tr>\n",
       "      <th>99198</th>\n",
       "      <td>QZHN72026844</td>\n",
       "      <td>QZ</td>\n",
       "      <td>HN7</td>\n",
       "      <td>20.0</td>\n",
       "      <td>NaN</td>\n",
       "      <td>NaN</td>\n",
       "      <td>2</td>\n",
       "      <td>Каста</td>\n",
       "      <td>Respect Production</td>\n",
       "      <td>Нормально все</td>\n",
       "      <td>Лучшие песни</td>\n",
       "      <td>356461</td>\n",
       "      <td>0</td>\n",
       "      <td>More than 1 day</td>\n",
       "      <td>Higher</td>\n",
       "    </tr>\n",
       "    <tr>\n",
       "      <th>99219</th>\n",
       "      <td>QZFYW2140933</td>\n",
       "      <td>QZ</td>\n",
       "      <td>FYW</td>\n",
       "      <td>21.0</td>\n",
       "      <td>NaN</td>\n",
       "      <td>NaN</td>\n",
       "      <td>2</td>\n",
       "      <td>Каста</td>\n",
       "      <td>Respect Production</td>\n",
       "      <td>Самый счастливый человек</td>\n",
       "      <td>Лучшие песни</td>\n",
       "      <td>356461</td>\n",
       "      <td>0</td>\n",
       "      <td>More than 1 day</td>\n",
       "      <td>Higher</td>\n",
       "    </tr>\n",
       "    <tr>\n",
       "      <th>99236</th>\n",
       "      <td>TCAEL1973157</td>\n",
       "      <td>TC</td>\n",
       "      <td>AEL</td>\n",
       "      <td>19.0</td>\n",
       "      <td>NaN</td>\n",
       "      <td>NaN</td>\n",
       "      <td>2</td>\n",
       "      <td>Каста</td>\n",
       "      <td>Respect Production</td>\n",
       "      <td>Сочиняй мечты</td>\n",
       "      <td>Лучшие песни</td>\n",
       "      <td>356461</td>\n",
       "      <td>0</td>\n",
       "      <td>More than 1 day</td>\n",
       "      <td>Higher</td>\n",
       "    </tr>\n",
       "    <tr>\n",
       "      <th>99246</th>\n",
       "      <td>SEBGA2001466</td>\n",
       "      <td>SE</td>\n",
       "      <td>BGA</td>\n",
       "      <td>20.0</td>\n",
       "      <td>NaN</td>\n",
       "      <td>NaN</td>\n",
       "      <td>2</td>\n",
       "      <td>Каста</td>\n",
       "      <td>Respect Production</td>\n",
       "      <td>Такое чувство</td>\n",
       "      <td>Лучшие песни</td>\n",
       "      <td>356461</td>\n",
       "      <td>0</td>\n",
       "      <td>More than 1 day</td>\n",
       "      <td>Higher</td>\n",
       "    </tr>\n",
       "  </tbody>\n",
       "</table>\n",
       "<p>161 rows × 15 columns</p>\n",
       "</div>"
      ],
      "text/plain": [
       "               ISRC Country_Code Registrant_Code  Year_of_Reference  \\\n",
       "138    USUYG1360358           US             UYG               13.0   \n",
       "139    USUM72105617           US             UM7               21.0   \n",
       "140    USAT22007802           US             AT2               20.0   \n",
       "141    USUM72024668           US             UM7               20.0   \n",
       "142    USUG12004700           US             UG1               20.0   \n",
       "...             ...          ...             ...                ...   \n",
       "99191  USANG2093235           US             ANG               20.0   \n",
       "99198  QZHN72026844           QZ             HN7               20.0   \n",
       "99219  QZFYW2140933           QZ             FYW               21.0   \n",
       "99236  TCAEL1973157           TC             AEL               19.0   \n",
       "99246  SEBGA2001466           SE             BGA               20.0   \n",
       "\n",
       "      Usage_Period     DSP  Streams Recording_Artist     Recording_Label  \\\n",
       "138       4/1/2021  Deezer        2          Unknown                 NaN   \n",
       "139       4/1/2021  Deezer        2          Unknown                 NaN   \n",
       "140       5/1/2021  Deezer        2          Unknown                 NaN   \n",
       "141       4/1/2021  Deezer        2          Unknown                 NaN   \n",
       "142       4/1/2021  Deezer        2          Unknown                 NaN   \n",
       "...            ...     ...      ...              ...                 ...   \n",
       "99191          NaN     NaN        3            Каста  Respect Production   \n",
       "99198          NaN     NaN        2            Каста  Respect Production   \n",
       "99219          NaN     NaN        2            Каста  Respect Production   \n",
       "99236          NaN     NaN        2            Каста  Respect Production   \n",
       "99246          NaN     NaN        2            Каста  Respect Production   \n",
       "\n",
       "                Recording_Title                       Release_Title  \\\n",
       "138                 {Cartagena}  Silvestre Dangond - Grandes Éxitos   \n",
       "139                 {Esa Mujer}  Silvestre Dangond - Grandes Éxitos   \n",
       "140                 {Esa Mujer}  Silvestre Dangond - Grandes Éxitos   \n",
       "141        {Me Gusta, Me Gusta}  Silvestre Dangond - Grandes Éxitos   \n",
       "142        {Me Gusta, Me Gusta}  Silvestre Dangond - Grandes Éxitos   \n",
       "...                         ...                                 ...   \n",
       "99191           На порядок выше                        Лучшие песни   \n",
       "99198             Нормально все                        Лучшие песни   \n",
       "99219  Самый счастливый человек                        Лучшие песни   \n",
       "99236             Сочиняй мечты                        Лучшие песни   \n",
       "99246             Такое чувство                        Лучшие песни   \n",
       "\n",
       "       Recording_Duration  Songwriters_Listed      Song_Length  \\\n",
       "138                356461                   0  More than 1 day   \n",
       "139                356461                   0  More than 1 day   \n",
       "140                356461                   0  More than 1 day   \n",
       "141                356461                   0  More than 1 day   \n",
       "142                356461                   0  More than 1 day   \n",
       "...                   ...                 ...              ...   \n",
       "99191              356461                   0  More than 1 day   \n",
       "99198              356461                   0  More than 1 day   \n",
       "99219              356461                   0  More than 1 day   \n",
       "99236              356461                   0  More than 1 day   \n",
       "99246              356461                   0  More than 1 day   \n",
       "\n",
       "      Length_Compared_to_Median  \n",
       "138                      Higher  \n",
       "139                      Higher  \n",
       "140                      Higher  \n",
       "141                      Higher  \n",
       "142                      Higher  \n",
       "...                         ...  \n",
       "99191                    Higher  \n",
       "99198                    Higher  \n",
       "99219                    Higher  \n",
       "99236                    Higher  \n",
       "99246                    Higher  \n",
       "\n",
       "[161 rows x 15 columns]"
      ]
     },
     "execution_count": 177,
     "metadata": {},
     "output_type": "execute_result"
    }
   ],
   "source": [
    "mlc[mlc['Recording_Duration'] == 356461]"
   ]
  },
  {
   "cell_type": "code",
   "execution_count": 153,
   "id": "ff306c52",
   "metadata": {
    "scrolled": true
   },
   "outputs": [
    {
     "data": {
      "text/plain": [
       "25"
      ]
     },
     "execution_count": 153,
     "metadata": {},
     "output_type": "execute_result"
    }
   ],
   "source": [
    "(mlc['Recording_Duration'].values == 0).sum()"
   ]
  },
  {
   "cell_type": "code",
   "execution_count": 155,
   "id": "fc0f976b",
   "metadata": {},
   "outputs": [
    {
     "data": {
      "text/plain": [
       "0"
      ]
     },
     "execution_count": 155,
     "metadata": {},
     "output_type": "execute_result"
    }
   ],
   "source": [
    "(unknownDSP['Recording_Duration'].values == 0).sum()"
   ]
  },
  {
   "cell_type": "code",
   "execution_count": 160,
   "id": "9ca11086",
   "metadata": {},
   "outputs": [
    {
     "data": {
      "text/plain": [
       "22"
      ]
     },
     "execution_count": 160,
     "metadata": {},
     "output_type": "execute_result"
    }
   ],
   "source": [
    "(apple['Recording_Duration'].values == 0).sum()"
   ]
  },
  {
   "cell_type": "code",
   "execution_count": 161,
   "id": "0a307b15",
   "metadata": {},
   "outputs": [
    {
     "data": {
      "text/plain": [
       "3"
      ]
     },
     "execution_count": 161,
     "metadata": {},
     "output_type": "execute_result"
    }
   ],
   "source": [
    "(iheartradio['Recording_Duration'].values == 0).sum()"
   ]
  },
  {
   "cell_type": "code",
   "execution_count": 159,
   "id": "05d93559",
   "metadata": {
    "scrolled": true
   },
   "outputs": [
    {
     "data": {
      "text/html": [
       "<div>\n",
       "<style scoped>\n",
       "    .dataframe tbody tr th:only-of-type {\n",
       "        vertical-align: middle;\n",
       "    }\n",
       "\n",
       "    .dataframe tbody tr th {\n",
       "        vertical-align: top;\n",
       "    }\n",
       "\n",
       "    .dataframe thead th {\n",
       "        text-align: right;\n",
       "    }\n",
       "</style>\n",
       "<table border=\"1\" class=\"dataframe\">\n",
       "  <thead>\n",
       "    <tr style=\"text-align: right;\">\n",
       "      <th></th>\n",
       "      <th>ISRC</th>\n",
       "      <th>Country_Code</th>\n",
       "      <th>Registrant_Code</th>\n",
       "      <th>Year_of_Reference</th>\n",
       "      <th>Usage_Period</th>\n",
       "      <th>DSP</th>\n",
       "      <th>Streams</th>\n",
       "      <th>Recording_Artist</th>\n",
       "      <th>Recording_Label</th>\n",
       "      <th>Recording_Title</th>\n",
       "      <th>Release_Title</th>\n",
       "      <th>Recording_Duration</th>\n",
       "      <th>Songwriters_Listed</th>\n",
       "      <th>Song_Length</th>\n",
       "      <th>Length_Compared_to_Median</th>\n",
       "    </tr>\n",
       "  </thead>\n",
       "  <tbody>\n",
       "    <tr>\n",
       "      <th>14080</th>\n",
       "      <td>USAB02001303</td>\n",
       "      <td>US</td>\n",
       "      <td>AB0</td>\n",
       "      <td>20.0</td>\n",
       "      <td>3/1/2021</td>\n",
       "      <td>Apple</td>\n",
       "      <td>28962</td>\n",
       "      <td>Mac-K the K Baby</td>\n",
       "      <td>OneWay DumbWay</td>\n",
       "      <td>Butterflies</td>\n",
       "      <td>Butterflies - Single</td>\n",
       "      <td>0</td>\n",
       "      <td>1</td>\n",
       "      <td>Up to 2 min</td>\n",
       "      <td>Lower</td>\n",
       "    </tr>\n",
       "    <tr>\n",
       "      <th>14081</th>\n",
       "      <td>GBKQU2111667</td>\n",
       "      <td>GB</td>\n",
       "      <td>KQU</td>\n",
       "      <td>21.0</td>\n",
       "      <td>3/1/2021</td>\n",
       "      <td>Apple</td>\n",
       "      <td>28962</td>\n",
       "      <td>Mac-K the K Baby</td>\n",
       "      <td>OneWay DumbWay</td>\n",
       "      <td>Butterflies</td>\n",
       "      <td>Butterflies - Single</td>\n",
       "      <td>0</td>\n",
       "      <td>1</td>\n",
       "      <td>Up to 2 min</td>\n",
       "      <td>Lower</td>\n",
       "    </tr>\n",
       "    <tr>\n",
       "      <th>14916</th>\n",
       "      <td>AUHS01912771</td>\n",
       "      <td>AU</td>\n",
       "      <td>HS0</td>\n",
       "      <td>19.0</td>\n",
       "      <td>2/1/2021</td>\n",
       "      <td>iHeart Radio</td>\n",
       "      <td>2192</td>\n",
       "      <td>Jelly Roll &amp; Struggle Jennings</td>\n",
       "      <td>Struggle  Jelly Roll</td>\n",
       "      <td>Can't Go Home</td>\n",
       "      <td>Waylon &amp; Willie 2</td>\n",
       "      <td>0</td>\n",
       "      <td>0</td>\n",
       "      <td>Up to 2 min</td>\n",
       "      <td>Lower</td>\n",
       "    </tr>\n",
       "    <tr>\n",
       "      <th>33960</th>\n",
       "      <td>USRH12000094</td>\n",
       "      <td>US</td>\n",
       "      <td>RH1</td>\n",
       "      <td>20.0</td>\n",
       "      <td>1/1/2021</td>\n",
       "      <td>Apple</td>\n",
       "      <td>43995</td>\n",
       "      <td>T9ine</td>\n",
       "      <td>Columbia</td>\n",
       "      <td>Go Harder</td>\n",
       "      <td>Go Harder - Single</td>\n",
       "      <td>0</td>\n",
       "      <td>1</td>\n",
       "      <td>Up to 2 min</td>\n",
       "      <td>Lower</td>\n",
       "    </tr>\n",
       "    <tr>\n",
       "      <th>51916</th>\n",
       "      <td>QM24S1705172</td>\n",
       "      <td>QM</td>\n",
       "      <td>24S</td>\n",
       "      <td>17.0</td>\n",
       "      <td>2/1/2021</td>\n",
       "      <td>iHeart Radio</td>\n",
       "      <td>1045</td>\n",
       "      <td>Jelly Roll &amp; Struggle Jennings</td>\n",
       "      <td>Struggle  Jelly Roll</td>\n",
       "      <td>Love Won (feat. Shooter Jennings)</td>\n",
       "      <td>Waylon &amp; Willie 2</td>\n",
       "      <td>0</td>\n",
       "      <td>0</td>\n",
       "      <td>Up to 2 min</td>\n",
       "      <td>Lower</td>\n",
       "    </tr>\n",
       "    <tr>\n",
       "      <th>56892</th>\n",
       "      <td>USA6B0446310</td>\n",
       "      <td>US</td>\n",
       "      <td>A6B</td>\n",
       "      <td>4.0</td>\n",
       "      <td>3/1/2021</td>\n",
       "      <td>Apple</td>\n",
       "      <td>103842</td>\n",
       "      <td>RH Music, Eduardo Luzquiños</td>\n",
       "      <td>Eduardo Luzquiños</td>\n",
       "      <td>Motive X Promiscuous</td>\n",
       "      <td>Motive X Promiscuous (Remix) - Single</td>\n",
       "      <td>0</td>\n",
       "      <td>1</td>\n",
       "      <td>Up to 2 min</td>\n",
       "      <td>Lower</td>\n",
       "    </tr>\n",
       "    <tr>\n",
       "      <th>56893</th>\n",
       "      <td>USY251719876</td>\n",
       "      <td>US</td>\n",
       "      <td>Y25</td>\n",
       "      <td>17.0</td>\n",
       "      <td>3/1/2021</td>\n",
       "      <td>Apple</td>\n",
       "      <td>20793</td>\n",
       "      <td>RH Music, Eduardo Luzquiños</td>\n",
       "      <td>Eduardo Luzquiños</td>\n",
       "      <td>Motive X Promiscuous</td>\n",
       "      <td>Motive X Promiscuous (Remix) - Single</td>\n",
       "      <td>0</td>\n",
       "      <td>1</td>\n",
       "      <td>Up to 2 min</td>\n",
       "      <td>Lower</td>\n",
       "    </tr>\n",
       "    <tr>\n",
       "      <th>56894</th>\n",
       "      <td>USLR50100122</td>\n",
       "      <td>US</td>\n",
       "      <td>LR5</td>\n",
       "      <td>1.0</td>\n",
       "      <td>3/1/2021</td>\n",
       "      <td>Apple</td>\n",
       "      <td>20793</td>\n",
       "      <td>RH Music, Eduardo Luzquiños</td>\n",
       "      <td>Eduardo Luzquiños</td>\n",
       "      <td>Motive X Promiscuous</td>\n",
       "      <td>Motive X Promiscuous (Remix) - Single</td>\n",
       "      <td>0</td>\n",
       "      <td>1</td>\n",
       "      <td>Up to 2 min</td>\n",
       "      <td>Lower</td>\n",
       "    </tr>\n",
       "    <tr>\n",
       "      <th>81337</th>\n",
       "      <td>USWB12004709</td>\n",
       "      <td>US</td>\n",
       "      <td>WB1</td>\n",
       "      <td>20.0</td>\n",
       "      <td>2/1/2021</td>\n",
       "      <td>iHeart Radio</td>\n",
       "      <td>1582</td>\n",
       "      <td>Thom Rotella</td>\n",
       "      <td>Thom Rotella</td>\n",
       "      <td>Street Talk</td>\n",
       "      <td>Street Talk</td>\n",
       "      <td>0</td>\n",
       "      <td>0</td>\n",
       "      <td>Up to 2 min</td>\n",
       "      <td>Lower</td>\n",
       "    </tr>\n",
       "    <tr>\n",
       "      <th>81634</th>\n",
       "      <td>QZMEN2057850</td>\n",
       "      <td>QZ</td>\n",
       "      <td>MEN</td>\n",
       "      <td>20.0</td>\n",
       "      <td>3/1/2021</td>\n",
       "      <td>Apple</td>\n",
       "      <td>40593</td>\n",
       "      <td>Wovy, LowkeyLuke, Alejandro Lema</td>\n",
       "      <td>WOVY</td>\n",
       "      <td>Stuntin' On My Ex</td>\n",
       "      <td>Stuntin' On My Ex - Single</td>\n",
       "      <td>0</td>\n",
       "      <td>1</td>\n",
       "      <td>Up to 2 min</td>\n",
       "      <td>Lower</td>\n",
       "    </tr>\n",
       "    <tr>\n",
       "      <th>81635</th>\n",
       "      <td>QZFZ61916098</td>\n",
       "      <td>QZ</td>\n",
       "      <td>FZ6</td>\n",
       "      <td>19.0</td>\n",
       "      <td>3/1/2021</td>\n",
       "      <td>Apple</td>\n",
       "      <td>54851</td>\n",
       "      <td>Wovy, LowkeyLuke, Alejandro Lema</td>\n",
       "      <td>WOVY</td>\n",
       "      <td>Stuntin' On My Ex</td>\n",
       "      <td>Stuntin' On My Ex - Single</td>\n",
       "      <td>0</td>\n",
       "      <td>1</td>\n",
       "      <td>Up to 2 min</td>\n",
       "      <td>Lower</td>\n",
       "    </tr>\n",
       "    <tr>\n",
       "      <th>82926</th>\n",
       "      <td>USUYG1250546</td>\n",
       "      <td>US</td>\n",
       "      <td>UYG</td>\n",
       "      <td>12.0</td>\n",
       "      <td>1/1/2021</td>\n",
       "      <td>Apple</td>\n",
       "      <td>77875</td>\n",
       "      <td>Francisco Martin</td>\n",
       "      <td>19 Recordings, Inc.</td>\n",
       "      <td>Swollen</td>\n",
       "      <td>Swollen - Single</td>\n",
       "      <td>0</td>\n",
       "      <td>1</td>\n",
       "      <td>Up to 2 min</td>\n",
       "      <td>Lower</td>\n",
       "    </tr>\n",
       "    <tr>\n",
       "      <th>82927</th>\n",
       "      <td>TCAEI1916184</td>\n",
       "      <td>TC</td>\n",
       "      <td>AEI</td>\n",
       "      <td>19.0</td>\n",
       "      <td>1/1/2021</td>\n",
       "      <td>Apple</td>\n",
       "      <td>24261</td>\n",
       "      <td>Francisco Martin</td>\n",
       "      <td>19 Recordings, Inc.</td>\n",
       "      <td>Swollen</td>\n",
       "      <td>Swollen - Single</td>\n",
       "      <td>0</td>\n",
       "      <td>1</td>\n",
       "      <td>Up to 2 min</td>\n",
       "      <td>Lower</td>\n",
       "    </tr>\n",
       "    <tr>\n",
       "      <th>82928</th>\n",
       "      <td>QZFYW2165518</td>\n",
       "      <td>QZ</td>\n",
       "      <td>FYW</td>\n",
       "      <td>21.0</td>\n",
       "      <td>3/1/2021</td>\n",
       "      <td>Apple</td>\n",
       "      <td>93383</td>\n",
       "      <td>Francisco Martin</td>\n",
       "      <td>19 Recordings, Inc.</td>\n",
       "      <td>Swollen</td>\n",
       "      <td>Swollen - Single</td>\n",
       "      <td>0</td>\n",
       "      <td>1</td>\n",
       "      <td>Up to 2 min</td>\n",
       "      <td>Lower</td>\n",
       "    </tr>\n",
       "    <tr>\n",
       "      <th>89095</th>\n",
       "      <td>QZFZ32144427</td>\n",
       "      <td>QZ</td>\n",
       "      <td>FZ3</td>\n",
       "      <td>21.0</td>\n",
       "      <td>3/1/2021</td>\n",
       "      <td>Apple</td>\n",
       "      <td>9206</td>\n",
       "      <td>Leat'eq</td>\n",
       "      <td>Leat'eq</td>\n",
       "      <td>Tokyo</td>\n",
       "      <td>Tokyo (Lo-Fi version) - Single</td>\n",
       "      <td>0</td>\n",
       "      <td>1</td>\n",
       "      <td>Up to 2 min</td>\n",
       "      <td>Lower</td>\n",
       "    </tr>\n",
       "    <tr>\n",
       "      <th>89096</th>\n",
       "      <td>QZNWW2055289</td>\n",
       "      <td>QZ</td>\n",
       "      <td>NWW</td>\n",
       "      <td>20.0</td>\n",
       "      <td>3/1/2021</td>\n",
       "      <td>Apple</td>\n",
       "      <td>9206</td>\n",
       "      <td>Leat'eq</td>\n",
       "      <td>Leat'eq</td>\n",
       "      <td>Tokyo</td>\n",
       "      <td>Tokyo (Lo-Fi version) - Single</td>\n",
       "      <td>0</td>\n",
       "      <td>1</td>\n",
       "      <td>Up to 2 min</td>\n",
       "      <td>Lower</td>\n",
       "    </tr>\n",
       "    <tr>\n",
       "      <th>99369</th>\n",
       "      <td>QZNMT2090013</td>\n",
       "      <td>QZ</td>\n",
       "      <td>NMT</td>\n",
       "      <td>20.0</td>\n",
       "      <td>NaN</td>\n",
       "      <td>Apple</td>\n",
       "      <td>54015</td>\n",
       "      <td>علیرضا معینی</td>\n",
       "      <td>Iran Seda</td>\n",
       "      <td>این که تو داری قیامت است نه قامت</td>\n",
       "      <td>غزلیات سعدی: ۶</td>\n",
       "      <td>0</td>\n",
       "      <td>1</td>\n",
       "      <td>Up to 2 min</td>\n",
       "      <td>Lower</td>\n",
       "    </tr>\n",
       "    <tr>\n",
       "      <th>99390</th>\n",
       "      <td>SEBGA2001102</td>\n",
       "      <td>SE</td>\n",
       "      <td>BGA</td>\n",
       "      <td>20.0</td>\n",
       "      <td>NaN</td>\n",
       "      <td>Apple</td>\n",
       "      <td>53982</td>\n",
       "      <td>علیرضا معینی</td>\n",
       "      <td>Iran Seda</td>\n",
       "      <td>تو را ز حال پریشان ما چه غم دارد</td>\n",
       "      <td>غزلیات سعدی: ۶</td>\n",
       "      <td>0</td>\n",
       "      <td>1</td>\n",
       "      <td>Up to 2 min</td>\n",
       "      <td>Lower</td>\n",
       "    </tr>\n",
       "    <tr>\n",
       "      <th>99398</th>\n",
       "      <td>QZFYW2140933</td>\n",
       "      <td>QZ</td>\n",
       "      <td>FYW</td>\n",
       "      <td>21.0</td>\n",
       "      <td>NaN</td>\n",
       "      <td>Apple</td>\n",
       "      <td>53990</td>\n",
       "      <td>علیرضا معینی</td>\n",
       "      <td>Iran Seda</td>\n",
       "      <td>حدیث عشق به طومار در نمی‌گنجد</td>\n",
       "      <td>غزلیات سعدی: ۶</td>\n",
       "      <td>0</td>\n",
       "      <td>1</td>\n",
       "      <td>Up to 2 min</td>\n",
       "      <td>Lower</td>\n",
       "    </tr>\n",
       "    <tr>\n",
       "      <th>99438</th>\n",
       "      <td>USHM21822455</td>\n",
       "      <td>US</td>\n",
       "      <td>HM2</td>\n",
       "      <td>18.0</td>\n",
       "      <td>NaN</td>\n",
       "      <td>Apple</td>\n",
       "      <td>53993</td>\n",
       "      <td>علیرضا معینی</td>\n",
       "      <td>Iran Seda</td>\n",
       "      <td>غلام آن سبک روحم که با من سر گران دارد</td>\n",
       "      <td>غزلیات سعدی: ۶</td>\n",
       "      <td>0</td>\n",
       "      <td>1</td>\n",
       "      <td>Up to 2 min</td>\n",
       "      <td>Lower</td>\n",
       "    </tr>\n",
       "    <tr>\n",
       "      <th>99439</th>\n",
       "      <td>QZFZ72159368</td>\n",
       "      <td>QZ</td>\n",
       "      <td>FZ7</td>\n",
       "      <td>21.0</td>\n",
       "      <td>NaN</td>\n",
       "      <td>Apple</td>\n",
       "      <td>54028</td>\n",
       "      <td>علیرضا معینی</td>\n",
       "      <td>Iran Seda</td>\n",
       "      <td>گر جان طلبی فدای جانت</td>\n",
       "      <td>غزلیات سعدی: ۶</td>\n",
       "      <td>0</td>\n",
       "      <td>1</td>\n",
       "      <td>Up to 2 min</td>\n",
       "      <td>Lower</td>\n",
       "    </tr>\n",
       "    <tr>\n",
       "      <th>99440</th>\n",
       "      <td>TCAEL1937212</td>\n",
       "      <td>TC</td>\n",
       "      <td>AEL</td>\n",
       "      <td>19.0</td>\n",
       "      <td>NaN</td>\n",
       "      <td>Apple</td>\n",
       "      <td>54041</td>\n",
       "      <td>علیرضا معینی</td>\n",
       "      <td>NaN</td>\n",
       "      <td>گر کسی سرو شنیده‌ست که رفته‌ست این است</td>\n",
       "      <td>NaN</td>\n",
       "      <td>0</td>\n",
       "      <td>1</td>\n",
       "      <td>Up to 2 min</td>\n",
       "      <td>Lower</td>\n",
       "    </tr>\n",
       "    <tr>\n",
       "      <th>99460</th>\n",
       "      <td>US23A1528806</td>\n",
       "      <td>US</td>\n",
       "      <td>23A</td>\n",
       "      <td>15.0</td>\n",
       "      <td>NaN</td>\n",
       "      <td>Apple</td>\n",
       "      <td>54044</td>\n",
       "      <td>علیرضا معینی</td>\n",
       "      <td>NaN</td>\n",
       "      <td>مرا خود با تو چیزی در میان هست</td>\n",
       "      <td>NaN</td>\n",
       "      <td>0</td>\n",
       "      <td>1</td>\n",
       "      <td>Up to 2 min</td>\n",
       "      <td>Lower</td>\n",
       "    </tr>\n",
       "    <tr>\n",
       "      <th>99467</th>\n",
       "      <td>US23A1528412</td>\n",
       "      <td>US</td>\n",
       "      <td>23A</td>\n",
       "      <td>15.0</td>\n",
       "      <td>NaN</td>\n",
       "      <td>Apple</td>\n",
       "      <td>54004</td>\n",
       "      <td>علیرضا معینی</td>\n",
       "      <td>NaN</td>\n",
       "      <td>هر چه در روی تو گویند به زیبایی هست</td>\n",
       "      <td>NaN</td>\n",
       "      <td>0</td>\n",
       "      <td>1</td>\n",
       "      <td>Up to 2 min</td>\n",
       "      <td>Lower</td>\n",
       "    </tr>\n",
       "    <tr>\n",
       "      <th>99468</th>\n",
       "      <td>TCAEK1910187</td>\n",
       "      <td>TC</td>\n",
       "      <td>AEK</td>\n",
       "      <td>19.0</td>\n",
       "      <td>NaN</td>\n",
       "      <td>Apple</td>\n",
       "      <td>54008</td>\n",
       "      <td>علیرضا معینی</td>\n",
       "      <td>Iran Seda</td>\n",
       "      <td>هر که می با تو خورد عربده کرد</td>\n",
       "      <td>غزلیات سعدی: ۶</td>\n",
       "      <td>0</td>\n",
       "      <td>1</td>\n",
       "      <td>Up to 2 min</td>\n",
       "      <td>Lower</td>\n",
       "    </tr>\n",
       "  </tbody>\n",
       "</table>\n",
       "</div>"
      ],
      "text/plain": [
       "               ISRC Country_Code Registrant_Code  Year_of_Reference  \\\n",
       "14080  USAB02001303           US             AB0               20.0   \n",
       "14081  GBKQU2111667           GB             KQU               21.0   \n",
       "14916  AUHS01912771           AU             HS0               19.0   \n",
       "33960  USRH12000094           US             RH1               20.0   \n",
       "51916  QM24S1705172           QM             24S               17.0   \n",
       "56892  USA6B0446310           US             A6B                4.0   \n",
       "56893  USY251719876           US             Y25               17.0   \n",
       "56894  USLR50100122           US             LR5                1.0   \n",
       "81337  USWB12004709           US             WB1               20.0   \n",
       "81634  QZMEN2057850           QZ             MEN               20.0   \n",
       "81635  QZFZ61916098           QZ             FZ6               19.0   \n",
       "82926  USUYG1250546           US             UYG               12.0   \n",
       "82927  TCAEI1916184           TC             AEI               19.0   \n",
       "82928  QZFYW2165518           QZ             FYW               21.0   \n",
       "89095  QZFZ32144427           QZ             FZ3               21.0   \n",
       "89096  QZNWW2055289           QZ             NWW               20.0   \n",
       "99369  QZNMT2090013           QZ             NMT               20.0   \n",
       "99390  SEBGA2001102           SE             BGA               20.0   \n",
       "99398  QZFYW2140933           QZ             FYW               21.0   \n",
       "99438  USHM21822455           US             HM2               18.0   \n",
       "99439  QZFZ72159368           QZ             FZ7               21.0   \n",
       "99440  TCAEL1937212           TC             AEL               19.0   \n",
       "99460  US23A1528806           US             23A               15.0   \n",
       "99467  US23A1528412           US             23A               15.0   \n",
       "99468  TCAEK1910187           TC             AEK               19.0   \n",
       "\n",
       "      Usage_Period           DSP  Streams                  Recording_Artist  \\\n",
       "14080     3/1/2021         Apple    28962                  Mac-K the K Baby   \n",
       "14081     3/1/2021         Apple    28962                  Mac-K the K Baby   \n",
       "14916     2/1/2021  iHeart Radio     2192    Jelly Roll & Struggle Jennings   \n",
       "33960     1/1/2021         Apple    43995                             T9ine   \n",
       "51916     2/1/2021  iHeart Radio     1045    Jelly Roll & Struggle Jennings   \n",
       "56892     3/1/2021         Apple   103842       RH Music, Eduardo Luzquiños   \n",
       "56893     3/1/2021         Apple    20793       RH Music, Eduardo Luzquiños   \n",
       "56894     3/1/2021         Apple    20793       RH Music, Eduardo Luzquiños   \n",
       "81337     2/1/2021  iHeart Radio     1582                      Thom Rotella   \n",
       "81634     3/1/2021         Apple    40593  Wovy, LowkeyLuke, Alejandro Lema   \n",
       "81635     3/1/2021         Apple    54851  Wovy, LowkeyLuke, Alejandro Lema   \n",
       "82926     1/1/2021         Apple    77875                  Francisco Martin   \n",
       "82927     1/1/2021         Apple    24261                  Francisco Martin   \n",
       "82928     3/1/2021         Apple    93383                  Francisco Martin   \n",
       "89095     3/1/2021         Apple     9206                           Leat'eq   \n",
       "89096     3/1/2021         Apple     9206                           Leat'eq   \n",
       "99369          NaN         Apple    54015                      علیرضا معینی   \n",
       "99390          NaN         Apple    53982                      علیرضا معینی   \n",
       "99398          NaN         Apple    53990                      علیرضا معینی   \n",
       "99438          NaN         Apple    53993                      علیرضا معینی   \n",
       "99439          NaN         Apple    54028                      علیرضا معینی   \n",
       "99440          NaN         Apple    54041                      علیرضا معینی   \n",
       "99460          NaN         Apple    54044                      علیرضا معینی   \n",
       "99467          NaN         Apple    54004                      علیرضا معینی   \n",
       "99468          NaN         Apple    54008                      علیرضا معینی   \n",
       "\n",
       "            Recording_Label                         Recording_Title  \\\n",
       "14080        OneWay DumbWay                             Butterflies   \n",
       "14081        OneWay DumbWay                             Butterflies   \n",
       "14916  Struggle  Jelly Roll                           Can't Go Home   \n",
       "33960              Columbia                               Go Harder   \n",
       "51916  Struggle  Jelly Roll       Love Won (feat. Shooter Jennings)   \n",
       "56892     Eduardo Luzquiños                    Motive X Promiscuous   \n",
       "56893     Eduardo Luzquiños                    Motive X Promiscuous   \n",
       "56894     Eduardo Luzquiños                    Motive X Promiscuous   \n",
       "81337          Thom Rotella                             Street Talk   \n",
       "81634                  WOVY                       Stuntin' On My Ex   \n",
       "81635                  WOVY                       Stuntin' On My Ex   \n",
       "82926   19 Recordings, Inc.                                 Swollen   \n",
       "82927   19 Recordings, Inc.                                 Swollen   \n",
       "82928   19 Recordings, Inc.                                 Swollen   \n",
       "89095               Leat'eq                                   Tokyo   \n",
       "89096               Leat'eq                                   Tokyo   \n",
       "99369             Iran Seda        این که تو داری قیامت است نه قامت   \n",
       "99390             Iran Seda        تو را ز حال پریشان ما چه غم دارد   \n",
       "99398             Iran Seda           حدیث عشق به طومار در نمی‌گنجد   \n",
       "99438             Iran Seda  غلام آن سبک روحم که با من سر گران دارد   \n",
       "99439             Iran Seda                   گر جان طلبی فدای جانت   \n",
       "99440                   NaN  گر کسی سرو شنیده‌ست که رفته‌ست این است   \n",
       "99460                   NaN          مرا خود با تو چیزی در میان هست   \n",
       "99467                   NaN     هر چه در روی تو گویند به زیبایی هست   \n",
       "99468             Iran Seda           هر که می با تو خورد عربده کرد   \n",
       "\n",
       "                               Release_Title  Recording_Duration  \\\n",
       "14080                   Butterflies - Single                   0   \n",
       "14081                   Butterflies - Single                   0   \n",
       "14916                      Waylon & Willie 2                   0   \n",
       "33960                     Go Harder - Single                   0   \n",
       "51916                      Waylon & Willie 2                   0   \n",
       "56892  Motive X Promiscuous (Remix) - Single                   0   \n",
       "56893  Motive X Promiscuous (Remix) - Single                   0   \n",
       "56894  Motive X Promiscuous (Remix) - Single                   0   \n",
       "81337                            Street Talk                   0   \n",
       "81634             Stuntin' On My Ex - Single                   0   \n",
       "81635             Stuntin' On My Ex - Single                   0   \n",
       "82926                       Swollen - Single                   0   \n",
       "82927                       Swollen - Single                   0   \n",
       "82928                       Swollen - Single                   0   \n",
       "89095         Tokyo (Lo-Fi version) - Single                   0   \n",
       "89096         Tokyo (Lo-Fi version) - Single                   0   \n",
       "99369                         غزلیات سعدی: ۶                   0   \n",
       "99390                         غزلیات سعدی: ۶                   0   \n",
       "99398                         غزلیات سعدی: ۶                   0   \n",
       "99438                         غزلیات سعدی: ۶                   0   \n",
       "99439                         غزلیات سعدی: ۶                   0   \n",
       "99440                                    NaN                   0   \n",
       "99460                                    NaN                   0   \n",
       "99467                                    NaN                   0   \n",
       "99468                         غزلیات سعدی: ۶                   0   \n",
       "\n",
       "       Songwriters_Listed  Song_Length Length_Compared_to_Median  \n",
       "14080                   1  Up to 2 min                     Lower  \n",
       "14081                   1  Up to 2 min                     Lower  \n",
       "14916                   0  Up to 2 min                     Lower  \n",
       "33960                   1  Up to 2 min                     Lower  \n",
       "51916                   0  Up to 2 min                     Lower  \n",
       "56892                   1  Up to 2 min                     Lower  \n",
       "56893                   1  Up to 2 min                     Lower  \n",
       "56894                   1  Up to 2 min                     Lower  \n",
       "81337                   0  Up to 2 min                     Lower  \n",
       "81634                   1  Up to 2 min                     Lower  \n",
       "81635                   1  Up to 2 min                     Lower  \n",
       "82926                   1  Up to 2 min                     Lower  \n",
       "82927                   1  Up to 2 min                     Lower  \n",
       "82928                   1  Up to 2 min                     Lower  \n",
       "89095                   1  Up to 2 min                     Lower  \n",
       "89096                   1  Up to 2 min                     Lower  \n",
       "99369                   1  Up to 2 min                     Lower  \n",
       "99390                   1  Up to 2 min                     Lower  \n",
       "99398                   1  Up to 2 min                     Lower  \n",
       "99438                   1  Up to 2 min                     Lower  \n",
       "99439                   1  Up to 2 min                     Lower  \n",
       "99440                   1  Up to 2 min                     Lower  \n",
       "99460                   1  Up to 2 min                     Lower  \n",
       "99467                   1  Up to 2 min                     Lower  \n",
       "99468                   1  Up to 2 min                     Lower  "
      ]
     },
     "execution_count": 159,
     "metadata": {},
     "output_type": "execute_result"
    }
   ],
   "source": [
    "mlc.nsmallest(25, ['Recording_Duration'])"
   ]
  },
  {
   "cell_type": "markdown",
   "id": "7b2a40e0",
   "metadata": {},
   "source": [
    "There are a significant number of entries in the dataset with the recording duration listed as 0 seconds. Will seek additional clarity around these entries."
   ]
  },
  {
   "cell_type": "code",
   "execution_count": 112,
   "id": "f3b41389",
   "metadata": {
    "scrolled": true
   },
   "outputs": [
    {
     "data": {
      "text/plain": [
       "327      59\n",
       "338      56\n",
       "351      56\n",
       "349      56\n",
       "58       55\n",
       "         ..\n",
       "3794      1\n",
       "33633     1\n",
       "3894      1\n",
       "15937     1\n",
       "8755      1\n",
       "Name: Recording_Duration, Length: 2000, dtype: int64"
      ]
     },
     "execution_count": 112,
     "metadata": {},
     "output_type": "execute_result"
    }
   ],
   "source": [
    "mlc['Recording_Duration'].value_counts().loc[lambda x : x<60]"
   ]
  },
  {
   "cell_type": "markdown",
   "id": "8ab05902",
   "metadata": {},
   "source": [
    "There are 2000 entries in the dataset with a song length less than 60 seconds."
   ]
  },
  {
   "cell_type": "code",
   "execution_count": 113,
   "id": "ae1c4507",
   "metadata": {
    "scrolled": true
   },
   "outputs": [],
   "source": [
    "# mlc['Recording Duration (Seconds)'].value_counts().loc[lambda x : x>60 and x<120]\n",
    "# moving to a for loop with .apply in order to evaluate multiple conditions in a cleaner format"
   ]
  },
  {
   "cell_type": "markdown",
   "id": "67f746a7",
   "metadata": {
    "scrolled": false
   },
   "source": [
    "def assign_length(row):\n",
    "    if row <= 120:\n",
    "        result = \"Up to 2 min\"\n",
    "    elif row <= 240:\n",
    "        result = \"2-4 min\"\n",
    "    elif row <= 420:\n",
    "        result = \"4-7 min\"\n",
    "    elif row <= 600:\n",
    "        result = \"7-10 min\"\n",
    "    elif row <= 900:\n",
    "        result = \"10-15 min\"\n",
    "    elif row <= 3600:\n",
    "        result = \"15-60 min\"\n",
    "    elif row <= 86400:\n",
    "        result = \"1-24 hours\"\n",
    "    else:\n",
    "        result = \"More than 1 day\"\n",
    "    return result\n",
    "\n",
    "mlc['Song Length'] = mlc['Recording Duration (Seconds)'].apply(assign_length)\n",
    "mlc.head()"
   ]
  },
  {
   "cell_type": "code",
   "execution_count": 114,
   "id": "b24832db",
   "metadata": {
    "scrolled": true
   },
   "outputs": [
    {
     "data": {
      "text/plain": [
       "2-4 min            64179\n",
       "4-7 min            17204\n",
       "Up to 2 min        12487\n",
       "7-10 min            2289\n",
       "1-24 hours          1636\n",
       "15-60 min           1257\n",
       "10-15 min            751\n",
       "More than 1 day      197\n",
       "Name: Song_Length, dtype: int64"
      ]
     },
     "execution_count": 114,
     "metadata": {},
     "output_type": "execute_result"
    }
   ],
   "source": [
    "mlc['Song_Length'].value_counts()"
   ]
  },
  {
   "cell_type": "markdown",
   "id": "57aba115",
   "metadata": {},
   "source": [
    "def compared_to_median(row):\n",
    "    if row < 190:\n",
    "        result = \"Lower\"\n",
    "    elif row == 190:\n",
    "        result = \"Median\"\n",
    "    else:\n",
    "        result = \"Higher\"\n",
    "    return result\n",
    "mlc['Length Compared to Median'] = mlc['Recording Duration (Seconds)'].apply(compared_to_median)\n",
    "mlc.head()"
   ]
  },
  {
   "cell_type": "code",
   "execution_count": 115,
   "id": "621ecff9",
   "metadata": {},
   "outputs": [
    {
     "data": {
      "text/plain": [
       "Lower     49891\n",
       "Higher    49470\n",
       "Median      639\n",
       "Name: Length_Compared_to_Median, dtype: int64"
      ]
     },
     "execution_count": 115,
     "metadata": {},
     "output_type": "execute_result"
    }
   ],
   "source": [
    "mlc['Length_Compared_to_Median'].value_counts()"
   ]
  },
  {
   "cell_type": "code",
   "execution_count": 116,
   "id": "15571707",
   "metadata": {},
   "outputs": [
    {
     "data": {
      "text/plain": [
       "2-4 min            64179\n",
       "4-7 min            17204\n",
       "Up to 2 min        12487\n",
       "7-10 min            2289\n",
       "1-24 hours          1636\n",
       "15-60 min           1257\n",
       "10-15 min            751\n",
       "More than 1 day      197\n",
       "Name: Song_Length, dtype: int64"
      ]
     },
     "execution_count": 116,
     "metadata": {},
     "output_type": "execute_result"
    }
   ],
   "source": [
    "mlc['Song_Length'].value_counts()"
   ]
  },
  {
   "cell_type": "code",
   "execution_count": 117,
   "id": "a4abb496",
   "metadata": {
    "scrolled": true
   },
   "outputs": [
    {
     "data": {
      "text/plain": [
       "count      100000\n",
       "unique          8\n",
       "top       2-4 min\n",
       "freq        64179\n",
       "Name: Song_Length, dtype: object"
      ]
     },
     "execution_count": 117,
     "metadata": {},
     "output_type": "execute_result"
    }
   ],
   "source": [
    "mlc['Song_Length'].describe()"
   ]
  },
  {
   "cell_type": "code",
   "execution_count": 175,
   "id": "a97a1321",
   "metadata": {
    "scrolled": true
   },
   "outputs": [
    {
     "name": "stdout",
     "output_type": "stream",
     "text": [
      "                                Streams\n",
      "                                    sum\n",
      "DSP          Recording_Duration        \n",
      "Amazon       4                    33756\n",
      "             8                     1123\n",
      "             9                     1287\n",
      "             10                   99467\n",
      "             12                   27247\n",
      "...                                 ...\n",
      "iHeart Radio 669                    256\n",
      "             693                    422\n",
      "             703                    311\n",
      "             1550                   129\n",
      "             3380                    98\n",
      "\n",
      "[6629 rows x 1 columns]\n"
     ]
    }
   ],
   "source": [
    "x = mlc.groupby(['DSP', 'Recording_Duration']).agg({'Streams':['sum']})\n",
    "print(x)"
   ]
  },
  {
   "cell_type": "markdown",
   "id": "a2e68b34",
   "metadata": {},
   "source": [
    "## Statistical insights"
   ]
  },
  {
   "cell_type": "code",
   "execution_count": 118,
   "id": "53f5e9d8",
   "metadata": {},
   "outputs": [
    {
     "data": {
      "text/html": [
       "<div>\n",
       "<style scoped>\n",
       "    .dataframe tbody tr th:only-of-type {\n",
       "        vertical-align: middle;\n",
       "    }\n",
       "\n",
       "    .dataframe tbody tr th {\n",
       "        vertical-align: top;\n",
       "    }\n",
       "\n",
       "    .dataframe thead th {\n",
       "        text-align: right;\n",
       "    }\n",
       "</style>\n",
       "<table border=\"1\" class=\"dataframe\">\n",
       "  <thead>\n",
       "    <tr style=\"text-align: right;\">\n",
       "      <th></th>\n",
       "      <th>ISRC</th>\n",
       "      <th>Country_Code</th>\n",
       "      <th>Registrant_Code</th>\n",
       "      <th>Year_of_Reference</th>\n",
       "      <th>Usage_Period</th>\n",
       "      <th>DSP</th>\n",
       "      <th>Streams</th>\n",
       "      <th>Recording_Artist</th>\n",
       "      <th>Recording_Label</th>\n",
       "      <th>Recording_Title</th>\n",
       "      <th>Release_Title</th>\n",
       "      <th>Recording_Duration</th>\n",
       "      <th>Songwriters_Listed</th>\n",
       "      <th>Song_Length</th>\n",
       "      <th>Length_Compared_to_Median</th>\n",
       "    </tr>\n",
       "  </thead>\n",
       "  <tbody>\n",
       "    <tr>\n",
       "      <th>count</th>\n",
       "      <td>98240</td>\n",
       "      <td>98303</td>\n",
       "      <td>98303</td>\n",
       "      <td>98239.000000</td>\n",
       "      <td>91898</td>\n",
       "      <td>96001</td>\n",
       "      <td>1.000000e+05</td>\n",
       "      <td>100000</td>\n",
       "      <td>98992</td>\n",
       "      <td>100000</td>\n",
       "      <td>99931</td>\n",
       "      <td>100000.000000</td>\n",
       "      <td>100000.000000</td>\n",
       "      <td>100000</td>\n",
       "      <td>100000</td>\n",
       "    </tr>\n",
       "    <tr>\n",
       "      <th>unique</th>\n",
       "      <td>54621</td>\n",
       "      <td>77</td>\n",
       "      <td>2368</td>\n",
       "      <td>NaN</td>\n",
       "      <td>5</td>\n",
       "      <td>29</td>\n",
       "      <td>NaN</td>\n",
       "      <td>21149</td>\n",
       "      <td>11777</td>\n",
       "      <td>51057</td>\n",
       "      <td>36723</td>\n",
       "      <td>NaN</td>\n",
       "      <td>NaN</td>\n",
       "      <td>8</td>\n",
       "      <td>3</td>\n",
       "    </tr>\n",
       "    <tr>\n",
       "      <th>top</th>\n",
       "      <td>TCAEX2053645</td>\n",
       "      <td>US</td>\n",
       "      <td>UM7</td>\n",
       "      <td>NaN</td>\n",
       "      <td>3/1/2021</td>\n",
       "      <td>Spotify</td>\n",
       "      <td>NaN</td>\n",
       "      <td>Various artists</td>\n",
       "      <td>Atlantic Records</td>\n",
       "      <td>Savage</td>\n",
       "      <td>#unknown#</td>\n",
       "      <td>NaN</td>\n",
       "      <td>NaN</td>\n",
       "      <td>2-4 min</td>\n",
       "      <td>Lower</td>\n",
       "    </tr>\n",
       "    <tr>\n",
       "      <th>freq</th>\n",
       "      <td>119</td>\n",
       "      <td>41621</td>\n",
       "      <td>6020</td>\n",
       "      <td>NaN</td>\n",
       "      <td>39887</td>\n",
       "      <td>32268</td>\n",
       "      <td>NaN</td>\n",
       "      <td>967</td>\n",
       "      <td>1384</td>\n",
       "      <td>134</td>\n",
       "      <td>231</td>\n",
       "      <td>NaN</td>\n",
       "      <td>NaN</td>\n",
       "      <td>64179</td>\n",
       "      <td>49891</td>\n",
       "    </tr>\n",
       "    <tr>\n",
       "      <th>mean</th>\n",
       "      <td>NaN</td>\n",
       "      <td>NaN</td>\n",
       "      <td>NaN</td>\n",
       "      <td>19.671933</td>\n",
       "      <td>NaN</td>\n",
       "      <td>NaN</td>\n",
       "      <td>5.626550e+04</td>\n",
       "      <td>NaN</td>\n",
       "      <td>NaN</td>\n",
       "      <td>NaN</td>\n",
       "      <td>NaN</td>\n",
       "      <td>1016.893690</td>\n",
       "      <td>0.541610</td>\n",
       "      <td>NaN</td>\n",
       "      <td>NaN</td>\n",
       "    </tr>\n",
       "    <tr>\n",
       "      <th>std</th>\n",
       "      <td>NaN</td>\n",
       "      <td>NaN</td>\n",
       "      <td>NaN</td>\n",
       "      <td>12.638870</td>\n",
       "      <td>NaN</td>\n",
       "      <td>NaN</td>\n",
       "      <td>2.620276e+05</td>\n",
       "      <td>NaN</td>\n",
       "      <td>NaN</td>\n",
       "      <td>NaN</td>\n",
       "      <td>NaN</td>\n",
       "      <td>15565.692133</td>\n",
       "      <td>0.498268</td>\n",
       "      <td>NaN</td>\n",
       "      <td>NaN</td>\n",
       "    </tr>\n",
       "    <tr>\n",
       "      <th>min</th>\n",
       "      <td>NaN</td>\n",
       "      <td>NaN</td>\n",
       "      <td>NaN</td>\n",
       "      <td>0.000000</td>\n",
       "      <td>NaN</td>\n",
       "      <td>NaN</td>\n",
       "      <td>1.000000e+00</td>\n",
       "      <td>NaN</td>\n",
       "      <td>NaN</td>\n",
       "      <td>NaN</td>\n",
       "      <td>NaN</td>\n",
       "      <td>0.000000</td>\n",
       "      <td>0.000000</td>\n",
       "      <td>NaN</td>\n",
       "      <td>NaN</td>\n",
       "    </tr>\n",
       "    <tr>\n",
       "      <th>25%</th>\n",
       "      <td>NaN</td>\n",
       "      <td>NaN</td>\n",
       "      <td>NaN</td>\n",
       "      <td>17.000000</td>\n",
       "      <td>NaN</td>\n",
       "      <td>NaN</td>\n",
       "      <td>6.807000e+03</td>\n",
       "      <td>NaN</td>\n",
       "      <td>NaN</td>\n",
       "      <td>NaN</td>\n",
       "      <td>NaN</td>\n",
       "      <td>149.000000</td>\n",
       "      <td>0.000000</td>\n",
       "      <td>NaN</td>\n",
       "      <td>NaN</td>\n",
       "    </tr>\n",
       "    <tr>\n",
       "      <th>50%</th>\n",
       "      <td>NaN</td>\n",
       "      <td>NaN</td>\n",
       "      <td>NaN</td>\n",
       "      <td>19.000000</td>\n",
       "      <td>NaN</td>\n",
       "      <td>NaN</td>\n",
       "      <td>1.677250e+04</td>\n",
       "      <td>NaN</td>\n",
       "      <td>NaN</td>\n",
       "      <td>NaN</td>\n",
       "      <td>NaN</td>\n",
       "      <td>190.000000</td>\n",
       "      <td>1.000000</td>\n",
       "      <td>NaN</td>\n",
       "      <td>NaN</td>\n",
       "    </tr>\n",
       "    <tr>\n",
       "      <th>75%</th>\n",
       "      <td>NaN</td>\n",
       "      <td>NaN</td>\n",
       "      <td>NaN</td>\n",
       "      <td>20.000000</td>\n",
       "      <td>NaN</td>\n",
       "      <td>NaN</td>\n",
       "      <td>3.990300e+04</td>\n",
       "      <td>NaN</td>\n",
       "      <td>NaN</td>\n",
       "      <td>NaN</td>\n",
       "      <td>NaN</td>\n",
       "      <td>236.000000</td>\n",
       "      <td>1.000000</td>\n",
       "      <td>NaN</td>\n",
       "      <td>NaN</td>\n",
       "    </tr>\n",
       "    <tr>\n",
       "      <th>max</th>\n",
       "      <td>NaN</td>\n",
       "      <td>NaN</td>\n",
       "      <td>NaN</td>\n",
       "      <td>99.000000</td>\n",
       "      <td>NaN</td>\n",
       "      <td>NaN</td>\n",
       "      <td>2.145617e+07</td>\n",
       "      <td>NaN</td>\n",
       "      <td>NaN</td>\n",
       "      <td>NaN</td>\n",
       "      <td>NaN</td>\n",
       "      <td>818738.000000</td>\n",
       "      <td>1.000000</td>\n",
       "      <td>NaN</td>\n",
       "      <td>NaN</td>\n",
       "    </tr>\n",
       "  </tbody>\n",
       "</table>\n",
       "</div>"
      ],
      "text/plain": [
       "                ISRC Country_Code Registrant_Code  Year_of_Reference  \\\n",
       "count          98240        98303           98303       98239.000000   \n",
       "unique         54621           77            2368                NaN   \n",
       "top     TCAEX2053645           US             UM7                NaN   \n",
       "freq             119        41621            6020                NaN   \n",
       "mean             NaN          NaN             NaN          19.671933   \n",
       "std              NaN          NaN             NaN          12.638870   \n",
       "min              NaN          NaN             NaN           0.000000   \n",
       "25%              NaN          NaN             NaN          17.000000   \n",
       "50%              NaN          NaN             NaN          19.000000   \n",
       "75%              NaN          NaN             NaN          20.000000   \n",
       "max              NaN          NaN             NaN          99.000000   \n",
       "\n",
       "       Usage_Period      DSP       Streams Recording_Artist   Recording_Label  \\\n",
       "count         91898    96001  1.000000e+05           100000             98992   \n",
       "unique            5       29           NaN            21149             11777   \n",
       "top        3/1/2021  Spotify           NaN  Various artists  Atlantic Records   \n",
       "freq          39887    32268           NaN              967              1384   \n",
       "mean            NaN      NaN  5.626550e+04              NaN               NaN   \n",
       "std             NaN      NaN  2.620276e+05              NaN               NaN   \n",
       "min             NaN      NaN  1.000000e+00              NaN               NaN   \n",
       "25%             NaN      NaN  6.807000e+03              NaN               NaN   \n",
       "50%             NaN      NaN  1.677250e+04              NaN               NaN   \n",
       "75%             NaN      NaN  3.990300e+04              NaN               NaN   \n",
       "max             NaN      NaN  2.145617e+07              NaN               NaN   \n",
       "\n",
       "       Recording_Title Release_Title  Recording_Duration  Songwriters_Listed  \\\n",
       "count           100000         99931       100000.000000       100000.000000   \n",
       "unique           51057         36723                 NaN                 NaN   \n",
       "top             Savage     #unknown#                 NaN                 NaN   \n",
       "freq               134           231                 NaN                 NaN   \n",
       "mean               NaN           NaN         1016.893690            0.541610   \n",
       "std                NaN           NaN        15565.692133            0.498268   \n",
       "min                NaN           NaN            0.000000            0.000000   \n",
       "25%                NaN           NaN          149.000000            0.000000   \n",
       "50%                NaN           NaN          190.000000            1.000000   \n",
       "75%                NaN           NaN          236.000000            1.000000   \n",
       "max                NaN           NaN       818738.000000            1.000000   \n",
       "\n",
       "       Song_Length Length_Compared_to_Median  \n",
       "count       100000                    100000  \n",
       "unique           8                         3  \n",
       "top        2-4 min                     Lower  \n",
       "freq         64179                     49891  \n",
       "mean           NaN                       NaN  \n",
       "std            NaN                       NaN  \n",
       "min            NaN                       NaN  \n",
       "25%            NaN                       NaN  \n",
       "50%            NaN                       NaN  \n",
       "75%            NaN                       NaN  \n",
       "max            NaN                       NaN  "
      ]
     },
     "execution_count": 118,
     "metadata": {},
     "output_type": "execute_result"
    }
   ],
   "source": [
    "mlc.describe(include='all')"
   ]
  },
  {
   "cell_type": "markdown",
   "id": "8075fb67",
   "metadata": {},
   "source": [
    "## Visualizations & Insights"
   ]
  },
  {
   "cell_type": "markdown",
   "id": "a4981e62",
   "metadata": {},
   "source": [
    "#sns.swarmplot(x=spotify.Song_Length, y=spotify.Streams)\n",
    "#plt.title('Spotify: Streams Per Song Length');"
   ]
  },
  {
   "cell_type": "markdown",
   "id": "ef0200f0",
   "metadata": {},
   "source": [
    "plt.bar(spotify.Song_Length, spotify.Streams)\n",
    "plt.xlabel('Song Length')\n",
    "plt.ylabel('Quantity')\n",
    "plt.title('Spotify Song Length Distribution')\n",
    "plt.xticks(rotation = 70)\n",
    "plt.show();"
   ]
  },
  {
   "cell_type": "code",
   "execution_count": 119,
   "id": "ffa41ff8",
   "metadata": {},
   "outputs": [
    {
     "data": {
      "image/png": "[encoded data removed]",
      "text/plain": [
       "<Figure size 432x288 with 1 Axes>"
      ]
     },
     "metadata": {
      "needs_background": "light"
     },
     "output_type": "display_data"
    }
   ],
   "source": [
    "plt.hist(spotify.Song_Length, bins=8)\n",
    "plt.xlabel('Song Length')\n",
    "plt.ylabel('Quantity')\n",
    "plt.title('Distribution of Song Length, Spotify')\n",
    "plt.show()"
   ]
  },
  {
   "cell_type": "code",
   "execution_count": 120,
   "id": "4a21ff39",
   "metadata": {},
   "outputs": [
    {
     "data": {
      "text/html": [
       "<div>\n",
       "<style scoped>\n",
       "    .dataframe tbody tr th:only-of-type {\n",
       "        vertical-align: middle;\n",
       "    }\n",
       "\n",
       "    .dataframe tbody tr th {\n",
       "        vertical-align: top;\n",
       "    }\n",
       "\n",
       "    .dataframe thead th {\n",
       "        text-align: right;\n",
       "    }\n",
       "</style>\n",
       "<table border=\"1\" class=\"dataframe\">\n",
       "  <thead>\n",
       "    <tr style=\"text-align: right;\">\n",
       "      <th></th>\n",
       "      <th>ISRC</th>\n",
       "      <th>Country_Code</th>\n",
       "      <th>Registrant_Code</th>\n",
       "      <th>Year_of_Reference</th>\n",
       "      <th>Usage_Period</th>\n",
       "      <th>DSP</th>\n",
       "      <th>Streams</th>\n",
       "      <th>Recording_Artist</th>\n",
       "      <th>Recording_Label</th>\n",
       "      <th>Recording_Title</th>\n",
       "      <th>Release_Title</th>\n",
       "      <th>Recording_Duration</th>\n",
       "      <th>Songwriters_Listed</th>\n",
       "      <th>Song_Length</th>\n",
       "      <th>Length_Compared_to_Median</th>\n",
       "    </tr>\n",
       "  </thead>\n",
       "  <tbody>\n",
       "    <tr>\n",
       "      <th>5</th>\n",
       "      <td>QZJ842000983</td>\n",
       "      <td>QZ</td>\n",
       "      <td>J84</td>\n",
       "      <td>20.0</td>\n",
       "      <td>3/1/2021</td>\n",
       "      <td>Spotify</td>\n",
       "      <td>8133</td>\n",
       "      <td>x0o0x_</td>\n",
       "      <td>x0o0x_</td>\n",
       "      <td>______</td>\n",
       "      <td>______</td>\n",
       "      <td>142</td>\n",
       "      <td>0</td>\n",
       "      <td>2-4 min</td>\n",
       "      <td>Lower</td>\n",
       "    </tr>\n",
       "    <tr>\n",
       "      <th>6</th>\n",
       "      <td>USUG12100126</td>\n",
       "      <td>US</td>\n",
       "      <td>UG1</td>\n",
       "      <td>21.0</td>\n",
       "      <td>3/1/2021</td>\n",
       "      <td>Apple</td>\n",
       "      <td>5839</td>\n",
       "      <td>Quentin Miller</td>\n",
       "      <td>1317 Recordings</td>\n",
       "      <td>_A_ (feat. Pe$o)</td>\n",
       "      <td>Q.M.</td>\n",
       "      <td>199</td>\n",
       "      <td>1</td>\n",
       "      <td>2-4 min</td>\n",
       "      <td>Higher</td>\n",
       "    </tr>\n",
       "    <tr>\n",
       "      <th>7</th>\n",
       "      <td>QMJMT2103634</td>\n",
       "      <td>QM</td>\n",
       "      <td>JMT</td>\n",
       "      <td>21.0</td>\n",
       "      <td>2/1/2021</td>\n",
       "      <td>Amazon</td>\n",
       "      <td>7842</td>\n",
       "      <td>NF</td>\n",
       "      <td>NF Real Music</td>\n",
       "      <td>-Interlude-</td>\n",
       "      <td>The Search</td>\n",
       "      <td>49</td>\n",
       "      <td>0</td>\n",
       "      <td>Up to 2 min</td>\n",
       "      <td>Lower</td>\n",
       "    </tr>\n",
       "    <tr>\n",
       "      <th>8</th>\n",
       "      <td>USRC12100543</td>\n",
       "      <td>US</td>\n",
       "      <td>RC1</td>\n",
       "      <td>21.0</td>\n",
       "      <td>3/1/2021</td>\n",
       "      <td>Spotify</td>\n",
       "      <td>28419</td>\n",
       "      <td>2worth</td>\n",
       "      <td>die happy &lt;3</td>\n",
       "      <td>¡!gu4na:D////:&gt;_&lt;^^</td>\n",
       "      <td>¡!gu4na:D////:&gt;_&lt;^^</td>\n",
       "      <td>126</td>\n",
       "      <td>1</td>\n",
       "      <td>2-4 min</td>\n",
       "      <td>Lower</td>\n",
       "    </tr>\n",
       "    <tr>\n",
       "      <th>9</th>\n",
       "      <td>USAT22007048</td>\n",
       "      <td>US</td>\n",
       "      <td>AT2</td>\n",
       "      <td>20.0</td>\n",
       "      <td>3/1/2021</td>\n",
       "      <td>Spotify</td>\n",
       "      <td>28419</td>\n",
       "      <td>2worth</td>\n",
       "      <td>die happy &lt;3</td>\n",
       "      <td>¡!gu4na:D////:&gt;_&lt;^^</td>\n",
       "      <td>¡!gu4na:D////:&gt;_&lt;^^</td>\n",
       "      <td>126</td>\n",
       "      <td>1</td>\n",
       "      <td>2-4 min</td>\n",
       "      <td>Lower</td>\n",
       "    </tr>\n",
       "  </tbody>\n",
       "</table>\n",
       "</div>"
      ],
      "text/plain": [
       "           ISRC Country_Code Registrant_Code  Year_of_Reference Usage_Period  \\\n",
       "5  QZJ842000983           QZ             J84               20.0     3/1/2021   \n",
       "6  USUG12100126           US             UG1               21.0     3/1/2021   \n",
       "7  QMJMT2103634           QM             JMT               21.0     2/1/2021   \n",
       "8  USRC12100543           US             RC1               21.0     3/1/2021   \n",
       "9  USAT22007048           US             AT2               20.0     3/1/2021   \n",
       "\n",
       "       DSP  Streams Recording_Artist  Recording_Label      Recording_Title  \\\n",
       "5  Spotify     8133           x0o0x_           x0o0x_               ______   \n",
       "6    Apple     5839   Quentin Miller  1317 Recordings     _A_ (feat. Pe$o)   \n",
       "7   Amazon     7842               NF    NF Real Music          -Interlude-   \n",
       "8  Spotify    28419           2worth     die happy <3  ¡!gu4na:D////:>_<^^   \n",
       "9  Spotify    28419           2worth     die happy <3  ¡!gu4na:D////:>_<^^   \n",
       "\n",
       "         Release_Title  Recording_Duration  Songwriters_Listed  Song_Length  \\\n",
       "5               ______                 142                   0      2-4 min   \n",
       "6                 Q.M.                 199                   1      2-4 min   \n",
       "7           The Search                  49                   0  Up to 2 min   \n",
       "8  ¡!gu4na:D////:>_<^^                 126                   1      2-4 min   \n",
       "9  ¡!gu4na:D////:>_<^^                 126                   1      2-4 min   \n",
       "\n",
       "  Length_Compared_to_Median  \n",
       "5                     Lower  \n",
       "6                    Higher  \n",
       "7                     Lower  \n",
       "8                     Lower  \n",
       "9                     Lower  "
      ]
     },
     "execution_count": 120,
     "metadata": {},
     "output_type": "execute_result"
    }
   ],
   "source": [
    "top_6_DSP = mlc.loc[mlc['DSP'].isin(['Spotify', 'Apple', 'Amazon', 'Pandora', 'Tidal', ''])]\n",
    "top_6_DSP.head()"
   ]
  },
  {
   "cell_type": "code",
   "execution_count": 121,
   "id": "19c451c7",
   "metadata": {},
   "outputs": [
    {
     "data": {
      "image/png": "[encoded data removed]",
      "text/plain": [
       "<Figure size 1080x216 with 5 Axes>"
      ]
     },
     "metadata": {
      "needs_background": "light"
     },
     "output_type": "display_data"
    }
   ],
   "source": [
    "g = sns.FacetGrid(top_6_DSP, col='DSP')\n",
    "g.map_dataframe(sns.barplot, x='Length_Compared_to_Median', y='Streams')\n",
    "g.set_axis_labels('Song Length', 'Stream Quantity')\n",
    "g.set_titles(col_template='{col_name}');"
   ]
  },
  {
   "cell_type": "code",
   "execution_count": 123,
   "id": "ed3d3186",
   "metadata": {},
   "outputs": [
    {
     "data": {
      "image/png": "[encoded data removed]",
      "text/plain": [
       "<Figure size 432x288 with 1 Axes>"
      ]
     },
     "metadata": {
      "needs_background": "light"
     },
     "output_type": "display_data"
    }
   ],
   "source": [
    "sns.boxplot(x=spotify['Recording_Duration']);\n",
    "plt.show()"
   ]
  },
  {
   "cell_type": "code",
   "execution_count": 134,
   "id": "57fb9a51",
   "metadata": {},
   "outputs": [
    {
     "data": {
      "image/png": "[encoded data removed]",
      "text/plain": [
       "<Figure size 432x288 with 1 Axes>"
      ]
     },
     "metadata": {
      "needs_background": "light"
     },
     "output_type": "display_data"
    }
   ],
   "source": [
    "plt.bar(spotify.Song_Length, spotify.Streams) \n",
    "plt.xlabel('Song Length') \n",
    "plt.ylabel('Stream Count') \n",
    "plt.title('Spotify Song Length Distribution') \n",
    "plt.xticks(rotation = 70)\n",
    "plt.ticklabel_format(style='plain', axis='y');\n",
    "plt.show()"
   ]
  },
  {
   "cell_type": "code",
   "execution_count": 135,
   "id": "9f0e9d6d",
   "metadata": {},
   "outputs": [
    {
     "data": {
      "image/png": "[encoded data removed]",
      "text/plain": [
       "<Figure size 432x288 with 1 Axes>"
      ]
     },
     "metadata": {
      "needs_background": "light"
     },
     "output_type": "display_data"
    }
   ],
   "source": [
    "plt.bar(spotify.Length_Compared_to_Median, spotify.Streams)\n",
    "plt.xlabel('Song Length Compared to Median') \n",
    "plt.ylabel('Stream Count') \n",
    "plt.title('Spotify Song Length Distribution') \n",
    "plt.ticklabel_format(style='plain', axis='y');\n",
    "plt.show()"
   ]
  },
  {
   "cell_type": "code",
   "execution_count": 162,
   "id": "7d02394f",
   "metadata": {},
   "outputs": [
    {
     "data": {
      "image/png": "[encoded data removed]",
      "text/plain": [
       "<Figure size 432x288 with 1 Axes>"
      ]
     },
     "metadata": {
      "needs_background": "light"
     },
     "output_type": "display_data"
    }
   ],
   "source": [
    "plt.bar(apple.Length_Compared_to_Median, apple.Streams)\n",
    "plt.xlabel('Song Length Compared to Median') \n",
    "plt.ylabel('Stream Count') \n",
    "plt.title('Apple Song Length Distribution') \n",
    "plt.ticklabel_format(style='plain', axis='y');\n",
    "plt.show()"
   ]
  },
  {
   "cell_type": "code",
   "execution_count": 136,
   "id": "13192d27",
   "metadata": {},
   "outputs": [
    {
     "data": {
      "image/png": "[encoded data removed]",
      "text/plain": [
       "<Figure size 432x288 with 1 Axes>"
      ]
     },
     "metadata": {
      "needs_background": "light"
     },
     "output_type": "display_data"
    }
   ],
   "source": [
    "plt.bar(unknownDSP.Length_Compared_to_Median, unknownDSP.Streams)\n",
    "plt.xlabel('Song Length Compared to Median') \n",
    "plt.ylabel('Stream Count') \n",
    "plt.title('Unknown DSP Song Length Distribution') \n",
    "plt.ticklabel_format(style='plain', axis='y');\n",
    "plt.show()"
   ]
  },
  {
   "cell_type": "code",
   "execution_count": 127,
   "id": "72bbaca3",
   "metadata": {},
   "outputs": [
    {
     "data": {
      "image/png": "[encoded data removed]",
      "text/plain": [
       "<Figure size 432x288 with 1 Axes>"
      ]
     },
     "metadata": {
      "needs_background": "light"
     },
     "output_type": "display_data"
    }
   ],
   "source": [
    "sns.boxplot(x=unknownDSP['Recording_Duration']);\n",
    "plt.show()"
   ]
  },
  {
   "cell_type": "code",
   "execution_count": 66,
   "id": "4d32aa57",
   "metadata": {},
   "outputs": [
    {
     "data": {
      "image/png": "[encoded data removed]",
      "text/plain": [
       "<Figure size 432x288 with 1 Axes>"
      ]
     },
     "metadata": {
      "needs_background": "light"
     },
     "output_type": "display_data"
    }
   ],
   "source": [
    "sns.boxplot(x=pandora['Recording_Duration']);\n",
    "plt.show()"
   ]
  },
  {
   "cell_type": "code",
   "execution_count": 128,
   "id": "c274fec2",
   "metadata": {},
   "outputs": [
    {
     "data": {
      "image/png": "[encoded data removed]",
      "text/plain": [
       "<Figure size 432x288 with 1 Axes>"
      ]
     },
     "metadata": {
      "needs_background": "light"
     },
     "output_type": "display_data"
    }
   ],
   "source": [
    "plt.hist(pandora.Recording_Duration, bins=8)\n",
    "plt.xlabel('Song Length')\n",
    "plt.ylabel('Quantity')\n",
    "plt.title('Distribution of Song Length, Pandora')\n",
    "plt.show()"
   ]
  },
  {
   "cell_type": "code",
   "execution_count": 139,
   "id": "2d4be32d",
   "metadata": {},
   "outputs": [
    {
     "data": {
      "image/png": "[encoded data removed]",
      "text/plain": [
       "<Figure size 432x288 with 1 Axes>"
      ]
     },
     "metadata": {
      "needs_background": "light"
     },
     "output_type": "display_data"
    }
   ],
   "source": [
    "plt.bar(unknownDSP.Song_Length, unknownDSP.Streams)\n",
    "plt.xlabel('Song Length') \n",
    "plt.ylabel('Stream Count') \n",
    "plt.title('Unknown DSP Song Length by Stream Count') \n",
    "plt.ticklabel_format(style='plain', axis='y')\n",
    "plt.xticks(rotation=70);\n",
    "plt.show()"
   ]
  },
  {
   "cell_type": "code",
   "execution_count": 142,
   "id": "e9f00743",
   "metadata": {},
   "outputs": [
    {
     "data": {
      "image/png": "[encoded data removed]",
      "text/plain": [
       "<Figure size 432x288 with 1 Axes>"
      ]
     },
     "metadata": {
      "needs_background": "light"
     },
     "output_type": "display_data"
    }
   ],
   "source": [
    "data = unknownDSP.sort_values('Streams')\n",
    "plt.bar('Song_Length', 'Streams', data = data)\n",
    "plt.xticks(rotation = 70)\n",
    "plt.xlabel('Song Length')\n",
    "plt.ylabel('Stream Count')\n",
    "plt.title('Unknown DSP Song Length By Stream Count')\n",
    "plt.ticklabel_format(style='plain', axis='y');\n",
    "plt.show()"
   ]
  },
  {
   "cell_type": "code",
   "execution_count": null,
   "id": "9c2ce1c7",
   "metadata": {},
   "outputs": [],
   "source": []
  }
 ],
 "metadata": {
  "kernelspec": {
   "display_name": "Python 3 (ipykernel)",
   "language": "python",
   "name": "python3"
  },
  "language_info": {
   "codemirror_mode": {
    "name": "ipython",
    "version": 3
   },
   "file_extension": ".py",
   "mimetype": "text/x-python",
   "name": "python",
   "nbconvert_exporter": "python",
   "pygments_lexer": "ipython3",
   "version": "3.9.7"
  }
 },
 "nbformat": 4,
 "nbformat_minor": 5
}
