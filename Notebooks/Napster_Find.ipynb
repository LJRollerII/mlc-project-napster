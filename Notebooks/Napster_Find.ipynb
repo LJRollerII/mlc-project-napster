{
 "cells": [
  {
   "cell_type": "code",
   "execution_count": 1,
   "id": "8dddb4e6",
   "metadata": {},
   "outputs": [],
   "source": [
    "import pandas as pd\n",
    "import numpy as np\n",
    "import matplotlib.pyplot as plt \n",
    "import seaborn as sns\n",
    "from numpy import unravel_index"
   ]
  },
  {
   "cell_type": "code",
   "execution_count": 2,
   "id": "1166d26c",
   "metadata": {},
   "outputs": [],
   "source": [
    "###To keep from calling plt.show every time\n",
    "%matplotlib inline"
   ]
  },
  {
   "cell_type": "code",
   "execution_count": 3,
   "id": "f69f386c",
   "metadata": {},
   "outputs": [],
   "source": [
    "napster_df = pd.read_csv(\"../Data/MLC_Data.csv\", nrows=100001)"
   ]
  },
  {
   "cell_type": "code",
   "execution_count": 4,
   "id": "8928eedd",
   "metadata": {},
   "outputs": [],
   "source": [
    "#example of read specifying select columns\n",
    "#df = pd.read_csv('courses.csv', usecols =['Courses','Fee','Discount'])"
   ]
  },
  {
   "cell_type": "code",
   "execution_count": 5,
   "id": "7ffcde9f",
   "metadata": {},
   "outputs": [],
   "source": [
    "#example for specifying column datatype\n",
    "#df = pd.read_csv('courses.csv', dtype={'Courses':'string','Fee':'float'})"
   ]
  },
  {
   "cell_type": "code",
   "execution_count": 6,
   "id": "2f0a09e3",
   "metadata": {},
   "outputs": [
    {
     "data": {
      "text/plain": [
       "(100000, 13)"
      ]
     },
     "execution_count": 6,
     "metadata": {},
     "output_type": "execute_result"
    }
   ],
   "source": [
    "napster_df.shape"
   ]
  },
  {
   "cell_type": "code",
   "execution_count": 7,
   "id": "de4865b5",
   "metadata": {},
   "outputs": [
    {
     "data": {
      "text/html": [
       "<div>\n",
       "<style scoped>\n",
       "    .dataframe tbody tr th:only-of-type {\n",
       "        vertical-align: middle;\n",
       "    }\n",
       "\n",
       "    .dataframe tbody tr th {\n",
       "        vertical-align: top;\n",
       "    }\n",
       "\n",
       "    .dataframe thead th {\n",
       "        text-align: right;\n",
       "    }\n",
       "</style>\n",
       "<table border=\"1\" class=\"dataframe\">\n",
       "  <thead>\n",
       "    <tr style=\"text-align: right;\">\n",
       "      <th></th>\n",
       "      <th>If</th>\n",
       "      <th>Country Code</th>\n",
       "      <th>Registrant Code</th>\n",
       "      <th>Year of Reference</th>\n",
       "      <th>Usage Period</th>\n",
       "      <th>Streaming Platform (DSP)</th>\n",
       "      <th>Streams</th>\n",
       "      <th>Recording Artist</th>\n",
       "      <th>Recording Label</th>\n",
       "      <th>Recording Title</th>\n",
       "      <th>Release Title</th>\n",
       "      <th>Recording Duration (Seconds)</th>\n",
       "      <th>Songwriter's Listed (1 = \"Yes\", 0 = \"No\")</th>\n",
       "    </tr>\n",
       "  </thead>\n",
       "  <tbody>\n",
       "    <tr>\n",
       "      <th>0</th>\n",
       "      <td>USUG12101043</td>\n",
       "      <td>US</td>\n",
       "      <td>UG1</td>\n",
       "      <td>21.0</td>\n",
       "      <td>NaN</td>\n",
       "      <td>AudioMack</td>\n",
       "      <td>10,175</td>\n",
       "      <td>Future</td>\n",
       "      <td>NaN</td>\n",
       "      <td>FUTURE FT DEJ LOAF HEY THERE PROD BY DDS</td>\n",
       "      <td>#unknown#</td>\n",
       "      <td>181</td>\n",
       "      <td>0</td>\n",
       "    </tr>\n",
       "    <tr>\n",
       "      <th>1</th>\n",
       "      <td>USRC12100543</td>\n",
       "      <td>US</td>\n",
       "      <td>RC1</td>\n",
       "      <td>21.0</td>\n",
       "      <td>NaN</td>\n",
       "      <td>SoundCloud</td>\n",
       "      <td>8,597</td>\n",
       "      <td>LUCKY3RD</td>\n",
       "      <td>LUCKY3RD</td>\n",
       "      <td>Keep It Cool  LUCKY3RD</td>\n",
       "      <td>Keep It Cool  LUCKY3RD</td>\n",
       "      <td>133</td>\n",
       "      <td>0</td>\n",
       "    </tr>\n",
       "    <tr>\n",
       "      <th>2</th>\n",
       "      <td>USSM12102263</td>\n",
       "      <td>US</td>\n",
       "      <td>SM1</td>\n",
       "      <td>21.0</td>\n",
       "      <td>NaN</td>\n",
       "      <td>SoundCloud</td>\n",
       "      <td>261,280</td>\n",
       "      <td>LUCKY3RD</td>\n",
       "      <td>LUCKY3RD</td>\n",
       "      <td>Life Goes On  LUCKY3RD</td>\n",
       "      <td>Life Goes On  LUCKY3RD</td>\n",
       "      <td>171</td>\n",
       "      <td>0</td>\n",
       "    </tr>\n",
       "    <tr>\n",
       "      <th>3</th>\n",
       "      <td>USLD91731547</td>\n",
       "      <td>US</td>\n",
       "      <td>LD9</td>\n",
       "      <td>17.0</td>\n",
       "      <td>2/1/2021</td>\n",
       "      <td>Trebel</td>\n",
       "      <td>5</td>\n",
       "      <td>Bachata &amp; Merengue Mix</td>\n",
       "      <td>Orchard</td>\n",
       "      <td>No dudes de mi- Merengue &amp; Bachata Mix</td>\n",
       "      <td>Mega Mix 2010</td>\n",
       "      <td>1250</td>\n",
       "      <td>0</td>\n",
       "    </tr>\n",
       "    <tr>\n",
       "      <th>4</th>\n",
       "      <td>USAT22007048</td>\n",
       "      <td>US</td>\n",
       "      <td>AT2</td>\n",
       "      <td>20.0</td>\n",
       "      <td>NaN</td>\n",
       "      <td>AudioMack</td>\n",
       "      <td>62,105</td>\n",
       "      <td>Foolio</td>\n",
       "      <td>NaN</td>\n",
       "      <td>WHEN I SEE YOU REMIX</td>\n",
       "      <td>#unknown#</td>\n",
       "      <td>187</td>\n",
       "      <td>0</td>\n",
       "    </tr>\n",
       "    <tr>\n",
       "      <th>5</th>\n",
       "      <td>QZJ842000983</td>\n",
       "      <td>QZ</td>\n",
       "      <td>J84</td>\n",
       "      <td>20.0</td>\n",
       "      <td>3/1/2021</td>\n",
       "      <td>Spotify</td>\n",
       "      <td>8,133</td>\n",
       "      <td>x0o0x_</td>\n",
       "      <td>x0o0x_</td>\n",
       "      <td>______</td>\n",
       "      <td>______</td>\n",
       "      <td>142</td>\n",
       "      <td>0</td>\n",
       "    </tr>\n",
       "    <tr>\n",
       "      <th>6</th>\n",
       "      <td>USUG12100126</td>\n",
       "      <td>US</td>\n",
       "      <td>UG1</td>\n",
       "      <td>21.0</td>\n",
       "      <td>3/1/2021</td>\n",
       "      <td>Apple</td>\n",
       "      <td>5,839</td>\n",
       "      <td>Quentin Miller</td>\n",
       "      <td>1317 Recordings</td>\n",
       "      <td>_A_ (feat. Pe$o)</td>\n",
       "      <td>Q.M.</td>\n",
       "      <td>199</td>\n",
       "      <td>1</td>\n",
       "    </tr>\n",
       "  </tbody>\n",
       "</table>\n",
       "</div>"
      ],
      "text/plain": [
       "            If  Country Code Registrant Code  Year of Reference Usage Period  \\\n",
       "0  USUG12101043           US             UG1               21.0          NaN   \n",
       "1  USRC12100543           US             RC1               21.0          NaN   \n",
       "2  USSM12102263           US             SM1               21.0          NaN   \n",
       "3  USLD91731547           US             LD9               17.0     2/1/2021   \n",
       "4  USAT22007048           US             AT2               20.0          NaN   \n",
       "5  QZJ842000983           QZ             J84               20.0     3/1/2021   \n",
       "6  USUG12100126           US             UG1               21.0     3/1/2021   \n",
       "\n",
       "  Streaming Platform (DSP)  Streams        Recording Artist  Recording Label  \\\n",
       "0                AudioMack   10,175                  Future              NaN   \n",
       "1               SoundCloud    8,597                LUCKY3RD         LUCKY3RD   \n",
       "2               SoundCloud  261,280                LUCKY3RD         LUCKY3RD   \n",
       "3                   Trebel        5  Bachata & Merengue Mix          Orchard   \n",
       "4                AudioMack   62,105                  Foolio              NaN   \n",
       "5                  Spotify    8,133                  x0o0x_           x0o0x_   \n",
       "6                    Apple    5,839          Quentin Miller  1317 Recordings   \n",
       "\n",
       "                             Recording Title            Release Title  \\\n",
       "0   FUTURE FT DEJ LOAF HEY THERE PROD BY DDS                #unknown#   \n",
       "1                     Keep It Cool  LUCKY3RD   Keep It Cool  LUCKY3RD   \n",
       "2                     Life Goes On  LUCKY3RD   Life Goes On  LUCKY3RD   \n",
       "3     No dudes de mi- Merengue & Bachata Mix            Mega Mix 2010   \n",
       "4                       WHEN I SEE YOU REMIX                #unknown#   \n",
       "5                                     ______                   ______   \n",
       "6                           _A_ (feat. Pe$o)                     Q.M.   \n",
       "\n",
       "   Recording Duration (Seconds)  Songwriter's Listed (1 = \"Yes\", 0 = \"No\")  \n",
       "0                           181                                          0  \n",
       "1                           133                                          0  \n",
       "2                           171                                          0  \n",
       "3                          1250                                          0  \n",
       "4                           187                                          0  \n",
       "5                           142                                          0  \n",
       "6                           199                                          1  "
      ]
     },
     "execution_count": 7,
     "metadata": {},
     "output_type": "execute_result"
    }
   ],
   "source": [
    "napster_df.head(7)"
   ]
  },
  {
   "cell_type": "code",
   "execution_count": 8,
   "id": "dc8052ce",
   "metadata": {},
   "outputs": [
    {
     "data": {
      "text/plain": [
       "If                                            object\n",
       "Country Code                                  object\n",
       "Registrant Code                               object\n",
       "Year of Reference                            float64\n",
       "Usage Period                                  object\n",
       "Streaming Platform (DSP)                      object\n",
       "Streams                                       object\n",
       "Recording Artist                              object\n",
       "Recording Label                               object\n",
       "Recording Title                               object\n",
       "Release Title                                 object\n",
       "Recording Duration (Seconds)                   int64\n",
       "Songwriter's Listed (1 = \"Yes\", 0 = \"No\")      int64\n",
       "dtype: object"
      ]
     },
     "execution_count": 8,
     "metadata": {},
     "output_type": "execute_result"
    }
   ],
   "source": [
    "napster_df.dtypes"
   ]
  },
  {
   "cell_type": "code",
   "execution_count": 9,
   "id": "673f151d",
   "metadata": {},
   "outputs": [],
   "source": [
    "#pd.set_option('display.max_rows',n)\n",
    "#pd.reset_option('display.max_rows')\n",
    "#pd.reset_option('display.max_rows') to reset"
   ]
  },
  {
   "cell_type": "code",
   "execution_count": 10,
   "id": "e7021749",
   "metadata": {},
   "outputs": [
    {
     "data": {
      "text/plain": [
       "0    <class 'str'>\n",
       "1    <class 'str'>\n",
       "2    <class 'str'>\n",
       "3    <class 'str'>\n",
       "4    <class 'str'>\n",
       "Name: Streams, dtype: object"
      ]
     },
     "execution_count": 10,
     "metadata": {},
     "output_type": "execute_result"
    }
   ],
   "source": [
    "napster_df['Streams'].map(type).head()"
   ]
  },
  {
   "cell_type": "code",
   "execution_count": 11,
   "id": "9daa9b46",
   "metadata": {},
   "outputs": [],
   "source": [
    "napster_df.replace(',','', regex=True, inplace=True)\n",
    "#df.replace(',','', regex=True, inplace=True)"
   ]
  },
  {
   "cell_type": "code",
   "execution_count": 12,
   "id": "6f1ba1ab",
   "metadata": {},
   "outputs": [
    {
     "ename": "NameError",
     "evalue": "name 'mlc' is not defined",
     "output_type": "error",
     "traceback": [
      "\u001b[1;31m---------------------------------------------------------------------------\u001b[0m",
      "\u001b[1;31mNameError\u001b[0m                                 Traceback (most recent call last)",
      "\u001b[1;32m~\\AppData\\Local\\Temp/ipykernel_36364/3207741128.py\u001b[0m in \u001b[0;36m<module>\u001b[1;34m\u001b[0m\n\u001b[0;32m      1\u001b[0m \u001b[1;31m#Rob's code\u001b[0m\u001b[1;33m\u001b[0m\u001b[1;33m\u001b[0m\u001b[0m\n\u001b[1;32m----> 2\u001b[1;33m \u001b[0mmlc\u001b[0m\u001b[1;33m[\u001b[0m\u001b[1;34m'streams'\u001b[0m\u001b[1;33m]\u001b[0m\u001b[1;33m=\u001b[0m\u001b[0mmlc\u001b[0m\u001b[1;33m[\u001b[0m\u001b[1;34m'streams'\u001b[0m\u001b[1;33m]\u001b[0m\u001b[1;33m.\u001b[0m\u001b[0mstr\u001b[0m\u001b[1;33m.\u001b[0m\u001b[0mreplace\u001b[0m\u001b[1;33m(\u001b[0m\u001b[1;34m','\u001b[0m\u001b[1;33m,\u001b[0m\u001b[1;34m''\u001b[0m\u001b[1;33m)\u001b[0m\u001b[1;33m\u001b[0m\u001b[1;33m\u001b[0m\u001b[0m\n\u001b[0m",
      "\u001b[1;31mNameError\u001b[0m: name 'mlc' is not defined"
     ]
    }
   ],
   "source": [
    "#Rob's code\n",
    "mlc['streams']=mlc['streams'].str.replace(',','')"
   ]
  },
  {
   "cell_type": "code",
   "execution_count": null,
   "id": "4f4d56c7",
   "metadata": {},
   "outputs": [],
   "source": [
    "napster_df.head()"
   ]
  },
  {
   "cell_type": "code",
   "execution_count": null,
   "id": "68838ab4",
   "metadata": {},
   "outputs": [],
   "source": [
    "#napster_df['Streams'] = napster_df['Streams'].apply(pd.to_numeric,errors='coerce')\n",
    "#df[c] = df[c].apply(pd.to_numeric,errors='coerce')"
   ]
  },
  {
   "cell_type": "code",
   "execution_count": null,
   "id": "7fb7e74e",
   "metadata": {},
   "outputs": [],
   "source": [
    "#\n",
    "#df[\"a\"] = df[\"a\"].astype(str).astype(int)\n",
    "#napster_df['Streams'] = napster_df['Streams'].astype('bytes')"
   ]
  },
  {
   "cell_type": "code",
   "execution_count": null,
   "id": "c3373dc7",
   "metadata": {},
   "outputs": [],
   "source": [
    "napster_df.dtypes"
   ]
  },
  {
   "cell_type": "code",
   "execution_count": null,
   "id": "10303891",
   "metadata": {},
   "outputs": [],
   "source": [
    "#Convert to list, then to array, before converting to numeric\n",
    "#arr = np.array(allHoldingsFund['ratioBest'].tolist())\n",
    "#allHoldingsFund['ratioBest'] = (pd.to_numeric(arr, errors='coerce'))\n",
    "#list = napster_df['Streams'].tolist()\n",
    "#arr = np.array(list)\n",
    "#napster_df['Streams'] = pd.DataFrame(arr)\n",
    "#napster_df['Streams'] = pd.to_numeric(arr, downcast='signed')\n",
    "#napster_df['Streams'] = napster_df['Streams'].apply(int)"
   ]
  },
  {
   "cell_type": "code",
   "execution_count": null,
   "id": "dcfca07f",
   "metadata": {},
   "outputs": [],
   "source": [
    "display(napster_df.loc[[5]])\n",
    "#df.loc[df['column name'].isnull() == True] "
   ]
  },
  {
   "cell_type": "code",
   "execution_count": null,
   "id": "04bf1028",
   "metadata": {},
   "outputs": [],
   "source": [
    "napster_df.head(7)"
   ]
  },
  {
   "cell_type": "code",
   "execution_count": null,
   "id": "5e7cda91",
   "metadata": {},
   "outputs": [],
   "source": [
    "#probably the most significant piece of code on this\n",
    "napster_df['Streams'] = napster_df['Streams'].apply(lambda col:pd.to_numeric(col, errors='coerce'))"
   ]
  },
  {
   "cell_type": "code",
   "execution_count": null,
   "id": "25518769",
   "metadata": {},
   "outputs": [],
   "source": [
    "#Rob's code\n",
    "#mlc['streams']=mlc['streams'].str.replace(',','')\n",
    "#mlc['streams']=mlc['streams'].astype(int)"
   ]
  },
  {
   "cell_type": "code",
   "execution_count": null,
   "id": "03f7aebd",
   "metadata": {},
   "outputs": [],
   "source": [
    "napster_df.dtypes"
   ]
  },
  {
   "cell_type": "code",
   "execution_count": null,
   "id": "37208175",
   "metadata": {},
   "outputs": [],
   "source": [
    "#napster_df['Streams'] = napster_df['Streams'].str.decode('utf-8')\n",
    "#df['COLUMN1'].str.decode(\"utf-8\")"
   ]
  },
  {
   "cell_type": "code",
   "execution_count": null,
   "id": "fb315b18",
   "metadata": {},
   "outputs": [],
   "source": []
  },
  {
   "cell_type": "code",
   "execution_count": null,
   "id": "2f92a016",
   "metadata": {},
   "outputs": [],
   "source": [
    "napster_df.head()"
   ]
  },
  {
   "cell_type": "code",
   "execution_count": null,
   "id": "df6783db",
   "metadata": {},
   "outputs": [],
   "source": [
    "napster_df.dtypes"
   ]
  },
  {
   "cell_type": "code",
   "execution_count": null,
   "id": "a17231b3",
   "metadata": {},
   "outputs": [],
   "source": []
  },
  {
   "cell_type": "code",
   "execution_count": null,
   "id": "fbaa786f",
   "metadata": {},
   "outputs": [],
   "source": [
    "napster_df.head(7)"
   ]
  },
  {
   "cell_type": "code",
   "execution_count": null,
   "id": "0e891960",
   "metadata": {},
   "outputs": [],
   "source": [
    "napster_df.describe()"
   ]
  },
  {
   "cell_type": "code",
   "execution_count": null,
   "id": "fbce340c",
   "metadata": {},
   "outputs": [],
   "source": [
    "napster_df.columns = ['ISRC','Country_Code','Registrant_Code','Ref_Year','Usage_Period','Streaming_Plat_DSP','Streams','Recording_Artist','Recording_Label','Recording_Title','Release_Title','Recording_Dur_s','Songwriter_Y_N']"
   ]
  },
  {
   "cell_type": "code",
   "execution_count": null,
   "id": "13715b7d",
   "metadata": {},
   "outputs": [],
   "source": [
    "napster_df.head(7)"
   ]
  },
  {
   "cell_type": "code",
   "execution_count": null,
   "id": "b21d167b",
   "metadata": {},
   "outputs": [],
   "source": [
    "napster_df.dtypes"
   ]
  },
  {
   "cell_type": "code",
   "execution_count": null,
   "id": "a4169c12",
   "metadata": {},
   "outputs": [],
   "source": [
    "# number of nan per row in napster_df\n",
    "display(napster_df.isna().sum())"
   ]
  },
  {
   "cell_type": "code",
   "execution_count": null,
   "id": "281fc586",
   "metadata": {},
   "outputs": [],
   "source": [
    "#Finding the songs by recording decade\n",
    "plt.hist(napster_df['Ref_Year'], bins = 5)"
   ]
  },
  {
   "cell_type": "code",
   "execution_count": null,
   "id": "a8f947f0",
   "metadata": {
    "scrolled": true
   },
   "outputs": [],
   "source": [
    "#Finding # Songwriter's Listed vs. Songwriter Not Listed\n",
    "plt.hist(napster_df['Songwriter_Y_N'], bins = 5)"
   ]
  },
  {
   "cell_type": "code",
   "execution_count": null,
   "id": "9e268ab3",
   "metadata": {},
   "outputs": [],
   "source": [
    "#Finding actual number for Songwriter Not Listed\n",
    "(napster_df['Songwriter_Y_N']==0).sum()"
   ]
  },
  {
   "cell_type": "code",
   "execution_count": null,
   "id": "7e02e3ea",
   "metadata": {},
   "outputs": [],
   "source": [
    "#Finding actual number for Songwriter Listed\n",
    "(napster_df['Songwriter_Y_N']==1).sum()"
   ]
  },
  {
   "cell_type": "code",
   "execution_count": null,
   "id": "add4fb96",
   "metadata": {},
   "outputs": [],
   "source": [
    "#Max Song duration in napster_df\n",
    "napster_df['Recording_Dur_s'].max()"
   ]
  },
  {
   "cell_type": "code",
   "execution_count": null,
   "id": "62c5b129",
   "metadata": {},
   "outputs": [],
   "source": [
    "#Min Song duration in napster_df\n",
    "napster_df['Recording_Dur_s'].min()"
   ]
  },
  {
   "cell_type": "code",
   "execution_count": null,
   "id": "e4441879",
   "metadata": {},
   "outputs": [],
   "source": [
    "#group into Songwriter_Y_N into Not Listed 0 and  Listed 1"
   ]
  },
  {
   "cell_type": "code",
   "execution_count": null,
   "id": "ab329084",
   "metadata": {},
   "outputs": [],
   "source": [
    "sw_y_n_0 = napster_df[napster_df['Songwriter_Y_N']==0]\n",
    "#sw_y_n_0.head(5)"
   ]
  },
  {
   "cell_type": "code",
   "execution_count": null,
   "id": "e20d6bc9",
   "metadata": {},
   "outputs": [],
   "source": [
    "sw_y_n_1 = napster_df[napster_df['Songwriter_Y_N']==1]\n",
    "#sw_y_n_1.head(5)"
   ]
  },
  {
   "cell_type": "code",
   "execution_count": null,
   "id": "d0345888",
   "metadata": {},
   "outputs": [],
   "source": [
    "#df.groupby('team').size().reset_index(name='obs')"
   ]
  },
  {
   "cell_type": "code",
   "execution_count": null,
   "id": "9bd3005f",
   "metadata": {},
   "outputs": [],
   "source": [
    "#adding counts of 0 countries; i.e. countries that have the most Songwriters Not Listed\n",
    "country_code_0_grp = sw_y_n_0.groupby(['Country_Code'])['Songwriter_Y_N'].count().reset_index(name='zero_count').sort_values(by='zero_count', ascending=False)\n",
    "country_code_0_grp.head(10)"
   ]
  },
  {
   "cell_type": "code",
   "execution_count": null,
   "id": "7ddd5032",
   "metadata": {},
   "outputs": [],
   "source": [
    "#adding counts of 1 countries, i.e. Most Countries for Songwriters Listed\n",
    "country_code_1_grp = sw_y_n_1.groupby(['Country_Code'])['Songwriter_Y_N'].count().reset_index(name='one_count').sort_values(by='one_count', ascending=False)\n",
    "country_code_1_grp.head(10)\n",
    "#notice reset_index to create a dataframe rather than a series!!"
   ]
  },
  {
   "cell_type": "code",
   "execution_count": null,
   "id": "5e8ed5a8",
   "metadata": {},
   "outputs": [],
   "source": [
    "#sample code for extracting column to add to another - - extracted_col = df1[\"Col3\"]"
   ]
  },
  {
   "cell_type": "code",
   "execution_count": null,
   "id": "6dea9b09",
   "metadata": {},
   "outputs": [],
   "source": [
    "#sample code for inserting an extracted file - - df2.insert(1, \"C3\", extracted_col)"
   ]
  },
  {
   "cell_type": "code",
   "execution_count": null,
   "id": "35d85d3c",
   "metadata": {},
   "outputs": [],
   "source": [
    "#extract column needed in order to add to the other\n",
    "extracted_col = country_code_1_grp['one_count']"
   ]
  },
  {
   "cell_type": "code",
   "execution_count": null,
   "id": "b55fdd38",
   "metadata": {},
   "outputs": [],
   "source": [
    "country_code_0_grp.head()"
   ]
  },
  {
   "cell_type": "code",
   "execution_count": null,
   "id": "e29359a5",
   "metadata": {},
   "outputs": [],
   "source": [
    "#Creating combined Country - Songwriter List and No list numbers\n",
    "#add one_count column to zero_count column to form combined db\n",
    "country_code_grp = country_code_0_grp\n",
    "country_code_grp.insert(2,'one_count',extracted_col)\n",
    "country_code_grp.sort_values(by='zero_count', ascending=False)\n",
    "country_code_grp.head(10)"
   ]
  },
  {
   "cell_type": "code",
   "execution_count": null,
   "id": "55873dd1",
   "metadata": {},
   "outputs": [],
   "source": [
    "#changing names of columns\n",
    "country_code_grp.columns = ['Country_Code', 'Writer_Not_Listed', 'Writer_Listed']\n",
    "country_code_grp.head(10)"
   ]
  },
  {
   "cell_type": "code",
   "execution_count": 20,
   "id": "e9f6723d",
   "metadata": {},
   "outputs": [],
   "source": [
    "#sample code -- #group by country code\n",
    "#grpbycc = napster_df.groupby(['Country_Code'])"
   ]
  },
  {
   "cell_type": "code",
   "execution_count": null,
   "id": "b20060d2",
   "metadata": {},
   "outputs": [],
   "source": [
    "#sample code -- group by us\n",
    "#us_grpbycc = grpbycc.get_group('US')"
   ]
  },
  {
   "cell_type": "code",
   "execution_count": null,
   "id": "84290a85",
   "metadata": {},
   "outputs": [],
   "source": [
    "#us_grpbycc.head(10)"
   ]
  },
  {
   "cell_type": "code",
   "execution_count": null,
   "id": "9e6c1f90",
   "metadata": {},
   "outputs": [],
   "source": [
    "#sample code -- group subset us group into all that have songwriter status equal 0\n",
    "#us_grpbycc[us_grpbycc['Songwriter_Y_N']==0]"
   ]
  },
  {
   "cell_type": "code",
   "execution_count": null,
   "id": "9e526954",
   "metadata": {},
   "outputs": [],
   "source": [
    "#sample code - - now perform an aggregate\n",
    "#us_grpbycc[us_grpbycc['Songwriter_Y_N']==0]['Songwriter_Y_N'].count"
   ]
  },
  {
   "cell_type": "markdown",
   "id": "f24af268",
   "metadata": {},
   "source": [
    "### Starting DSP Analysis"
   ]
  },
  {
   "cell_type": "code",
   "execution_count": null,
   "id": "54eedfb0",
   "metadata": {},
   "outputs": [],
   "source": [
    "#Using napster_df above find top 10 clients for each DSP for all years in napster_df; looking at Streams per DSP"
   ]
  },
  {
   "cell_type": "code",
   "execution_count": null,
   "id": "39e8eb96",
   "metadata": {},
   "outputs": [],
   "source": [
    "#"
   ]
  },
  {
   "cell_type": "code",
   "execution_count": null,
   "id": "f016313e",
   "metadata": {},
   "outputs": [],
   "source": [
    "napster_df.head(7)"
   ]
  },
  {
   "cell_type": "code",
   "execution_count": null,
   "id": "f1d14eb6",
   "metadata": {},
   "outputs": [],
   "source": [
    "#finding data types for columns\n",
    "napster_df.dtypes"
   ]
  },
  {
   "cell_type": "code",
   "execution_count": null,
   "id": "df4bc6c7",
   "metadata": {},
   "outputs": [],
   "source": [
    "#change Streams from object to float\n",
    "#napster_df['Streams'] = napster_df['Streams'].astype(str)\n",
    "#napster_df['Streams'] = pd.to_numeric(napster_df['Streams'],errors = 'coerce')\n",
    "#napster_df.dtypes"
   ]
  },
  {
   "cell_type": "code",
   "execution_count": null,
   "id": "187c6b13",
   "metadata": {},
   "outputs": [],
   "source": [
    "#example of changing object to string and then to a number to get working value\n",
    "#df['purchase'].astype(str).astype(int)"
   ]
  },
  {
   "cell_type": "code",
   "execution_count": null,
   "id": "baea1507",
   "metadata": {},
   "outputs": [],
   "source": [
    "napster_df.head(7)"
   ]
  },
  {
   "cell_type": "code",
   "execution_count": null,
   "id": "a7192392",
   "metadata": {},
   "outputs": [],
   "source": [
    "napster_df.dtypes"
   ]
  },
  {
   "cell_type": "code",
   "execution_count": null,
   "id": "71ecae3f",
   "metadata": {},
   "outputs": [],
   "source": [
    "#isrc_by_dsp = napster_df.Streaming_Plat_DSP.value_counts()\n",
    "#isrc_by_dsp.head(10)"
   ]
  },
  {
   "cell_type": "code",
   "execution_count": null,
   "id": "ed35ad8f",
   "metadata": {},
   "outputs": [],
   "source": [
    "#set display for scientific notation\n",
    "#pd.reset_option('^display.', silent=True)"
   ]
  },
  {
   "cell_type": "code",
   "execution_count": null,
   "id": "37f23631",
   "metadata": {},
   "outputs": [],
   "source": [
    "#top_streaming_DSP\n",
    "dsp_by_stream = napster_df.groupby(['Streaming_Plat_DSP'])['Streams'].sum().reset_index(name='num_streams').sort_values(by='num_streams', ascending=False)\n",
    "dsp_by_stream.head(10)"
   ]
  },
  {
   "cell_type": "code",
   "execution_count": null,
   "id": "d2dae485",
   "metadata": {},
   "outputs": [],
   "source": [
    "dsp_by_stream.iloc[[0]]"
   ]
  },
  {
   "cell_type": "code",
   "execution_count": null,
   "id": "ed9e45bb",
   "metadata": {},
   "outputs": [],
   "source": [
    "dsp_by_stream.reset_index(drop=True)"
   ]
  },
  {
   "cell_type": "code",
   "execution_count": null,
   "id": "76a7e81c",
   "metadata": {},
   "outputs": [],
   "source": [
    "#pd.DataFrame(dsp_by_stream.size().reset_index(name = 'Group_Count'))\n",
    "#pd.DataFrame(grouped_df.size().reset_index(name = \"Group_Count\"))"
   ]
  },
  {
   "cell_type": "code",
   "execution_count": null,
   "id": "fe7bb8fa",
   "metadata": {},
   "outputs": [],
   "source": [
    "isrc_by_dsp = napster_df.groupby(['Streaming_Plat_DSP'])['ISRC'].count().reset_index(name='isrc_count').sort_values(by='isrc_count', ascending=False)\n",
    "isrc_by_dsp.head(10)"
   ]
  },
  {
   "cell_type": "code",
   "execution_count": null,
   "id": "52abf849",
   "metadata": {},
   "outputs": [],
   "source": [
    "#finding nan in DSP column\n",
    "#napster_df['Streaming_Plat_DSP'].isna().sum()"
   ]
  },
  {
   "cell_type": "code",
   "execution_count": null,
   "id": "e4221670",
   "metadata": {},
   "outputs": [],
   "source": [
    "#finding nan in irsc column\n",
    "#napster_df['ISRC'].isna().sum()"
   ]
  },
  {
   "cell_type": "code",
   "execution_count": null,
   "id": "6410940e",
   "metadata": {},
   "outputs": [],
   "source": [
    "# number of nan per row in napster_df\n",
    "display(napster_df.isna().sum())"
   ]
  },
  {
   "cell_type": "code",
   "execution_count": null,
   "id": "2474fa9c",
   "metadata": {},
   "outputs": [],
   "source": [
    "#subset for Spotify\n",
    "spotify_sub = napster_df[napster_df['Streaming_Plat_DSP']=='Spotify']\n",
    "spotify_sub.head(5)"
   ]
  },
  {
   "cell_type": "code",
   "execution_count": null,
   "id": "5616c9e1",
   "metadata": {},
   "outputs": [],
   "source": [
    "#spotify_sub.groupby(['Streaming_Plat_DSP'])['Ref_Year'].count().reset_index(name='isrc_count').sort_values(by='isrc_count', ascending=False)"
   ]
  },
  {
   "cell_type": "code",
   "execution_count": null,
   "id": "fb2ab8ed",
   "metadata": {},
   "outputs": [],
   "source": [
    "spotify_yr_stream_sum = spotify_sub.groupby(['Ref_Year'])['Streams'].sum().reset_index(name='spotify_num_streams').sort_values(by='Ref_Year', ascending=True)\n",
    "spotify_yr_stream_sum.head(37)"
   ]
  },
  {
   "cell_type": "code",
   "execution_count": null,
   "id": "91fbc09f",
   "metadata": {},
   "outputs": [],
   "source": [
    "#spotify_yr_stream_sum = spotify_yr_stream_sum.drop(spotify_yr_stream_sum.index[0:5])\n",
    "#spotify_yr_stream_sum.reset_index(drop=True, inplace=True)\n",
    "#spotify_yr_stream_sum.head(25)"
   ]
  },
  {
   "cell_type": "code",
   "execution_count": null,
   "id": "9dc621a0",
   "metadata": {},
   "outputs": [],
   "source": [
    "#spotify_yr_stream_sum = spotify_yr_stream_sum.drop(spotify_yr_stream_sum.index[17:81])\n",
    "#spotify_yr_stream_sum.reset_index(drop=True, inplace=True)\n",
    "#spotify_yr_stream_sum.head(25)\n",
    "#spotify_yr_stream_sum"
   ]
  },
  {
   "cell_type": "code",
   "execution_count": null,
   "id": "aecd2704",
   "metadata": {},
   "outputs": [],
   "source": [
    "#plt.plot(spotify_yr_stream_sum['Ref_Year'],spotify_yr_stream_sum['spotify_num_streams'])\n",
    "#plt.show()"
   ]
  },
  {
   "cell_type": "code",
   "execution_count": null,
   "id": "b37785de",
   "metadata": {},
   "outputs": [],
   "source": [
    "#spotify_yr_stream_sum.dtypes"
   ]
  },
  {
   "cell_type": "code",
   "execution_count": null,
   "id": "218db3b4",
   "metadata": {},
   "outputs": [],
   "source": [
    "dsp_by_title_dec = napster_df.groupby(['Streaming_Plat_DSP','Ref_Year'])['Recording_Title'].count().reset_index(name='num_titles').sort_values(by='num_titles', ascending=False)\n",
    "dsp_by_title_dec.head(10)"
   ]
  },
  {
   "cell_type": "code",
   "execution_count": null,
   "id": "acf915b8",
   "metadata": {},
   "outputs": [],
   "source": [
    "#change ref_year to int\n",
    "#napster_df['Ref_Year'].dropna() ... didn't work"
   ]
  },
  {
   "cell_type": "code",
   "execution_count": null,
   "id": "c9c2b50e",
   "metadata": {},
   "outputs": [],
   "source": [
    "#change column to have no decimal places, Int64 seems to work for some reason\n",
    "#napster_df['Ref_Year'] = np.round(napster_df['Ref_Year'].astype('Int64'))\n",
    "napster_df['Ref_Year'].head()"
   ]
  },
  {
   "cell_type": "code",
   "execution_count": null,
   "id": "558a6514",
   "metadata": {},
   "outputs": [],
   "source": [
    "napster_df.dtypes"
   ]
  },
  {
   "cell_type": "code",
   "execution_count": null,
   "id": "c1ca7847",
   "metadata": {},
   "outputs": [],
   "source": [
    "#dsp_by_title_dec['Ref_Year'] = np.round(dsp_by_title_dec['Ref_Year'].astype('Int64'))\n",
    "#dsp_by_title_dec.head()"
   ]
  },
  {
   "cell_type": "code",
   "execution_count": null,
   "id": "5dd01f08",
   "metadata": {},
   "outputs": [],
   "source": [
    "napster_df.head()"
   ]
  },
  {
   "cell_type": "code",
   "execution_count": null,
   "id": "7a4856c5",
   "metadata": {},
   "outputs": [],
   "source": [
    "napster_df.dtypes"
   ]
  },
  {
   "cell_type": "code",
   "execution_count": null,
   "id": "eac701b9",
   "metadata": {},
   "outputs": [],
   "source": [
    "napster_df.isnull().sum()"
   ]
  },
  {
   "cell_type": "code",
   "execution_count": null,
   "id": "dc92fe1c",
   "metadata": {},
   "outputs": [],
   "source": []
  },
  {
   "cell_type": "code",
   "execution_count": null,
   "id": "cf8901f1",
   "metadata": {},
   "outputs": [],
   "source": [
    "napster_df.isnull().sum()"
   ]
  },
  {
   "cell_type": "code",
   "execution_count": null,
   "id": "0717f25b",
   "metadata": {},
   "outputs": [],
   "source": []
  },
  {
   "cell_type": "code",
   "execution_count": null,
   "id": "a3ac27c0",
   "metadata": {},
   "outputs": [],
   "source": [
    "napster_df['Ref_Year'].dropna()"
   ]
  },
  {
   "cell_type": "code",
   "execution_count": null,
   "id": "44f18a28",
   "metadata": {},
   "outputs": [],
   "source": [
    "napster_df.isnull().sum()"
   ]
  },
  {
   "cell_type": "code",
   "execution_count": null,
   "id": "2519abc9",
   "metadata": {},
   "outputs": [],
   "source": [
    "#napster_df['New_Yr_Ref'] = pd.to_datetime(napster_df['Ref_Year'], format=\"%y\")"
   ]
  },
  {
   "cell_type": "code",
   "execution_count": null,
   "id": "08f015a5",
   "metadata": {},
   "outputs": [],
   "source": []
  },
  {
   "cell_type": "code",
   "execution_count": null,
   "id": "49d09120",
   "metadata": {},
   "outputs": [],
   "source": []
  },
  {
   "cell_type": "code",
   "execution_count": null,
   "id": "b0123662",
   "metadata": {},
   "outputs": [],
   "source": []
  },
  {
   "cell_type": "code",
   "execution_count": null,
   "id": "886b1175",
   "metadata": {},
   "outputs": [],
   "source": [
    "napster_df['Ref_Year'] = napster_df['Ref_Year'].dropna()"
   ]
  },
  {
   "cell_type": "code",
   "execution_count": 18,
   "id": "e284a197",
   "metadata": {},
   "outputs": [
    {
     "data": {
      "text/plain": [
       "If                                            object\n",
       "Country Code                                  object\n",
       "Registrant Code                               object\n",
       "Year of Reference                            float64\n",
       "Usage Period                                  object\n",
       "Streaming Platform (DSP)                      object\n",
       "Streams                                       object\n",
       "Recording Artist                              object\n",
       "Recording Label                               object\n",
       "Recording Title                               object\n",
       "Release Title                                 object\n",
       "Recording Duration (Seconds)                   int64\n",
       "Songwriter's Listed (1 = \"Yes\", 0 = \"No\")      int64\n",
       "dtype: object"
      ]
     },
     "execution_count": 18,
     "metadata": {},
     "output_type": "execute_result"
    }
   ],
   "source": [
    "napster_df.dtypes"
   ]
  },
  {
   "cell_type": "code",
   "execution_count": 16,
   "id": "1f7ba110",
   "metadata": {},
   "outputs": [
    {
     "name": "stdout",
     "output_type": "stream",
     "text": [
      "working on row: 0\n"
     ]
    },
    {
     "ename": "KeyError",
     "evalue": "'Ref_Year'",
     "output_type": "error",
     "traceback": [
      "\u001b[1;31m---------------------------------------------------------------------------\u001b[0m",
      "\u001b[1;31mKeyError\u001b[0m                                  Traceback (most recent call last)",
      "\u001b[1;32m~\\anaconda3\\lib\\site-packages\\pandas\\core\\indexes\\base.py\u001b[0m in \u001b[0;36mget_loc\u001b[1;34m(self, key, method, tolerance)\u001b[0m\n\u001b[0;32m   3360\u001b[0m             \u001b[1;32mtry\u001b[0m\u001b[1;33m:\u001b[0m\u001b[1;33m\u001b[0m\u001b[1;33m\u001b[0m\u001b[0m\n\u001b[1;32m-> 3361\u001b[1;33m                 \u001b[1;32mreturn\u001b[0m \u001b[0mself\u001b[0m\u001b[1;33m.\u001b[0m\u001b[0m_engine\u001b[0m\u001b[1;33m.\u001b[0m\u001b[0mget_loc\u001b[0m\u001b[1;33m(\u001b[0m\u001b[0mcasted_key\u001b[0m\u001b[1;33m)\u001b[0m\u001b[1;33m\u001b[0m\u001b[1;33m\u001b[0m\u001b[0m\n\u001b[0m\u001b[0;32m   3362\u001b[0m             \u001b[1;32mexcept\u001b[0m \u001b[0mKeyError\u001b[0m \u001b[1;32mas\u001b[0m \u001b[0merr\u001b[0m\u001b[1;33m:\u001b[0m\u001b[1;33m\u001b[0m\u001b[1;33m\u001b[0m\u001b[0m\n",
      "\u001b[1;32m~\\anaconda3\\lib\\site-packages\\pandas\\_libs\\index.pyx\u001b[0m in \u001b[0;36mpandas._libs.index.IndexEngine.get_loc\u001b[1;34m()\u001b[0m\n",
      "\u001b[1;32m~\\anaconda3\\lib\\site-packages\\pandas\\_libs\\index.pyx\u001b[0m in \u001b[0;36mpandas._libs.index.IndexEngine.get_loc\u001b[1;34m()\u001b[0m\n",
      "\u001b[1;32mpandas\\_libs\\hashtable_class_helper.pxi\u001b[0m in \u001b[0;36mpandas._libs.hashtable.PyObjectHashTable.get_item\u001b[1;34m()\u001b[0m\n",
      "\u001b[1;32mpandas\\_libs\\hashtable_class_helper.pxi\u001b[0m in \u001b[0;36mpandas._libs.hashtable.PyObjectHashTable.get_item\u001b[1;34m()\u001b[0m\n",
      "\u001b[1;31mKeyError\u001b[0m: 'Ref_Year'",
      "\nThe above exception was the direct cause of the following exception:\n",
      "\u001b[1;31mKeyError\u001b[0m                                  Traceback (most recent call last)",
      "\u001b[1;32m~\\AppData\\Local\\Temp/ipykernel_36364/3078580164.py\u001b[0m in \u001b[0;36m<module>\u001b[1;34m\u001b[0m\n\u001b[0;32m      3\u001b[0m     \u001b[0mprint\u001b[0m\u001b[1;33m(\u001b[0m\u001b[1;34m'working on row:'\u001b[0m\u001b[1;33m,\u001b[0m \u001b[0mindex\u001b[0m\u001b[1;33m)\u001b[0m\u001b[1;33m\u001b[0m\u001b[1;33m\u001b[0m\u001b[0m\n\u001b[0;32m      4\u001b[0m \u001b[1;33m\u001b[0m\u001b[0m\n\u001b[1;32m----> 5\u001b[1;33m     \u001b[1;32mif\u001b[0m \u001b[0mrow\u001b[0m\u001b[1;33m[\u001b[0m\u001b[1;34m'Ref_Year'\u001b[0m\u001b[1;33m]\u001b[0m \u001b[1;33m>\u001b[0m \u001b[1;36m21.0\u001b[0m \u001b[1;33m&\u001b[0m \u001b[0mrow\u001b[0m\u001b[1;33m[\u001b[0m\u001b[1;34m'Ref_Year'\u001b[0m\u001b[1;33m]\u001b[0m \u001b[1;33m<=\u001b[0m \u001b[1;36m99.0\u001b[0m \u001b[1;33m:\u001b[0m\u001b[1;33m\u001b[0m\u001b[1;33m\u001b[0m\u001b[0m\n\u001b[0m\u001b[0;32m      6\u001b[0m         \u001b[0mnapster_df\u001b[0m\u001b[1;33m.\u001b[0m\u001b[0mloc\u001b[0m\u001b[1;33m[\u001b[0m\u001b[0mindex\u001b[0m\u001b[1;33m,\u001b[0m \u001b[1;34m'new_ref_year'\u001b[0m\u001b[1;33m]\u001b[0m \u001b[1;33m=\u001b[0m \u001b[0mrow\u001b[0m\u001b[1;33m[\u001b[0m\u001b[1;34m'Ref_Year'\u001b[0m\u001b[1;33m]\u001b[0m \u001b[1;33m+\u001b[0m \u001b[1;36m1900\u001b[0m\u001b[1;33m\u001b[0m\u001b[1;33m\u001b[0m\u001b[0m\n\u001b[0;32m      7\u001b[0m     \u001b[1;32melif\u001b[0m \u001b[0mrow\u001b[0m\u001b[1;33m[\u001b[0m\u001b[1;34m'Ref_Year'\u001b[0m\u001b[1;33m]\u001b[0m \u001b[1;33m<=\u001b[0m \u001b[1;36m21.0\u001b[0m \u001b[1;33m:\u001b[0m\u001b[1;33m\u001b[0m\u001b[1;33m\u001b[0m\u001b[0m\n",
      "\u001b[1;32m~\\anaconda3\\lib\\site-packages\\pandas\\core\\series.py\u001b[0m in \u001b[0;36m__getitem__\u001b[1;34m(self, key)\u001b[0m\n\u001b[0;32m    940\u001b[0m \u001b[1;33m\u001b[0m\u001b[0m\n\u001b[0;32m    941\u001b[0m         \u001b[1;32melif\u001b[0m \u001b[0mkey_is_scalar\u001b[0m\u001b[1;33m:\u001b[0m\u001b[1;33m\u001b[0m\u001b[1;33m\u001b[0m\u001b[0m\n\u001b[1;32m--> 942\u001b[1;33m             \u001b[1;32mreturn\u001b[0m \u001b[0mself\u001b[0m\u001b[1;33m.\u001b[0m\u001b[0m_get_value\u001b[0m\u001b[1;33m(\u001b[0m\u001b[0mkey\u001b[0m\u001b[1;33m)\u001b[0m\u001b[1;33m\u001b[0m\u001b[1;33m\u001b[0m\u001b[0m\n\u001b[0m\u001b[0;32m    943\u001b[0m \u001b[1;33m\u001b[0m\u001b[0m\n\u001b[0;32m    944\u001b[0m         \u001b[1;32mif\u001b[0m \u001b[0mis_hashable\u001b[0m\u001b[1;33m(\u001b[0m\u001b[0mkey\u001b[0m\u001b[1;33m)\u001b[0m\u001b[1;33m:\u001b[0m\u001b[1;33m\u001b[0m\u001b[1;33m\u001b[0m\u001b[0m\n",
      "\u001b[1;32m~\\anaconda3\\lib\\site-packages\\pandas\\core\\series.py\u001b[0m in \u001b[0;36m_get_value\u001b[1;34m(self, label, takeable)\u001b[0m\n\u001b[0;32m   1049\u001b[0m \u001b[1;33m\u001b[0m\u001b[0m\n\u001b[0;32m   1050\u001b[0m         \u001b[1;31m# Similar to Index.get_value, but we do not fall back to positional\u001b[0m\u001b[1;33m\u001b[0m\u001b[1;33m\u001b[0m\u001b[0m\n\u001b[1;32m-> 1051\u001b[1;33m         \u001b[0mloc\u001b[0m \u001b[1;33m=\u001b[0m \u001b[0mself\u001b[0m\u001b[1;33m.\u001b[0m\u001b[0mindex\u001b[0m\u001b[1;33m.\u001b[0m\u001b[0mget_loc\u001b[0m\u001b[1;33m(\u001b[0m\u001b[0mlabel\u001b[0m\u001b[1;33m)\u001b[0m\u001b[1;33m\u001b[0m\u001b[1;33m\u001b[0m\u001b[0m\n\u001b[0m\u001b[0;32m   1052\u001b[0m         \u001b[1;32mreturn\u001b[0m \u001b[0mself\u001b[0m\u001b[1;33m.\u001b[0m\u001b[0mindex\u001b[0m\u001b[1;33m.\u001b[0m\u001b[0m_get_values_for_loc\u001b[0m\u001b[1;33m(\u001b[0m\u001b[0mself\u001b[0m\u001b[1;33m,\u001b[0m \u001b[0mloc\u001b[0m\u001b[1;33m,\u001b[0m \u001b[0mlabel\u001b[0m\u001b[1;33m)\u001b[0m\u001b[1;33m\u001b[0m\u001b[1;33m\u001b[0m\u001b[0m\n\u001b[0;32m   1053\u001b[0m \u001b[1;33m\u001b[0m\u001b[0m\n",
      "\u001b[1;32m~\\anaconda3\\lib\\site-packages\\pandas\\core\\indexes\\base.py\u001b[0m in \u001b[0;36mget_loc\u001b[1;34m(self, key, method, tolerance)\u001b[0m\n\u001b[0;32m   3361\u001b[0m                 \u001b[1;32mreturn\u001b[0m \u001b[0mself\u001b[0m\u001b[1;33m.\u001b[0m\u001b[0m_engine\u001b[0m\u001b[1;33m.\u001b[0m\u001b[0mget_loc\u001b[0m\u001b[1;33m(\u001b[0m\u001b[0mcasted_key\u001b[0m\u001b[1;33m)\u001b[0m\u001b[1;33m\u001b[0m\u001b[1;33m\u001b[0m\u001b[0m\n\u001b[0;32m   3362\u001b[0m             \u001b[1;32mexcept\u001b[0m \u001b[0mKeyError\u001b[0m \u001b[1;32mas\u001b[0m \u001b[0merr\u001b[0m\u001b[1;33m:\u001b[0m\u001b[1;33m\u001b[0m\u001b[1;33m\u001b[0m\u001b[0m\n\u001b[1;32m-> 3363\u001b[1;33m                 \u001b[1;32mraise\u001b[0m \u001b[0mKeyError\u001b[0m\u001b[1;33m(\u001b[0m\u001b[0mkey\u001b[0m\u001b[1;33m)\u001b[0m \u001b[1;32mfrom\u001b[0m \u001b[0merr\u001b[0m\u001b[1;33m\u001b[0m\u001b[1;33m\u001b[0m\u001b[0m\n\u001b[0m\u001b[0;32m   3364\u001b[0m \u001b[1;33m\u001b[0m\u001b[0m\n\u001b[0;32m   3365\u001b[0m         \u001b[1;32mif\u001b[0m \u001b[0mis_scalar\u001b[0m\u001b[1;33m(\u001b[0m\u001b[0mkey\u001b[0m\u001b[1;33m)\u001b[0m \u001b[1;32mand\u001b[0m \u001b[0misna\u001b[0m\u001b[1;33m(\u001b[0m\u001b[0mkey\u001b[0m\u001b[1;33m)\u001b[0m \u001b[1;32mand\u001b[0m \u001b[1;32mnot\u001b[0m \u001b[0mself\u001b[0m\u001b[1;33m.\u001b[0m\u001b[0mhasnans\u001b[0m\u001b[1;33m:\u001b[0m\u001b[1;33m\u001b[0m\u001b[1;33m\u001b[0m\u001b[0m\n",
      "\u001b[1;31mKeyError\u001b[0m: 'Ref_Year'"
     ]
    }
   ],
   "source": [
    "for index, row in napster_df.iterrows():\n",
    "    \n",
    "    print('working on row:', index)\n",
    "    \n",
    "    if row['Ref_Year'] > 21 & row['Ref_Year'] <= 99 :\n",
    "        napster_df.loc[index, 'new_ref_year'] = row['Ref_Year'] + 1900\n",
    "    elif row['Ref_Year'] <= 21 :\n",
    "        napster_df.loc[index, 'new_ref_year'] = row['Ref_Year'] + 2000\n",
    "    elif row['Ref_Year'].isnull == True :\n",
    "        napster_df.loc[index, 'new_ref_year'] = row['Ref_Year']\n",
    "    else :\n",
    "        napster_df.loc[index, 'new_ref_year'] = row['Ref_Year']\n",
    "    \n",
    "print('finished')"
   ]
  },
  {
   "cell_type": "code",
   "execution_count": null,
   "id": "173ee4b4",
   "metadata": {},
   "outputs": [],
   "source": [
    "display(napster_df.iloc[[84]])"
   ]
  },
  {
   "cell_type": "code",
   "execution_count": null,
   "id": "bf3647ec",
   "metadata": {},
   "outputs": [],
   "source": []
  }
 ],
 "metadata": {
  "kernelspec": {
   "display_name": "Python 3 (ipykernel)",
   "language": "python",
   "name": "python3"
  },
  "language_info": {
   "codemirror_mode": {
    "name": "ipython",
    "version": 3
   },
   "file_extension": ".py",
   "mimetype": "text/x-python",
   "name": "python",
   "nbconvert_exporter": "python",
   "pygments_lexer": "ipython3",
   "version": "3.9.7"
  }
 },
 "nbformat": 4,
 "nbformat_minor": 5
}
