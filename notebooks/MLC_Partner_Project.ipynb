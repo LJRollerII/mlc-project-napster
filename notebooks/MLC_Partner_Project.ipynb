{
 "cells": [
  {
   "cell_type": "code",
   "execution_count": 1,
   "id": "3c7d65f1",
   "metadata": {},
   "outputs": [],
   "source": [
    "import pandas as pd\n",
    "import numpy as np\n",
    "import matplotlib.pyplot as plt\n",
    "import seaborn as sns"
   ]
  },
  {
   "cell_type": "code",
   "execution_count": 2,
   "id": "4d91109b",
   "metadata": {},
   "outputs": [],
   "source": [
    "%matplotlib inline"
   ]
  },
  {
   "cell_type": "code",
   "execution_count": 3,
   "id": "64d3bb55",
   "metadata": {},
   "outputs": [],
   "source": [
    "mlc_df = pd.read_csv('../data/Matching Sample for NSS (100k Lines).xlsx - MLC Data Sample.csv')"
   ]
  },
  {
   "cell_type": "code",
   "execution_count": 4,
   "id": "b4f00520",
   "metadata": {},
   "outputs": [
    {
     "data": {
      "text/html": [
       "<div>\n",
       "<style scoped>\n",
       "    .dataframe tbody tr th:only-of-type {\n",
       "        vertical-align: middle;\n",
       "    }\n",
       "\n",
       "    .dataframe tbody tr th {\n",
       "        vertical-align: top;\n",
       "    }\n",
       "\n",
       "    .dataframe thead th {\n",
       "        text-align: right;\n",
       "    }\n",
       "</style>\n",
       "<table border=\"1\" class=\"dataframe\">\n",
       "  <thead>\n",
       "    <tr style=\"text-align: right;\">\n",
       "      <th></th>\n",
       "      <th>If</th>\n",
       "      <th>Country Code</th>\n",
       "      <th>Registrant Code</th>\n",
       "      <th>Year of Reference</th>\n",
       "      <th>Usage Period</th>\n",
       "      <th>Streaming Platform (DSP)</th>\n",
       "      <th>Streams</th>\n",
       "      <th>Recording Artist</th>\n",
       "      <th>Recording Label</th>\n",
       "      <th>Recording Title</th>\n",
       "      <th>Release Title</th>\n",
       "      <th>Recording Duration (Seconds)</th>\n",
       "      <th>Songwriter's Listed (1 = \"Yes\", 0 = \"No\")</th>\n",
       "    </tr>\n",
       "  </thead>\n",
       "  <tbody>\n",
       "    <tr>\n",
       "      <th>0</th>\n",
       "      <td>USUG12101043</td>\n",
       "      <td>US</td>\n",
       "      <td>UG1</td>\n",
       "      <td>21.0</td>\n",
       "      <td>NaN</td>\n",
       "      <td>AudioMack</td>\n",
       "      <td>10,175</td>\n",
       "      <td>Future</td>\n",
       "      <td>NaN</td>\n",
       "      <td>FUTURE FT DEJ LOAF HEY THERE PROD BY DDS</td>\n",
       "      <td>#unknown#</td>\n",
       "      <td>181</td>\n",
       "      <td>0</td>\n",
       "    </tr>\n",
       "    <tr>\n",
       "      <th>1</th>\n",
       "      <td>USRC12100543</td>\n",
       "      <td>US</td>\n",
       "      <td>RC1</td>\n",
       "      <td>21.0</td>\n",
       "      <td>NaN</td>\n",
       "      <td>SoundCloud</td>\n",
       "      <td>8,597</td>\n",
       "      <td>LUCKY3RD</td>\n",
       "      <td>LUCKY3RD</td>\n",
       "      <td>Keep It Cool  LUCKY3RD</td>\n",
       "      <td>Keep It Cool  LUCKY3RD</td>\n",
       "      <td>133</td>\n",
       "      <td>0</td>\n",
       "    </tr>\n",
       "    <tr>\n",
       "      <th>2</th>\n",
       "      <td>USSM12102263</td>\n",
       "      <td>US</td>\n",
       "      <td>SM1</td>\n",
       "      <td>21.0</td>\n",
       "      <td>NaN</td>\n",
       "      <td>SoundCloud</td>\n",
       "      <td>261,280</td>\n",
       "      <td>LUCKY3RD</td>\n",
       "      <td>LUCKY3RD</td>\n",
       "      <td>Life Goes On  LUCKY3RD</td>\n",
       "      <td>Life Goes On  LUCKY3RD</td>\n",
       "      <td>171</td>\n",
       "      <td>0</td>\n",
       "    </tr>\n",
       "    <tr>\n",
       "      <th>3</th>\n",
       "      <td>USLD91731547</td>\n",
       "      <td>US</td>\n",
       "      <td>LD9</td>\n",
       "      <td>17.0</td>\n",
       "      <td>2/1/2021</td>\n",
       "      <td>Trebel</td>\n",
       "      <td>5</td>\n",
       "      <td>Bachata &amp; Merengue Mix</td>\n",
       "      <td>Orchard</td>\n",
       "      <td>No dudes de mi- Merengue &amp; Bachata Mix</td>\n",
       "      <td>Mega Mix 2010</td>\n",
       "      <td>1250</td>\n",
       "      <td>0</td>\n",
       "    </tr>\n",
       "    <tr>\n",
       "      <th>4</th>\n",
       "      <td>USAT22007048</td>\n",
       "      <td>US</td>\n",
       "      <td>AT2</td>\n",
       "      <td>20.0</td>\n",
       "      <td>NaN</td>\n",
       "      <td>AudioMack</td>\n",
       "      <td>62,105</td>\n",
       "      <td>Foolio</td>\n",
       "      <td>NaN</td>\n",
       "      <td>WHEN I SEE YOU REMIX</td>\n",
       "      <td>#unknown#</td>\n",
       "      <td>187</td>\n",
       "      <td>0</td>\n",
       "    </tr>\n",
       "  </tbody>\n",
       "</table>\n",
       "</div>"
      ],
      "text/plain": [
       "            If  Country Code Registrant Code  Year of Reference Usage Period  \\\n",
       "0  USUG12101043           US             UG1               21.0          NaN   \n",
       "1  USRC12100543           US             RC1               21.0          NaN   \n",
       "2  USSM12102263           US             SM1               21.0          NaN   \n",
       "3  USLD91731547           US             LD9               17.0     2/1/2021   \n",
       "4  USAT22007048           US             AT2               20.0          NaN   \n",
       "\n",
       "  Streaming Platform (DSP)     Streams        Recording Artist  \\\n",
       "0                AudioMack     10,175                   Future   \n",
       "1               SoundCloud      8,597                 LUCKY3RD   \n",
       "2               SoundCloud    261,280                 LUCKY3RD   \n",
       "3                   Trebel          5   Bachata & Merengue Mix   \n",
       "4                AudioMack     62,105                   Foolio   \n",
       "\n",
       "  Recording Label                            Recording Title  \\\n",
       "0             NaN   FUTURE FT DEJ LOAF HEY THERE PROD BY DDS   \n",
       "1        LUCKY3RD                     Keep It Cool  LUCKY3RD   \n",
       "2        LUCKY3RD                     Life Goes On  LUCKY3RD   \n",
       "3         Orchard     No dudes de mi- Merengue & Bachata Mix   \n",
       "4             NaN                       WHEN I SEE YOU REMIX   \n",
       "\n",
       "             Release Title  Recording Duration (Seconds)  \\\n",
       "0                #unknown#                           181   \n",
       "1   Keep It Cool  LUCKY3RD                           133   \n",
       "2   Life Goes On  LUCKY3RD                           171   \n",
       "3            Mega Mix 2010                          1250   \n",
       "4                #unknown#                           187   \n",
       "\n",
       "   Songwriter's Listed (1 = \"Yes\", 0 = \"No\")  \n",
       "0                                          0  \n",
       "1                                          0  \n",
       "2                                          0  \n",
       "3                                          0  \n",
       "4                                          0  "
      ]
     },
     "execution_count": 4,
     "metadata": {},
     "output_type": "execute_result"
    }
   ],
   "source": [
    "mlc_df.head()"
   ]
  },
  {
   "cell_type": "code",
   "execution_count": 5,
   "id": "64bd114f",
   "metadata": {},
   "outputs": [
    {
     "data": {
      "text/html": [
       "<div>\n",
       "<style scoped>\n",
       "    .dataframe tbody tr th:only-of-type {\n",
       "        vertical-align: middle;\n",
       "    }\n",
       "\n",
       "    .dataframe tbody tr th {\n",
       "        vertical-align: top;\n",
       "    }\n",
       "\n",
       "    .dataframe thead th {\n",
       "        text-align: right;\n",
       "    }\n",
       "</style>\n",
       "<table border=\"1\" class=\"dataframe\">\n",
       "  <thead>\n",
       "    <tr style=\"text-align: right;\">\n",
       "      <th></th>\n",
       "      <th>If</th>\n",
       "      <th>Country Code</th>\n",
       "      <th>Registrant Code</th>\n",
       "      <th>Year of Reference</th>\n",
       "      <th>Usage Period</th>\n",
       "      <th>Streaming Platform (DSP)</th>\n",
       "      <th>Streams</th>\n",
       "      <th>Recording Artist</th>\n",
       "      <th>Recording Label</th>\n",
       "      <th>Recording Title</th>\n",
       "      <th>Release Title</th>\n",
       "      <th>Recording Duration (Seconds)</th>\n",
       "      <th>Songwriter's Listed (1 = \"Yes\", 0 = \"No\")</th>\n",
       "    </tr>\n",
       "  </thead>\n",
       "  <tbody>\n",
       "    <tr>\n",
       "      <th>99995</th>\n",
       "      <td>QZK6F2019397</td>\n",
       "      <td>QZ</td>\n",
       "      <td>K6F</td>\n",
       "      <td>20.0</td>\n",
       "      <td>3/1/2021</td>\n",
       "      <td>Spotify</td>\n",
       "      <td>28,549</td>\n",
       "      <td>Myuk</td>\n",
       "      <td>Sony Music Labels Inc.</td>\n",
       "      <td>魔法 - Anime Size</td>\n",
       "      <td>魔法 (Anime Size)</td>\n",
       "      <td>89</td>\n",
       "      <td>1</td>\n",
       "    </tr>\n",
       "    <tr>\n",
       "      <th>99996</th>\n",
       "      <td>QZK6F2019397</td>\n",
       "      <td>QZ</td>\n",
       "      <td>K6F</td>\n",
       "      <td>20.0</td>\n",
       "      <td>3/1/2021</td>\n",
       "      <td>Spotify</td>\n",
       "      <td>28,941</td>\n",
       "      <td>yama</td>\n",
       "      <td>Sony Music Labels Inc.</td>\n",
       "      <td>麻痺</td>\n",
       "      <td>麻痺</td>\n",
       "      <td>199</td>\n",
       "      <td>1</td>\n",
       "    </tr>\n",
       "    <tr>\n",
       "      <th>99997</th>\n",
       "      <td>SE6HN1926755</td>\n",
       "      <td>SE</td>\n",
       "      <td>6HN</td>\n",
       "      <td>19.0</td>\n",
       "      <td>3/1/2021</td>\n",
       "      <td>Spotify</td>\n",
       "      <td>28,941</td>\n",
       "      <td>yama</td>\n",
       "      <td>Sony Music Labels Inc.</td>\n",
       "      <td>麻痺</td>\n",
       "      <td>麻痺</td>\n",
       "      <td>199</td>\n",
       "      <td>1</td>\n",
       "    </tr>\n",
       "    <tr>\n",
       "      <th>99998</th>\n",
       "      <td>SEYOK1669274</td>\n",
       "      <td>SE</td>\n",
       "      <td>YOK</td>\n",
       "      <td>16.0</td>\n",
       "      <td>3/1/2021</td>\n",
       "      <td>Apple</td>\n",
       "      <td>8,970</td>\n",
       "      <td>yama</td>\n",
       "      <td>Sony Music Labels Inc.</td>\n",
       "      <td>麻痺</td>\n",
       "      <td>麻痺 - Single</td>\n",
       "      <td>198</td>\n",
       "      <td>1</td>\n",
       "    </tr>\n",
       "    <tr>\n",
       "      <th>99999</th>\n",
       "      <td>QZK6F2019397</td>\n",
       "      <td>QZ</td>\n",
       "      <td>K6F</td>\n",
       "      <td>20.0</td>\n",
       "      <td>2/1/2021</td>\n",
       "      <td>Spotify</td>\n",
       "      <td>11,245</td>\n",
       "      <td>Lexie Liu</td>\n",
       "      <td>泥鞋（北京）文化传媒有限公司</td>\n",
       "      <td>黑洞 Metropolis</td>\n",
       "      <td>无限意识 Meta Ego</td>\n",
       "      <td>259</td>\n",
       "      <td>1</td>\n",
       "    </tr>\n",
       "  </tbody>\n",
       "</table>\n",
       "</div>"
      ],
      "text/plain": [
       "                If  Country Code Registrant Code  Year of Reference  \\\n",
       "99995  QZK6F2019397           QZ             K6F               20.0   \n",
       "99996  QZK6F2019397           QZ             K6F               20.0   \n",
       "99997  SE6HN1926755           SE             6HN               19.0   \n",
       "99998  SEYOK1669274           SE             YOK               16.0   \n",
       "99999  QZK6F2019397           QZ             K6F               20.0   \n",
       "\n",
       "      Usage Period Streaming Platform (DSP)    Streams Recording Artist  \\\n",
       "99995     3/1/2021                  Spotify    28,549              Myuk   \n",
       "99996     3/1/2021                  Spotify    28,941              yama   \n",
       "99997     3/1/2021                  Spotify    28,941              yama   \n",
       "99998     3/1/2021                    Apple     8,970              yama   \n",
       "99999     2/1/2021                  Spotify    11,245         Lexie Liu   \n",
       "\n",
       "              Recording Label  Recording Title    Release Title  \\\n",
       "99995  Sony Music Labels Inc.  魔法 - Anime Size  魔法 (Anime Size)   \n",
       "99996  Sony Music Labels Inc.               麻痺               麻痺   \n",
       "99997  Sony Music Labels Inc.               麻痺               麻痺   \n",
       "99998  Sony Music Labels Inc.               麻痺      麻痺 - Single   \n",
       "99999          泥鞋（北京）文化传媒有限公司    黑洞 Metropolis    无限意识 Meta Ego   \n",
       "\n",
       "       Recording Duration (Seconds)  Songwriter's Listed (1 = \"Yes\", 0 = \"No\")  \n",
       "99995                            89                                          1  \n",
       "99996                           199                                          1  \n",
       "99997                           199                                          1  \n",
       "99998                           198                                          1  \n",
       "99999                           259                                          1  "
      ]
     },
     "execution_count": 5,
     "metadata": {},
     "output_type": "execute_result"
    }
   ],
   "source": [
    "mlc_df.tail()"
   ]
  },
  {
   "cell_type": "code",
   "execution_count": 6,
   "id": "18b6a8a9",
   "metadata": {},
   "outputs": [
    {
     "name": "stdout",
     "output_type": "stream",
     "text": [
      "<class 'pandas.core.frame.DataFrame'>\n",
      "RangeIndex: 100000 entries, 0 to 99999\n",
      "Data columns (total 13 columns):\n",
      " #   Column                                     Non-Null Count   Dtype  \n",
      "---  ------                                     --------------   -----  \n",
      " 0   If                                         98240 non-null   object \n",
      " 1   Country Code                               98303 non-null   object \n",
      " 2   Registrant Code                            98303 non-null   object \n",
      " 3   Year of Reference                          98239 non-null   float64\n",
      " 4   Usage Period                               91898 non-null   object \n",
      " 5   Streaming Platform (DSP)                   96001 non-null   object \n",
      " 6   Streams                                    100000 non-null  object \n",
      " 7   Recording Artist                           100000 non-null  object \n",
      " 8   Recording Label                            98992 non-null   object \n",
      " 9   Recording Title                            100000 non-null  object \n",
      " 10  Release Title                              99931 non-null   object \n",
      " 11  Recording Duration (Seconds)               100000 non-null  int64  \n",
      " 12  Songwriter's Listed (1 = \"Yes\", 0 = \"No\")  100000 non-null  int64  \n",
      "dtypes: float64(1), int64(2), object(10)\n",
      "memory usage: 9.9+ MB\n"
     ]
    }
   ],
   "source": [
    "mlc_df.info()"
   ]
  },
  {
   "cell_type": "code",
   "execution_count": 7,
   "id": "7164f08c",
   "metadata": {},
   "outputs": [
    {
     "data": {
      "text/html": [
       "<div>\n",
       "<style scoped>\n",
       "    .dataframe tbody tr th:only-of-type {\n",
       "        vertical-align: middle;\n",
       "    }\n",
       "\n",
       "    .dataframe tbody tr th {\n",
       "        vertical-align: top;\n",
       "    }\n",
       "\n",
       "    .dataframe thead th {\n",
       "        text-align: right;\n",
       "    }\n",
       "</style>\n",
       "<table border=\"1\" class=\"dataframe\">\n",
       "  <thead>\n",
       "    <tr style=\"text-align: right;\">\n",
       "      <th></th>\n",
       "      <th>Year of Reference</th>\n",
       "      <th>Recording Duration (Seconds)</th>\n",
       "      <th>Songwriter's Listed (1 = \"Yes\", 0 = \"No\")</th>\n",
       "    </tr>\n",
       "  </thead>\n",
       "  <tbody>\n",
       "    <tr>\n",
       "      <th>count</th>\n",
       "      <td>98239.000000</td>\n",
       "      <td>100000.000000</td>\n",
       "      <td>100000.000000</td>\n",
       "    </tr>\n",
       "    <tr>\n",
       "      <th>mean</th>\n",
       "      <td>19.671933</td>\n",
       "      <td>1016.893690</td>\n",
       "      <td>0.541610</td>\n",
       "    </tr>\n",
       "    <tr>\n",
       "      <th>std</th>\n",
       "      <td>12.638870</td>\n",
       "      <td>15565.692133</td>\n",
       "      <td>0.498268</td>\n",
       "    </tr>\n",
       "    <tr>\n",
       "      <th>min</th>\n",
       "      <td>0.000000</td>\n",
       "      <td>0.000000</td>\n",
       "      <td>0.000000</td>\n",
       "    </tr>\n",
       "    <tr>\n",
       "      <th>25%</th>\n",
       "      <td>17.000000</td>\n",
       "      <td>149.000000</td>\n",
       "      <td>0.000000</td>\n",
       "    </tr>\n",
       "    <tr>\n",
       "      <th>50%</th>\n",
       "      <td>19.000000</td>\n",
       "      <td>190.000000</td>\n",
       "      <td>1.000000</td>\n",
       "    </tr>\n",
       "    <tr>\n",
       "      <th>75%</th>\n",
       "      <td>20.000000</td>\n",
       "      <td>236.000000</td>\n",
       "      <td>1.000000</td>\n",
       "    </tr>\n",
       "    <tr>\n",
       "      <th>max</th>\n",
       "      <td>99.000000</td>\n",
       "      <td>818738.000000</td>\n",
       "      <td>1.000000</td>\n",
       "    </tr>\n",
       "  </tbody>\n",
       "</table>\n",
       "</div>"
      ],
      "text/plain": [
       "       Year of Reference  Recording Duration (Seconds)  \\\n",
       "count       98239.000000                 100000.000000   \n",
       "mean           19.671933                   1016.893690   \n",
       "std            12.638870                  15565.692133   \n",
       "min             0.000000                      0.000000   \n",
       "25%            17.000000                    149.000000   \n",
       "50%            19.000000                    190.000000   \n",
       "75%            20.000000                    236.000000   \n",
       "max            99.000000                 818738.000000   \n",
       "\n",
       "       Songwriter's Listed (1 = \"Yes\", 0 = \"No\")  \n",
       "count                              100000.000000  \n",
       "mean                                    0.541610  \n",
       "std                                     0.498268  \n",
       "min                                     0.000000  \n",
       "25%                                     0.000000  \n",
       "50%                                     1.000000  \n",
       "75%                                     1.000000  \n",
       "max                                     1.000000  "
      ]
     },
     "execution_count": 7,
     "metadata": {},
     "output_type": "execute_result"
    }
   ],
   "source": [
    "mlc_df.describe()"
   ]
  },
  {
   "cell_type": "markdown",
   "id": "53379fe1",
   "metadata": {},
   "source": [
    "Experimenting with how to rename columns"
   ]
  },
  {
   "cell_type": "code",
   "execution_count": 8,
   "id": "ebd9e247",
   "metadata": {},
   "outputs": [],
   "source": [
    "mlc_df.columns.values[12] = 'Songwriter'"
   ]
  },
  {
   "cell_type": "code",
   "execution_count": 9,
   "id": "17baecbd",
   "metadata": {},
   "outputs": [],
   "source": [
    "mlc_df.columns.values[0] = 'ISRC'"
   ]
  },
  {
   "cell_type": "markdown",
   "id": "5895938b",
   "metadata": {},
   "source": [
    "Renaming all columns"
   ]
  },
  {
   "cell_type": "code",
   "execution_count": 10,
   "id": "76764ba4",
   "metadata": {},
   "outputs": [],
   "source": [
    "mlc_df.columns = ['ISRC', 'Country', 'Registrant', 'Release_Year', 'Period', 'DSP', 'Streams', 'Artist', 'Label', 'Song', 'Album', 'Duration', 'Songwriter']"
   ]
  },
  {
   "cell_type": "code",
   "execution_count": 11,
   "id": "881d6d83",
   "metadata": {},
   "outputs": [
    {
     "data": {
      "text/html": [
       "<div>\n",
       "<style scoped>\n",
       "    .dataframe tbody tr th:only-of-type {\n",
       "        vertical-align: middle;\n",
       "    }\n",
       "\n",
       "    .dataframe tbody tr th {\n",
       "        vertical-align: top;\n",
       "    }\n",
       "\n",
       "    .dataframe thead th {\n",
       "        text-align: right;\n",
       "    }\n",
       "</style>\n",
       "<table border=\"1\" class=\"dataframe\">\n",
       "  <thead>\n",
       "    <tr style=\"text-align: right;\">\n",
       "      <th></th>\n",
       "      <th>ISRC</th>\n",
       "      <th>Country</th>\n",
       "      <th>Registrant</th>\n",
       "      <th>Release_Year</th>\n",
       "      <th>Period</th>\n",
       "      <th>DSP</th>\n",
       "      <th>Streams</th>\n",
       "      <th>Artist</th>\n",
       "      <th>Label</th>\n",
       "      <th>Song</th>\n",
       "      <th>Album</th>\n",
       "      <th>Duration</th>\n",
       "      <th>Songwriter</th>\n",
       "    </tr>\n",
       "  </thead>\n",
       "  <tbody>\n",
       "    <tr>\n",
       "      <th>0</th>\n",
       "      <td>USUG12101043</td>\n",
       "      <td>US</td>\n",
       "      <td>UG1</td>\n",
       "      <td>21.0</td>\n",
       "      <td>NaN</td>\n",
       "      <td>AudioMack</td>\n",
       "      <td>10,175</td>\n",
       "      <td>Future</td>\n",
       "      <td>NaN</td>\n",
       "      <td>FUTURE FT DEJ LOAF HEY THERE PROD BY DDS</td>\n",
       "      <td>#unknown#</td>\n",
       "      <td>181</td>\n",
       "      <td>0</td>\n",
       "    </tr>\n",
       "    <tr>\n",
       "      <th>1</th>\n",
       "      <td>USRC12100543</td>\n",
       "      <td>US</td>\n",
       "      <td>RC1</td>\n",
       "      <td>21.0</td>\n",
       "      <td>NaN</td>\n",
       "      <td>SoundCloud</td>\n",
       "      <td>8,597</td>\n",
       "      <td>LUCKY3RD</td>\n",
       "      <td>LUCKY3RD</td>\n",
       "      <td>Keep It Cool  LUCKY3RD</td>\n",
       "      <td>Keep It Cool  LUCKY3RD</td>\n",
       "      <td>133</td>\n",
       "      <td>0</td>\n",
       "    </tr>\n",
       "    <tr>\n",
       "      <th>2</th>\n",
       "      <td>USSM12102263</td>\n",
       "      <td>US</td>\n",
       "      <td>SM1</td>\n",
       "      <td>21.0</td>\n",
       "      <td>NaN</td>\n",
       "      <td>SoundCloud</td>\n",
       "      <td>261,280</td>\n",
       "      <td>LUCKY3RD</td>\n",
       "      <td>LUCKY3RD</td>\n",
       "      <td>Life Goes On  LUCKY3RD</td>\n",
       "      <td>Life Goes On  LUCKY3RD</td>\n",
       "      <td>171</td>\n",
       "      <td>0</td>\n",
       "    </tr>\n",
       "    <tr>\n",
       "      <th>3</th>\n",
       "      <td>USLD91731547</td>\n",
       "      <td>US</td>\n",
       "      <td>LD9</td>\n",
       "      <td>17.0</td>\n",
       "      <td>2/1/2021</td>\n",
       "      <td>Trebel</td>\n",
       "      <td>5</td>\n",
       "      <td>Bachata &amp; Merengue Mix</td>\n",
       "      <td>Orchard</td>\n",
       "      <td>No dudes de mi- Merengue &amp; Bachata Mix</td>\n",
       "      <td>Mega Mix 2010</td>\n",
       "      <td>1250</td>\n",
       "      <td>0</td>\n",
       "    </tr>\n",
       "    <tr>\n",
       "      <th>4</th>\n",
       "      <td>USAT22007048</td>\n",
       "      <td>US</td>\n",
       "      <td>AT2</td>\n",
       "      <td>20.0</td>\n",
       "      <td>NaN</td>\n",
       "      <td>AudioMack</td>\n",
       "      <td>62,105</td>\n",
       "      <td>Foolio</td>\n",
       "      <td>NaN</td>\n",
       "      <td>WHEN I SEE YOU REMIX</td>\n",
       "      <td>#unknown#</td>\n",
       "      <td>187</td>\n",
       "      <td>0</td>\n",
       "    </tr>\n",
       "  </tbody>\n",
       "</table>\n",
       "</div>"
      ],
      "text/plain": [
       "           ISRC Country Registrant  Release_Year    Period         DSP  \\\n",
       "0  USUG12101043      US        UG1          21.0       NaN   AudioMack   \n",
       "1  USRC12100543      US        RC1          21.0       NaN  SoundCloud   \n",
       "2  USSM12102263      US        SM1          21.0       NaN  SoundCloud   \n",
       "3  USLD91731547      US        LD9          17.0  2/1/2021      Trebel   \n",
       "4  USAT22007048      US        AT2          20.0       NaN   AudioMack   \n",
       "\n",
       "      Streams                  Artist     Label  \\\n",
       "0     10,175                   Future       NaN   \n",
       "1      8,597                 LUCKY3RD  LUCKY3RD   \n",
       "2    261,280                 LUCKY3RD  LUCKY3RD   \n",
       "3          5   Bachata & Merengue Mix   Orchard   \n",
       "4     62,105                   Foolio       NaN   \n",
       "\n",
       "                                        Song                    Album  \\\n",
       "0   FUTURE FT DEJ LOAF HEY THERE PROD BY DDS                #unknown#   \n",
       "1                     Keep It Cool  LUCKY3RD   Keep It Cool  LUCKY3RD   \n",
       "2                     Life Goes On  LUCKY3RD   Life Goes On  LUCKY3RD   \n",
       "3     No dudes de mi- Merengue & Bachata Mix            Mega Mix 2010   \n",
       "4                       WHEN I SEE YOU REMIX                #unknown#   \n",
       "\n",
       "   Duration  Songwriter  \n",
       "0       181           0  \n",
       "1       133           0  \n",
       "2       171           0  \n",
       "3      1250           0  \n",
       "4       187           0  "
      ]
     },
     "execution_count": 11,
     "metadata": {},
     "output_type": "execute_result"
    }
   ],
   "source": [
    "mlc_df.head()"
   ]
  },
  {
   "cell_type": "code",
   "execution_count": 12,
   "id": "87fe62eb",
   "metadata": {},
   "outputs": [
    {
     "data": {
      "text/plain": [
       "ISRC            1760\n",
       "Country         1697\n",
       "Registrant      1697\n",
       "Release_Year    1761\n",
       "Period          8102\n",
       "DSP             3999\n",
       "Streams            0\n",
       "Artist             0\n",
       "Label           1008\n",
       "Song               0\n",
       "Album             69\n",
       "Duration           0\n",
       "Songwriter         0\n",
       "dtype: int64"
      ]
     },
     "execution_count": 12,
     "metadata": {},
     "output_type": "execute_result"
    }
   ],
   "source": [
    "mlc_df.isnull().sum()"
   ]
  },
  {
   "cell_type": "code",
   "execution_count": 13,
   "id": "aa094bcb",
   "metadata": {},
   "outputs": [
    {
     "data": {
      "text/plain": [
       "1    54161\n",
       "0    45839\n",
       "Name: Songwriter, dtype: int64"
      ]
     },
     "execution_count": 13,
     "metadata": {},
     "output_type": "execute_result"
    }
   ],
   "source": [
    "mlc_df.Songwriter.value_counts()"
   ]
  },
  {
   "cell_type": "code",
   "execution_count": 14,
   "id": "6e7750ce",
   "metadata": {},
   "outputs": [
    {
     "data": {
      "text/plain": [
       "US    41621\n",
       "QZ    17189\n",
       "QM     8409\n",
       "TC     8295\n",
       "GB     6611\n",
       "      ...  \n",
       "QA        1\n",
       "FX        1\n",
       "PT        1\n",
       "BO        1\n",
       "CL        1\n",
       "Name: Country, Length: 77, dtype: int64"
      ]
     },
     "execution_count": 14,
     "metadata": {},
     "output_type": "execute_result"
    }
   ],
   "source": [
    "mlc_df.Country.value_counts()"
   ]
  },
  {
   "cell_type": "code",
   "execution_count": 15,
   "id": "37b61505",
   "metadata": {},
   "outputs": [
    {
     "data": {
      "text/plain": [
       "20.0    31143\n",
       "21.0    13510\n",
       "19.0    11577\n",
       "18.0     8556\n",
       "17.0     6025\n",
       "        ...  \n",
       "44.0        2\n",
       "50.0        1\n",
       "48.0        1\n",
       "49.0        1\n",
       "40.0        1\n",
       "Name: Release_Year, Length: 95, dtype: int64"
      ]
     },
     "execution_count": 15,
     "metadata": {},
     "output_type": "execute_result"
    }
   ],
   "source": [
    "mlc_df.Release_Year.value_counts()"
   ]
  },
  {
   "cell_type": "code",
   "execution_count": 16,
   "id": "2762138c",
   "metadata": {},
   "outputs": [
    {
     "data": {
      "text/plain": [
       "Spotify               32268\n",
       "Apple                 22200\n",
       "Amazon                14438\n",
       "Pandora               13777\n",
       "Tidal                  3521\n",
       "YouTube                2752\n",
       "SoundCloud             2122\n",
       "GTL                    1090\n",
       "Melodyv                 829\n",
       "Trebel                  817\n",
       "iHeart Radio            707\n",
       "AudioMack               550\n",
       "NugsNet                 316\n",
       "LiveXLive               200\n",
       "Qoboz                   104\n",
       "Midwest Tape            102\n",
       "Deezer                   51\n",
       "Anghami                  46\n",
       "Sonos                    23\n",
       "Recisio                  22\n",
       "Smithsonian              21\n",
       "Ultimate Guitar          19\n",
       "PowerMusic                8\n",
       "Wolfgangs                 4\n",
       "Fan Label                 4\n",
       "MixCloud                  4\n",
       "Pacemaker                 3\n",
       "Classical Archives        2\n",
       "MonkingMe                 1\n",
       "Name: DSP, dtype: int64"
      ]
     },
     "execution_count": 16,
     "metadata": {},
     "output_type": "execute_result"
    }
   ],
   "source": [
    "mlc_df.DSP.value_counts()"
   ]
  },
  {
   "cell_type": "code",
   "execution_count": 17,
   "id": "5782d8a2",
   "metadata": {},
   "outputs": [
    {
     "data": {
      "text/plain": [
       "21149"
      ]
     },
     "execution_count": 17,
     "metadata": {},
     "output_type": "execute_result"
    }
   ],
   "source": [
    "mlc_df.Artist.nunique()"
   ]
  },
  {
   "cell_type": "code",
   "execution_count": 18,
   "id": "f4738aba",
   "metadata": {},
   "outputs": [
    {
     "data": {
      "text/plain": [
       "11778"
      ]
     },
     "execution_count": 18,
     "metadata": {},
     "output_type": "execute_result"
    }
   ],
   "source": [
    "mlc_df.Label.nunique()"
   ]
  },
  {
   "cell_type": "code",
   "execution_count": 19,
   "id": "7a4ce636",
   "metadata": {},
   "outputs": [
    {
     "data": {
      "text/plain": [
       "77"
      ]
     },
     "execution_count": 19,
     "metadata": {},
     "output_type": "execute_result"
    }
   ],
   "source": [
    "mlc_df.Country.nunique()"
   ]
  },
  {
   "cell_type": "markdown",
   "id": "05fcf415",
   "metadata": {},
   "source": [
    "Trying to work on possible correlations? All the plots are too big and making my computer run loudly but doesn't actually produce any plots. The correlations I've tried have given errors (April 21st)"
   ]
  },
  {
   "cell_type": "code",
   "execution_count": 20,
   "id": "7f83319e",
   "metadata": {},
   "outputs": [
    {
     "name": "stdout",
     "output_type": "stream",
     "text": [
      "              Release_Year  Duration  Songwriter\n",
      "Release_Year      1.000000 -0.000481   -0.004529\n",
      "Duration         -0.000481  1.000000   -0.020790\n",
      "Songwriter       -0.004529 -0.020790    1.000000\n"
     ]
    }
   ],
   "source": [
    "print(mlc_df.corr())"
   ]
  },
  {
   "cell_type": "code",
   "execution_count": 21,
   "id": "d2620547",
   "metadata": {},
   "outputs": [
    {
     "data": {
      "text/plain": [
       "DSP           Artist                                  \n",
       "Amazon        Various artists                             906\n",
       "              Pinkfong                                    142\n",
       "              Jim Gaffigan                                141\n",
       "              Cocomelon                                   128\n",
       "              Thunderstorm Global Project from TraxLab    117\n",
       "                                                         ... \n",
       "iHeart Radio  Yo Gotti feat. Lil Baby                       1\n",
       "              Young Thug & Young Stoner Life Records        1\n",
       "              Zomboy featuring Bok Nero                     1\n",
       "              grandson                                      1\n",
       "              scondaz                                       1\n",
       "Name: Artist, Length: 26773, dtype: int64"
      ]
     },
     "execution_count": 21,
     "metadata": {},
     "output_type": "execute_result"
    }
   ],
   "source": [
    "mlc_df.groupby('DSP')['Artist'].value_counts()"
   ]
  },
  {
   "cell_type": "code",
   "execution_count": 22,
   "id": "f28b737d",
   "metadata": {},
   "outputs": [
    {
     "data": {
      "text/plain": [
       "Various artists                         967\n",
       "Lil Durk                                446\n",
       "Zach Bryan                              394\n",
       "Youngboy Never Broke Again              335\n",
       "Taylor Swift                            313\n",
       "                                       ... \n",
       "Sir Malcolm Sargent                       2\n",
       "Megan Thee Stallion|Bankroll Freddie      2\n",
       "Logic & Marshmello                        2\n",
       "Kiana Ledé,Jacquees                       2\n",
       "SEBii,Maple                               2\n",
       "Name: Artist, Length: 10875, dtype: int64"
      ]
     },
     "execution_count": 22,
     "metadata": {},
     "output_type": "execute_result"
    }
   ],
   "source": [
    "mlc_df['Artist'].value_counts().loc[lambda x : x>1]"
   ]
  },
  {
   "cell_type": "code",
   "execution_count": 23,
   "id": "24bb7ba5",
   "metadata": {},
   "outputs": [
    {
     "data": {
      "text/plain": [
       "DSP           Streams \n",
       "Amazon          1,132     21\n",
       "                827       15\n",
       "                909       14\n",
       "                1,030     13\n",
       "                829       13\n",
       "                          ..\n",
       "iHeart Radio    98         1\n",
       "                980        1\n",
       "                982        1\n",
       "                984        1\n",
       "                993        1\n",
       "Name: Streams, Length: 70082, dtype: int64"
      ]
     },
     "execution_count": 23,
     "metadata": {},
     "output_type": "execute_result"
    }
   ],
   "source": [
    "mlc_df.groupby('DSP')['Streams'].value_counts()"
   ]
  },
  {
   "cell_type": "code",
   "execution_count": 24,
   "id": "61448d21",
   "metadata": {},
   "outputs": [],
   "source": [
    "#Code from Scott and Rob\n",
    "#mlc_df.groupby(['DSP', 'Label']).agg({'Streams': ['sum']})\n",
    "#pd.reset_option('^display.', silent=True)\n",
    "#.sum().reset_index(name='num_streams').sort_values"
   ]
  },
  {
   "cell_type": "code",
   "execution_count": 25,
   "id": "dfe28bad",
   "metadata": {},
   "outputs": [],
   "source": [
    "#Looking for any relationship between DSP and Label - nulls, etc."
   ]
  },
  {
   "cell_type": "code",
   "execution_count": 26,
   "id": "de89de30",
   "metadata": {},
   "outputs": [
    {
     "data": {
      "text/plain": [
       "DSP           Label                   \n",
       "Amazon        Walt Disney Records         353\n",
       "              Deutsche Grammophon (DG)    316\n",
       "              Decca Music Group Ltd.      277\n",
       "              Atlantic Records            244\n",
       "              Moonbug Entertainment       221\n",
       "                                         ... \n",
       "iHeart Radio  WEA Roadrunner                1\n",
       "              Wall Recordings               1\n",
       "              Winners Circle  EMPIRE        1\n",
       "              Winter Hill Records           1\n",
       "              j.Nile Entertainment          1\n",
       "Name: Label, Length: 17232, dtype: int64"
      ]
     },
     "execution_count": 26,
     "metadata": {},
     "output_type": "execute_result"
    }
   ],
   "source": [
    "mlc_df.groupby('DSP')['Label'].value_counts()"
   ]
  },
  {
   "cell_type": "code",
   "execution_count": 27,
   "id": "65ce0b9a",
   "metadata": {},
   "outputs": [
    {
     "data": {
      "text/plain": [
       "Atlantic Records                      1384\n",
       "Lofi Records                          1232\n",
       "Warner Records                         995\n",
       "Columbia                               843\n",
       "Universal                              818\n",
       "                                      ... \n",
       "Twenty7 Records / Human Re Sources       1\n",
       "Hip-O Select / Motown                    1\n",
       "NyxTheShield                             1\n",
       "Relaxing Sounds For Studying             1\n",
       "Universal Music Taiwan                   1\n",
       "Name: Label, Length: 11778, dtype: int64"
      ]
     },
     "execution_count": 27,
     "metadata": {},
     "output_type": "execute_result"
    }
   ],
   "source": [
    "mlc_df.Label.value_counts()"
   ]
  },
  {
   "cell_type": "code",
   "execution_count": 28,
   "id": "c54598a1",
   "metadata": {},
   "outputs": [
    {
     "name": "stdout",
     "output_type": "stream",
     "text": [
      "          DSP     Label     Streams\n",
      "0   AudioMack       NaN     10,175 \n",
      "1  SoundCloud  LUCKY3RD      8,597 \n",
      "2  SoundCloud  LUCKY3RD    261,280 \n",
      "3      Trebel   Orchard          5 \n",
      "4   AudioMack       NaN     62,105 \n"
     ]
    }
   ],
   "source": [
    "dsp_and_label = mlc_df[['DSP', 'Label', 'Streams']]\n",
    "print(dsp_and_label.head())"
   ]
  },
  {
   "cell_type": "code",
   "execution_count": 30,
   "id": "e67445c8",
   "metadata": {},
   "outputs": [
    {
     "name": "stderr",
     "output_type": "stream",
     "text": [
      "/var/folders/4_/948td82x7jlf4pz0c4dtqn_00000gn/T/ipykernel_40337/2254150335.py:1: SettingWithCopyWarning: \n",
      "A value is trying to be set on a copy of a slice from a DataFrame.\n",
      "Try using .loc[row_indexer,col_indexer] = value instead\n",
      "\n",
      "See the caveats in the documentation: https://pandas.pydata.org/pandas-docs/stable/user_guide/indexing.html#returning-a-view-versus-a-copy\n",
      "  dsp_and_label['total_streams'] = ' '\n"
     ]
    }
   ],
   "source": [
    "dsp_and_label['total_streams'] = ' '"
   ]
  },
  {
   "cell_type": "code",
   "execution_count": 31,
   "id": "130206ad",
   "metadata": {},
   "outputs": [
    {
     "name": "stdout",
     "output_type": "stream",
     "text": [
      "          DSP     Label     Streams total_streams\n",
      "0   AudioMack       NaN     10,175               \n",
      "1  SoundCloud  LUCKY3RD      8,597               \n",
      "2  SoundCloud  LUCKY3RD    261,280               \n",
      "3      Trebel   Orchard          5               \n",
      "4   AudioMack       NaN     62,105               \n"
     ]
    }
   ],
   "source": [
    "print(dsp_and_label.head())"
   ]
  },
  {
   "cell_type": "code",
   "execution_count": 36,
   "id": "4e95613c",
   "metadata": {},
   "outputs": [
    {
     "name": "stderr",
     "output_type": "stream",
     "text": [
      "/var/folders/4_/948td82x7jlf4pz0c4dtqn_00000gn/T/ipykernel_40337/4233776142.py:1: SettingWithCopyWarning: \n",
      "A value is trying to be set on a copy of a slice from a DataFrame.\n",
      "Try using .loc[row_indexer,col_indexer] = value instead\n",
      "\n",
      "See the caveats in the documentation: https://pandas.pydata.org/pandas-docs/stable/user_guide/indexing.html#returning-a-view-versus-a-copy\n",
      "  dsp_and_label['total_streams'] = dsp_and_label.loc[:,'total_streams'].sum()\n"
     ]
    }
   ],
   "source": [
    "dsp_and_label['total_streams'] = dsp_and_label.loc[:,'total_streams'].sum()\n"
   ]
  },
  {
   "cell_type": "code",
   "execution_count": null,
   "id": "aa1e7a77",
   "metadata": {},
   "outputs": [],
   "source": []
  }
 ],
 "metadata": {
  "kernelspec": {
   "display_name": "Python 3 (ipykernel)",
   "language": "python",
   "name": "python3"
  },
  "language_info": {
   "codemirror_mode": {
    "name": "ipython",
    "version": 3
   },
   "file_extension": ".py",
   "mimetype": "text/x-python",
   "name": "python",
   "nbconvert_exporter": "python",
   "pygments_lexer": "ipython3",
   "version": "3.9.7"
  }
 },
 "nbformat": 4,
 "nbformat_minor": 5
}
