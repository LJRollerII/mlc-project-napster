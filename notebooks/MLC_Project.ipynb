{
 "cells": [
  {
   "cell_type": "code",
   "execution_count": 1,
   "id": "182b0589",
   "metadata": {},
   "outputs": [],
   "source": [
    "import pandas as pd\n",
    "import numpy as np\n",
    "import matplotlib.pyplot as plt\n",
    "import seaborn as sns"
   ]
  },
  {
   "cell_type": "code",
   "execution_count": 2,
   "id": "9bf58387",
   "metadata": {},
   "outputs": [],
   "source": [
    "%matplotlib inline"
   ]
  },
  {
   "cell_type": "code",
   "execution_count": 3,
   "id": "afb8022b",
   "metadata": {},
   "outputs": [],
   "source": [
    "mlc = pd.read_csv(\"../data/mlc_data.csv\")"
   ]
  },
  {
   "cell_type": "code",
   "execution_count": 4,
   "id": "f4961336",
   "metadata": {},
   "outputs": [
    {
     "data": {
      "text/html": [
       "<div>\n",
       "<style scoped>\n",
       "    .dataframe tbody tr th:only-of-type {\n",
       "        vertical-align: middle;\n",
       "    }\n",
       "\n",
       "    .dataframe tbody tr th {\n",
       "        vertical-align: top;\n",
       "    }\n",
       "\n",
       "    .dataframe thead th {\n",
       "        text-align: right;\n",
       "    }\n",
       "</style>\n",
       "<table border=\"1\" class=\"dataframe\">\n",
       "  <thead>\n",
       "    <tr style=\"text-align: right;\">\n",
       "      <th></th>\n",
       "      <th>If</th>\n",
       "      <th>Country Code</th>\n",
       "      <th>Registrant Code</th>\n",
       "      <th>Year of Reference</th>\n",
       "      <th>Usage Period</th>\n",
       "      <th>Streaming Platform (DSP)</th>\n",
       "      <th>Streams</th>\n",
       "      <th>Recording Artist</th>\n",
       "      <th>Recording Label</th>\n",
       "      <th>Recording Title</th>\n",
       "      <th>Release Title</th>\n",
       "      <th>Recording Duration (Seconds)</th>\n",
       "      <th>Songwriter's Listed (1 = \"Yes\", 0 = \"No\")</th>\n",
       "    </tr>\n",
       "  </thead>\n",
       "  <tbody>\n",
       "    <tr>\n",
       "      <th>0</th>\n",
       "      <td>USUG12101043</td>\n",
       "      <td>US</td>\n",
       "      <td>UG1</td>\n",
       "      <td>21.0</td>\n",
       "      <td>NaN</td>\n",
       "      <td>AudioMack</td>\n",
       "      <td>10,175</td>\n",
       "      <td>Future</td>\n",
       "      <td>NaN</td>\n",
       "      <td>FUTURE FT DEJ LOAF HEY THERE PROD BY DDS</td>\n",
       "      <td>#unknown#</td>\n",
       "      <td>181</td>\n",
       "      <td>0</td>\n",
       "    </tr>\n",
       "    <tr>\n",
       "      <th>1</th>\n",
       "      <td>USRC12100543</td>\n",
       "      <td>US</td>\n",
       "      <td>RC1</td>\n",
       "      <td>21.0</td>\n",
       "      <td>NaN</td>\n",
       "      <td>SoundCloud</td>\n",
       "      <td>8,597</td>\n",
       "      <td>LUCKY3RD</td>\n",
       "      <td>LUCKY3RD</td>\n",
       "      <td>Keep It Cool  LUCKY3RD</td>\n",
       "      <td>Keep It Cool  LUCKY3RD</td>\n",
       "      <td>133</td>\n",
       "      <td>0</td>\n",
       "    </tr>\n",
       "    <tr>\n",
       "      <th>2</th>\n",
       "      <td>USSM12102263</td>\n",
       "      <td>US</td>\n",
       "      <td>SM1</td>\n",
       "      <td>21.0</td>\n",
       "      <td>NaN</td>\n",
       "      <td>SoundCloud</td>\n",
       "      <td>261,280</td>\n",
       "      <td>LUCKY3RD</td>\n",
       "      <td>LUCKY3RD</td>\n",
       "      <td>Life Goes On  LUCKY3RD</td>\n",
       "      <td>Life Goes On  LUCKY3RD</td>\n",
       "      <td>171</td>\n",
       "      <td>0</td>\n",
       "    </tr>\n",
       "    <tr>\n",
       "      <th>3</th>\n",
       "      <td>USLD91731547</td>\n",
       "      <td>US</td>\n",
       "      <td>LD9</td>\n",
       "      <td>17.0</td>\n",
       "      <td>2/1/2021</td>\n",
       "      <td>Trebel</td>\n",
       "      <td>5</td>\n",
       "      <td>Bachata &amp; Merengue Mix</td>\n",
       "      <td>Orchard</td>\n",
       "      <td>No dudes de mi- Merengue &amp; Bachata Mix</td>\n",
       "      <td>Mega Mix 2010</td>\n",
       "      <td>1250</td>\n",
       "      <td>0</td>\n",
       "    </tr>\n",
       "    <tr>\n",
       "      <th>4</th>\n",
       "      <td>USAT22007048</td>\n",
       "      <td>US</td>\n",
       "      <td>AT2</td>\n",
       "      <td>20.0</td>\n",
       "      <td>NaN</td>\n",
       "      <td>AudioMack</td>\n",
       "      <td>62,105</td>\n",
       "      <td>Foolio</td>\n",
       "      <td>NaN</td>\n",
       "      <td>WHEN I SEE YOU REMIX</td>\n",
       "      <td>#unknown#</td>\n",
       "      <td>187</td>\n",
       "      <td>0</td>\n",
       "    </tr>\n",
       "  </tbody>\n",
       "</table>\n",
       "</div>"
      ],
      "text/plain": [
       "            If  Country Code Registrant Code  Year of Reference Usage Period  \\\n",
       "0  USUG12101043           US             UG1               21.0          NaN   \n",
       "1  USRC12100543           US             RC1               21.0          NaN   \n",
       "2  USSM12102263           US             SM1               21.0          NaN   \n",
       "3  USLD91731547           US             LD9               17.0     2/1/2021   \n",
       "4  USAT22007048           US             AT2               20.0          NaN   \n",
       "\n",
       "  Streaming Platform (DSP)     Streams        Recording Artist  \\\n",
       "0                AudioMack     10,175                   Future   \n",
       "1               SoundCloud      8,597                 LUCKY3RD   \n",
       "2               SoundCloud    261,280                 LUCKY3RD   \n",
       "3                   Trebel          5   Bachata & Merengue Mix   \n",
       "4                AudioMack     62,105                   Foolio   \n",
       "\n",
       "  Recording Label                            Recording Title  \\\n",
       "0             NaN   FUTURE FT DEJ LOAF HEY THERE PROD BY DDS   \n",
       "1        LUCKY3RD                     Keep It Cool  LUCKY3RD   \n",
       "2        LUCKY3RD                     Life Goes On  LUCKY3RD   \n",
       "3         Orchard     No dudes de mi- Merengue & Bachata Mix   \n",
       "4             NaN                       WHEN I SEE YOU REMIX   \n",
       "\n",
       "             Release Title  Recording Duration (Seconds)  \\\n",
       "0                #unknown#                           181   \n",
       "1   Keep It Cool  LUCKY3RD                           133   \n",
       "2   Life Goes On  LUCKY3RD                           171   \n",
       "3            Mega Mix 2010                          1250   \n",
       "4                #unknown#                           187   \n",
       "\n",
       "   Songwriter's Listed (1 = \"Yes\", 0 = \"No\")  \n",
       "0                                          0  \n",
       "1                                          0  \n",
       "2                                          0  \n",
       "3                                          0  \n",
       "4                                          0  "
      ]
     },
     "execution_count": 4,
     "metadata": {},
     "output_type": "execute_result"
    }
   ],
   "source": [
    "mlc.head()"
   ]
  },
  {
   "cell_type": "code",
   "execution_count": 5,
   "id": "b309caa0",
   "metadata": {},
   "outputs": [
    {
     "data": {
      "text/html": [
       "<div>\n",
       "<style scoped>\n",
       "    .dataframe tbody tr th:only-of-type {\n",
       "        vertical-align: middle;\n",
       "    }\n",
       "\n",
       "    .dataframe tbody tr th {\n",
       "        vertical-align: top;\n",
       "    }\n",
       "\n",
       "    .dataframe thead th {\n",
       "        text-align: right;\n",
       "    }\n",
       "</style>\n",
       "<table border=\"1\" class=\"dataframe\">\n",
       "  <thead>\n",
       "    <tr style=\"text-align: right;\">\n",
       "      <th></th>\n",
       "      <th>If</th>\n",
       "      <th>Country Code</th>\n",
       "      <th>Registrant Code</th>\n",
       "      <th>Year of Reference</th>\n",
       "      <th>Usage Period</th>\n",
       "      <th>Streaming Platform (DSP)</th>\n",
       "      <th>Streams</th>\n",
       "      <th>Recording Artist</th>\n",
       "      <th>Recording Label</th>\n",
       "      <th>Recording Title</th>\n",
       "      <th>Release Title</th>\n",
       "      <th>Recording Duration (Seconds)</th>\n",
       "      <th>Songwriter's Listed (1 = \"Yes\", 0 = \"No\")</th>\n",
       "    </tr>\n",
       "  </thead>\n",
       "  <tbody>\n",
       "    <tr>\n",
       "      <th>99995</th>\n",
       "      <td>QZK6F2019397</td>\n",
       "      <td>QZ</td>\n",
       "      <td>K6F</td>\n",
       "      <td>20.0</td>\n",
       "      <td>3/1/2021</td>\n",
       "      <td>Spotify</td>\n",
       "      <td>28,549</td>\n",
       "      <td>Myuk</td>\n",
       "      <td>Sony Music Labels Inc.</td>\n",
       "      <td>魔法 - Anime Size</td>\n",
       "      <td>魔法 (Anime Size)</td>\n",
       "      <td>89</td>\n",
       "      <td>1</td>\n",
       "    </tr>\n",
       "    <tr>\n",
       "      <th>99996</th>\n",
       "      <td>QZK6F2019397</td>\n",
       "      <td>QZ</td>\n",
       "      <td>K6F</td>\n",
       "      <td>20.0</td>\n",
       "      <td>3/1/2021</td>\n",
       "      <td>Spotify</td>\n",
       "      <td>28,941</td>\n",
       "      <td>yama</td>\n",
       "      <td>Sony Music Labels Inc.</td>\n",
       "      <td>麻痺</td>\n",
       "      <td>麻痺</td>\n",
       "      <td>199</td>\n",
       "      <td>1</td>\n",
       "    </tr>\n",
       "    <tr>\n",
       "      <th>99997</th>\n",
       "      <td>SE6HN1926755</td>\n",
       "      <td>SE</td>\n",
       "      <td>6HN</td>\n",
       "      <td>19.0</td>\n",
       "      <td>3/1/2021</td>\n",
       "      <td>Spotify</td>\n",
       "      <td>28,941</td>\n",
       "      <td>yama</td>\n",
       "      <td>Sony Music Labels Inc.</td>\n",
       "      <td>麻痺</td>\n",
       "      <td>麻痺</td>\n",
       "      <td>199</td>\n",
       "      <td>1</td>\n",
       "    </tr>\n",
       "    <tr>\n",
       "      <th>99998</th>\n",
       "      <td>SEYOK1669274</td>\n",
       "      <td>SE</td>\n",
       "      <td>YOK</td>\n",
       "      <td>16.0</td>\n",
       "      <td>3/1/2021</td>\n",
       "      <td>Apple</td>\n",
       "      <td>8,970</td>\n",
       "      <td>yama</td>\n",
       "      <td>Sony Music Labels Inc.</td>\n",
       "      <td>麻痺</td>\n",
       "      <td>麻痺 - Single</td>\n",
       "      <td>198</td>\n",
       "      <td>1</td>\n",
       "    </tr>\n",
       "    <tr>\n",
       "      <th>99999</th>\n",
       "      <td>QZK6F2019397</td>\n",
       "      <td>QZ</td>\n",
       "      <td>K6F</td>\n",
       "      <td>20.0</td>\n",
       "      <td>2/1/2021</td>\n",
       "      <td>Spotify</td>\n",
       "      <td>11,245</td>\n",
       "      <td>Lexie Liu</td>\n",
       "      <td>泥鞋（北京）文化传媒有限公司</td>\n",
       "      <td>黑洞 Metropolis</td>\n",
       "      <td>无限意识 Meta Ego</td>\n",
       "      <td>259</td>\n",
       "      <td>1</td>\n",
       "    </tr>\n",
       "  </tbody>\n",
       "</table>\n",
       "</div>"
      ],
      "text/plain": [
       "                If  Country Code Registrant Code  Year of Reference  \\\n",
       "99995  QZK6F2019397           QZ             K6F               20.0   \n",
       "99996  QZK6F2019397           QZ             K6F               20.0   \n",
       "99997  SE6HN1926755           SE             6HN               19.0   \n",
       "99998  SEYOK1669274           SE             YOK               16.0   \n",
       "99999  QZK6F2019397           QZ             K6F               20.0   \n",
       "\n",
       "      Usage Period Streaming Platform (DSP)    Streams Recording Artist  \\\n",
       "99995     3/1/2021                  Spotify    28,549              Myuk   \n",
       "99996     3/1/2021                  Spotify    28,941              yama   \n",
       "99997     3/1/2021                  Spotify    28,941              yama   \n",
       "99998     3/1/2021                    Apple     8,970              yama   \n",
       "99999     2/1/2021                  Spotify    11,245         Lexie Liu   \n",
       "\n",
       "              Recording Label  Recording Title    Release Title  \\\n",
       "99995  Sony Music Labels Inc.  魔法 - Anime Size  魔法 (Anime Size)   \n",
       "99996  Sony Music Labels Inc.               麻痺               麻痺   \n",
       "99997  Sony Music Labels Inc.               麻痺               麻痺   \n",
       "99998  Sony Music Labels Inc.               麻痺      麻痺 - Single   \n",
       "99999          泥鞋（北京）文化传媒有限公司    黑洞 Metropolis    无限意识 Meta Ego   \n",
       "\n",
       "       Recording Duration (Seconds)  Songwriter's Listed (1 = \"Yes\", 0 = \"No\")  \n",
       "99995                            89                                          1  \n",
       "99996                           199                                          1  \n",
       "99997                           199                                          1  \n",
       "99998                           198                                          1  \n",
       "99999                           259                                          1  "
      ]
     },
     "execution_count": 5,
     "metadata": {},
     "output_type": "execute_result"
    }
   ],
   "source": [
    "mlc.tail()"
   ]
  },
  {
   "cell_type": "code",
   "execution_count": 6,
   "id": "e3976074",
   "metadata": {},
   "outputs": [
    {
     "data": {
      "text/plain": [
       "(100000, 13)"
      ]
     },
     "execution_count": 6,
     "metadata": {},
     "output_type": "execute_result"
    }
   ],
   "source": [
    "mlc.shape"
   ]
  },
  {
   "cell_type": "code",
   "execution_count": 7,
   "id": "da9bab8f",
   "metadata": {},
   "outputs": [
    {
     "data": {
      "text/plain": [
       "If                                            object\n",
       "Country Code                                  object\n",
       "Registrant Code                               object\n",
       "Year of Reference                            float64\n",
       "Usage Period                                  object\n",
       "Streaming Platform (DSP)                      object\n",
       "Streams                                       object\n",
       "Recording Artist                              object\n",
       "Recording Label                               object\n",
       "Recording Title                               object\n",
       "Release Title                                 object\n",
       "Recording Duration (Seconds)                   int64\n",
       "Songwriter's Listed (1 = \"Yes\", 0 = \"No\")      int64\n",
       "dtype: object"
      ]
     },
     "execution_count": 7,
     "metadata": {},
     "output_type": "execute_result"
    }
   ],
   "source": [
    "mlc.dtypes"
   ]
  },
  {
   "cell_type": "code",
   "execution_count": 8,
   "id": "39934d30",
   "metadata": {},
   "outputs": [
    {
     "data": {
      "text/plain": [
       "<bound method DataFrame.info of                 If  Country Code Registrant Code  Year of Reference  \\\n",
       "0      USUG12101043           US             UG1               21.0   \n",
       "1      USRC12100543           US             RC1               21.0   \n",
       "2      USSM12102263           US             SM1               21.0   \n",
       "3      USLD91731547           US             LD9               17.0   \n",
       "4      USAT22007048           US             AT2               20.0   \n",
       "...             ...          ...             ...                ...   \n",
       "99995  QZK6F2019397           QZ             K6F               20.0   \n",
       "99996  QZK6F2019397           QZ             K6F               20.0   \n",
       "99997  SE6HN1926755           SE             6HN               19.0   \n",
       "99998  SEYOK1669274           SE             YOK               16.0   \n",
       "99999  QZK6F2019397           QZ             K6F               20.0   \n",
       "\n",
       "      Usage Period Streaming Platform (DSP)     Streams  \\\n",
       "0              NaN                AudioMack     10,175    \n",
       "1              NaN               SoundCloud      8,597    \n",
       "2              NaN               SoundCloud    261,280    \n",
       "3         2/1/2021                   Trebel          5    \n",
       "4              NaN                AudioMack     62,105    \n",
       "...            ...                      ...         ...   \n",
       "99995     3/1/2021                  Spotify     28,549    \n",
       "99996     3/1/2021                  Spotify     28,941    \n",
       "99997     3/1/2021                  Spotify     28,941    \n",
       "99998     3/1/2021                    Apple      8,970    \n",
       "99999     2/1/2021                  Spotify     11,245    \n",
       "\n",
       "             Recording Artist         Recording Label  \\\n",
       "0                      Future                     NaN   \n",
       "1                    LUCKY3RD                LUCKY3RD   \n",
       "2                    LUCKY3RD                LUCKY3RD   \n",
       "3      Bachata & Merengue Mix                 Orchard   \n",
       "4                      Foolio                     NaN   \n",
       "...                       ...                     ...   \n",
       "99995                    Myuk  Sony Music Labels Inc.   \n",
       "99996                    yama  Sony Music Labels Inc.   \n",
       "99997                    yama  Sony Music Labels Inc.   \n",
       "99998                    yama  Sony Music Labels Inc.   \n",
       "99999               Lexie Liu          泥鞋（北京）文化传媒有限公司   \n",
       "\n",
       "                                 Recording Title            Release Title  \\\n",
       "0       FUTURE FT DEJ LOAF HEY THERE PROD BY DDS                #unknown#   \n",
       "1                         Keep It Cool  LUCKY3RD   Keep It Cool  LUCKY3RD   \n",
       "2                         Life Goes On  LUCKY3RD   Life Goes On  LUCKY3RD   \n",
       "3         No dudes de mi- Merengue & Bachata Mix            Mega Mix 2010   \n",
       "4                           WHEN I SEE YOU REMIX                #unknown#   \n",
       "...                                          ...                      ...   \n",
       "99995                            魔法 - Anime Size          魔法 (Anime Size)   \n",
       "99996                                         麻痺                       麻痺   \n",
       "99997                                         麻痺                       麻痺   \n",
       "99998                                         麻痺              麻痺 - Single   \n",
       "99999                              黑洞 Metropolis            无限意识 Meta Ego   \n",
       "\n",
       "       Recording Duration (Seconds)  Songwriter's Listed (1 = \"Yes\", 0 = \"No\")  \n",
       "0                               181                                          0  \n",
       "1                               133                                          0  \n",
       "2                               171                                          0  \n",
       "3                              1250                                          0  \n",
       "4                               187                                          0  \n",
       "...                             ...                                        ...  \n",
       "99995                            89                                          1  \n",
       "99996                           199                                          1  \n",
       "99997                           199                                          1  \n",
       "99998                           198                                          1  \n",
       "99999                           259                                          1  \n",
       "\n",
       "[100000 rows x 13 columns]>"
      ]
     },
     "execution_count": 8,
     "metadata": {},
     "output_type": "execute_result"
    }
   ],
   "source": [
    "mlc.info"
   ]
  },
  {
   "cell_type": "code",
   "execution_count": 9,
   "id": "11adaa9b",
   "metadata": {},
   "outputs": [
    {
     "data": {
      "text/plain": [
       "If                                           1760\n",
       "Country Code                                 1697\n",
       "Registrant Code                              1697\n",
       "Year of Reference                            1761\n",
       "Usage Period                                 8102\n",
       "Streaming Platform (DSP)                     3999\n",
       "Streams                                         0\n",
       "Recording Artist                                0\n",
       "Recording Label                              1008\n",
       "Recording Title                                 0\n",
       "Release Title                                  69\n",
       "Recording Duration (Seconds)                    0\n",
       "Songwriter's Listed (1 = \"Yes\", 0 = \"No\")       0\n",
       "dtype: int64"
      ]
     },
     "execution_count": 9,
     "metadata": {},
     "output_type": "execute_result"
    }
   ],
   "source": [
    "mlc.isnull().sum()"
   ]
  },
  {
   "cell_type": "code",
   "execution_count": 10,
   "id": "af5a9ad2",
   "metadata": {},
   "outputs": [
    {
     "data": {
      "text/html": [
       "<div>\n",
       "<style scoped>\n",
       "    .dataframe tbody tr th:only-of-type {\n",
       "        vertical-align: middle;\n",
       "    }\n",
       "\n",
       "    .dataframe tbody tr th {\n",
       "        vertical-align: top;\n",
       "    }\n",
       "\n",
       "    .dataframe thead th {\n",
       "        text-align: right;\n",
       "    }\n",
       "</style>\n",
       "<table border=\"1\" class=\"dataframe\">\n",
       "  <thead>\n",
       "    <tr style=\"text-align: right;\">\n",
       "      <th></th>\n",
       "      <th>Year of Reference</th>\n",
       "      <th>Recording Duration (Seconds)</th>\n",
       "      <th>Songwriter's Listed (1 = \"Yes\", 0 = \"No\")</th>\n",
       "    </tr>\n",
       "  </thead>\n",
       "  <tbody>\n",
       "    <tr>\n",
       "      <th>count</th>\n",
       "      <td>98239.000000</td>\n",
       "      <td>100000.000000</td>\n",
       "      <td>100000.000000</td>\n",
       "    </tr>\n",
       "    <tr>\n",
       "      <th>mean</th>\n",
       "      <td>19.671933</td>\n",
       "      <td>1016.893690</td>\n",
       "      <td>0.541610</td>\n",
       "    </tr>\n",
       "    <tr>\n",
       "      <th>std</th>\n",
       "      <td>12.638870</td>\n",
       "      <td>15565.692133</td>\n",
       "      <td>0.498268</td>\n",
       "    </tr>\n",
       "    <tr>\n",
       "      <th>min</th>\n",
       "      <td>0.000000</td>\n",
       "      <td>0.000000</td>\n",
       "      <td>0.000000</td>\n",
       "    </tr>\n",
       "    <tr>\n",
       "      <th>25%</th>\n",
       "      <td>17.000000</td>\n",
       "      <td>149.000000</td>\n",
       "      <td>0.000000</td>\n",
       "    </tr>\n",
       "    <tr>\n",
       "      <th>50%</th>\n",
       "      <td>19.000000</td>\n",
       "      <td>190.000000</td>\n",
       "      <td>1.000000</td>\n",
       "    </tr>\n",
       "    <tr>\n",
       "      <th>75%</th>\n",
       "      <td>20.000000</td>\n",
       "      <td>236.000000</td>\n",
       "      <td>1.000000</td>\n",
       "    </tr>\n",
       "    <tr>\n",
       "      <th>max</th>\n",
       "      <td>99.000000</td>\n",
       "      <td>818738.000000</td>\n",
       "      <td>1.000000</td>\n",
       "    </tr>\n",
       "  </tbody>\n",
       "</table>\n",
       "</div>"
      ],
      "text/plain": [
       "       Year of Reference  Recording Duration (Seconds)  \\\n",
       "count       98239.000000                 100000.000000   \n",
       "mean           19.671933                   1016.893690   \n",
       "std            12.638870                  15565.692133   \n",
       "min             0.000000                      0.000000   \n",
       "25%            17.000000                    149.000000   \n",
       "50%            19.000000                    190.000000   \n",
       "75%            20.000000                    236.000000   \n",
       "max            99.000000                 818738.000000   \n",
       "\n",
       "       Songwriter's Listed (1 = \"Yes\", 0 = \"No\")  \n",
       "count                              100000.000000  \n",
       "mean                                    0.541610  \n",
       "std                                     0.498268  \n",
       "min                                     0.000000  \n",
       "25%                                     0.000000  \n",
       "50%                                     1.000000  \n",
       "75%                                     1.000000  \n",
       "max                                     1.000000  "
      ]
     },
     "execution_count": 10,
     "metadata": {},
     "output_type": "execute_result"
    }
   ],
   "source": [
    "mlc.describe()"
   ]
  },
  {
   "cell_type": "code",
   "execution_count": 11,
   "id": "4cad7dda",
   "metadata": {},
   "outputs": [
    {
     "data": {
      "image/png": "[encoded data removed]",
      "text/plain": [
       "<Figure size 432x288 with 1 Axes>"
      ]
     },
     "metadata": {
      "needs_background": "light"
     },
     "output_type": "display_data"
    }
   ],
   "source": [
    "mlc.plot();"
   ]
  },
  {
   "cell_type": "code",
   "execution_count": 12,
   "id": "6c821e98",
   "metadata": {},
   "outputs": [
    {
     "data": {
      "image/png": "[encoded data removed]",
      "text/plain": [
       "<Figure size 540x540 with 12 Axes>"
      ]
     },
     "metadata": {},
     "output_type": "display_data"
    }
   ],
   "source": [
    "#set the seaborn theme, style, color palette\n",
    "sns.set(style=\"ticks\", color_codes=True)\n",
    "\n",
    "#make a correlation plot that looks at each variables relationship with every other variable\n",
    "#and plots the distribution of each variable along the diagonal\n",
    "sns.pairplot(mlc);"
   ]
  },
  {
   "cell_type": "code",
   "execution_count": 13,
   "id": "e340c37d",
   "metadata": {},
   "outputs": [
    {
     "data": {
      "text/plain": [
       "Spotify               32268\n",
       "Apple                 22200\n",
       "Amazon                14438\n",
       "Pandora               13777\n",
       "Tidal                  3521\n",
       "YouTube                2752\n",
       "SoundCloud             2122\n",
       "GTL                    1090\n",
       "Melodyv                 829\n",
       "Trebel                  817\n",
       "iHeart Radio            707\n",
       "AudioMack               550\n",
       "NugsNet                 316\n",
       "LiveXLive               200\n",
       "Qoboz                   104\n",
       "Midwest Tape            102\n",
       "Deezer                   51\n",
       "Anghami                  46\n",
       "Sonos                    23\n",
       "Recisio                  22\n",
       "Smithsonian              21\n",
       "Ultimate Guitar          19\n",
       "PowerMusic                8\n",
       "Wolfgangs                 4\n",
       "Fan Label                 4\n",
       "MixCloud                  4\n",
       "Pacemaker                 3\n",
       "Classical Archives        2\n",
       "MonkingMe                 1\n",
       "Name: Streaming Platform (DSP), dtype: int64"
      ]
     },
     "execution_count": 13,
     "metadata": {},
     "output_type": "execute_result"
    }
   ],
   "source": [
    "mlc['Streaming Platform (DSP)'].value_counts()"
   ]
  },
  {
   "cell_type": "code",
   "execution_count": 14,
   "id": "045d4b27",
   "metadata": {},
   "outputs": [
    {
     "data": {
      "text/plain": [
       "US    41621\n",
       "QZ    17189\n",
       "QM     8409\n",
       "TC     8295\n",
       "GB     6611\n",
       "      ...  \n",
       "QA        1\n",
       "FX        1\n",
       "PT        1\n",
       "BO        1\n",
       "CL        1\n",
       "Name: Country Code, Length: 77, dtype: int64"
      ]
     },
     "execution_count": 14,
     "metadata": {},
     "output_type": "execute_result"
    }
   ],
   "source": [
    "mlc['Country Code'].value_counts()"
   ]
  },
  {
   "cell_type": "code",
   "execution_count": 15,
   "id": "07ab5dc4",
   "metadata": {},
   "outputs": [
    {
     "data": {
      "text/plain": [
       "Various artists                                                                                   967\n",
       "Lil Durk                                                                                          446\n",
       "Zach Bryan                                                                                        394\n",
       "Youngboy Never Broke Again                                                                        335\n",
       "Taylor Swift                                                                                      313\n",
       "                                                                                                 ... \n",
       "Mr. Rock Ski,Madam T                                                                                1\n",
       "Rauw Alejandro, Myke Towers, Jay Wheeler                                                            1\n",
       "Jay Wheeler, Myke Towers & DJ Nelson (feat. Jhay Cortez, Lunay, Rauw Alejandro & Kendo Kaponi)      1\n",
       "Jay Wheeler, Myke Towers & Becky G                                                                  1\n",
       "Loud Bunch Kids                                                                                     1\n",
       "Name: Recording Artist, Length: 21149, dtype: int64"
      ]
     },
     "execution_count": 15,
     "metadata": {},
     "output_type": "execute_result"
    }
   ],
   "source": [
    "mlc['Recording Artist'].value_counts()"
   ]
  },
  {
   "cell_type": "code",
   "execution_count": 16,
   "id": "f44c734b",
   "metadata": {},
   "outputs": [
    {
     "data": {
      "text/plain": [
       "20.0    31143\n",
       "21.0    13510\n",
       "19.0    11577\n",
       "18.0     8556\n",
       "17.0     6025\n",
       "        ...  \n",
       "44.0        2\n",
       "50.0        1\n",
       "48.0        1\n",
       "49.0        1\n",
       "40.0        1\n",
       "Name: Year of Reference, Length: 95, dtype: int64"
      ]
     },
     "execution_count": 16,
     "metadata": {},
     "output_type": "execute_result"
    }
   ],
   "source": [
    "mlc['Year of Reference'].value_counts()"
   ]
  },
  {
   "cell_type": "code",
   "execution_count": 17,
   "id": "594a76d0",
   "metadata": {},
   "outputs": [
    {
     "data": {
      "text/plain": [
       "Atlantic Records                      1384\n",
       "Lofi Records                          1232\n",
       "Warner Records                         995\n",
       "Columbia                               843\n",
       "Universal                              818\n",
       "                                      ... \n",
       "Twenty7 Records / Human Re Sources       1\n",
       "Hip-O Select / Motown                    1\n",
       "NyxTheShield                             1\n",
       "Relaxing Sounds For Studying             1\n",
       "Universal Music Taiwan                   1\n",
       "Name: Recording Label, Length: 11778, dtype: int64"
      ]
     },
     "execution_count": 17,
     "metadata": {},
     "output_type": "execute_result"
    }
   ],
   "source": [
    "mlc['Recording Label'].value_counts()"
   ]
  },
  {
   "cell_type": "markdown",
   "id": "0ad1c410",
   "metadata": {},
   "source": [
    "Let's rename the columns"
   ]
  },
  {
   "cell_type": "code",
   "execution_count": 21,
   "id": "fc366517",
   "metadata": {
    "scrolled": true
   },
   "outputs": [],
   "source": [
    "mlc.columns = ['ISRC', 'Country_Code', 'Registrant_Code', 'Year_of_Reference', 'Usage_Period', 'DSP', 'Streams', 'Recording_Artist', 'Recording_Label','Recording_Title','Release_Title','Recording_Duration','Songwriters_Listed']"
   ]
  },
  {
   "cell_type": "code",
   "execution_count": 22,
   "id": "e43bf3dc",
   "metadata": {
    "scrolled": true
   },
   "outputs": [
    {
     "data": {
      "text/html": [
       "<div>\n",
       "<style scoped>\n",
       "    .dataframe tbody tr th:only-of-type {\n",
       "        vertical-align: middle;\n",
       "    }\n",
       "\n",
       "    .dataframe tbody tr th {\n",
       "        vertical-align: top;\n",
       "    }\n",
       "\n",
       "    .dataframe thead th {\n",
       "        text-align: right;\n",
       "    }\n",
       "</style>\n",
       "<table border=\"1\" class=\"dataframe\">\n",
       "  <thead>\n",
       "    <tr style=\"text-align: right;\">\n",
       "      <th></th>\n",
       "      <th>ISRC</th>\n",
       "      <th>Country_Code</th>\n",
       "      <th>Registrant_Code</th>\n",
       "      <th>Year_of_Reference</th>\n",
       "      <th>Usage_Period</th>\n",
       "      <th>DSP</th>\n",
       "      <th>Streams</th>\n",
       "      <th>Recording_Artist</th>\n",
       "      <th>Recording_Label</th>\n",
       "      <th>Recording_Title</th>\n",
       "      <th>Release_Title</th>\n",
       "      <th>Recording_Duration</th>\n",
       "      <th>Songwriters_Listed</th>\n",
       "    </tr>\n",
       "  </thead>\n",
       "  <tbody>\n",
       "    <tr>\n",
       "      <th>0</th>\n",
       "      <td>USUG12101043</td>\n",
       "      <td>US</td>\n",
       "      <td>UG1</td>\n",
       "      <td>21.0</td>\n",
       "      <td>NaN</td>\n",
       "      <td>AudioMack</td>\n",
       "      <td>10,175</td>\n",
       "      <td>Future</td>\n",
       "      <td>NaN</td>\n",
       "      <td>FUTURE FT DEJ LOAF HEY THERE PROD BY DDS</td>\n",
       "      <td>#unknown#</td>\n",
       "      <td>181</td>\n",
       "      <td>0</td>\n",
       "    </tr>\n",
       "    <tr>\n",
       "      <th>1</th>\n",
       "      <td>USRC12100543</td>\n",
       "      <td>US</td>\n",
       "      <td>RC1</td>\n",
       "      <td>21.0</td>\n",
       "      <td>NaN</td>\n",
       "      <td>SoundCloud</td>\n",
       "      <td>8,597</td>\n",
       "      <td>LUCKY3RD</td>\n",
       "      <td>LUCKY3RD</td>\n",
       "      <td>Keep It Cool  LUCKY3RD</td>\n",
       "      <td>Keep It Cool  LUCKY3RD</td>\n",
       "      <td>133</td>\n",
       "      <td>0</td>\n",
       "    </tr>\n",
       "    <tr>\n",
       "      <th>2</th>\n",
       "      <td>USSM12102263</td>\n",
       "      <td>US</td>\n",
       "      <td>SM1</td>\n",
       "      <td>21.0</td>\n",
       "      <td>NaN</td>\n",
       "      <td>SoundCloud</td>\n",
       "      <td>261,280</td>\n",
       "      <td>LUCKY3RD</td>\n",
       "      <td>LUCKY3RD</td>\n",
       "      <td>Life Goes On  LUCKY3RD</td>\n",
       "      <td>Life Goes On  LUCKY3RD</td>\n",
       "      <td>171</td>\n",
       "      <td>0</td>\n",
       "    </tr>\n",
       "    <tr>\n",
       "      <th>3</th>\n",
       "      <td>USLD91731547</td>\n",
       "      <td>US</td>\n",
       "      <td>LD9</td>\n",
       "      <td>17.0</td>\n",
       "      <td>2/1/2021</td>\n",
       "      <td>Trebel</td>\n",
       "      <td>5</td>\n",
       "      <td>Bachata &amp; Merengue Mix</td>\n",
       "      <td>Orchard</td>\n",
       "      <td>No dudes de mi- Merengue &amp; Bachata Mix</td>\n",
       "      <td>Mega Mix 2010</td>\n",
       "      <td>1250</td>\n",
       "      <td>0</td>\n",
       "    </tr>\n",
       "    <tr>\n",
       "      <th>4</th>\n",
       "      <td>USAT22007048</td>\n",
       "      <td>US</td>\n",
       "      <td>AT2</td>\n",
       "      <td>20.0</td>\n",
       "      <td>NaN</td>\n",
       "      <td>AudioMack</td>\n",
       "      <td>62,105</td>\n",
       "      <td>Foolio</td>\n",
       "      <td>NaN</td>\n",
       "      <td>WHEN I SEE YOU REMIX</td>\n",
       "      <td>#unknown#</td>\n",
       "      <td>187</td>\n",
       "      <td>0</td>\n",
       "    </tr>\n",
       "  </tbody>\n",
       "</table>\n",
       "</div>"
      ],
      "text/plain": [
       "           ISRC Country_Code Registrant_Code  Year_of_Reference Usage_Period  \\\n",
       "0  USUG12101043           US             UG1               21.0          NaN   \n",
       "1  USRC12100543           US             RC1               21.0          NaN   \n",
       "2  USSM12102263           US             SM1               21.0          NaN   \n",
       "3  USLD91731547           US             LD9               17.0     2/1/2021   \n",
       "4  USAT22007048           US             AT2               20.0          NaN   \n",
       "\n",
       "          DSP     Streams        Recording_Artist Recording_Label  \\\n",
       "0   AudioMack     10,175                   Future             NaN   \n",
       "1  SoundCloud      8,597                 LUCKY3RD        LUCKY3RD   \n",
       "2  SoundCloud    261,280                 LUCKY3RD        LUCKY3RD   \n",
       "3      Trebel          5   Bachata & Merengue Mix         Orchard   \n",
       "4   AudioMack     62,105                   Foolio             NaN   \n",
       "\n",
       "                             Recording_Title            Release_Title  \\\n",
       "0   FUTURE FT DEJ LOAF HEY THERE PROD BY DDS                #unknown#   \n",
       "1                     Keep It Cool  LUCKY3RD   Keep It Cool  LUCKY3RD   \n",
       "2                     Life Goes On  LUCKY3RD   Life Goes On  LUCKY3RD   \n",
       "3     No dudes de mi- Merengue & Bachata Mix            Mega Mix 2010   \n",
       "4                       WHEN I SEE YOU REMIX                #unknown#   \n",
       "\n",
       "   Recording_Duration  Songwriters_Listed  \n",
       "0                 181                   0  \n",
       "1                 133                   0  \n",
       "2                 171                   0  \n",
       "3                1250                   0  \n",
       "4                 187                   0  "
      ]
     },
     "execution_count": 22,
     "metadata": {},
     "output_type": "execute_result"
    }
   ],
   "source": [
    "mlc.head()"
   ]
  },
  {
   "cell_type": "markdown",
   "id": "8d165a03",
   "metadata": {},
   "source": [
    "Let's find the Nulls for each DSP"
   ]
  },
  {
   "cell_type": "code",
   "execution_count": 23,
   "id": "0da7e609",
   "metadata": {},
   "outputs": [
    {
     "data": {
      "text/plain": [
       "Spotify               32268\n",
       "Apple                 22200\n",
       "Amazon                14438\n",
       "Pandora               13777\n",
       "NaN                    3999\n",
       "Tidal                  3521\n",
       "YouTube                2752\n",
       "SoundCloud             2122\n",
       "GTL                    1090\n",
       "Melodyv                 829\n",
       "Trebel                  817\n",
       "iHeart Radio            707\n",
       "AudioMack               550\n",
       "NugsNet                 316\n",
       "LiveXLive               200\n",
       "Qoboz                   104\n",
       "Midwest Tape            102\n",
       "Deezer                   51\n",
       "Anghami                  46\n",
       "Sonos                    23\n",
       "Recisio                  22\n",
       "Smithsonian              21\n",
       "Ultimate Guitar          19\n",
       "PowerMusic                8\n",
       "Wolfgangs                 4\n",
       "Fan Label                 4\n",
       "MixCloud                  4\n",
       "Pacemaker                 3\n",
       "Classical Archives        2\n",
       "MonkingMe                 1\n",
       "Name: DSP, dtype: int64"
      ]
     },
     "execution_count": 23,
     "metadata": {},
     "output_type": "execute_result"
    }
   ],
   "source": [
    "mlc['DSP'].value_counts(dropna=False)"
   ]
  },
  {
   "cell_type": "code",
   "execution_count": 25,
   "id": "1ba67d89",
   "metadata": {},
   "outputs": [],
   "source": [
    "spotify_df = mlc[mlc.DSP == 'Spotify']"
   ]
  },
  {
   "cell_type": "code",
   "execution_count": 27,
   "id": "2c793ab4",
   "metadata": {
    "scrolled": true
   },
   "outputs": [
    {
     "data": {
      "text/plain": [
       "ISRC                  571\n",
       "Country_Code          554\n",
       "Registrant_Code       554\n",
       "Year_of_Reference     571\n",
       "Usage_Period            0\n",
       "DSP                     0\n",
       "Streams                 0\n",
       "Recording_Artist        0\n",
       "Recording_Label        11\n",
       "Recording_Title         0\n",
       "Release_Title           1\n",
       "Recording_Duration      0\n",
       "Songwriters_Listed      0\n",
       "dtype: int64"
      ]
     },
     "execution_count": 27,
     "metadata": {},
     "output_type": "execute_result"
    }
   ],
   "source": [
    "spotify_df.isnull().sum()"
   ]
  },
  {
   "cell_type": "markdown",
   "id": "c341baa4",
   "metadata": {},
   "source": [
    "Spotify has 2261 Null Values"
   ]
  },
  {
   "cell_type": "code",
   "execution_count": 28,
   "id": "f252f8b3",
   "metadata": {},
   "outputs": [],
   "source": [
    "apple_df = mlc[mlc.DSP == 'Apple']"
   ]
  },
  {
   "cell_type": "code",
   "execution_count": 29,
   "id": "51deda5e",
   "metadata": {},
   "outputs": [
    {
     "data": {
      "text/plain": [
       "ISRC                   380\n",
       "Country_Code           363\n",
       "Registrant_Code        363\n",
       "Year_of_Reference      380\n",
       "Usage_Period          1441\n",
       "DSP                      0\n",
       "Streams                  0\n",
       "Recording_Artist         0\n",
       "Recording_Label          8\n",
       "Recording_Title          0\n",
       "Release_Title            7\n",
       "Recording_Duration       0\n",
       "Songwriters_Listed       0\n",
       "dtype: int64"
      ]
     },
     "execution_count": 29,
     "metadata": {},
     "output_type": "execute_result"
    }
   ],
   "source": [
    "apple_df.isnull().sum()"
   ]
  },
  {
   "cell_type": "markdown",
   "id": "06cd2046",
   "metadata": {},
   "source": [
    "Apple has 2934 Null Values"
   ]
  },
  {
   "cell_type": "code",
   "execution_count": 30,
   "id": "1114ab25",
   "metadata": {},
   "outputs": [],
   "source": [
    "amazon_df = mlc[mlc.DSP == 'Amazon']"
   ]
  },
  {
   "cell_type": "code",
   "execution_count": 31,
   "id": "5b213378",
   "metadata": {},
   "outputs": [
    {
     "data": {
      "text/plain": [
       "ISRC                  265\n",
       "Country_Code          255\n",
       "Registrant_Code       255\n",
       "Year_of_Reference     265\n",
       "Usage_Period            0\n",
       "DSP                     0\n",
       "Streams                 0\n",
       "Recording_Artist        0\n",
       "Recording_Label         0\n",
       "Recording_Title         0\n",
       "Release_Title           0\n",
       "Recording_Duration      0\n",
       "Songwriters_Listed      0\n",
       "dtype: int64"
      ]
     },
     "execution_count": 31,
     "metadata": {},
     "output_type": "execute_result"
    }
   ],
   "source": [
    "amazon_df.isnull().sum()"
   ]
  },
  {
   "cell_type": "markdown",
   "id": "1acbfcb0",
   "metadata": {},
   "source": [
    "Amazon has 785 Null Values"
   ]
  },
  {
   "cell_type": "markdown",
   "id": "eb982b48",
   "metadata": {},
   "source": [
    "Possible Patterns Based of the three new dataframes :\n",
    "1.ISRC & Year_of_Reference Null values are the same.\n",
    "2.Country_Code & Registrant_Code Null values are the same."
   ]
  },
  {
   "cell_type": "code",
   "execution_count": 32,
   "id": "8fc57f4a",
   "metadata": {},
   "outputs": [],
   "source": [
    "pandora_df = mlc[mlc.DSP == 'Pandora']"
   ]
  },
  {
   "cell_type": "code",
   "execution_count": 33,
   "id": "a4ab553e",
   "metadata": {},
   "outputs": [
    {
     "data": {
      "text/plain": [
       "ISRC                  237\n",
       "Country_Code          230\n",
       "Registrant_Code       230\n",
       "Year_of_Reference     238\n",
       "Usage_Period            0\n",
       "DSP                     0\n",
       "Streams                 0\n",
       "Recording_Artist        0\n",
       "Recording_Label        27\n",
       "Recording_Title         0\n",
       "Release_Title           3\n",
       "Recording_Duration      0\n",
       "Songwriters_Listed      0\n",
       "dtype: int64"
      ]
     },
     "execution_count": 33,
     "metadata": {},
     "output_type": "execute_result"
    }
   ],
   "source": [
    "pandora_df.isnull().sum()"
   ]
  },
  {
   "cell_type": "markdown",
   "id": "7b3d65cd",
   "metadata": {},
   "source": [
    "Amazon has 965 Null Values"
   ]
  },
  {
   "cell_type": "markdown",
   "id": "ce9f2ae8",
   "metadata": {},
   "source": [
    "Pattern prediction still intact for Country_Code & Registrant_Code Null values.\n",
    "It's off by one number for ISRC & Year_of_Reference , but still close"
   ]
  },
  {
   "cell_type": "code",
   "execution_count": 34,
   "id": "ab551d85",
   "metadata": {},
   "outputs": [],
   "source": [
    "unknown_df = mlc[mlc.DSP == 'NaN']"
   ]
  },
  {
   "cell_type": "code",
   "execution_count": 35,
   "id": "2531904c",
   "metadata": {},
   "outputs": [
    {
     "data": {
      "text/plain": [
       "ISRC                  0.0\n",
       "Country_Code          0.0\n",
       "Registrant_Code       0.0\n",
       "Year_of_Reference     0.0\n",
       "Usage_Period          0.0\n",
       "DSP                   0.0\n",
       "Streams               0.0\n",
       "Recording_Artist      0.0\n",
       "Recording_Label       0.0\n",
       "Recording_Title       0.0\n",
       "Release_Title         0.0\n",
       "Recording_Duration    0.0\n",
       "Songwriters_Listed    0.0\n",
       "dtype: float64"
      ]
     },
     "execution_count": 35,
     "metadata": {},
     "output_type": "execute_result"
    }
   ],
   "source": [
    "unknown_df.isnull().sum()"
   ]
  },
  {
   "cell_type": "markdown",
   "id": "a6511a42",
   "metadata": {},
   "source": [
    "0 Null Values for the Unknown (NaN) streaming platform"
   ]
  },
  {
   "cell_type": "code",
   "execution_count": 36,
   "id": "6e2b971d",
   "metadata": {},
   "outputs": [],
   "source": [
    "tidal_df = mlc[mlc.DSP == 'Tidal']"
   ]
  },
  {
   "cell_type": "code",
   "execution_count": 37,
   "id": "4f416b61",
   "metadata": {},
   "outputs": [
    {
     "data": {
      "text/plain": [
       "ISRC                   53\n",
       "Country_Code           52\n",
       "Registrant_Code        52\n",
       "Year_of_Reference      53\n",
       "Usage_Period          868\n",
       "DSP                     0\n",
       "Streams                 0\n",
       "Recording_Artist        0\n",
       "Recording_Label         0\n",
       "Recording_Title         0\n",
       "Release_Title           0\n",
       "Recording_Duration      0\n",
       "Songwriters_Listed      0\n",
       "dtype: int64"
      ]
     },
     "execution_count": 37,
     "metadata": {},
     "output_type": "execute_result"
    }
   ],
   "source": [
    "tidal_df.isnull().sum()"
   ]
  },
  {
   "cell_type": "markdown",
   "id": "1522d1a6",
   "metadata": {},
   "source": [
    "Tidal has 1078 Null Values"
   ]
  },
  {
   "cell_type": "markdown",
   "id": "6f49dd77",
   "metadata": {},
   "source": [
    "Pattern still the same for this streaming platform"
   ]
  },
  {
   "cell_type": "code",
   "execution_count": 38,
   "id": "f4a55ad6",
   "metadata": {},
   "outputs": [],
   "source": [
    "youtube_df = mlc[mlc.DSP == 'YouTube']"
   ]
  },
  {
   "cell_type": "code",
   "execution_count": 39,
   "id": "25b221df",
   "metadata": {},
   "outputs": [
    {
     "data": {
      "text/plain": [
       "ISRC                   56\n",
       "Country_Code           54\n",
       "Registrant_Code        54\n",
       "Year_of_Reference      56\n",
       "Usage_Period          958\n",
       "DSP                     0\n",
       "Streams                 0\n",
       "Recording_Artist        0\n",
       "Recording_Label       233\n",
       "Recording_Title         0\n",
       "Release_Title           0\n",
       "Recording_Duration      0\n",
       "Songwriters_Listed      0\n",
       "dtype: int64"
      ]
     },
     "execution_count": 39,
     "metadata": {},
     "output_type": "execute_result"
    }
   ],
   "source": [
    "youtube_df.isnull().sum()"
   ]
  },
  {
   "cell_type": "markdown",
   "id": "4fdb591c",
   "metadata": {},
   "source": [
    "Youtube has 1411 Null Values"
   ]
  },
  {
   "cell_type": "markdown",
   "id": "677ac886",
   "metadata": {},
   "source": [
    "Pattern still the same"
   ]
  },
  {
   "cell_type": "code",
   "execution_count": 41,
   "id": "ff62d100",
   "metadata": {},
   "outputs": [],
   "source": [
    "soundcloud_df = mlc[mlc.DSP == 'SoundCloud'] "
   ]
  },
  {
   "cell_type": "code",
   "execution_count": 42,
   "id": "bf766627",
   "metadata": {},
   "outputs": [
    {
     "data": {
      "text/plain": [
       "ISRC                   36\n",
       "Country_Code           36\n",
       "Registrant_Code        36\n",
       "Year_of_Reference      36\n",
       "Usage_Period          494\n",
       "DSP                     0\n",
       "Streams                 0\n",
       "Recording_Artist        0\n",
       "Recording_Label         0\n",
       "Recording_Title         0\n",
       "Release_Title           0\n",
       "Recording_Duration      0\n",
       "Songwriters_Listed      0\n",
       "dtype: int64"
      ]
     },
     "execution_count": 42,
     "metadata": {},
     "output_type": "execute_result"
    }
   ],
   "source": [
    "soundcloud_df.isnull().sum()"
   ]
  },
  {
   "cell_type": "markdown",
   "id": "9c65f059",
   "metadata": {},
   "source": [
    "SoundCloud has 638 Null values"
   ]
  },
  {
   "cell_type": "markdown",
   "id": "95a4288d",
   "metadata": {},
   "source": [
    "Same pattern"
   ]
  },
  {
   "cell_type": "code",
   "execution_count": 43,
   "id": "73c58fba",
   "metadata": {},
   "outputs": [],
   "source": [
    "gtl_df = mlc[mlc.DSP == 'GTL'] "
   ]
  },
  {
   "cell_type": "code",
   "execution_count": 44,
   "id": "1e5fd20f",
   "metadata": {},
   "outputs": [
    {
     "data": {
      "text/plain": [
       "ISRC                  26\n",
       "Country_Code          24\n",
       "Registrant_Code       24\n",
       "Year_of_Reference     26\n",
       "Usage_Period           0\n",
       "DSP                    0\n",
       "Streams                0\n",
       "Recording_Artist       0\n",
       "Recording_Label        0\n",
       "Recording_Title        0\n",
       "Release_Title          0\n",
       "Recording_Duration     0\n",
       "Songwriters_Listed     0\n",
       "dtype: int64"
      ]
     },
     "execution_count": 44,
     "metadata": {},
     "output_type": "execute_result"
    }
   ],
   "source": [
    "gtl_df.isnull().sum()"
   ]
  },
  {
   "cell_type": "markdown",
   "id": "66382441",
   "metadata": {},
   "source": [
    "GTL has 100 Null Values (Same Pattern)"
   ]
  },
  {
   "cell_type": "code",
   "execution_count": 45,
   "id": "af409828",
   "metadata": {},
   "outputs": [],
   "source": [
    "melodyv_df = mlc[mlc.DSP == 'Melodyv'] "
   ]
  },
  {
   "cell_type": "code",
   "execution_count": 46,
   "id": "3521742a",
   "metadata": {},
   "outputs": [
    {
     "data": {
      "text/plain": [
       "ISRC                  15\n",
       "Country_Code          15\n",
       "Registrant_Code       15\n",
       "Year_of_Reference     15\n",
       "Usage_Period           0\n",
       "DSP                    0\n",
       "Streams                0\n",
       "Recording_Artist       0\n",
       "Recording_Label        0\n",
       "Recording_Title        0\n",
       "Release_Title          0\n",
       "Recording_Duration     0\n",
       "Songwriters_Listed     0\n",
       "dtype: int64"
      ]
     },
     "execution_count": 46,
     "metadata": {},
     "output_type": "execute_result"
    }
   ],
   "source": [
    "melodyv_df.isnull().sum()"
   ]
  },
  {
   "cell_type": "markdown",
   "id": "e5a7879b",
   "metadata": {},
   "source": [
    "Melodyv has 60 Null values (same pattern)"
   ]
  },
  {
   "cell_type": "code",
   "execution_count": 49,
   "id": "06f3f00f",
   "metadata": {},
   "outputs": [],
   "source": [
    "trebel_df = mlc[mlc.DSP == 'Trebel']"
   ]
  },
  {
   "cell_type": "code",
   "execution_count": 50,
   "id": "3b75f36c",
   "metadata": {},
   "outputs": [
    {
     "data": {
      "text/plain": [
       "ISRC                  19\n",
       "Country_Code          18\n",
       "Registrant_Code       18\n",
       "Year_of_Reference     19\n",
       "Usage_Period           0\n",
       "DSP                    0\n",
       "Streams                0\n",
       "Recording_Artist       0\n",
       "Recording_Label        0\n",
       "Recording_Title        0\n",
       "Release_Title          0\n",
       "Recording_Duration     0\n",
       "Songwriters_Listed     0\n",
       "dtype: int64"
      ]
     },
     "execution_count": 50,
     "metadata": {},
     "output_type": "execute_result"
    }
   ],
   "source": [
    "trebel_df.isnull().sum()"
   ]
  },
  {
   "cell_type": "markdown",
   "id": "8c6e1007",
   "metadata": {},
   "source": [
    "Trebel has 74 Null values (Same pattern)"
   ]
  },
  {
   "cell_type": "code",
   "execution_count": 51,
   "id": "6c0da3b1",
   "metadata": {},
   "outputs": [],
   "source": [
    "ihr_df = mlc[mlc.DSP == 'iHeart Radio']"
   ]
  },
  {
   "cell_type": "code",
   "execution_count": 52,
   "id": "6bc3467f",
   "metadata": {},
   "outputs": [
    {
     "data": {
      "text/plain": [
       "ISRC                  16\n",
       "Country_Code          16\n",
       "Registrant_Code       16\n",
       "Year_of_Reference     16\n",
       "Usage_Period          38\n",
       "DSP                    0\n",
       "Streams                0\n",
       "Recording_Artist       0\n",
       "Recording_Label        0\n",
       "Recording_Title        0\n",
       "Release_Title          0\n",
       "Recording_Duration     0\n",
       "Songwriters_Listed     0\n",
       "dtype: int64"
      ]
     },
     "execution_count": 52,
     "metadata": {},
     "output_type": "execute_result"
    }
   ],
   "source": [
    "ihr_df.isnull().sum()"
   ]
  },
  {
   "cell_type": "markdown",
   "id": "1d5ff879",
   "metadata": {},
   "source": [
    "I Heart Radio has 102 Null Values"
   ]
  },
  {
   "cell_type": "code",
   "execution_count": 53,
   "id": "def351c2",
   "metadata": {},
   "outputs": [],
   "source": [
    "audiomack_df = mlc[mlc.DSP == 'AudioMack']"
   ]
  },
  {
   "cell_type": "code",
   "execution_count": 54,
   "id": "00fdd887",
   "metadata": {},
   "outputs": [
    {
     "data": {
      "text/plain": [
       "ISRC                   16\n",
       "Country_Code           15\n",
       "Registrant_Code        15\n",
       "Year_of_Reference      16\n",
       "Usage_Period          287\n",
       "DSP                     0\n",
       "Streams                 0\n",
       "Recording_Artist        0\n",
       "Recording_Label       550\n",
       "Recording_Title         0\n",
       "Release_Title           0\n",
       "Recording_Duration      0\n",
       "Songwriters_Listed      0\n",
       "dtype: int64"
      ]
     },
     "execution_count": 54,
     "metadata": {},
     "output_type": "execute_result"
    }
   ],
   "source": [
    "audiomack_df.isnull().sum()"
   ]
  },
  {
   "cell_type": "markdown",
   "id": "6b814d81",
   "metadata": {},
   "source": [
    "Audiomack has 889 Null values (Same pattern)"
   ]
  },
  {
   "cell_type": "code",
   "execution_count": 55,
   "id": "e4c87c58",
   "metadata": {},
   "outputs": [],
   "source": [
    "nugsnet_df = mlc[mlc.DSP == 'NugsNet']"
   ]
  },
  {
   "cell_type": "code",
   "execution_count": 56,
   "id": "ed0010b0",
   "metadata": {},
   "outputs": [
    {
     "data": {
      "text/plain": [
       "ISRC                  4\n",
       "Country_Code          3\n",
       "Registrant_Code       3\n",
       "Year_of_Reference     4\n",
       "Usage_Period          0\n",
       "DSP                   0\n",
       "Streams               0\n",
       "Recording_Artist      0\n",
       "Recording_Label       0\n",
       "Recording_Title       0\n",
       "Release_Title         0\n",
       "Recording_Duration    0\n",
       "Songwriters_Listed    0\n",
       "dtype: int64"
      ]
     },
     "execution_count": 56,
     "metadata": {},
     "output_type": "execute_result"
    }
   ],
   "source": [
    "nugsnet_df.isnull().sum()"
   ]
  },
  {
   "cell_type": "markdown",
   "id": "152e9f89",
   "metadata": {},
   "source": [
    "NugsNet has 14 Null values (Same pattern)"
   ]
  },
  {
   "cell_type": "code",
   "execution_count": 57,
   "id": "5928f0eb",
   "metadata": {},
   "outputs": [],
   "source": [
    "livexlive_df = mlc[mlc.DSP == 'LiveXLive']"
   ]
  },
  {
   "cell_type": "code",
   "execution_count": 58,
   "id": "b9f57e3a",
   "metadata": {},
   "outputs": [
    {
     "data": {
      "text/plain": [
       "ISRC                   4\n",
       "Country_Code           4\n",
       "Registrant_Code        4\n",
       "Year_of_Reference      4\n",
       "Usage_Period          11\n",
       "DSP                    0\n",
       "Streams                0\n",
       "Recording_Artist       0\n",
       "Recording_Label       24\n",
       "Recording_Title        0\n",
       "Release_Title          0\n",
       "Recording_Duration     0\n",
       "Songwriters_Listed     0\n",
       "dtype: int64"
      ]
     },
     "execution_count": 58,
     "metadata": {},
     "output_type": "execute_result"
    }
   ],
   "source": [
    "livexlive_df.isnull().sum()"
   ]
  },
  {
   "cell_type": "markdown",
   "id": "a105f3d1",
   "metadata": {},
   "source": [
    "LiveXLive has 51 Null values (Same pattern)"
   ]
  },
  {
   "cell_type": "code",
   "execution_count": 62,
   "id": "66b0555b",
   "metadata": {},
   "outputs": [],
   "source": [
    "qoboz_df = mlc[mlc.DSP == 'Qoboz']"
   ]
  },
  {
   "cell_type": "code",
   "execution_count": 63,
   "id": "c7d8b9a0",
   "metadata": {},
   "outputs": [
    {
     "data": {
      "text/plain": [
       "ISRC                  0\n",
       "Country_Code          0\n",
       "Registrant_Code       0\n",
       "Year_of_Reference     0\n",
       "Usage_Period          0\n",
       "DSP                   0\n",
       "Streams               0\n",
       "Recording_Artist      0\n",
       "Recording_Label       0\n",
       "Recording_Title       0\n",
       "Release_Title         0\n",
       "Recording_Duration    0\n",
       "Songwriters_Listed    0\n",
       "dtype: int64"
      ]
     },
     "execution_count": 63,
     "metadata": {},
     "output_type": "execute_result"
    }
   ],
   "source": [
    "qoboz_df.isnull().sum()"
   ]
  },
  {
   "cell_type": "markdown",
   "id": "42556446",
   "metadata": {},
   "source": [
    "Qoboz has 0 Null values"
   ]
  },
  {
   "cell_type": "markdown",
   "id": "9aa3b8b5",
   "metadata": {},
   "source": [
    "Pattern has stopped"
   ]
  },
  {
   "cell_type": "code",
   "execution_count": 64,
   "id": "bf5030d0",
   "metadata": {},
   "outputs": [],
   "source": [
    "mwtape_df = mlc[mlc.DSP == 'Midwest Tape']"
   ]
  },
  {
   "cell_type": "code",
   "execution_count": 65,
   "id": "8707607e",
   "metadata": {},
   "outputs": [
    {
     "data": {
      "text/plain": [
       "ISRC                   3\n",
       "Country_Code           3\n",
       "Registrant_Code        3\n",
       "Year_of_Reference      3\n",
       "Usage_Period           6\n",
       "DSP                    0\n",
       "Streams                0\n",
       "Recording_Artist       0\n",
       "Recording_Label       42\n",
       "Recording_Title        0\n",
       "Release_Title          0\n",
       "Recording_Duration     0\n",
       "Songwriters_Listed     0\n",
       "dtype: int64"
      ]
     },
     "execution_count": 65,
     "metadata": {},
     "output_type": "execute_result"
    }
   ],
   "source": [
    "mwtape_df.isnull().sum()"
   ]
  },
  {
   "cell_type": "markdown",
   "id": "0f9f59d6",
   "metadata": {},
   "source": [
    "Midwest Tap has 60 Null values"
   ]
  },
  {
   "cell_type": "markdown",
   "id": "666751e5",
   "metadata": {},
   "source": [
    "Pattern has returned"
   ]
  },
  {
   "cell_type": "code",
   "execution_count": null,
   "id": "008be405",
   "metadata": {},
   "outputs": [],
   "source": []
  }
 ],
 "metadata": {
  "kernelspec": {
   "display_name": "Python 3 (ipykernel)",
   "language": "python",
   "name": "python3"
  },
  "language_info": {
   "codemirror_mode": {
    "name": "ipython",
    "version": 3
   },
   "file_extension": ".py",
   "mimetype": "text/x-python",
   "name": "python",
   "nbconvert_exporter": "python",
   "pygments_lexer": "ipython3",
   "version": "3.9.7"
  }
 },
 "nbformat": 4,
 "nbformat_minor": 5
}
