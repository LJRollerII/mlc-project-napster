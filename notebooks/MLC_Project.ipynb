{
 "cells": [
  {
   "cell_type": "code",
   "execution_count": 1,
   "id": "182b0589",
   "metadata": {},
   "outputs": [],
   "source": [
    "import pandas as pd\n",
    "import numpy as np\n",
    "import matplotlib.pyplot as plt\n",
    "import seaborn as sns"
   ]
  },
  {
   "cell_type": "code",
   "execution_count": 2,
   "id": "9bf58387",
   "metadata": {},
   "outputs": [],
   "source": [
    "%matplotlib inline"
   ]
  },
  {
   "cell_type": "code",
   "execution_count": 3,
   "id": "afb8022b",
   "metadata": {},
   "outputs": [],
   "source": [
    "mlc = pd.read_csv(\"../data/mlc_data.csv\")"
   ]
  },
  {
   "cell_type": "code",
   "execution_count": 4,
   "id": "f4961336",
   "metadata": {},
   "outputs": [
    {
     "data": {
      "text/html": [
       "<div>\n",
       "<style scoped>\n",
       "    .dataframe tbody tr th:only-of-type {\n",
       "        vertical-align: middle;\n",
       "    }\n",
       "\n",
       "    .dataframe tbody tr th {\n",
       "        vertical-align: top;\n",
       "    }\n",
       "\n",
       "    .dataframe thead th {\n",
       "        text-align: right;\n",
       "    }\n",
       "</style>\n",
       "<table border=\"1\" class=\"dataframe\">\n",
       "  <thead>\n",
       "    <tr style=\"text-align: right;\">\n",
       "      <th></th>\n",
       "      <th>If</th>\n",
       "      <th>Country Code</th>\n",
       "      <th>Registrant Code</th>\n",
       "      <th>Year of Reference</th>\n",
       "      <th>Usage Period</th>\n",
       "      <th>Streaming Platform (DSP)</th>\n",
       "      <th>Streams</th>\n",
       "      <th>Recording Artist</th>\n",
       "      <th>Recording Label</th>\n",
       "      <th>Recording Title</th>\n",
       "      <th>Release Title</th>\n",
       "      <th>Recording Duration (Seconds)</th>\n",
       "      <th>Songwriter's Listed (1 = \"Yes\", 0 = \"No\")</th>\n",
       "    </tr>\n",
       "  </thead>\n",
       "  <tbody>\n",
       "    <tr>\n",
       "      <th>0</th>\n",
       "      <td>USUG12101043</td>\n",
       "      <td>US</td>\n",
       "      <td>UG1</td>\n",
       "      <td>21.0</td>\n",
       "      <td>NaN</td>\n",
       "      <td>AudioMack</td>\n",
       "      <td>10,175</td>\n",
       "      <td>Future</td>\n",
       "      <td>NaN</td>\n",
       "      <td>FUTURE FT DEJ LOAF HEY THERE PROD BY DDS</td>\n",
       "      <td>#unknown#</td>\n",
       "      <td>181</td>\n",
       "      <td>0</td>\n",
       "    </tr>\n",
       "    <tr>\n",
       "      <th>1</th>\n",
       "      <td>USRC12100543</td>\n",
       "      <td>US</td>\n",
       "      <td>RC1</td>\n",
       "      <td>21.0</td>\n",
       "      <td>NaN</td>\n",
       "      <td>SoundCloud</td>\n",
       "      <td>8,597</td>\n",
       "      <td>LUCKY3RD</td>\n",
       "      <td>LUCKY3RD</td>\n",
       "      <td>Keep It Cool  LUCKY3RD</td>\n",
       "      <td>Keep It Cool  LUCKY3RD</td>\n",
       "      <td>133</td>\n",
       "      <td>0</td>\n",
       "    </tr>\n",
       "    <tr>\n",
       "      <th>2</th>\n",
       "      <td>USSM12102263</td>\n",
       "      <td>US</td>\n",
       "      <td>SM1</td>\n",
       "      <td>21.0</td>\n",
       "      <td>NaN</td>\n",
       "      <td>SoundCloud</td>\n",
       "      <td>261,280</td>\n",
       "      <td>LUCKY3RD</td>\n",
       "      <td>LUCKY3RD</td>\n",
       "      <td>Life Goes On  LUCKY3RD</td>\n",
       "      <td>Life Goes On  LUCKY3RD</td>\n",
       "      <td>171</td>\n",
       "      <td>0</td>\n",
       "    </tr>\n",
       "    <tr>\n",
       "      <th>3</th>\n",
       "      <td>USLD91731547</td>\n",
       "      <td>US</td>\n",
       "      <td>LD9</td>\n",
       "      <td>17.0</td>\n",
       "      <td>2/1/2021</td>\n",
       "      <td>Trebel</td>\n",
       "      <td>5</td>\n",
       "      <td>Bachata &amp; Merengue Mix</td>\n",
       "      <td>Orchard</td>\n",
       "      <td>No dudes de mi- Merengue &amp; Bachata Mix</td>\n",
       "      <td>Mega Mix 2010</td>\n",
       "      <td>1250</td>\n",
       "      <td>0</td>\n",
       "    </tr>\n",
       "    <tr>\n",
       "      <th>4</th>\n",
       "      <td>USAT22007048</td>\n",
       "      <td>US</td>\n",
       "      <td>AT2</td>\n",
       "      <td>20.0</td>\n",
       "      <td>NaN</td>\n",
       "      <td>AudioMack</td>\n",
       "      <td>62,105</td>\n",
       "      <td>Foolio</td>\n",
       "      <td>NaN</td>\n",
       "      <td>WHEN I SEE YOU REMIX</td>\n",
       "      <td>#unknown#</td>\n",
       "      <td>187</td>\n",
       "      <td>0</td>\n",
       "    </tr>\n",
       "  </tbody>\n",
       "</table>\n",
       "</div>"
      ],
      "text/plain": [
       "            If  Country Code Registrant Code  Year of Reference Usage Period  \\\n",
       "0  USUG12101043           US             UG1               21.0          NaN   \n",
       "1  USRC12100543           US             RC1               21.0          NaN   \n",
       "2  USSM12102263           US             SM1               21.0          NaN   \n",
       "3  USLD91731547           US             LD9               17.0     2/1/2021   \n",
       "4  USAT22007048           US             AT2               20.0          NaN   \n",
       "\n",
       "  Streaming Platform (DSP)     Streams        Recording Artist  \\\n",
       "0                AudioMack     10,175                   Future   \n",
       "1               SoundCloud      8,597                 LUCKY3RD   \n",
       "2               SoundCloud    261,280                 LUCKY3RD   \n",
       "3                   Trebel          5   Bachata & Merengue Mix   \n",
       "4                AudioMack     62,105                   Foolio   \n",
       "\n",
       "  Recording Label                            Recording Title  \\\n",
       "0             NaN   FUTURE FT DEJ LOAF HEY THERE PROD BY DDS   \n",
       "1        LUCKY3RD                     Keep It Cool  LUCKY3RD   \n",
       "2        LUCKY3RD                     Life Goes On  LUCKY3RD   \n",
       "3         Orchard     No dudes de mi- Merengue & Bachata Mix   \n",
       "4             NaN                       WHEN I SEE YOU REMIX   \n",
       "\n",
       "             Release Title  Recording Duration (Seconds)  \\\n",
       "0                #unknown#                           181   \n",
       "1   Keep It Cool  LUCKY3RD                           133   \n",
       "2   Life Goes On  LUCKY3RD                           171   \n",
       "3            Mega Mix 2010                          1250   \n",
       "4                #unknown#                           187   \n",
       "\n",
       "   Songwriter's Listed (1 = \"Yes\", 0 = \"No\")  \n",
       "0                                          0  \n",
       "1                                          0  \n",
       "2                                          0  \n",
       "3                                          0  \n",
       "4                                          0  "
      ]
     },
     "execution_count": 4,
     "metadata": {},
     "output_type": "execute_result"
    }
   ],
   "source": [
    "mlc.head()"
   ]
  },
  {
   "cell_type": "code",
   "execution_count": 5,
   "id": "b309caa0",
   "metadata": {},
   "outputs": [
    {
     "data": {
      "text/html": [
       "<div>\n",
       "<style scoped>\n",
       "    .dataframe tbody tr th:only-of-type {\n",
       "        vertical-align: middle;\n",
       "    }\n",
       "\n",
       "    .dataframe tbody tr th {\n",
       "        vertical-align: top;\n",
       "    }\n",
       "\n",
       "    .dataframe thead th {\n",
       "        text-align: right;\n",
       "    }\n",
       "</style>\n",
       "<table border=\"1\" class=\"dataframe\">\n",
       "  <thead>\n",
       "    <tr style=\"text-align: right;\">\n",
       "      <th></th>\n",
       "      <th>If</th>\n",
       "      <th>Country Code</th>\n",
       "      <th>Registrant Code</th>\n",
       "      <th>Year of Reference</th>\n",
       "      <th>Usage Period</th>\n",
       "      <th>Streaming Platform (DSP)</th>\n",
       "      <th>Streams</th>\n",
       "      <th>Recording Artist</th>\n",
       "      <th>Recording Label</th>\n",
       "      <th>Recording Title</th>\n",
       "      <th>Release Title</th>\n",
       "      <th>Recording Duration (Seconds)</th>\n",
       "      <th>Songwriter's Listed (1 = \"Yes\", 0 = \"No\")</th>\n",
       "    </tr>\n",
       "  </thead>\n",
       "  <tbody>\n",
       "    <tr>\n",
       "      <th>99995</th>\n",
       "      <td>QZK6F2019397</td>\n",
       "      <td>QZ</td>\n",
       "      <td>K6F</td>\n",
       "      <td>20.0</td>\n",
       "      <td>3/1/2021</td>\n",
       "      <td>Spotify</td>\n",
       "      <td>28,549</td>\n",
       "      <td>Myuk</td>\n",
       "      <td>Sony Music Labels Inc.</td>\n",
       "      <td>魔法 - Anime Size</td>\n",
       "      <td>魔法 (Anime Size)</td>\n",
       "      <td>89</td>\n",
       "      <td>1</td>\n",
       "    </tr>\n",
       "    <tr>\n",
       "      <th>99996</th>\n",
       "      <td>QZK6F2019397</td>\n",
       "      <td>QZ</td>\n",
       "      <td>K6F</td>\n",
       "      <td>20.0</td>\n",
       "      <td>3/1/2021</td>\n",
       "      <td>Spotify</td>\n",
       "      <td>28,941</td>\n",
       "      <td>yama</td>\n",
       "      <td>Sony Music Labels Inc.</td>\n",
       "      <td>麻痺</td>\n",
       "      <td>麻痺</td>\n",
       "      <td>199</td>\n",
       "      <td>1</td>\n",
       "    </tr>\n",
       "    <tr>\n",
       "      <th>99997</th>\n",
       "      <td>SE6HN1926755</td>\n",
       "      <td>SE</td>\n",
       "      <td>6HN</td>\n",
       "      <td>19.0</td>\n",
       "      <td>3/1/2021</td>\n",
       "      <td>Spotify</td>\n",
       "      <td>28,941</td>\n",
       "      <td>yama</td>\n",
       "      <td>Sony Music Labels Inc.</td>\n",
       "      <td>麻痺</td>\n",
       "      <td>麻痺</td>\n",
       "      <td>199</td>\n",
       "      <td>1</td>\n",
       "    </tr>\n",
       "    <tr>\n",
       "      <th>99998</th>\n",
       "      <td>SEYOK1669274</td>\n",
       "      <td>SE</td>\n",
       "      <td>YOK</td>\n",
       "      <td>16.0</td>\n",
       "      <td>3/1/2021</td>\n",
       "      <td>Apple</td>\n",
       "      <td>8,970</td>\n",
       "      <td>yama</td>\n",
       "      <td>Sony Music Labels Inc.</td>\n",
       "      <td>麻痺</td>\n",
       "      <td>麻痺 - Single</td>\n",
       "      <td>198</td>\n",
       "      <td>1</td>\n",
       "    </tr>\n",
       "    <tr>\n",
       "      <th>99999</th>\n",
       "      <td>QZK6F2019397</td>\n",
       "      <td>QZ</td>\n",
       "      <td>K6F</td>\n",
       "      <td>20.0</td>\n",
       "      <td>2/1/2021</td>\n",
       "      <td>Spotify</td>\n",
       "      <td>11,245</td>\n",
       "      <td>Lexie Liu</td>\n",
       "      <td>泥鞋（北京）文化传媒有限公司</td>\n",
       "      <td>黑洞 Metropolis</td>\n",
       "      <td>无限意识 Meta Ego</td>\n",
       "      <td>259</td>\n",
       "      <td>1</td>\n",
       "    </tr>\n",
       "  </tbody>\n",
       "</table>\n",
       "</div>"
      ],
      "text/plain": [
       "                If  Country Code Registrant Code  Year of Reference  \\\n",
       "99995  QZK6F2019397           QZ             K6F               20.0   \n",
       "99996  QZK6F2019397           QZ             K6F               20.0   \n",
       "99997  SE6HN1926755           SE             6HN               19.0   \n",
       "99998  SEYOK1669274           SE             YOK               16.0   \n",
       "99999  QZK6F2019397           QZ             K6F               20.0   \n",
       "\n",
       "      Usage Period Streaming Platform (DSP)    Streams Recording Artist  \\\n",
       "99995     3/1/2021                  Spotify    28,549              Myuk   \n",
       "99996     3/1/2021                  Spotify    28,941              yama   \n",
       "99997     3/1/2021                  Spotify    28,941              yama   \n",
       "99998     3/1/2021                    Apple     8,970              yama   \n",
       "99999     2/1/2021                  Spotify    11,245         Lexie Liu   \n",
       "\n",
       "              Recording Label  Recording Title    Release Title  \\\n",
       "99995  Sony Music Labels Inc.  魔法 - Anime Size  魔法 (Anime Size)   \n",
       "99996  Sony Music Labels Inc.               麻痺               麻痺   \n",
       "99997  Sony Music Labels Inc.               麻痺               麻痺   \n",
       "99998  Sony Music Labels Inc.               麻痺      麻痺 - Single   \n",
       "99999          泥鞋（北京）文化传媒有限公司    黑洞 Metropolis    无限意识 Meta Ego   \n",
       "\n",
       "       Recording Duration (Seconds)  Songwriter's Listed (1 = \"Yes\", 0 = \"No\")  \n",
       "99995                            89                                          1  \n",
       "99996                           199                                          1  \n",
       "99997                           199                                          1  \n",
       "99998                           198                                          1  \n",
       "99999                           259                                          1  "
      ]
     },
     "execution_count": 5,
     "metadata": {},
     "output_type": "execute_result"
    }
   ],
   "source": [
    "mlc.tail()"
   ]
  },
  {
   "cell_type": "code",
   "execution_count": 6,
   "id": "e3976074",
   "metadata": {},
   "outputs": [
    {
     "data": {
      "text/plain": [
       "(100000, 13)"
      ]
     },
     "execution_count": 6,
     "metadata": {},
     "output_type": "execute_result"
    }
   ],
   "source": [
    "mlc.shape"
   ]
  },
  {
   "cell_type": "code",
   "execution_count": 7,
   "id": "da9bab8f",
   "metadata": {},
   "outputs": [
    {
     "data": {
      "text/plain": [
       "If                                            object\n",
       "Country Code                                  object\n",
       "Registrant Code                               object\n",
       "Year of Reference                            float64\n",
       "Usage Period                                  object\n",
       "Streaming Platform (DSP)                      object\n",
       "Streams                                       object\n",
       "Recording Artist                              object\n",
       "Recording Label                               object\n",
       "Recording Title                               object\n",
       "Release Title                                 object\n",
       "Recording Duration (Seconds)                   int64\n",
       "Songwriter's Listed (1 = \"Yes\", 0 = \"No\")      int64\n",
       "dtype: object"
      ]
     },
     "execution_count": 7,
     "metadata": {},
     "output_type": "execute_result"
    }
   ],
   "source": [
    "mlc.dtypes"
   ]
  },
  {
   "cell_type": "code",
   "execution_count": 8,
   "id": "39934d30",
   "metadata": {},
   "outputs": [
    {
     "data": {
      "text/plain": [
       "<bound method DataFrame.info of                 If  Country Code Registrant Code  Year of Reference  \\\n",
       "0      USUG12101043           US             UG1               21.0   \n",
       "1      USRC12100543           US             RC1               21.0   \n",
       "2      USSM12102263           US             SM1               21.0   \n",
       "3      USLD91731547           US             LD9               17.0   \n",
       "4      USAT22007048           US             AT2               20.0   \n",
       "...             ...          ...             ...                ...   \n",
       "99995  QZK6F2019397           QZ             K6F               20.0   \n",
       "99996  QZK6F2019397           QZ             K6F               20.0   \n",
       "99997  SE6HN1926755           SE             6HN               19.0   \n",
       "99998  SEYOK1669274           SE             YOK               16.0   \n",
       "99999  QZK6F2019397           QZ             K6F               20.0   \n",
       "\n",
       "      Usage Period Streaming Platform (DSP)     Streams  \\\n",
       "0              NaN                AudioMack     10,175    \n",
       "1              NaN               SoundCloud      8,597    \n",
       "2              NaN               SoundCloud    261,280    \n",
       "3         2/1/2021                   Trebel          5    \n",
       "4              NaN                AudioMack     62,105    \n",
       "...            ...                      ...         ...   \n",
       "99995     3/1/2021                  Spotify     28,549    \n",
       "99996     3/1/2021                  Spotify     28,941    \n",
       "99997     3/1/2021                  Spotify     28,941    \n",
       "99998     3/1/2021                    Apple      8,970    \n",
       "99999     2/1/2021                  Spotify     11,245    \n",
       "\n",
       "             Recording Artist         Recording Label  \\\n",
       "0                      Future                     NaN   \n",
       "1                    LUCKY3RD                LUCKY3RD   \n",
       "2                    LUCKY3RD                LUCKY3RD   \n",
       "3      Bachata & Merengue Mix                 Orchard   \n",
       "4                      Foolio                     NaN   \n",
       "...                       ...                     ...   \n",
       "99995                    Myuk  Sony Music Labels Inc.   \n",
       "99996                    yama  Sony Music Labels Inc.   \n",
       "99997                    yama  Sony Music Labels Inc.   \n",
       "99998                    yama  Sony Music Labels Inc.   \n",
       "99999               Lexie Liu          泥鞋（北京）文化传媒有限公司   \n",
       "\n",
       "                                 Recording Title            Release Title  \\\n",
       "0       FUTURE FT DEJ LOAF HEY THERE PROD BY DDS                #unknown#   \n",
       "1                         Keep It Cool  LUCKY3RD   Keep It Cool  LUCKY3RD   \n",
       "2                         Life Goes On  LUCKY3RD   Life Goes On  LUCKY3RD   \n",
       "3         No dudes de mi- Merengue & Bachata Mix            Mega Mix 2010   \n",
       "4                           WHEN I SEE YOU REMIX                #unknown#   \n",
       "...                                          ...                      ...   \n",
       "99995                            魔法 - Anime Size          魔法 (Anime Size)   \n",
       "99996                                         麻痺                       麻痺   \n",
       "99997                                         麻痺                       麻痺   \n",
       "99998                                         麻痺              麻痺 - Single   \n",
       "99999                              黑洞 Metropolis            无限意识 Meta Ego   \n",
       "\n",
       "       Recording Duration (Seconds)  Songwriter's Listed (1 = \"Yes\", 0 = \"No\")  \n",
       "0                               181                                          0  \n",
       "1                               133                                          0  \n",
       "2                               171                                          0  \n",
       "3                              1250                                          0  \n",
       "4                               187                                          0  \n",
       "...                             ...                                        ...  \n",
       "99995                            89                                          1  \n",
       "99996                           199                                          1  \n",
       "99997                           199                                          1  \n",
       "99998                           198                                          1  \n",
       "99999                           259                                          1  \n",
       "\n",
       "[100000 rows x 13 columns]>"
      ]
     },
     "execution_count": 8,
     "metadata": {},
     "output_type": "execute_result"
    }
   ],
   "source": [
    "mlc.info"
   ]
  },
  {
   "cell_type": "code",
   "execution_count": 9,
   "id": "11adaa9b",
   "metadata": {},
   "outputs": [
    {
     "data": {
      "text/plain": [
       "If                                           1760\n",
       "Country Code                                 1697\n",
       "Registrant Code                              1697\n",
       "Year of Reference                            1761\n",
       "Usage Period                                 8102\n",
       "Streaming Platform (DSP)                     3999\n",
       "Streams                                         0\n",
       "Recording Artist                                0\n",
       "Recording Label                              1008\n",
       "Recording Title                                 0\n",
       "Release Title                                  69\n",
       "Recording Duration (Seconds)                    0\n",
       "Songwriter's Listed (1 = \"Yes\", 0 = \"No\")       0\n",
       "dtype: int64"
      ]
     },
     "execution_count": 9,
     "metadata": {},
     "output_type": "execute_result"
    }
   ],
   "source": [
    "mlc.isnull().sum()"
   ]
  },
  {
   "cell_type": "code",
   "execution_count": 10,
   "id": "af5a9ad2",
   "metadata": {},
   "outputs": [
    {
     "data": {
      "text/html": [
       "<div>\n",
       "<style scoped>\n",
       "    .dataframe tbody tr th:only-of-type {\n",
       "        vertical-align: middle;\n",
       "    }\n",
       "\n",
       "    .dataframe tbody tr th {\n",
       "        vertical-align: top;\n",
       "    }\n",
       "\n",
       "    .dataframe thead th {\n",
       "        text-align: right;\n",
       "    }\n",
       "</style>\n",
       "<table border=\"1\" class=\"dataframe\">\n",
       "  <thead>\n",
       "    <tr style=\"text-align: right;\">\n",
       "      <th></th>\n",
       "      <th>Year of Reference</th>\n",
       "      <th>Recording Duration (Seconds)</th>\n",
       "      <th>Songwriter's Listed (1 = \"Yes\", 0 = \"No\")</th>\n",
       "    </tr>\n",
       "  </thead>\n",
       "  <tbody>\n",
       "    <tr>\n",
       "      <th>count</th>\n",
       "      <td>98239.000000</td>\n",
       "      <td>100000.000000</td>\n",
       "      <td>100000.000000</td>\n",
       "    </tr>\n",
       "    <tr>\n",
       "      <th>mean</th>\n",
       "      <td>19.671933</td>\n",
       "      <td>1016.893690</td>\n",
       "      <td>0.541610</td>\n",
       "    </tr>\n",
       "    <tr>\n",
       "      <th>std</th>\n",
       "      <td>12.638870</td>\n",
       "      <td>15565.692133</td>\n",
       "      <td>0.498268</td>\n",
       "    </tr>\n",
       "    <tr>\n",
       "      <th>min</th>\n",
       "      <td>0.000000</td>\n",
       "      <td>0.000000</td>\n",
       "      <td>0.000000</td>\n",
       "    </tr>\n",
       "    <tr>\n",
       "      <th>25%</th>\n",
       "      <td>17.000000</td>\n",
       "      <td>149.000000</td>\n",
       "      <td>0.000000</td>\n",
       "    </tr>\n",
       "    <tr>\n",
       "      <th>50%</th>\n",
       "      <td>19.000000</td>\n",
       "      <td>190.000000</td>\n",
       "      <td>1.000000</td>\n",
       "    </tr>\n",
       "    <tr>\n",
       "      <th>75%</th>\n",
       "      <td>20.000000</td>\n",
       "      <td>236.000000</td>\n",
       "      <td>1.000000</td>\n",
       "    </tr>\n",
       "    <tr>\n",
       "      <th>max</th>\n",
       "      <td>99.000000</td>\n",
       "      <td>818738.000000</td>\n",
       "      <td>1.000000</td>\n",
       "    </tr>\n",
       "  </tbody>\n",
       "</table>\n",
       "</div>"
      ],
      "text/plain": [
       "       Year of Reference  Recording Duration (Seconds)  \\\n",
       "count       98239.000000                 100000.000000   \n",
       "mean           19.671933                   1016.893690   \n",
       "std            12.638870                  15565.692133   \n",
       "min             0.000000                      0.000000   \n",
       "25%            17.000000                    149.000000   \n",
       "50%            19.000000                    190.000000   \n",
       "75%            20.000000                    236.000000   \n",
       "max            99.000000                 818738.000000   \n",
       "\n",
       "       Songwriter's Listed (1 = \"Yes\", 0 = \"No\")  \n",
       "count                              100000.000000  \n",
       "mean                                    0.541610  \n",
       "std                                     0.498268  \n",
       "min                                     0.000000  \n",
       "25%                                     0.000000  \n",
       "50%                                     1.000000  \n",
       "75%                                     1.000000  \n",
       "max                                     1.000000  "
      ]
     },
     "execution_count": 10,
     "metadata": {},
     "output_type": "execute_result"
    }
   ],
   "source": [
    "mlc.describe()"
   ]
  },
  {
   "cell_type": "code",
   "execution_count": 11,
   "id": "4cad7dda",
   "metadata": {},
   "outputs": [
    {
     "data": {
      "image/png": "[encoded data removed]",
      "text/plain": [
       "<Figure size 432x288 with 1 Axes>"
      ]
     },
     "metadata": {
      "needs_background": "light"
     },
     "output_type": "display_data"
    }
   ],
   "source": [
    "mlc.plot();"
   ]
  },
  {
   "cell_type": "code",
   "execution_count": 12,
   "id": "6c821e98",
   "metadata": {},
   "outputs": [
    {
     "data": {
      "image/png": "[encoded data removed]",
      "text/plain": [
       "<Figure size 540x540 with 12 Axes>"
      ]
     },
     "metadata": {},
     "output_type": "display_data"
    }
   ],
   "source": [
    "#set the seaborn theme, style, color palette\n",
    "sns.set(style=\"ticks\", color_codes=True)\n",
    "\n",
    "#make a correlation plot that looks at each variables relationship with every other variable\n",
    "#and plots the distribution of each variable along the diagonal\n",
    "sns.pairplot(mlc);"
   ]
  },
  {
   "cell_type": "code",
   "execution_count": 13,
   "id": "e340c37d",
   "metadata": {},
   "outputs": [
    {
     "data": {
      "text/plain": [
       "Spotify               32268\n",
       "Apple                 22200\n",
       "Amazon                14438\n",
       "Pandora               13777\n",
       "Tidal                  3521\n",
       "YouTube                2752\n",
       "SoundCloud             2122\n",
       "GTL                    1090\n",
       "Melodyv                 829\n",
       "Trebel                  817\n",
       "iHeart Radio            707\n",
       "AudioMack               550\n",
       "NugsNet                 316\n",
       "LiveXLive               200\n",
       "Qoboz                   104\n",
       "Midwest Tape            102\n",
       "Deezer                   51\n",
       "Anghami                  46\n",
       "Sonos                    23\n",
       "Recisio                  22\n",
       "Smithsonian              21\n",
       "Ultimate Guitar          19\n",
       "PowerMusic                8\n",
       "Wolfgangs                 4\n",
       "Fan Label                 4\n",
       "MixCloud                  4\n",
       "Pacemaker                 3\n",
       "Classical Archives        2\n",
       "MonkingMe                 1\n",
       "Name: Streaming Platform (DSP), dtype: int64"
      ]
     },
     "execution_count": 13,
     "metadata": {},
     "output_type": "execute_result"
    }
   ],
   "source": [
    "mlc['Streaming Platform (DSP)'].value_counts()"
   ]
  },
  {
   "cell_type": "code",
   "execution_count": 14,
   "id": "045d4b27",
   "metadata": {},
   "outputs": [
    {
     "data": {
      "text/plain": [
       "US    41621\n",
       "QZ    17189\n",
       "QM     8409\n",
       "TC     8295\n",
       "GB     6611\n",
       "      ...  \n",
       "QA        1\n",
       "FX        1\n",
       "PT        1\n",
       "BO        1\n",
       "CL        1\n",
       "Name: Country Code, Length: 77, dtype: int64"
      ]
     },
     "execution_count": 14,
     "metadata": {},
     "output_type": "execute_result"
    }
   ],
   "source": [
    "mlc['Country Code'].value_counts()"
   ]
  },
  {
   "cell_type": "code",
   "execution_count": 15,
   "id": "07ab5dc4",
   "metadata": {},
   "outputs": [
    {
     "data": {
      "text/plain": [
       "Various artists                                                                                   967\n",
       "Lil Durk                                                                                          446\n",
       "Zach Bryan                                                                                        394\n",
       "Youngboy Never Broke Again                                                                        335\n",
       "Taylor Swift                                                                                      313\n",
       "                                                                                                 ... \n",
       "Mr. Rock Ski,Madam T                                                                                1\n",
       "Rauw Alejandro, Myke Towers, Jay Wheeler                                                            1\n",
       "Jay Wheeler, Myke Towers & DJ Nelson (feat. Jhay Cortez, Lunay, Rauw Alejandro & Kendo Kaponi)      1\n",
       "Jay Wheeler, Myke Towers & Becky G                                                                  1\n",
       "Loud Bunch Kids                                                                                     1\n",
       "Name: Recording Artist, Length: 21149, dtype: int64"
      ]
     },
     "execution_count": 15,
     "metadata": {},
     "output_type": "execute_result"
    }
   ],
   "source": [
    "mlc['Recording Artist'].value_counts()"
   ]
  },
  {
   "cell_type": "code",
   "execution_count": 16,
   "id": "f44c734b",
   "metadata": {},
   "outputs": [
    {
     "data": {
      "text/plain": [
       "20.0    31143\n",
       "21.0    13510\n",
       "19.0    11577\n",
       "18.0     8556\n",
       "17.0     6025\n",
       "        ...  \n",
       "44.0        2\n",
       "50.0        1\n",
       "48.0        1\n",
       "49.0        1\n",
       "40.0        1\n",
       "Name: Year of Reference, Length: 95, dtype: int64"
      ]
     },
     "execution_count": 16,
     "metadata": {},
     "output_type": "execute_result"
    }
   ],
   "source": [
    "mlc['Year of Reference'].value_counts()"
   ]
  },
  {
   "cell_type": "code",
   "execution_count": 17,
   "id": "594a76d0",
   "metadata": {},
   "outputs": [
    {
     "data": {
      "text/plain": [
       "Atlantic Records                      1384\n",
       "Lofi Records                          1232\n",
       "Warner Records                         995\n",
       "Columbia                               843\n",
       "Universal                              818\n",
       "                                      ... \n",
       "Twenty7 Records / Human Re Sources       1\n",
       "Hip-O Select / Motown                    1\n",
       "NyxTheShield                             1\n",
       "Relaxing Sounds For Studying             1\n",
       "Universal Music Taiwan                   1\n",
       "Name: Recording Label, Length: 11778, dtype: int64"
      ]
     },
     "execution_count": 17,
     "metadata": {},
     "output_type": "execute_result"
    }
   ],
   "source": [
    "mlc['Recording Label'].value_counts()"
   ]
  },
  {
   "cell_type": "markdown",
   "id": "0ad1c410",
   "metadata": {},
   "source": [
    "Let's rename the columns"
   ]
  },
  {
   "cell_type": "code",
   "execution_count": 21,
   "id": "fc366517",
   "metadata": {
    "scrolled": true
   },
   "outputs": [],
   "source": [
    "mlc.columns = ['ISRC', 'Country_Code', 'Registrant_Code', 'Year_of_Reference', 'Usage_Period', 'DSP', 'Streams', 'Recording_Artist', 'Recording_Label','Recording_Title','Release_Title','Recording_Duration','Songwriters_Listed']"
   ]
  },
  {
   "cell_type": "code",
   "execution_count": 22,
   "id": "e43bf3dc",
   "metadata": {
    "scrolled": true
   },
   "outputs": [
    {
     "data": {
      "text/html": [
       "<div>\n",
       "<style scoped>\n",
       "    .dataframe tbody tr th:only-of-type {\n",
       "        vertical-align: middle;\n",
       "    }\n",
       "\n",
       "    .dataframe tbody tr th {\n",
       "        vertical-align: top;\n",
       "    }\n",
       "\n",
       "    .dataframe thead th {\n",
       "        text-align: right;\n",
       "    }\n",
       "</style>\n",
       "<table border=\"1\" class=\"dataframe\">\n",
       "  <thead>\n",
       "    <tr style=\"text-align: right;\">\n",
       "      <th></th>\n",
       "      <th>ISRC</th>\n",
       "      <th>Country_Code</th>\n",
       "      <th>Registrant_Code</th>\n",
       "      <th>Year_of_Reference</th>\n",
       "      <th>Usage_Period</th>\n",
       "      <th>DSP</th>\n",
       "      <th>Streams</th>\n",
       "      <th>Recording_Artist</th>\n",
       "      <th>Recording_Label</th>\n",
       "      <th>Recording_Title</th>\n",
       "      <th>Release_Title</th>\n",
       "      <th>Recording_Duration</th>\n",
       "      <th>Songwriters_Listed</th>\n",
       "    </tr>\n",
       "  </thead>\n",
       "  <tbody>\n",
       "    <tr>\n",
       "      <th>0</th>\n",
       "      <td>USUG12101043</td>\n",
       "      <td>US</td>\n",
       "      <td>UG1</td>\n",
       "      <td>21.0</td>\n",
       "      <td>NaN</td>\n",
       "      <td>AudioMack</td>\n",
       "      <td>10,175</td>\n",
       "      <td>Future</td>\n",
       "      <td>NaN</td>\n",
       "      <td>FUTURE FT DEJ LOAF HEY THERE PROD BY DDS</td>\n",
       "      <td>#unknown#</td>\n",
       "      <td>181</td>\n",
       "      <td>0</td>\n",
       "    </tr>\n",
       "    <tr>\n",
       "      <th>1</th>\n",
       "      <td>USRC12100543</td>\n",
       "      <td>US</td>\n",
       "      <td>RC1</td>\n",
       "      <td>21.0</td>\n",
       "      <td>NaN</td>\n",
       "      <td>SoundCloud</td>\n",
       "      <td>8,597</td>\n",
       "      <td>LUCKY3RD</td>\n",
       "      <td>LUCKY3RD</td>\n",
       "      <td>Keep It Cool  LUCKY3RD</td>\n",
       "      <td>Keep It Cool  LUCKY3RD</td>\n",
       "      <td>133</td>\n",
       "      <td>0</td>\n",
       "    </tr>\n",
       "    <tr>\n",
       "      <th>2</th>\n",
       "      <td>USSM12102263</td>\n",
       "      <td>US</td>\n",
       "      <td>SM1</td>\n",
       "      <td>21.0</td>\n",
       "      <td>NaN</td>\n",
       "      <td>SoundCloud</td>\n",
       "      <td>261,280</td>\n",
       "      <td>LUCKY3RD</td>\n",
       "      <td>LUCKY3RD</td>\n",
       "      <td>Life Goes On  LUCKY3RD</td>\n",
       "      <td>Life Goes On  LUCKY3RD</td>\n",
       "      <td>171</td>\n",
       "      <td>0</td>\n",
       "    </tr>\n",
       "    <tr>\n",
       "      <th>3</th>\n",
       "      <td>USLD91731547</td>\n",
       "      <td>US</td>\n",
       "      <td>LD9</td>\n",
       "      <td>17.0</td>\n",
       "      <td>2/1/2021</td>\n",
       "      <td>Trebel</td>\n",
       "      <td>5</td>\n",
       "      <td>Bachata &amp; Merengue Mix</td>\n",
       "      <td>Orchard</td>\n",
       "      <td>No dudes de mi- Merengue &amp; Bachata Mix</td>\n",
       "      <td>Mega Mix 2010</td>\n",
       "      <td>1250</td>\n",
       "      <td>0</td>\n",
       "    </tr>\n",
       "    <tr>\n",
       "      <th>4</th>\n",
       "      <td>USAT22007048</td>\n",
       "      <td>US</td>\n",
       "      <td>AT2</td>\n",
       "      <td>20.0</td>\n",
       "      <td>NaN</td>\n",
       "      <td>AudioMack</td>\n",
       "      <td>62,105</td>\n",
       "      <td>Foolio</td>\n",
       "      <td>NaN</td>\n",
       "      <td>WHEN I SEE YOU REMIX</td>\n",
       "      <td>#unknown#</td>\n",
       "      <td>187</td>\n",
       "      <td>0</td>\n",
       "    </tr>\n",
       "  </tbody>\n",
       "</table>\n",
       "</div>"
      ],
      "text/plain": [
       "           ISRC Country_Code Registrant_Code  Year_of_Reference Usage_Period  \\\n",
       "0  USUG12101043           US             UG1               21.0          NaN   \n",
       "1  USRC12100543           US             RC1               21.0          NaN   \n",
       "2  USSM12102263           US             SM1               21.0          NaN   \n",
       "3  USLD91731547           US             LD9               17.0     2/1/2021   \n",
       "4  USAT22007048           US             AT2               20.0          NaN   \n",
       "\n",
       "          DSP     Streams        Recording_Artist Recording_Label  \\\n",
       "0   AudioMack     10,175                   Future             NaN   \n",
       "1  SoundCloud      8,597                 LUCKY3RD        LUCKY3RD   \n",
       "2  SoundCloud    261,280                 LUCKY3RD        LUCKY3RD   \n",
       "3      Trebel          5   Bachata & Merengue Mix         Orchard   \n",
       "4   AudioMack     62,105                   Foolio             NaN   \n",
       "\n",
       "                             Recording_Title            Release_Title  \\\n",
       "0   FUTURE FT DEJ LOAF HEY THERE PROD BY DDS                #unknown#   \n",
       "1                     Keep It Cool  LUCKY3RD   Keep It Cool  LUCKY3RD   \n",
       "2                     Life Goes On  LUCKY3RD   Life Goes On  LUCKY3RD   \n",
       "3     No dudes de mi- Merengue & Bachata Mix            Mega Mix 2010   \n",
       "4                       WHEN I SEE YOU REMIX                #unknown#   \n",
       "\n",
       "   Recording_Duration  Songwriters_Listed  \n",
       "0                 181                   0  \n",
       "1                 133                   0  \n",
       "2                 171                   0  \n",
       "3                1250                   0  \n",
       "4                 187                   0  "
      ]
     },
     "execution_count": 22,
     "metadata": {},
     "output_type": "execute_result"
    }
   ],
   "source": [
    "mlc.head()"
   ]
  },
  {
   "cell_type": "markdown",
   "id": "a2c18a0f",
   "metadata": {},
   "source": [
    "Let's find the Nulls for each DSP"
   ]
  },
  {
   "cell_type": "code",
   "execution_count": 23,
   "id": "0da7e609",
   "metadata": {},
   "outputs": [
    {
     "data": {
      "text/plain": [
       "Spotify               32268\n",
       "Apple                 22200\n",
       "Amazon                14438\n",
       "Pandora               13777\n",
       "NaN                    3999\n",
       "Tidal                  3521\n",
       "YouTube                2752\n",
       "SoundCloud             2122\n",
       "GTL                    1090\n",
       "Melodyv                 829\n",
       "Trebel                  817\n",
       "iHeart Radio            707\n",
       "AudioMack               550\n",
       "NugsNet                 316\n",
       "LiveXLive               200\n",
       "Qoboz                   104\n",
       "Midwest Tape            102\n",
       "Deezer                   51\n",
       "Anghami                  46\n",
       "Sonos                    23\n",
       "Recisio                  22\n",
       "Smithsonian              21\n",
       "Ultimate Guitar          19\n",
       "PowerMusic                8\n",
       "Wolfgangs                 4\n",
       "Fan Label                 4\n",
       "MixCloud                  4\n",
       "Pacemaker                 3\n",
       "Classical Archives        2\n",
       "MonkingMe                 1\n",
       "Name: DSP, dtype: int64"
      ]
     },
     "execution_count": 23,
     "metadata": {},
     "output_type": "execute_result"
    }
   ],
   "source": [
    "mlc['DSP'].value_counts(dropna=False)"
   ]
  },
  {
   "cell_type": "code",
   "execution_count": 25,
   "id": "1a191781",
   "metadata": {},
   "outputs": [],
   "source": [
    "spotify_df = mlc[mlc.DSP == 'Spotify']"
   ]
  },
  {
   "cell_type": "code",
   "execution_count": 27,
   "id": "79649133",
   "metadata": {
    "scrolled": true
   },
   "outputs": [
    {
     "data": {
      "text/plain": [
       "ISRC                  571\n",
       "Country_Code          554\n",
       "Registrant_Code       554\n",
       "Year_of_Reference     571\n",
       "Usage_Period            0\n",
       "DSP                     0\n",
       "Streams                 0\n",
       "Recording_Artist        0\n",
       "Recording_Label        11\n",
       "Recording_Title         0\n",
       "Release_Title           1\n",
       "Recording_Duration      0\n",
       "Songwriters_Listed      0\n",
       "dtype: int64"
      ]
     },
     "execution_count": 27,
     "metadata": {},
     "output_type": "execute_result"
    }
   ],
   "source": [
    "spotify_df.isnull().sum()"
   ]
  },
  {
   "cell_type": "markdown",
   "id": "4843f390",
   "metadata": {},
   "source": [
    "Spotify has 2261 Null Values"
   ]
  },
  {
   "cell_type": "code",
   "execution_count": 28,
   "id": "0f8a812d",
   "metadata": {},
   "outputs": [],
   "source": [
    "apple_df = mlc[mlc.DSP == 'Apple']"
   ]
  },
  {
   "cell_type": "code",
   "execution_count": 29,
   "id": "26d9cc1e",
   "metadata": {},
   "outputs": [
    {
     "data": {
      "text/plain": [
       "ISRC                   380\n",
       "Country_Code           363\n",
       "Registrant_Code        363\n",
       "Year_of_Reference      380\n",
       "Usage_Period          1441\n",
       "DSP                      0\n",
       "Streams                  0\n",
       "Recording_Artist         0\n",
       "Recording_Label          8\n",
       "Recording_Title          0\n",
       "Release_Title            7\n",
       "Recording_Duration       0\n",
       "Songwriters_Listed       0\n",
       "dtype: int64"
      ]
     },
     "execution_count": 29,
     "metadata": {},
     "output_type": "execute_result"
    }
   ],
   "source": [
    "apple_df.isnull().sum()"
   ]
  },
  {
   "cell_type": "markdown",
   "id": "046d2a1f",
   "metadata": {},
   "source": [
    "Apple has 2934 Null Values"
   ]
  },
  {
   "cell_type": "code",
   "execution_count": 30,
   "id": "26198d4a",
   "metadata": {},
   "outputs": [],
   "source": [
    "amazon_df = mlc[mlc.DSP == 'Amazon']"
   ]
  },
  {
   "cell_type": "code",
   "execution_count": 31,
   "id": "9975eca6",
   "metadata": {},
   "outputs": [
    {
     "data": {
      "text/plain": [
       "ISRC                  265\n",
       "Country_Code          255\n",
       "Registrant_Code       255\n",
       "Year_of_Reference     265\n",
       "Usage_Period            0\n",
       "DSP                     0\n",
       "Streams                 0\n",
       "Recording_Artist        0\n",
       "Recording_Label         0\n",
       "Recording_Title         0\n",
       "Release_Title           0\n",
       "Recording_Duration      0\n",
       "Songwriters_Listed      0\n",
       "dtype: int64"
      ]
     },
     "execution_count": 31,
     "metadata": {},
     "output_type": "execute_result"
    }
   ],
   "source": [
    "amazon_df.isnull().sum()"
   ]
  },
  {
   "cell_type": "markdown",
   "id": "0c04390a",
   "metadata": {},
   "source": [
    "Amazon has 785 Null Values"
   ]
  },
  {
   "cell_type": "markdown",
   "id": "5f8af055",
   "metadata": {},
   "source": [
    "Possible Patterns Based of the three new dataframes :\n",
    "1.ISRC & Year_of_Reference Null values are the same.\n",
    "2.Country_Code & Registrant_Code Null values are the same."
   ]
  },
  {
   "cell_type": "code",
   "execution_count": 32,
   "id": "253f5220",
   "metadata": {},
   "outputs": [],
   "source": [
    "pandora_df = mlc[mlc.DSP == 'Pandora']"
   ]
  },
  {
   "cell_type": "code",
   "execution_count": 33,
   "id": "7b5ca97b",
   "metadata": {},
   "outputs": [
    {
     "data": {
      "text/plain": [
       "ISRC                  237\n",
       "Country_Code          230\n",
       "Registrant_Code       230\n",
       "Year_of_Reference     238\n",
       "Usage_Period            0\n",
       "DSP                     0\n",
       "Streams                 0\n",
       "Recording_Artist        0\n",
       "Recording_Label        27\n",
       "Recording_Title         0\n",
       "Release_Title           3\n",
       "Recording_Duration      0\n",
       "Songwriters_Listed      0\n",
       "dtype: int64"
      ]
     },
     "execution_count": 33,
     "metadata": {},
     "output_type": "execute_result"
    }
   ],
   "source": [
    "pandora_df.isnull().sum()"
   ]
  },
  {
   "cell_type": "markdown",
   "id": "57cb227d",
   "metadata": {},
   "source": [
    "Amazon has 965 Null Values"
   ]
  },
  {
   "cell_type": "markdown",
   "id": "a8a0f7e0",
   "metadata": {},
   "source": [
    "Pattern prediction still intact for Country_Code & Registrant_Code Null values.\n",
    "It's off by one number for ISRC & Year_of_Reference , but still close"
   ]
  },
  {
   "cell_type": "code",
   "execution_count": 34,
   "id": "235528c9",
   "metadata": {},
   "outputs": [],
   "source": [
    "unknown_df = mlc[mlc.DSP == 'NaN']"
   ]
  },
  {
   "cell_type": "code",
   "execution_count": 35,
   "id": "28b8f997",
   "metadata": {},
   "outputs": [
    {
     "data": {
      "text/plain": [
       "ISRC                  0.0\n",
       "Country_Code          0.0\n",
       "Registrant_Code       0.0\n",
       "Year_of_Reference     0.0\n",
       "Usage_Period          0.0\n",
       "DSP                   0.0\n",
       "Streams               0.0\n",
       "Recording_Artist      0.0\n",
       "Recording_Label       0.0\n",
       "Recording_Title       0.0\n",
       "Release_Title         0.0\n",
       "Recording_Duration    0.0\n",
       "Songwriters_Listed    0.0\n",
       "dtype: float64"
      ]
     },
     "execution_count": 35,
     "metadata": {},
     "output_type": "execute_result"
    }
   ],
   "source": [
    "unknown_df.isnull().sum()"
   ]
  },
  {
   "cell_type": "markdown",
   "id": "a3a0f0b6",
   "metadata": {},
   "source": [
    "0 Null Values for the Unknown (NaN) streaming platform"
   ]
  },
  {
   "cell_type": "code",
   "execution_count": 36,
   "id": "e2adb9c6",
   "metadata": {},
   "outputs": [],
   "source": [
    "tidal_df = mlc[mlc.DSP == 'Tidal']"
   ]
  },
  {
   "cell_type": "code",
   "execution_count": 37,
   "id": "24d4f721",
   "metadata": {},
   "outputs": [
    {
     "data": {
      "text/plain": [
       "ISRC                   53\n",
       "Country_Code           52\n",
       "Registrant_Code        52\n",
       "Year_of_Reference      53\n",
       "Usage_Period          868\n",
       "DSP                     0\n",
       "Streams                 0\n",
       "Recording_Artist        0\n",
       "Recording_Label         0\n",
       "Recording_Title         0\n",
       "Release_Title           0\n",
       "Recording_Duration      0\n",
       "Songwriters_Listed      0\n",
       "dtype: int64"
      ]
     },
     "execution_count": 37,
     "metadata": {},
     "output_type": "execute_result"
    }
   ],
   "source": [
    "tidal_df.isnull().sum()"
   ]
  },
  {
   "cell_type": "markdown",
   "id": "a67ed1c3",
   "metadata": {},
   "source": [
    "Tidal has 1078 Null Values"
   ]
  },
  {
   "cell_type": "markdown",
   "id": "f78ca2be",
   "metadata": {},
   "source": [
    "Pattern still the same for this streaming platform"
   ]
  },
  {
   "cell_type": "code",
   "execution_count": 38,
   "id": "839f920a",
   "metadata": {},
   "outputs": [],
   "source": [
    "youtube_df = mlc[mlc.DSP == 'YouTube']"
   ]
  },
  {
   "cell_type": "code",
   "execution_count": 39,
   "id": "f5827d5c",
   "metadata": {},
   "outputs": [
    {
     "data": {
      "text/plain": [
       "ISRC                   56\n",
       "Country_Code           54\n",
       "Registrant_Code        54\n",
       "Year_of_Reference      56\n",
       "Usage_Period          958\n",
       "DSP                     0\n",
       "Streams                 0\n",
       "Recording_Artist        0\n",
       "Recording_Label       233\n",
       "Recording_Title         0\n",
       "Release_Title           0\n",
       "Recording_Duration      0\n",
       "Songwriters_Listed      0\n",
       "dtype: int64"
      ]
     },
     "execution_count": 39,
     "metadata": {},
     "output_type": "execute_result"
    }
   ],
   "source": [
    "youtube_df.isnull().sum()"
   ]
  },
  {
   "cell_type": "markdown",
   "id": "9add7305",
   "metadata": {},
   "source": [
    "Youtube has 1411 Null Values"
   ]
  },
  {
   "cell_type": "markdown",
   "id": "848e1449",
   "metadata": {},
   "source": [
    "Pattern still the same"
   ]
  },
  {
   "cell_type": "code",
   "execution_count": 41,
   "id": "e6d79ff9",
   "metadata": {},
   "outputs": [],
   "source": [
    "soundcloud_df = mlc[mlc.DSP == 'SoundCloud'] "
   ]
  },
  {
   "cell_type": "code",
   "execution_count": 42,
   "id": "d35dab52",
   "metadata": {},
   "outputs": [
    {
     "data": {
      "text/plain": [
       "ISRC                   36\n",
       "Country_Code           36\n",
       "Registrant_Code        36\n",
       "Year_of_Reference      36\n",
       "Usage_Period          494\n",
       "DSP                     0\n",
       "Streams                 0\n",
       "Recording_Artist        0\n",
       "Recording_Label         0\n",
       "Recording_Title         0\n",
       "Release_Title           0\n",
       "Recording_Duration      0\n",
       "Songwriters_Listed      0\n",
       "dtype: int64"
      ]
     },
     "execution_count": 42,
     "metadata": {},
     "output_type": "execute_result"
    }
   ],
   "source": [
    "soundcloud_df.isnull().sum()"
   ]
  },
  {
   "cell_type": "markdown",
   "id": "e359f51b",
   "metadata": {},
   "source": [
    "SoundCloud has 638 Null values"
   ]
  },
  {
   "cell_type": "markdown",
   "id": "951611d2",
   "metadata": {},
   "source": [
    "Same pattern"
   ]
  },
  {
   "cell_type": "code",
   "execution_count": 43,
   "id": "e42779b6",
   "metadata": {},
   "outputs": [],
   "source": [
    "gtl_df = mlc[mlc.DSP == 'GTL'] "
   ]
  },
  {
   "cell_type": "code",
   "execution_count": 44,
   "id": "af818271",
   "metadata": {},
   "outputs": [
    {
     "data": {
      "text/plain": [
       "ISRC                  26\n",
       "Country_Code          24\n",
       "Registrant_Code       24\n",
       "Year_of_Reference     26\n",
       "Usage_Period           0\n",
       "DSP                    0\n",
       "Streams                0\n",
       "Recording_Artist       0\n",
       "Recording_Label        0\n",
       "Recording_Title        0\n",
       "Release_Title          0\n",
       "Recording_Duration     0\n",
       "Songwriters_Listed     0\n",
       "dtype: int64"
      ]
     },
     "execution_count": 44,
     "metadata": {},
     "output_type": "execute_result"
    }
   ],
   "source": [
    "gtl_df.isnull().sum()"
   ]
  },
  {
   "cell_type": "markdown",
   "id": "046dd131",
   "metadata": {},
   "source": [
    "GTL has 100 Null Values (Same Pattern)"
   ]
  },
  {
   "cell_type": "code",
   "execution_count": 45,
   "id": "9a302577",
   "metadata": {},
   "outputs": [],
   "source": [
    "melodyv_df = mlc[mlc.DSP == 'Melodyv'] "
   ]
  },
  {
   "cell_type": "code",
   "execution_count": 46,
   "id": "ae525919",
   "metadata": {},
   "outputs": [
    {
     "data": {
      "text/plain": [
       "ISRC                  15\n",
       "Country_Code          15\n",
       "Registrant_Code       15\n",
       "Year_of_Reference     15\n",
       "Usage_Period           0\n",
       "DSP                    0\n",
       "Streams                0\n",
       "Recording_Artist       0\n",
       "Recording_Label        0\n",
       "Recording_Title        0\n",
       "Release_Title          0\n",
       "Recording_Duration     0\n",
       "Songwriters_Listed     0\n",
       "dtype: int64"
      ]
     },
     "execution_count": 46,
     "metadata": {},
     "output_type": "execute_result"
    }
   ],
   "source": [
    "melodyv_df.isnull().sum()"
   ]
  },
  {
   "cell_type": "markdown",
   "id": "e24db86f",
   "metadata": {},
   "source": [
    "Melodyv has 60 Null values (same pattern)"
   ]
  },
  {
   "cell_type": "code",
   "execution_count": 49,
   "id": "9ff17d43",
   "metadata": {},
   "outputs": [],
   "source": [
    "trebel_df = mlc[mlc.DSP == 'Trebel']"
   ]
  },
  {
   "cell_type": "code",
   "execution_count": 50,
   "id": "57c35f95",
   "metadata": {},
   "outputs": [
    {
     "data": {
      "text/plain": [
       "ISRC                  19\n",
       "Country_Code          18\n",
       "Registrant_Code       18\n",
       "Year_of_Reference     19\n",
       "Usage_Period           0\n",
       "DSP                    0\n",
       "Streams                0\n",
       "Recording_Artist       0\n",
       "Recording_Label        0\n",
       "Recording_Title        0\n",
       "Release_Title          0\n",
       "Recording_Duration     0\n",
       "Songwriters_Listed     0\n",
       "dtype: int64"
      ]
     },
     "execution_count": 50,
     "metadata": {},
     "output_type": "execute_result"
    }
   ],
   "source": [
    "trebel_df.isnull().sum()"
   ]
  },
  {
   "cell_type": "markdown",
   "id": "2f1319fa",
   "metadata": {},
   "source": [
    "Trebel has 74 Null values (Same pattern)"
   ]
  },
  {
   "cell_type": "code",
   "execution_count": 51,
   "id": "d477dda7",
   "metadata": {},
   "outputs": [],
   "source": [
    "ihr_df = mlc[mlc.DSP == 'iHeart Radio']"
   ]
  },
  {
   "cell_type": "code",
   "execution_count": 52,
   "id": "7cf0d16d",
   "metadata": {},
   "outputs": [
    {
     "data": {
      "text/plain": [
       "ISRC                  16\n",
       "Country_Code          16\n",
       "Registrant_Code       16\n",
       "Year_of_Reference     16\n",
       "Usage_Period          38\n",
       "DSP                    0\n",
       "Streams                0\n",
       "Recording_Artist       0\n",
       "Recording_Label        0\n",
       "Recording_Title        0\n",
       "Release_Title          0\n",
       "Recording_Duration     0\n",
       "Songwriters_Listed     0\n",
       "dtype: int64"
      ]
     },
     "execution_count": 52,
     "metadata": {},
     "output_type": "execute_result"
    }
   ],
   "source": [
    "ihr_df.isnull().sum()"
   ]
  },
  {
   "cell_type": "markdown",
   "id": "635b0292",
   "metadata": {},
   "source": [
    "I Heart Radio has 102 Null Values"
   ]
  },
  {
   "cell_type": "code",
   "execution_count": 53,
   "id": "3c214080",
   "metadata": {},
   "outputs": [],
   "source": [
    "audiomack_df = mlc[mlc.DSP == 'AudioMack']"
   ]
  },
  {
   "cell_type": "code",
   "execution_count": 54,
   "id": "6d38091c",
   "metadata": {},
   "outputs": [
    {
     "data": {
      "text/plain": [
       "ISRC                   16\n",
       "Country_Code           15\n",
       "Registrant_Code        15\n",
       "Year_of_Reference      16\n",
       "Usage_Period          287\n",
       "DSP                     0\n",
       "Streams                 0\n",
       "Recording_Artist        0\n",
       "Recording_Label       550\n",
       "Recording_Title         0\n",
       "Release_Title           0\n",
       "Recording_Duration      0\n",
       "Songwriters_Listed      0\n",
       "dtype: int64"
      ]
     },
     "execution_count": 54,
     "metadata": {},
     "output_type": "execute_result"
    }
   ],
   "source": [
    "audiomack_df.isnull().sum()"
   ]
  },
  {
   "cell_type": "markdown",
   "id": "40a02f92",
   "metadata": {},
   "source": [
    "Audiomack has 889 Null values (Same pattern)"
   ]
  },
  {
   "cell_type": "code",
   "execution_count": 55,
   "id": "a2ebb02a",
   "metadata": {},
   "outputs": [],
   "source": [
    "nugsnet_df = mlc[mlc.DSP == 'NugsNet']"
   ]
  },
  {
   "cell_type": "code",
   "execution_count": 56,
   "id": "f83bb7c6",
   "metadata": {},
   "outputs": [
    {
     "data": {
      "text/plain": [
       "ISRC                  4\n",
       "Country_Code          3\n",
       "Registrant_Code       3\n",
       "Year_of_Reference     4\n",
       "Usage_Period          0\n",
       "DSP                   0\n",
       "Streams               0\n",
       "Recording_Artist      0\n",
       "Recording_Label       0\n",
       "Recording_Title       0\n",
       "Release_Title         0\n",
       "Recording_Duration    0\n",
       "Songwriters_Listed    0\n",
       "dtype: int64"
      ]
     },
     "execution_count": 56,
     "metadata": {},
     "output_type": "execute_result"
    }
   ],
   "source": [
    "nugsnet_df.isnull().sum()"
   ]
  },
  {
   "cell_type": "markdown",
   "id": "82e16d14",
   "metadata": {},
   "source": [
    "NugsNet has 14 Null values (Same pattern)"
   ]
  },
  {
   "cell_type": "code",
   "execution_count": 57,
   "id": "38684c59",
   "metadata": {},
   "outputs": [],
   "source": [
    "livexlive_df = mlc[mlc.DSP == 'LiveXLive']"
   ]
  },
  {
   "cell_type": "code",
   "execution_count": 58,
   "id": "075338ae",
   "metadata": {},
   "outputs": [
    {
     "data": {
      "text/plain": [
       "ISRC                   4\n",
       "Country_Code           4\n",
       "Registrant_Code        4\n",
       "Year_of_Reference      4\n",
       "Usage_Period          11\n",
       "DSP                    0\n",
       "Streams                0\n",
       "Recording_Artist       0\n",
       "Recording_Label       24\n",
       "Recording_Title        0\n",
       "Release_Title          0\n",
       "Recording_Duration     0\n",
       "Songwriters_Listed     0\n",
       "dtype: int64"
      ]
     },
     "execution_count": 58,
     "metadata": {},
     "output_type": "execute_result"
    }
   ],
   "source": [
    "livexlive_df.isnull().sum()"
   ]
  },
  {
   "cell_type": "markdown",
   "id": "46c0f756",
   "metadata": {},
   "source": [
    "LiveXLive has 51 Null values (Same pattern)"
   ]
  },
  {
   "cell_type": "code",
   "execution_count": 62,
   "id": "6d7c13fc",
   "metadata": {},
   "outputs": [],
   "source": [
    "qoboz_df = mlc[mlc.DSP == 'Qoboz']"
   ]
  },
  {
   "cell_type": "code",
   "execution_count": 63,
   "id": "be7a03ce",
   "metadata": {},
   "outputs": [
    {
     "data": {
      "text/plain": [
       "ISRC                  0\n",
       "Country_Code          0\n",
       "Registrant_Code       0\n",
       "Year_of_Reference     0\n",
       "Usage_Period          0\n",
       "DSP                   0\n",
       "Streams               0\n",
       "Recording_Artist      0\n",
       "Recording_Label       0\n",
       "Recording_Title       0\n",
       "Release_Title         0\n",
       "Recording_Duration    0\n",
       "Songwriters_Listed    0\n",
       "dtype: int64"
      ]
     },
     "execution_count": 63,
     "metadata": {},
     "output_type": "execute_result"
    }
   ],
   "source": [
    "qoboz_df.isnull().sum()"
   ]
  },
  {
   "cell_type": "markdown",
   "id": "9bad5e8a",
   "metadata": {},
   "source": [
    "Qoboz has 0 Null values"
   ]
  },
  {
   "cell_type": "markdown",
   "id": "5ea18f89",
   "metadata": {},
   "source": [
    "Pattern has stopped"
   ]
  },
  {
   "cell_type": "code",
   "execution_count": 64,
   "id": "03b9a9cc",
   "metadata": {},
   "outputs": [],
   "source": [
    "mwtape_df = mlc[mlc.DSP == 'Midwest Tape']"
   ]
  },
  {
   "cell_type": "code",
   "execution_count": 65,
   "id": "64254692",
   "metadata": {},
   "outputs": [
    {
     "data": {
      "text/plain": [
       "ISRC                   3\n",
       "Country_Code           3\n",
       "Registrant_Code        3\n",
       "Year_of_Reference      3\n",
       "Usage_Period           6\n",
       "DSP                    0\n",
       "Streams                0\n",
       "Recording_Artist       0\n",
       "Recording_Label       42\n",
       "Recording_Title        0\n",
       "Release_Title          0\n",
       "Recording_Duration     0\n",
       "Songwriters_Listed     0\n",
       "dtype: int64"
      ]
     },
     "execution_count": 65,
     "metadata": {},
     "output_type": "execute_result"
    }
   ],
   "source": [
    "mwtape_df.isnull().sum()"
   ]
  },
  {
   "cell_type": "markdown",
   "id": "9471d761",
   "metadata": {},
   "source": [
    "Midwest Tap has 60 Null values"
   ]
  },
  {
   "cell_type": "markdown",
   "id": "2eca678a",
   "metadata": {},
   "source": [
    "Pattern has returned"
   ]
  },
  {
   "cell_type": "code",
   "execution_count": 66,
   "id": "9aaf926a",
   "metadata": {
    "scrolled": true
   },
   "outputs": [
    {
     "data": {
      "text/plain": [
       "ISRC                  0\n",
       "Country_Code          0\n",
       "Registrant_Code       0\n",
       "Year_of_Reference     0\n",
       "Usage_Period          0\n",
       "DSP                   0\n",
       "Streams               0\n",
       "Recording_Artist      0\n",
       "Recording_Label       5\n",
       "Recording_Title       0\n",
       "Release_Title         0\n",
       "Recording_Duration    0\n",
       "Songwriters_Listed    0\n",
       "dtype: int64"
      ]
     },
     "execution_count": 66,
     "metadata": {},
     "output_type": "execute_result"
    }
   ],
   "source": [
    "deezer = mlc.loc[mlc['DSP'] == 'Deezer']\n",
    "deezer.isnull().sum()"
   ]
  },
  {
   "cell_type": "markdown",
   "id": "9df14a55",
   "metadata": {},
   "source": [
    "Deezer has 5 Null values (Pattern stopped)"
   ]
  },
  {
   "cell_type": "code",
   "execution_count": 67,
   "id": "f5dba19c",
   "metadata": {},
   "outputs": [
    {
     "data": {
      "text/plain": [
       "ISRC                  0\n",
       "Country_Code          0\n",
       "Registrant_Code       0\n",
       "Year_of_Reference     0\n",
       "Usage_Period          0\n",
       "DSP                   0\n",
       "Streams               0\n",
       "Recording_Artist      0\n",
       "Recording_Label       3\n",
       "Recording_Title       0\n",
       "Release_Title         0\n",
       "Recording_Duration    0\n",
       "Songwriters_Listed    0\n",
       "dtype: int64"
      ]
     },
     "execution_count": 67,
     "metadata": {},
     "output_type": "execute_result"
    }
   ],
   "source": [
    "anghami = mlc.loc[mlc['DSP'] == 'Anghami']\n",
    "anghami.isnull().sum()"
   ]
  },
  {
   "cell_type": "markdown",
   "id": "c0720275",
   "metadata": {},
   "source": [
    "Anghami has 3 Null values"
   ]
  },
  {
   "cell_type": "code",
   "execution_count": 68,
   "id": "36a5adcf",
   "metadata": {},
   "outputs": [
    {
     "data": {
      "text/plain": [
       "ISRC                  0\n",
       "Country_Code          0\n",
       "Registrant_Code       0\n",
       "Year_of_Reference     0\n",
       "Usage_Period          0\n",
       "DSP                   0\n",
       "Streams               0\n",
       "Recording_Artist      0\n",
       "Recording_Label       0\n",
       "Recording_Title       0\n",
       "Release_Title         0\n",
       "Recording_Duration    0\n",
       "Songwriters_Listed    0\n",
       "dtype: int64"
      ]
     },
     "execution_count": 68,
     "metadata": {},
     "output_type": "execute_result"
    }
   ],
   "source": [
    "sonos = mlc.loc[mlc['DSP'] == 'Sonos']\n",
    "sonos.isnull().sum()"
   ]
  },
  {
   "cell_type": "markdown",
   "id": "e4e50434",
   "metadata": {},
   "source": [
    "Sonos has 0 Null values"
   ]
  },
  {
   "cell_type": "code",
   "execution_count": 69,
   "id": "3882d078",
   "metadata": {},
   "outputs": [
    {
     "data": {
      "text/plain": [
       "ISRC                   0\n",
       "Country_Code           0\n",
       "Registrant_Code        0\n",
       "Year_of_Reference      0\n",
       "Usage_Period           0\n",
       "DSP                    0\n",
       "Streams                0\n",
       "Recording_Artist       0\n",
       "Recording_Label       22\n",
       "Recording_Title        0\n",
       "Release_Title          0\n",
       "Recording_Duration     0\n",
       "Songwriters_Listed     0\n",
       "dtype: int64"
      ]
     },
     "execution_count": 69,
     "metadata": {},
     "output_type": "execute_result"
    }
   ],
   "source": [
    "recisio = mlc.loc[mlc['DSP'] == 'Recisio']\n",
    "recisio.isnull().sum()"
   ]
  },
  {
   "cell_type": "markdown",
   "id": "601c80b6",
   "metadata": {},
   "source": [
    "Recisio has 22 Null values"
   ]
  },
  {
   "cell_type": "code",
   "execution_count": 70,
   "id": "b4430635",
   "metadata": {},
   "outputs": [
    {
     "data": {
      "text/plain": [
       "ISRC                  1\n",
       "Country_Code          1\n",
       "Registrant_Code       1\n",
       "Year_of_Reference     1\n",
       "Usage_Period          0\n",
       "DSP                   0\n",
       "Streams               0\n",
       "Recording_Artist      0\n",
       "Recording_Label       0\n",
       "Recording_Title       0\n",
       "Release_Title         0\n",
       "Recording_Duration    0\n",
       "Songwriters_Listed    0\n",
       "dtype: int64"
      ]
     },
     "execution_count": 70,
     "metadata": {},
     "output_type": "execute_result"
    }
   ],
   "source": [
    "smithsonian = mlc.loc[mlc['DSP'] == 'Smithsonian']\n",
    "smithsonian.isnull().sum()"
   ]
  },
  {
   "cell_type": "markdown",
   "id": "169c6a26",
   "metadata": {},
   "source": [
    "Smithsonian has 4 Null values (Pattern returned)"
   ]
  },
  {
   "cell_type": "code",
   "execution_count": 71,
   "id": "11078360",
   "metadata": {
    "scrolled": true
   },
   "outputs": [
    {
     "data": {
      "text/plain": [
       "ISRC                   0\n",
       "Country_Code           0\n",
       "Registrant_Code        0\n",
       "Year_of_Reference      0\n",
       "Usage_Period           0\n",
       "DSP                    0\n",
       "Streams                0\n",
       "Recording_Artist       0\n",
       "Recording_Label       19\n",
       "Recording_Title        0\n",
       "Release_Title         19\n",
       "Recording_Duration     0\n",
       "Songwriters_Listed     0\n",
       "dtype: int64"
      ]
     },
     "execution_count": 71,
     "metadata": {},
     "output_type": "execute_result"
    }
   ],
   "source": [
    "ultimate_guitar = mlc.loc[mlc['DSP'] == 'Ultimate Guitar']\n",
    "ultimate_guitar.isnull().sum()"
   ]
  },
  {
   "cell_type": "markdown",
   "id": "c199c75e",
   "metadata": {},
   "source": [
    "Ultimate Guitar has 38 Null values"
   ]
  },
  {
   "cell_type": "code",
   "execution_count": 72,
   "id": "9b1145fe",
   "metadata": {},
   "outputs": [
    {
     "data": {
      "text/plain": [
       "ISRC                  0\n",
       "Country_Code          0\n",
       "Registrant_Code       0\n",
       "Year_of_Reference     0\n",
       "Usage_Period          0\n",
       "DSP                   0\n",
       "Streams               0\n",
       "Recording_Artist      0\n",
       "Recording_Label       8\n",
       "Recording_Title       0\n",
       "Release_Title         0\n",
       "Recording_Duration    0\n",
       "Songwriters_Listed    0\n",
       "dtype: int64"
      ]
     },
     "execution_count": 72,
     "metadata": {},
     "output_type": "execute_result"
    }
   ],
   "source": [
    "powermusic = mlc.loc[mlc['DSP'] == 'PowerMusic']\n",
    "powermusic.isnull().sum()"
   ]
  },
  {
   "cell_type": "markdown",
   "id": "aafd03b6",
   "metadata": {},
   "source": [
    "Powermusic has 8 Null values "
   ]
  },
  {
   "cell_type": "code",
   "execution_count": 73,
   "id": "b66c600a",
   "metadata": {},
   "outputs": [
    {
     "data": {
      "text/plain": [
       "ISRC                  0\n",
       "Country_Code          0\n",
       "Registrant_Code       0\n",
       "Year_of_Reference     0\n",
       "Usage_Period          0\n",
       "DSP                   0\n",
       "Streams               0\n",
       "Recording_Artist      0\n",
       "Recording_Label       4\n",
       "Recording_Title       0\n",
       "Release_Title         4\n",
       "Recording_Duration    0\n",
       "Songwriters_Listed    0\n",
       "dtype: int64"
      ]
     },
     "execution_count": 73,
     "metadata": {},
     "output_type": "execute_result"
    }
   ],
   "source": [
    "wolfgangs = mlc.loc[mlc['DSP'] == 'Wolfgangs']\n",
    "wolfgangs.isnull().sum()"
   ]
  },
  {
   "cell_type": "markdown",
   "id": "5902193e",
   "metadata": {},
   "source": [
    "Wolfgangs has 8 Null values"
   ]
  },
  {
   "cell_type": "code",
   "execution_count": 74,
   "id": "57f573a5",
   "metadata": {},
   "outputs": [
    {
     "data": {
      "text/plain": [
       "ISRC                  0\n",
       "Country_Code          0\n",
       "Registrant_Code       0\n",
       "Year_of_Reference     0\n",
       "Usage_Period          0\n",
       "DSP                   0\n",
       "Streams               0\n",
       "Recording_Artist      0\n",
       "Recording_Label       0\n",
       "Recording_Title       0\n",
       "Release_Title         0\n",
       "Recording_Duration    0\n",
       "Songwriters_Listed    0\n",
       "dtype: int64"
      ]
     },
     "execution_count": 74,
     "metadata": {},
     "output_type": "execute_result"
    }
   ],
   "source": [
    "fan_label = mlc.loc[mlc['DSP'] == 'Fan Label']\n",
    "fan_label.isnull().sum()"
   ]
  },
  {
   "cell_type": "markdown",
   "id": "8fa7944a",
   "metadata": {},
   "source": [
    "Fan Label has 0 Null values"
   ]
  },
  {
   "cell_type": "code",
   "execution_count": 75,
   "id": "d6f2cf93",
   "metadata": {
    "scrolled": false
   },
   "outputs": [
    {
     "data": {
      "text/plain": [
       "ISRC                  0\n",
       "Country_Code          0\n",
       "Registrant_Code       0\n",
       "Year_of_Reference     0\n",
       "Usage_Period          0\n",
       "DSP                   0\n",
       "Streams               0\n",
       "Recording_Artist      0\n",
       "Recording_Label       4\n",
       "Recording_Title       0\n",
       "Release_Title         0\n",
       "Recording_Duration    0\n",
       "Songwriters_Listed    0\n",
       "dtype: int64"
      ]
     },
     "execution_count": 75,
     "metadata": {},
     "output_type": "execute_result"
    }
   ],
   "source": [
    "mixcloud = mlc.loc[mlc['DSP'] == 'MixCloud']\n",
    "mixcloud.isnull().sum()"
   ]
  },
  {
   "cell_type": "markdown",
   "id": "b196d52d",
   "metadata": {},
   "source": [
    "Mixcloud has 4 Null values"
   ]
  },
  {
   "cell_type": "code",
   "execution_count": 80,
   "id": "2ae7ccca",
   "metadata": {},
   "outputs": [
    {
     "data": {
      "text/plain": [
       "ISRC                  0\n",
       "Country_Code          0\n",
       "Registrant_Code       0\n",
       "Year_of_Reference     0\n",
       "Usage_Period          0\n",
       "DSP                   0\n",
       "Streams               0\n",
       "Recording_Artist      0\n",
       "Recording_Label       0\n",
       "Recording_Title       0\n",
       "Release_Title         0\n",
       "Recording_Duration    0\n",
       "Songwriters_Listed    0\n",
       "dtype: int64"
      ]
     },
     "execution_count": 80,
     "metadata": {},
     "output_type": "execute_result"
    }
   ],
   "source": [
    "pacemaker = mlc.loc[mlc['DSP'] == 'Pacemaker']\n",
    "pacemaker.isnull().sum()"
   ]
  },
  {
   "cell_type": "markdown",
   "id": "f08c0bd0",
   "metadata": {},
   "source": [
    "Pacemaker has 0 Null values"
   ]
  },
  {
   "cell_type": "code",
   "execution_count": 77,
   "id": "92f99245",
   "metadata": {
    "scrolled": true
   },
   "outputs": [
    {
     "data": {
      "text/plain": [
       "ISRC                  0\n",
       "Country_Code          0\n",
       "Registrant_Code       0\n",
       "Year_of_Reference     0\n",
       "Usage_Period          0\n",
       "DSP                   0\n",
       "Streams               0\n",
       "Recording_Artist      0\n",
       "Recording_Label       0\n",
       "Recording_Title       0\n",
       "Release_Title         0\n",
       "Recording_Duration    0\n",
       "Songwriters_Listed    0\n",
       "dtype: int64"
      ]
     },
     "execution_count": 77,
     "metadata": {},
     "output_type": "execute_result"
    }
   ],
   "source": [
    "classical_archives = mlc.loc[mlc['DSP'] == 'Classical Archives']\n",
    "classical_archives.isnull().sum()"
   ]
  },
  {
   "cell_type": "markdown",
   "id": "dd1ddb40",
   "metadata": {},
   "source": [
    "Classical Archives has 0 Null values"
   ]
  },
  {
   "cell_type": "code",
   "execution_count": 78,
   "id": "85fe77ae",
   "metadata": {},
   "outputs": [
    {
     "data": {
      "text/plain": [
       "ISRC                  0\n",
       "Country_Code          0\n",
       "Registrant_Code       0\n",
       "Year_of_Reference     0\n",
       "Usage_Period          0\n",
       "DSP                   0\n",
       "Streams               0\n",
       "Recording_Artist      0\n",
       "Recording_Label       1\n",
       "Recording_Title       0\n",
       "Release_Title         0\n",
       "Recording_Duration    0\n",
       "Songwriters_Listed    0\n",
       "dtype: int64"
      ]
     },
     "execution_count": 78,
     "metadata": {},
     "output_type": "execute_result"
    }
   ],
   "source": [
    "monkingme = mlc.loc[mlc['DSP'] =='MonkingMe']\n",
    "monkingme.isnull().sum()"
   ]
  },
  {
   "cell_type": "markdown",
   "id": "2851f325",
   "metadata": {},
   "source": [
    "Monkingme has 1 Null value"
   ]
  },
  {
   "cell_type": "code",
   "execution_count": 81,
   "id": "e8d34a68",
   "metadata": {},
   "outputs": [
    {
     "data": {
      "text/plain": [
       "5        3/1/2021\n",
       "8        3/1/2021\n",
       "9        3/1/2021\n",
       "11       1/1/2021\n",
       "12       5/1/2021\n",
       "           ...   \n",
       "99994    5/1/2021\n",
       "99995    3/1/2021\n",
       "99996    3/1/2021\n",
       "99997    3/1/2021\n",
       "99999    2/1/2021\n",
       "Name: Usage_Period, Length: 32268, dtype: object"
      ]
     },
     "metadata": {},
     "output_type": "display_data"
    }
   ],
   "source": [
    "display(spotify_df.Usage_Period)"
   ]
  },
  {
   "cell_type": "code",
   "execution_count": 82,
   "id": "df9f36cd",
   "metadata": {
    "scrolled": true
   },
   "outputs": [
    {
     "data": {
      "text/plain": [
       "5        20.0\n",
       "8        21.0\n",
       "9        20.0\n",
       "11       21.0\n",
       "12       21.0\n",
       "         ... \n",
       "99994     8.0\n",
       "99995    20.0\n",
       "99996    20.0\n",
       "99997    19.0\n",
       "99999    20.0\n",
       "Name: Year_of_Reference, Length: 32268, dtype: float64"
      ]
     },
     "metadata": {},
     "output_type": "display_data"
    }
   ],
   "source": [
    "display(spotify_df.Year_of_Reference)"
   ]
  },
  {
   "cell_type": "code",
   "execution_count": 83,
   "id": "95bf46a4",
   "metadata": {},
   "outputs": [
    {
     "data": {
      "image/png": "[encoded data removed]",
      "text/plain": [
       "<Figure size 432x288 with 1 Axes>"
      ]
     },
     "metadata": {},
     "output_type": "display_data"
    }
   ],
   "source": [
    "plt.hist(spotify_df.Usage_Period)\n",
    "plt.show()"
   ]
  },
  {
   "cell_type": "code",
   "execution_count": 87,
   "id": "e7b6f46c",
   "metadata": {
    "scrolled": true
   },
   "outputs": [
    {
     "data": {
      "image/png": "[encoded data removed]",
      "text/plain": [
       "<Figure size 432x288 with 1 Axes>"
      ]
     },
     "metadata": {},
     "output_type": "display_data"
    }
   ],
   "source": [
    "plt.hist(spotify_df.Year_of_Reference)\n",
    "plt.show()"
   ]
  },
  {
   "cell_type": "code",
   "execution_count": 88,
   "id": "f4f39cab",
   "metadata": {},
   "outputs": [
    {
     "ename": "TypeError",
     "evalue": "'value' must be an instance of str or bytes, not a float",
     "output_type": "error",
     "traceback": [
      "\u001b[1;31m---------------------------------------------------------------------------\u001b[0m",
      "\u001b[1;31mTypeError\u001b[0m                                 Traceback (most recent call last)",
      "\u001b[1;32m~\\AppData\\Local\\Temp/ipykernel_768/2039152967.py\u001b[0m in \u001b[0;36m<module>\u001b[1;34m\u001b[0m\n\u001b[1;32m----> 1\u001b[1;33m \u001b[0mplt\u001b[0m\u001b[1;33m.\u001b[0m\u001b[0mhist\u001b[0m\u001b[1;33m(\u001b[0m\u001b[0mapple_df\u001b[0m\u001b[1;33m.\u001b[0m\u001b[0mUsage_Period\u001b[0m\u001b[1;33m)\u001b[0m\u001b[1;33m\u001b[0m\u001b[1;33m\u001b[0m\u001b[0m\n\u001b[0m\u001b[0;32m      2\u001b[0m \u001b[0mplt\u001b[0m\u001b[1;33m.\u001b[0m\u001b[0mshow\u001b[0m\u001b[1;33m(\u001b[0m\u001b[1;33m)\u001b[0m\u001b[1;33m\u001b[0m\u001b[1;33m\u001b[0m\u001b[0m\n",
      "\u001b[1;32m~\\anaconda3\\lib\\site-packages\\matplotlib\\pyplot.py\u001b[0m in \u001b[0;36mhist\u001b[1;34m(x, bins, range, density, weights, cumulative, bottom, histtype, align, orientation, rwidth, log, color, label, stacked, data, **kwargs)\u001b[0m\n\u001b[0;32m   2851\u001b[0m         \u001b[0morientation\u001b[0m\u001b[1;33m=\u001b[0m\u001b[1;34m'vertical'\u001b[0m\u001b[1;33m,\u001b[0m \u001b[0mrwidth\u001b[0m\u001b[1;33m=\u001b[0m\u001b[1;32mNone\u001b[0m\u001b[1;33m,\u001b[0m \u001b[0mlog\u001b[0m\u001b[1;33m=\u001b[0m\u001b[1;32mFalse\u001b[0m\u001b[1;33m,\u001b[0m \u001b[0mcolor\u001b[0m\u001b[1;33m=\u001b[0m\u001b[1;32mNone\u001b[0m\u001b[1;33m,\u001b[0m\u001b[1;33m\u001b[0m\u001b[1;33m\u001b[0m\u001b[0m\n\u001b[0;32m   2852\u001b[0m         label=None, stacked=False, *, data=None, **kwargs):\n\u001b[1;32m-> 2853\u001b[1;33m     return gca().hist(\n\u001b[0m\u001b[0;32m   2854\u001b[0m         \u001b[0mx\u001b[0m\u001b[1;33m,\u001b[0m \u001b[0mbins\u001b[0m\u001b[1;33m=\u001b[0m\u001b[0mbins\u001b[0m\u001b[1;33m,\u001b[0m \u001b[0mrange\u001b[0m\u001b[1;33m=\u001b[0m\u001b[0mrange\u001b[0m\u001b[1;33m,\u001b[0m \u001b[0mdensity\u001b[0m\u001b[1;33m=\u001b[0m\u001b[0mdensity\u001b[0m\u001b[1;33m,\u001b[0m \u001b[0mweights\u001b[0m\u001b[1;33m=\u001b[0m\u001b[0mweights\u001b[0m\u001b[1;33m,\u001b[0m\u001b[1;33m\u001b[0m\u001b[1;33m\u001b[0m\u001b[0m\n\u001b[0;32m   2855\u001b[0m         \u001b[0mcumulative\u001b[0m\u001b[1;33m=\u001b[0m\u001b[0mcumulative\u001b[0m\u001b[1;33m,\u001b[0m \u001b[0mbottom\u001b[0m\u001b[1;33m=\u001b[0m\u001b[0mbottom\u001b[0m\u001b[1;33m,\u001b[0m \u001b[0mhisttype\u001b[0m\u001b[1;33m=\u001b[0m\u001b[0mhisttype\u001b[0m\u001b[1;33m,\u001b[0m\u001b[1;33m\u001b[0m\u001b[1;33m\u001b[0m\u001b[0m\n",
      "\u001b[1;32m~\\anaconda3\\lib\\site-packages\\matplotlib\\__init__.py\u001b[0m in \u001b[0;36minner\u001b[1;34m(ax, data, *args, **kwargs)\u001b[0m\n\u001b[0;32m   1359\u001b[0m     \u001b[1;32mdef\u001b[0m \u001b[0minner\u001b[0m\u001b[1;33m(\u001b[0m\u001b[0max\u001b[0m\u001b[1;33m,\u001b[0m \u001b[1;33m*\u001b[0m\u001b[0margs\u001b[0m\u001b[1;33m,\u001b[0m \u001b[0mdata\u001b[0m\u001b[1;33m=\u001b[0m\u001b[1;32mNone\u001b[0m\u001b[1;33m,\u001b[0m \u001b[1;33m**\u001b[0m\u001b[0mkwargs\u001b[0m\u001b[1;33m)\u001b[0m\u001b[1;33m:\u001b[0m\u001b[1;33m\u001b[0m\u001b[1;33m\u001b[0m\u001b[0m\n\u001b[0;32m   1360\u001b[0m         \u001b[1;32mif\u001b[0m \u001b[0mdata\u001b[0m \u001b[1;32mis\u001b[0m \u001b[1;32mNone\u001b[0m\u001b[1;33m:\u001b[0m\u001b[1;33m\u001b[0m\u001b[1;33m\u001b[0m\u001b[0m\n\u001b[1;32m-> 1361\u001b[1;33m             \u001b[1;32mreturn\u001b[0m \u001b[0mfunc\u001b[0m\u001b[1;33m(\u001b[0m\u001b[0max\u001b[0m\u001b[1;33m,\u001b[0m \u001b[1;33m*\u001b[0m\u001b[0mmap\u001b[0m\u001b[1;33m(\u001b[0m\u001b[0msanitize_sequence\u001b[0m\u001b[1;33m,\u001b[0m \u001b[0margs\u001b[0m\u001b[1;33m)\u001b[0m\u001b[1;33m,\u001b[0m \u001b[1;33m**\u001b[0m\u001b[0mkwargs\u001b[0m\u001b[1;33m)\u001b[0m\u001b[1;33m\u001b[0m\u001b[1;33m\u001b[0m\u001b[0m\n\u001b[0m\u001b[0;32m   1362\u001b[0m \u001b[1;33m\u001b[0m\u001b[0m\n\u001b[0;32m   1363\u001b[0m         \u001b[0mbound\u001b[0m \u001b[1;33m=\u001b[0m \u001b[0mnew_sig\u001b[0m\u001b[1;33m.\u001b[0m\u001b[0mbind\u001b[0m\u001b[1;33m(\u001b[0m\u001b[0max\u001b[0m\u001b[1;33m,\u001b[0m \u001b[1;33m*\u001b[0m\u001b[0margs\u001b[0m\u001b[1;33m,\u001b[0m \u001b[1;33m**\u001b[0m\u001b[0mkwargs\u001b[0m\u001b[1;33m)\u001b[0m\u001b[1;33m\u001b[0m\u001b[1;33m\u001b[0m\u001b[0m\n",
      "\u001b[1;32m~\\anaconda3\\lib\\site-packages\\matplotlib\\axes\\_axes.py\u001b[0m in \u001b[0;36mhist\u001b[1;34m(self, x, bins, range, density, weights, cumulative, bottom, histtype, align, orientation, rwidth, log, color, label, stacked, **kwargs)\u001b[0m\n\u001b[0;32m   6678\u001b[0m         \u001b[1;32mif\u001b[0m \u001b[0morientation\u001b[0m \u001b[1;33m==\u001b[0m \u001b[1;34m\"vertical\"\u001b[0m\u001b[1;33m:\u001b[0m\u001b[1;33m\u001b[0m\u001b[1;33m\u001b[0m\u001b[0m\n\u001b[0;32m   6679\u001b[0m             \u001b[0mconvert_units\u001b[0m \u001b[1;33m=\u001b[0m \u001b[0mself\u001b[0m\u001b[1;33m.\u001b[0m\u001b[0mconvert_xunits\u001b[0m\u001b[1;33m\u001b[0m\u001b[1;33m\u001b[0m\u001b[0m\n\u001b[1;32m-> 6680\u001b[1;33m             x = [*self._process_unit_info([(\"x\", x[0])], kwargs),\n\u001b[0m\u001b[0;32m   6681\u001b[0m                  *map(convert_units, x[1:])]\n\u001b[0;32m   6682\u001b[0m         \u001b[1;32melse\u001b[0m\u001b[1;33m:\u001b[0m  \u001b[1;31m# horizontal\u001b[0m\u001b[1;33m\u001b[0m\u001b[1;33m\u001b[0m\u001b[0m\n",
      "\u001b[1;32m~\\anaconda3\\lib\\site-packages\\matplotlib\\axes\\_base.py\u001b[0m in \u001b[0;36m_process_unit_info\u001b[1;34m(self, datasets, kwargs, convert)\u001b[0m\n\u001b[0;32m   2339\u001b[0m             \u001b[1;31m# Update from data if axis is already set but no unit is set yet.\u001b[0m\u001b[1;33m\u001b[0m\u001b[1;33m\u001b[0m\u001b[0m\n\u001b[0;32m   2340\u001b[0m             \u001b[1;32mif\u001b[0m \u001b[0maxis\u001b[0m \u001b[1;32mis\u001b[0m \u001b[1;32mnot\u001b[0m \u001b[1;32mNone\u001b[0m \u001b[1;32mand\u001b[0m \u001b[0mdata\u001b[0m \u001b[1;32mis\u001b[0m \u001b[1;32mnot\u001b[0m \u001b[1;32mNone\u001b[0m \u001b[1;32mand\u001b[0m \u001b[1;32mnot\u001b[0m \u001b[0maxis\u001b[0m\u001b[1;33m.\u001b[0m\u001b[0mhave_units\u001b[0m\u001b[1;33m(\u001b[0m\u001b[1;33m)\u001b[0m\u001b[1;33m:\u001b[0m\u001b[1;33m\u001b[0m\u001b[1;33m\u001b[0m\u001b[0m\n\u001b[1;32m-> 2341\u001b[1;33m                 \u001b[0maxis\u001b[0m\u001b[1;33m.\u001b[0m\u001b[0mupdate_units\u001b[0m\u001b[1;33m(\u001b[0m\u001b[0mdata\u001b[0m\u001b[1;33m)\u001b[0m\u001b[1;33m\u001b[0m\u001b[1;33m\u001b[0m\u001b[0m\n\u001b[0m\u001b[0;32m   2342\u001b[0m         \u001b[1;32mfor\u001b[0m \u001b[0maxis_name\u001b[0m\u001b[1;33m,\u001b[0m \u001b[0maxis\u001b[0m \u001b[1;32min\u001b[0m \u001b[0maxis_map\u001b[0m\u001b[1;33m.\u001b[0m\u001b[0mitems\u001b[0m\u001b[1;33m(\u001b[0m\u001b[1;33m)\u001b[0m\u001b[1;33m:\u001b[0m\u001b[1;33m\u001b[0m\u001b[1;33m\u001b[0m\u001b[0m\n\u001b[0;32m   2343\u001b[0m             \u001b[1;31m# Return if no axis is set.\u001b[0m\u001b[1;33m\u001b[0m\u001b[1;33m\u001b[0m\u001b[0m\n",
      "\u001b[1;32m~\\anaconda3\\lib\\site-packages\\matplotlib\\axis.py\u001b[0m in \u001b[0;36mupdate_units\u001b[1;34m(self, data)\u001b[0m\n\u001b[0;32m   1446\u001b[0m         \u001b[0mneednew\u001b[0m \u001b[1;33m=\u001b[0m \u001b[0mself\u001b[0m\u001b[1;33m.\u001b[0m\u001b[0mconverter\u001b[0m \u001b[1;33m!=\u001b[0m \u001b[0mconverter\u001b[0m\u001b[1;33m\u001b[0m\u001b[1;33m\u001b[0m\u001b[0m\n\u001b[0;32m   1447\u001b[0m         \u001b[0mself\u001b[0m\u001b[1;33m.\u001b[0m\u001b[0mconverter\u001b[0m \u001b[1;33m=\u001b[0m \u001b[0mconverter\u001b[0m\u001b[1;33m\u001b[0m\u001b[1;33m\u001b[0m\u001b[0m\n\u001b[1;32m-> 1448\u001b[1;33m         \u001b[0mdefault\u001b[0m \u001b[1;33m=\u001b[0m \u001b[0mself\u001b[0m\u001b[1;33m.\u001b[0m\u001b[0mconverter\u001b[0m\u001b[1;33m.\u001b[0m\u001b[0mdefault_units\u001b[0m\u001b[1;33m(\u001b[0m\u001b[0mdata\u001b[0m\u001b[1;33m,\u001b[0m \u001b[0mself\u001b[0m\u001b[1;33m)\u001b[0m\u001b[1;33m\u001b[0m\u001b[1;33m\u001b[0m\u001b[0m\n\u001b[0m\u001b[0;32m   1449\u001b[0m         \u001b[1;32mif\u001b[0m \u001b[0mdefault\u001b[0m \u001b[1;32mis\u001b[0m \u001b[1;32mnot\u001b[0m \u001b[1;32mNone\u001b[0m \u001b[1;32mand\u001b[0m \u001b[0mself\u001b[0m\u001b[1;33m.\u001b[0m\u001b[0munits\u001b[0m \u001b[1;32mis\u001b[0m \u001b[1;32mNone\u001b[0m\u001b[1;33m:\u001b[0m\u001b[1;33m\u001b[0m\u001b[1;33m\u001b[0m\u001b[0m\n\u001b[0;32m   1450\u001b[0m             \u001b[0mself\u001b[0m\u001b[1;33m.\u001b[0m\u001b[0mset_units\u001b[0m\u001b[1;33m(\u001b[0m\u001b[0mdefault\u001b[0m\u001b[1;33m)\u001b[0m\u001b[1;33m\u001b[0m\u001b[1;33m\u001b[0m\u001b[0m\n",
      "\u001b[1;32m~\\anaconda3\\lib\\site-packages\\matplotlib\\category.py\u001b[0m in \u001b[0;36mdefault_units\u001b[1;34m(data, axis)\u001b[0m\n\u001b[0;32m    107\u001b[0m         \u001b[1;31m# the conversion call stack is default_units -> axis_info -> convert\u001b[0m\u001b[1;33m\u001b[0m\u001b[1;33m\u001b[0m\u001b[0m\n\u001b[0;32m    108\u001b[0m         \u001b[1;32mif\u001b[0m \u001b[0maxis\u001b[0m\u001b[1;33m.\u001b[0m\u001b[0munits\u001b[0m \u001b[1;32mis\u001b[0m \u001b[1;32mNone\u001b[0m\u001b[1;33m:\u001b[0m\u001b[1;33m\u001b[0m\u001b[1;33m\u001b[0m\u001b[0m\n\u001b[1;32m--> 109\u001b[1;33m             \u001b[0maxis\u001b[0m\u001b[1;33m.\u001b[0m\u001b[0mset_units\u001b[0m\u001b[1;33m(\u001b[0m\u001b[0mUnitData\u001b[0m\u001b[1;33m(\u001b[0m\u001b[0mdata\u001b[0m\u001b[1;33m)\u001b[0m\u001b[1;33m)\u001b[0m\u001b[1;33m\u001b[0m\u001b[1;33m\u001b[0m\u001b[0m\n\u001b[0m\u001b[0;32m    110\u001b[0m         \u001b[1;32melse\u001b[0m\u001b[1;33m:\u001b[0m\u001b[1;33m\u001b[0m\u001b[1;33m\u001b[0m\u001b[0m\n\u001b[0;32m    111\u001b[0m             \u001b[0maxis\u001b[0m\u001b[1;33m.\u001b[0m\u001b[0munits\u001b[0m\u001b[1;33m.\u001b[0m\u001b[0mupdate\u001b[0m\u001b[1;33m(\u001b[0m\u001b[0mdata\u001b[0m\u001b[1;33m)\u001b[0m\u001b[1;33m\u001b[0m\u001b[1;33m\u001b[0m\u001b[0m\n",
      "\u001b[1;32m~\\anaconda3\\lib\\site-packages\\matplotlib\\category.py\u001b[0m in \u001b[0;36m__init__\u001b[1;34m(self, data)\u001b[0m\n\u001b[0;32m    183\u001b[0m         \u001b[0mself\u001b[0m\u001b[1;33m.\u001b[0m\u001b[0m_counter\u001b[0m \u001b[1;33m=\u001b[0m \u001b[0mitertools\u001b[0m\u001b[1;33m.\u001b[0m\u001b[0mcount\u001b[0m\u001b[1;33m(\u001b[0m\u001b[1;33m)\u001b[0m\u001b[1;33m\u001b[0m\u001b[1;33m\u001b[0m\u001b[0m\n\u001b[0;32m    184\u001b[0m         \u001b[1;32mif\u001b[0m \u001b[0mdata\u001b[0m \u001b[1;32mis\u001b[0m \u001b[1;32mnot\u001b[0m \u001b[1;32mNone\u001b[0m\u001b[1;33m:\u001b[0m\u001b[1;33m\u001b[0m\u001b[1;33m\u001b[0m\u001b[0m\n\u001b[1;32m--> 185\u001b[1;33m             \u001b[0mself\u001b[0m\u001b[1;33m.\u001b[0m\u001b[0mupdate\u001b[0m\u001b[1;33m(\u001b[0m\u001b[0mdata\u001b[0m\u001b[1;33m)\u001b[0m\u001b[1;33m\u001b[0m\u001b[1;33m\u001b[0m\u001b[0m\n\u001b[0m\u001b[0;32m    186\u001b[0m \u001b[1;33m\u001b[0m\u001b[0m\n\u001b[0;32m    187\u001b[0m     \u001b[1;33m@\u001b[0m\u001b[0mstaticmethod\u001b[0m\u001b[1;33m\u001b[0m\u001b[1;33m\u001b[0m\u001b[0m\n",
      "\u001b[1;32m~\\anaconda3\\lib\\site-packages\\matplotlib\\category.py\u001b[0m in \u001b[0;36mupdate\u001b[1;34m(self, data)\u001b[0m\n\u001b[0;32m    218\u001b[0m         \u001b[1;32mfor\u001b[0m \u001b[0mval\u001b[0m \u001b[1;32min\u001b[0m \u001b[0mOrderedDict\u001b[0m\u001b[1;33m.\u001b[0m\u001b[0mfromkeys\u001b[0m\u001b[1;33m(\u001b[0m\u001b[0mdata\u001b[0m\u001b[1;33m)\u001b[0m\u001b[1;33m:\u001b[0m\u001b[1;33m\u001b[0m\u001b[1;33m\u001b[0m\u001b[0m\n\u001b[0;32m    219\u001b[0m             \u001b[1;31m# OrderedDict just iterates over unique values in data.\u001b[0m\u001b[1;33m\u001b[0m\u001b[1;33m\u001b[0m\u001b[0m\n\u001b[1;32m--> 220\u001b[1;33m             \u001b[0m_api\u001b[0m\u001b[1;33m.\u001b[0m\u001b[0mcheck_isinstance\u001b[0m\u001b[1;33m(\u001b[0m\u001b[1;33m(\u001b[0m\u001b[0mstr\u001b[0m\u001b[1;33m,\u001b[0m \u001b[0mbytes\u001b[0m\u001b[1;33m)\u001b[0m\u001b[1;33m,\u001b[0m \u001b[0mvalue\u001b[0m\u001b[1;33m=\u001b[0m\u001b[0mval\u001b[0m\u001b[1;33m)\u001b[0m\u001b[1;33m\u001b[0m\u001b[1;33m\u001b[0m\u001b[0m\n\u001b[0m\u001b[0;32m    221\u001b[0m             \u001b[1;32mif\u001b[0m \u001b[0mconvertible\u001b[0m\u001b[1;33m:\u001b[0m\u001b[1;33m\u001b[0m\u001b[1;33m\u001b[0m\u001b[0m\n\u001b[0;32m    222\u001b[0m                 \u001b[1;31m# this will only be called so long as convertible is True.\u001b[0m\u001b[1;33m\u001b[0m\u001b[1;33m\u001b[0m\u001b[0m\n",
      "\u001b[1;32m~\\anaconda3\\lib\\site-packages\\matplotlib\\_api\\__init__.py\u001b[0m in \u001b[0;36mcheck_isinstance\u001b[1;34m(_types, **kwargs)\u001b[0m\n\u001b[0;32m     90\u001b[0m                 \u001b[0mnames\u001b[0m\u001b[1;33m.\u001b[0m\u001b[0mremove\u001b[0m\u001b[1;33m(\u001b[0m\u001b[1;34m\"None\"\u001b[0m\u001b[1;33m)\u001b[0m\u001b[1;33m\u001b[0m\u001b[1;33m\u001b[0m\u001b[0m\n\u001b[0;32m     91\u001b[0m                 \u001b[0mnames\u001b[0m\u001b[1;33m.\u001b[0m\u001b[0mappend\u001b[0m\u001b[1;33m(\u001b[0m\u001b[1;34m\"None\"\u001b[0m\u001b[1;33m)\u001b[0m\u001b[1;33m\u001b[0m\u001b[1;33m\u001b[0m\u001b[0m\n\u001b[1;32m---> 92\u001b[1;33m             raise TypeError(\n\u001b[0m\u001b[0;32m     93\u001b[0m                 \"{!r} must be an instance of {}, not a {}\".format(\n\u001b[0;32m     94\u001b[0m                     \u001b[0mk\u001b[0m\u001b[1;33m,\u001b[0m\u001b[1;33m\u001b[0m\u001b[1;33m\u001b[0m\u001b[0m\n",
      "\u001b[1;31mTypeError\u001b[0m: 'value' must be an instance of str or bytes, not a float"
     ]
    },
    {
     "data": {
      "image/png": "[encoded data removed]",
      "text/plain": [
       "<Figure size 432x288 with 1 Axes>"
      ]
     },
     "metadata": {},
     "output_type": "display_data"
    }
   ],
   "source": [
    "plt.hist(apple_df.Usage_Period)\n",
    "plt.show()"
   ]
  },
  {
   "cell_type": "code",
   "execution_count": 86,
   "id": "a098e582",
   "metadata": {},
   "outputs": [
    {
     "data": {
      "image/png": "[encoded data removed]",
      "text/plain": [
       "<Figure size 432x288 with 1 Axes>"
      ]
     },
     "metadata": {},
     "output_type": "display_data"
    }
   ],
   "source": [
    "plt.hist(apple_df.Year_of_Reference)\n",
    "plt.show()"
   ]
  },
  {
   "cell_type": "code",
   "execution_count": 89,
   "id": "5239e6ef",
   "metadata": {},
   "outputs": [
    {
     "ename": "TypeError",
     "evalue": "'<=' not supported between instances of 'float' and 'str'",
     "output_type": "error",
     "traceback": [
      "\u001b[1;31m---------------------------------------------------------------------------\u001b[0m",
      "\u001b[1;31mTypeError\u001b[0m                                 Traceback (most recent call last)",
      "\u001b[1;32m~\\AppData\\Local\\Temp/ipykernel_768/3398728872.py\u001b[0m in \u001b[0;36m<module>\u001b[1;34m\u001b[0m\n\u001b[1;32m----> 1\u001b[1;33m \u001b[0mplt\u001b[0m\u001b[1;33m.\u001b[0m\u001b[0mhist\u001b[0m\u001b[1;33m(\u001b[0m\u001b[0myoutube_df\u001b[0m\u001b[1;33m.\u001b[0m\u001b[0mUsage_Period\u001b[0m\u001b[1;33m)\u001b[0m\u001b[1;33m\u001b[0m\u001b[1;33m\u001b[0m\u001b[0m\n\u001b[0m\u001b[0;32m      2\u001b[0m \u001b[0mplt\u001b[0m\u001b[1;33m.\u001b[0m\u001b[0mshow\u001b[0m\u001b[1;33m(\u001b[0m\u001b[1;33m)\u001b[0m\u001b[1;33m\u001b[0m\u001b[1;33m\u001b[0m\u001b[0m\n",
      "\u001b[1;32m~\\anaconda3\\lib\\site-packages\\matplotlib\\pyplot.py\u001b[0m in \u001b[0;36mhist\u001b[1;34m(x, bins, range, density, weights, cumulative, bottom, histtype, align, orientation, rwidth, log, color, label, stacked, data, **kwargs)\u001b[0m\n\u001b[0;32m   2851\u001b[0m         \u001b[0morientation\u001b[0m\u001b[1;33m=\u001b[0m\u001b[1;34m'vertical'\u001b[0m\u001b[1;33m,\u001b[0m \u001b[0mrwidth\u001b[0m\u001b[1;33m=\u001b[0m\u001b[1;32mNone\u001b[0m\u001b[1;33m,\u001b[0m \u001b[0mlog\u001b[0m\u001b[1;33m=\u001b[0m\u001b[1;32mFalse\u001b[0m\u001b[1;33m,\u001b[0m \u001b[0mcolor\u001b[0m\u001b[1;33m=\u001b[0m\u001b[1;32mNone\u001b[0m\u001b[1;33m,\u001b[0m\u001b[1;33m\u001b[0m\u001b[1;33m\u001b[0m\u001b[0m\n\u001b[0;32m   2852\u001b[0m         label=None, stacked=False, *, data=None, **kwargs):\n\u001b[1;32m-> 2853\u001b[1;33m     return gca().hist(\n\u001b[0m\u001b[0;32m   2854\u001b[0m         \u001b[0mx\u001b[0m\u001b[1;33m,\u001b[0m \u001b[0mbins\u001b[0m\u001b[1;33m=\u001b[0m\u001b[0mbins\u001b[0m\u001b[1;33m,\u001b[0m \u001b[0mrange\u001b[0m\u001b[1;33m=\u001b[0m\u001b[0mrange\u001b[0m\u001b[1;33m,\u001b[0m \u001b[0mdensity\u001b[0m\u001b[1;33m=\u001b[0m\u001b[0mdensity\u001b[0m\u001b[1;33m,\u001b[0m \u001b[0mweights\u001b[0m\u001b[1;33m=\u001b[0m\u001b[0mweights\u001b[0m\u001b[1;33m,\u001b[0m\u001b[1;33m\u001b[0m\u001b[1;33m\u001b[0m\u001b[0m\n\u001b[0;32m   2855\u001b[0m         \u001b[0mcumulative\u001b[0m\u001b[1;33m=\u001b[0m\u001b[0mcumulative\u001b[0m\u001b[1;33m,\u001b[0m \u001b[0mbottom\u001b[0m\u001b[1;33m=\u001b[0m\u001b[0mbottom\u001b[0m\u001b[1;33m,\u001b[0m \u001b[0mhisttype\u001b[0m\u001b[1;33m=\u001b[0m\u001b[0mhisttype\u001b[0m\u001b[1;33m,\u001b[0m\u001b[1;33m\u001b[0m\u001b[1;33m\u001b[0m\u001b[0m\n",
      "\u001b[1;32m~\\anaconda3\\lib\\site-packages\\matplotlib\\__init__.py\u001b[0m in \u001b[0;36minner\u001b[1;34m(ax, data, *args, **kwargs)\u001b[0m\n\u001b[0;32m   1359\u001b[0m     \u001b[1;32mdef\u001b[0m \u001b[0minner\u001b[0m\u001b[1;33m(\u001b[0m\u001b[0max\u001b[0m\u001b[1;33m,\u001b[0m \u001b[1;33m*\u001b[0m\u001b[0margs\u001b[0m\u001b[1;33m,\u001b[0m \u001b[0mdata\u001b[0m\u001b[1;33m=\u001b[0m\u001b[1;32mNone\u001b[0m\u001b[1;33m,\u001b[0m \u001b[1;33m**\u001b[0m\u001b[0mkwargs\u001b[0m\u001b[1;33m)\u001b[0m\u001b[1;33m:\u001b[0m\u001b[1;33m\u001b[0m\u001b[1;33m\u001b[0m\u001b[0m\n\u001b[0;32m   1360\u001b[0m         \u001b[1;32mif\u001b[0m \u001b[0mdata\u001b[0m \u001b[1;32mis\u001b[0m \u001b[1;32mNone\u001b[0m\u001b[1;33m:\u001b[0m\u001b[1;33m\u001b[0m\u001b[1;33m\u001b[0m\u001b[0m\n\u001b[1;32m-> 1361\u001b[1;33m             \u001b[1;32mreturn\u001b[0m \u001b[0mfunc\u001b[0m\u001b[1;33m(\u001b[0m\u001b[0max\u001b[0m\u001b[1;33m,\u001b[0m \u001b[1;33m*\u001b[0m\u001b[0mmap\u001b[0m\u001b[1;33m(\u001b[0m\u001b[0msanitize_sequence\u001b[0m\u001b[1;33m,\u001b[0m \u001b[0margs\u001b[0m\u001b[1;33m)\u001b[0m\u001b[1;33m,\u001b[0m \u001b[1;33m**\u001b[0m\u001b[0mkwargs\u001b[0m\u001b[1;33m)\u001b[0m\u001b[1;33m\u001b[0m\u001b[1;33m\u001b[0m\u001b[0m\n\u001b[0m\u001b[0;32m   1362\u001b[0m \u001b[1;33m\u001b[0m\u001b[0m\n\u001b[0;32m   1363\u001b[0m         \u001b[0mbound\u001b[0m \u001b[1;33m=\u001b[0m \u001b[0mnew_sig\u001b[0m\u001b[1;33m.\u001b[0m\u001b[0mbind\u001b[0m\u001b[1;33m(\u001b[0m\u001b[0max\u001b[0m\u001b[1;33m,\u001b[0m \u001b[1;33m*\u001b[0m\u001b[0margs\u001b[0m\u001b[1;33m,\u001b[0m \u001b[1;33m**\u001b[0m\u001b[0mkwargs\u001b[0m\u001b[1;33m)\u001b[0m\u001b[1;33m\u001b[0m\u001b[1;33m\u001b[0m\u001b[0m\n",
      "\u001b[1;32m~\\anaconda3\\lib\\site-packages\\matplotlib\\axes\\_axes.py\u001b[0m in \u001b[0;36mhist\u001b[1;34m(self, x, bins, range, density, weights, cumulative, bottom, histtype, align, orientation, rwidth, log, color, label, stacked, **kwargs)\u001b[0m\n\u001b[0;32m   6729\u001b[0m                     \u001b[1;31m# python's min/max ignore nan,\u001b[0m\u001b[1;33m\u001b[0m\u001b[1;33m\u001b[0m\u001b[0m\n\u001b[0;32m   6730\u001b[0m                     \u001b[1;31m# np.minnan returns nan for all nan input\u001b[0m\u001b[1;33m\u001b[0m\u001b[1;33m\u001b[0m\u001b[0m\n\u001b[1;32m-> 6731\u001b[1;33m                     \u001b[0mxmin\u001b[0m \u001b[1;33m=\u001b[0m \u001b[0mmin\u001b[0m\u001b[1;33m(\u001b[0m\u001b[0mxmin\u001b[0m\u001b[1;33m,\u001b[0m \u001b[0mnp\u001b[0m\u001b[1;33m.\u001b[0m\u001b[0mnanmin\u001b[0m\u001b[1;33m(\u001b[0m\u001b[0mxi\u001b[0m\u001b[1;33m)\u001b[0m\u001b[1;33m)\u001b[0m\u001b[1;33m\u001b[0m\u001b[1;33m\u001b[0m\u001b[0m\n\u001b[0m\u001b[0;32m   6732\u001b[0m                     \u001b[0mxmax\u001b[0m \u001b[1;33m=\u001b[0m \u001b[0mmax\u001b[0m\u001b[1;33m(\u001b[0m\u001b[0mxmax\u001b[0m\u001b[1;33m,\u001b[0m \u001b[0mnp\u001b[0m\u001b[1;33m.\u001b[0m\u001b[0mnanmax\u001b[0m\u001b[1;33m(\u001b[0m\u001b[0mxi\u001b[0m\u001b[1;33m)\u001b[0m\u001b[1;33m)\u001b[0m\u001b[1;33m\u001b[0m\u001b[1;33m\u001b[0m\u001b[0m\n\u001b[0;32m   6733\u001b[0m             \u001b[1;32mif\u001b[0m \u001b[0mxmin\u001b[0m \u001b[1;33m<=\u001b[0m \u001b[0mxmax\u001b[0m\u001b[1;33m:\u001b[0m  \u001b[1;31m# Only happens if we have seen a finite value.\u001b[0m\u001b[1;33m\u001b[0m\u001b[1;33m\u001b[0m\u001b[0m\n",
      "\u001b[1;32m<__array_function__ internals>\u001b[0m in \u001b[0;36mnanmin\u001b[1;34m(*args, **kwargs)\u001b[0m\n",
      "\u001b[1;32m~\\anaconda3\\lib\\site-packages\\numpy\\lib\\nanfunctions.py\u001b[0m in \u001b[0;36mnanmin\u001b[1;34m(a, axis, out, keepdims)\u001b[0m\n\u001b[0;32m    324\u001b[0m         \u001b[1;31m# Slow, but safe for subclasses of ndarray\u001b[0m\u001b[1;33m\u001b[0m\u001b[1;33m\u001b[0m\u001b[0m\n\u001b[0;32m    325\u001b[0m         \u001b[0ma\u001b[0m\u001b[1;33m,\u001b[0m \u001b[0mmask\u001b[0m \u001b[1;33m=\u001b[0m \u001b[0m_replace_nan\u001b[0m\u001b[1;33m(\u001b[0m\u001b[0ma\u001b[0m\u001b[1;33m,\u001b[0m \u001b[1;33m+\u001b[0m\u001b[0mnp\u001b[0m\u001b[1;33m.\u001b[0m\u001b[0minf\u001b[0m\u001b[1;33m)\u001b[0m\u001b[1;33m\u001b[0m\u001b[1;33m\u001b[0m\u001b[0m\n\u001b[1;32m--> 326\u001b[1;33m         \u001b[0mres\u001b[0m \u001b[1;33m=\u001b[0m \u001b[0mnp\u001b[0m\u001b[1;33m.\u001b[0m\u001b[0mamin\u001b[0m\u001b[1;33m(\u001b[0m\u001b[0ma\u001b[0m\u001b[1;33m,\u001b[0m \u001b[0maxis\u001b[0m\u001b[1;33m=\u001b[0m\u001b[0maxis\u001b[0m\u001b[1;33m,\u001b[0m \u001b[0mout\u001b[0m\u001b[1;33m=\u001b[0m\u001b[0mout\u001b[0m\u001b[1;33m,\u001b[0m \u001b[1;33m**\u001b[0m\u001b[0mkwargs\u001b[0m\u001b[1;33m)\u001b[0m\u001b[1;33m\u001b[0m\u001b[1;33m\u001b[0m\u001b[0m\n\u001b[0m\u001b[0;32m    327\u001b[0m         \u001b[1;32mif\u001b[0m \u001b[0mmask\u001b[0m \u001b[1;32mis\u001b[0m \u001b[1;32mNone\u001b[0m\u001b[1;33m:\u001b[0m\u001b[1;33m\u001b[0m\u001b[1;33m\u001b[0m\u001b[0m\n\u001b[0;32m    328\u001b[0m             \u001b[1;32mreturn\u001b[0m \u001b[0mres\u001b[0m\u001b[1;33m\u001b[0m\u001b[1;33m\u001b[0m\u001b[0m\n",
      "\u001b[1;32m<__array_function__ internals>\u001b[0m in \u001b[0;36mamin\u001b[1;34m(*args, **kwargs)\u001b[0m\n",
      "\u001b[1;32m~\\anaconda3\\lib\\site-packages\\numpy\\core\\fromnumeric.py\u001b[0m in \u001b[0;36mamin\u001b[1;34m(a, axis, out, keepdims, initial, where)\u001b[0m\n\u001b[0;32m   2856\u001b[0m     \u001b[1;36m6\u001b[0m\u001b[1;33m\u001b[0m\u001b[1;33m\u001b[0m\u001b[0m\n\u001b[0;32m   2857\u001b[0m     \"\"\"\n\u001b[1;32m-> 2858\u001b[1;33m     return _wrapreduction(a, np.minimum, 'min', axis, None, out,\n\u001b[0m\u001b[0;32m   2859\u001b[0m                           keepdims=keepdims, initial=initial, where=where)\n\u001b[0;32m   2860\u001b[0m \u001b[1;33m\u001b[0m\u001b[0m\n",
      "\u001b[1;32m~\\anaconda3\\lib\\site-packages\\numpy\\core\\fromnumeric.py\u001b[0m in \u001b[0;36m_wrapreduction\u001b[1;34m(obj, ufunc, method, axis, dtype, out, **kwargs)\u001b[0m\n\u001b[0;32m     85\u001b[0m                 \u001b[1;32mreturn\u001b[0m \u001b[0mreduction\u001b[0m\u001b[1;33m(\u001b[0m\u001b[0maxis\u001b[0m\u001b[1;33m=\u001b[0m\u001b[0maxis\u001b[0m\u001b[1;33m,\u001b[0m \u001b[0mout\u001b[0m\u001b[1;33m=\u001b[0m\u001b[0mout\u001b[0m\u001b[1;33m,\u001b[0m \u001b[1;33m**\u001b[0m\u001b[0mpasskwargs\u001b[0m\u001b[1;33m)\u001b[0m\u001b[1;33m\u001b[0m\u001b[1;33m\u001b[0m\u001b[0m\n\u001b[0;32m     86\u001b[0m \u001b[1;33m\u001b[0m\u001b[0m\n\u001b[1;32m---> 87\u001b[1;33m     \u001b[1;32mreturn\u001b[0m \u001b[0mufunc\u001b[0m\u001b[1;33m.\u001b[0m\u001b[0mreduce\u001b[0m\u001b[1;33m(\u001b[0m\u001b[0mobj\u001b[0m\u001b[1;33m,\u001b[0m \u001b[0maxis\u001b[0m\u001b[1;33m,\u001b[0m \u001b[0mdtype\u001b[0m\u001b[1;33m,\u001b[0m \u001b[0mout\u001b[0m\u001b[1;33m,\u001b[0m \u001b[1;33m**\u001b[0m\u001b[0mpasskwargs\u001b[0m\u001b[1;33m)\u001b[0m\u001b[1;33m\u001b[0m\u001b[1;33m\u001b[0m\u001b[0m\n\u001b[0m\u001b[0;32m     88\u001b[0m \u001b[1;33m\u001b[0m\u001b[0m\n\u001b[0;32m     89\u001b[0m \u001b[1;33m\u001b[0m\u001b[0m\n",
      "\u001b[1;31mTypeError\u001b[0m: '<=' not supported between instances of 'float' and 'str'"
     ]
    },
    {
     "data": {
      "image/png": "[encoded data removed]",
      "text/plain": [
       "<Figure size 432x288 with 1 Axes>"
      ]
     },
     "metadata": {},
     "output_type": "display_data"
    }
   ],
   "source": [
    "plt.hist(youtube_df.Usage_Period)\n",
    "plt.show()"
   ]
  },
  {
   "cell_type": "code",
   "execution_count": 90,
   "id": "46156792",
   "metadata": {},
   "outputs": [
    {
     "data": {
      "image/png": "[encoded data removed]",
      "text/plain": [
       "<Figure size 432x288 with 1 Axes>"
      ]
     },
     "metadata": {},
     "output_type": "display_data"
    }
   ],
   "source": [
    "plt.hist(youtube_df.Year_of_Reference)\n",
    "plt.show()"
   ]
  },
  {
   "cell_type": "code",
   "execution_count": null,
   "id": "121d0d3b",
   "metadata": {},
   "outputs": [],
   "source": [
    "plt.scatter(,)\n",
    "plt.ylabel('')\n",
    "plt.xlabel('')\n",
    "plt.show()"
   ]
  }
 ],
 "metadata": {
  "kernelspec": {
   "display_name": "Python 3 (ipykernel)",
   "language": "python",
   "name": "python3"
  },
  "language_info": {
   "codemirror_mode": {
    "name": "ipython",
    "version": 3
   },
   "file_extension": ".py",
   "mimetype": "text/x-python",
   "name": "python",
   "nbconvert_exporter": "python",
   "pygments_lexer": "ipython3",
   "version": "3.9.7"
  }
 },
 "nbformat": 4,
 "nbformat_minor": 5
}
